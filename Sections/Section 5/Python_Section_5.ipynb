{
  "nbformat": 4,
  "nbformat_minor": 0,
  "metadata": {
    "colab": {
      "name": "Python_Section_5_6.ipynb",
      "provenance": [],
      "collapsed_sections": [],
      "toc_visible": true
    },
    "kernelspec": {
      "name": "python3",
      "display_name": "Python 3"
    },
    "language_info": {
      "name": "python"
    }
  },
  "cells": [
    {
      "cell_type": "markdown",
      "metadata": {
        "id": "ed_13K3e8NfR"
      },
      "source": [
        "# **<center> Введение в Python, New Economic School, MAE 2022 </center>**\n",
        "## **<center> Занятие 5 и 6 </center>**\n",
        "\n",
        "План:\n",
        "\n",
        "* Чтение и запись .txt/.json файлов + выражение `with`\n",
        "* Генераторы\n",
        "* Немного по статистике (интервалы, гипотезы)\n",
        "* Оптимизация\n",
        "  * Безусловная\n",
        "  * Условная\n",
        "* Получение данных через pandas\n",
        "* Скрэппинг данных (базово)\n"
      ]
    },
    {
      "cell_type": "code",
      "metadata": {
        "id": "sNnXYUX88Cte"
      },
      "source": [
        "import pandas as pd\n",
        "import numpy as np\n",
        "\n",
        "import matplotlib.pylab as plt\n",
        "\n",
        "%matplotlib inline\n",
        "\n",
        "import warnings\n",
        "warnings.simplefilter(\"ignore\")"
      ],
      "execution_count": null,
      "outputs": []
    },
    {
      "cell_type": "markdown",
      "metadata": {
        "id": "t8DoRWS98_pY"
      },
      "source": [
        "## Чтение и запись файлов"
      ]
    },
    {
      "cell_type": "markdown",
      "metadata": {
        "id": "Lt9eOyFvsZp7"
      },
      "source": [
        "Для того, чтобы работать с текстовым файлом, требуется его открыть. Сделать это можно через встроенный метод `open(..)`, в котором надо прописать путь до файла (включая название и расширение файла). Данный метод вернут объект файла, который содержит в себе различные методы.\n",
        "\n",
        "В Python файлы категоризованы на бинарные и текстовые, где текстовые представляют из себя последовательность строк (а каждая строка является псоедовательностью символов). Каждая строка заканчивается специальным символом перевода строки - `\"\\n\"`. Бинарным файлом считается любой нетекстовый файл. \n",
        "\n",
        "Если с файлом проведены все операции, его можно закрыть, взяв от него мтеод `.close()`. Мотивацией может служить более оптимальное расходование ресурсов, а также желание избежать каких-либо непредусмотренных ошибок в дальнейшем.\n",
        "\n",
        "Чтобы получить все содержимое файла (всю строку), нужно использовать метод `.read()` к открытому файлу. Повторное применение этого метода вернет пустую строку."
      ]
    },
    {
      "cell_type": "code",
      "metadata": {
        "colab": {
          "base_uri": "https://localhost:8080/",
          "height": 52
        },
        "id": "l78aOBEi9CEc",
        "outputId": "c9ec12d4-bfb3-4024-d9c9-f658d136bcdf"
      },
      "source": [
        "data = open('/content/Testing_Notebook.txt')\n",
        "\n",
        "data.read()"
      ],
      "execution_count": null,
      "outputs": [
        {
          "output_type": "execute_result",
          "data": {
            "application/vnd.google.colaboratory.intrinsic+json": {
              "type": "string"
            },
            "text/plain": [
              "'id;column_1;column_2;column_3;column_4\\n1;4;Moscow;June;2019;257\\n2;7;Moscow;June;2019;304\\n3;5;Novgorod;July;2018;435\\n10;9;Kazan;September;2020;270\\n14;3;Saint Petersburg;November;2019;342'"
            ]
          },
          "metadata": {
            "tags": []
          },
          "execution_count": 645
        }
      ]
    },
    {
      "cell_type": "code",
      "metadata": {
        "colab": {
          "base_uri": "https://localhost:8080/",
          "height": 35
        },
        "id": "N2iKXA7P_5bK",
        "outputId": "10e69283-ce66-4030-b23d-849b5e23e840"
      },
      "source": [
        "data.read()"
      ],
      "execution_count": null,
      "outputs": [
        {
          "output_type": "execute_result",
          "data": {
            "application/vnd.google.colaboratory.intrinsic+json": {
              "type": "string"
            },
            "text/plain": [
              "''"
            ]
          },
          "metadata": {
            "tags": []
          },
          "execution_count": 646
        }
      ]
    },
    {
      "cell_type": "code",
      "metadata": {
        "id": "GeRg7xtr_6WQ"
      },
      "source": [
        "data.close()"
      ],
      "execution_count": null,
      "outputs": []
    },
    {
      "cell_type": "markdown",
      "metadata": {
        "id": "AMvznxXr91z4"
      },
      "source": [
        "Открывать файлы можно в режиме чтения **r**, в режиме записи **w**, в режиме чтения и записи **r+**, и в режиме добавления **a** (от append). В режиме добавления, записи добавятся в конец содержимого файла.\n",
        "\n",
        "При открытии файла в режиме чтения, вы не сможете записать в него ничего. При прочтении файла в режиме записи, вы напротив не сможете прочесть его содержимое."
      ]
    },
    {
      "cell_type": "code",
      "metadata": {
        "colab": {
          "base_uri": "https://localhost:8080/"
        },
        "id": "dUtXqMdUAQyQ",
        "outputId": "23b49c58-3c99-4cf0-a0a6-c09ad65416c4"
      },
      "source": [
        "data = open('/content/Testing_Notebook.txt', mode = 'r')\n",
        "\n",
        "print(data.read())\n"
      ],
      "execution_count": null,
      "outputs": [
        {
          "output_type": "stream",
          "text": [
            "id;column_1;column_2;column_3;column_4\n",
            "1;4;Moscow;June;2019;257\n",
            "2;7;Moscow;June;2019;304\n",
            "3;5;Novgorod;July;2018;435\n",
            "10;9;Kazan;September;2020;270\n",
            "14;3;Saint Petersburg;November;2019;342\n"
          ],
          "name": "stdout"
        }
      ]
    },
    {
      "cell_type": "markdown",
      "metadata": {
        "id": "6BfukZgeAF81"
      },
      "source": [
        "Файл мы открыли в режиме чтения. Запись в файл невозможна."
      ]
    },
    {
      "cell_type": "code",
      "metadata": {
        "colab": {
          "base_uri": "https://localhost:8080/",
          "height": 164
        },
        "id": "FwRPVHoRACGS",
        "outputId": "505f8194-76cf-45ca-ad74-294018002069"
      },
      "source": [
        "data.write('something_new\\n')"
      ],
      "execution_count": null,
      "outputs": [
        {
          "output_type": "error",
          "ename": "UnsupportedOperation",
          "evalue": "ignored",
          "traceback": [
            "\u001b[0;31m---------------------------------------------------------------------------\u001b[0m",
            "\u001b[0;31mUnsupportedOperation\u001b[0m                      Traceback (most recent call last)",
            "\u001b[0;32m<ipython-input-650-9f44a45fba63>\u001b[0m in \u001b[0;36m<module>\u001b[0;34m()\u001b[0m\n\u001b[0;32m----> 1\u001b[0;31m \u001b[0mdata\u001b[0m\u001b[0;34m.\u001b[0m\u001b[0mwrite\u001b[0m\u001b[0;34m(\u001b[0m\u001b[0;34m'something_new\\n'\u001b[0m\u001b[0;34m)\u001b[0m\u001b[0;34m\u001b[0m\u001b[0;34m\u001b[0m\u001b[0m\n\u001b[0m",
            "\u001b[0;31mUnsupportedOperation\u001b[0m: not writable"
          ]
        }
      ]
    },
    {
      "cell_type": "code",
      "metadata": {
        "id": "NJ0P-VCwALSk"
      },
      "source": [
        "data.close()"
      ],
      "execution_count": null,
      "outputs": []
    },
    {
      "cell_type": "markdown",
      "metadata": {
        "id": "CFdtLaBdAMgp"
      },
      "source": [
        "В методе `.read()`, примененному к открытому файлу, можно указать аргументом число символов, которые хочется вывести. Пример ниже."
      ]
    },
    {
      "cell_type": "code",
      "metadata": {
        "colab": {
          "base_uri": "https://localhost:8080/"
        },
        "id": "wBu_qisdAWAF",
        "outputId": "9b059539-9e93-429e-edab-eb9188eda7e0"
      },
      "source": [
        "data = open('/content/Testing_Notebook.txt')\n",
        "\n",
        "print(data.read(11))\n",
        "\n",
        "data.close()"
      ],
      "execution_count": null,
      "outputs": [
        {
          "output_type": "stream",
          "text": [
            "id;column_1\n"
          ],
          "name": "stdout"
        }
      ]
    },
    {
      "cell_type": "code",
      "metadata": {
        "id": "VkvCDWFJBVuG"
      },
      "source": [
        "data = open('/content/Testing_Notebook.txt')"
      ],
      "execution_count": null,
      "outputs": []
    },
    {
      "cell_type": "markdown",
      "metadata": {
        "id": "CbTG2aZnAbhk"
      },
      "source": [
        "Метод `.readline()` позволяет считывать по строке/линии файла за 1 итерацию."
      ]
    },
    {
      "cell_type": "code",
      "metadata": {
        "colab": {
          "base_uri": "https://localhost:8080/"
        },
        "id": "C4RYD12rBd-_",
        "outputId": "08026913-804f-4c76-e29a-cd03ec52f5bd"
      },
      "source": [
        "print(data.readline())"
      ],
      "execution_count": null,
      "outputs": [
        {
          "output_type": "stream",
          "text": [
            "id;column_1;column_2;column_3;column_4\n",
            "\n"
          ],
          "name": "stdout"
        }
      ]
    },
    {
      "cell_type": "code",
      "metadata": {
        "colab": {
          "base_uri": "https://localhost:8080/"
        },
        "id": "eb0RCMJCBfM0",
        "outputId": "b5193796-5178-4dd4-858d-243f90ba2721"
      },
      "source": [
        "print(data.readline())"
      ],
      "execution_count": null,
      "outputs": [
        {
          "output_type": "stream",
          "text": [
            "1;4;Moscow;June;2019;257\n",
            "\n"
          ],
          "name": "stdout"
        }
      ]
    },
    {
      "cell_type": "code",
      "metadata": {
        "colab": {
          "base_uri": "https://localhost:8080/"
        },
        "id": "iAtYrwUPBg0l",
        "outputId": "37300e94-4d47-4557-d449-6fe425005823"
      },
      "source": [
        "print(data.readline())"
      ],
      "execution_count": null,
      "outputs": [
        {
          "output_type": "stream",
          "text": [
            "2;7;Moscow;June;2019;304\n",
            "\n"
          ],
          "name": "stdout"
        }
      ]
    },
    {
      "cell_type": "markdown",
      "metadata": {
        "id": "1URPaI_lAnDn"
      },
      "source": [
        "Данный метод при его вызове выдает следующую строчку. При вызове метода, когда содержимое файла исчерпано, будет возвращаться пустая строка."
      ]
    },
    {
      "cell_type": "code",
      "metadata": {
        "id": "JPthWxQPAz3S"
      },
      "source": [
        "data.close()"
      ],
      "execution_count": null,
      "outputs": []
    },
    {
      "cell_type": "markdown",
      "metadata": {
        "id": "bJqoLW1IA2QP"
      },
      "source": [
        "Чтобы прочесть все строки/линии сразу можно воспользоваться методом `.readlines`()"
      ]
    },
    {
      "cell_type": "code",
      "metadata": {
        "colab": {
          "base_uri": "https://localhost:8080/"
        },
        "id": "RYaap80hBhqg",
        "outputId": "104cf2c9-b495-4442-b531-6e2cc0d21124"
      },
      "source": [
        "data = open('/content/Testing_Notebook.txt')\n",
        "\n",
        "print(data.readlines())"
      ],
      "execution_count": null,
      "outputs": [
        {
          "output_type": "stream",
          "text": [
            "['id;column_1;column_2;column_3;column_4\\n', '1;4;Moscow;June;2019;257\\n', '2;7;Moscow;June;2019;304\\n', '3;5;Novgorod;July;2018;435\\n', '10;9;Kazan;September;2020;270\\n', '14;3;Saint Petersburg;November;2019;342']\n"
          ],
          "name": "stdout"
        }
      ]
    },
    {
      "cell_type": "markdown",
      "metadata": {
        "id": "1bYXX6VWA9-R"
      },
      "source": [
        "Также можно итерироваться по строкам в цикле."
      ]
    },
    {
      "cell_type": "code",
      "metadata": {
        "colab": {
          "base_uri": "https://localhost:8080/"
        },
        "id": "ufw7rkBWBoBC",
        "outputId": "8afe365f-af35-4f50-e1f2-4a5460d37780"
      },
      "source": [
        "data = open('/content/Testing_Notebook.txt')\n",
        "\n",
        "for line in data: \n",
        "  print(line)\n",
        "\n",
        "data.close() "
      ],
      "execution_count": null,
      "outputs": [
        {
          "output_type": "stream",
          "text": [
            "id;column_1;column_2;column_3;column_4\n",
            "\n",
            "1;4;Moscow;June;2019;257\n",
            "\n",
            "2;7;Moscow;June;2019;304\n",
            "\n",
            "3;5;Novgorod;July;2018;435\n",
            "\n",
            "10;9;Kazan;September;2020;270\n",
            "\n",
            "14;3;Saint Petersburg;November;2019;342\n"
          ],
          "name": "stdout"
        }
      ]
    },
    {
      "cell_type": "markdown",
      "metadata": {
        "id": "pDbRc1QFBGJc"
      },
      "source": [
        "После закрытия файла уже нельзя будет работать с ним."
      ]
    },
    {
      "cell_type": "code",
      "metadata": {
        "colab": {
          "base_uri": "https://localhost:8080/",
          "height": 181
        },
        "id": "7eSsaF5pCWer",
        "outputId": "c3e3960f-a517-42f8-9df3-2e9fadad92d9"
      },
      "source": [
        "for line in data: \n",
        "  print(line)"
      ],
      "execution_count": null,
      "outputs": [
        {
          "output_type": "error",
          "ename": "ValueError",
          "evalue": "ignored",
          "traceback": [
            "\u001b[0;31m---------------------------------------------------------------------------\u001b[0m",
            "\u001b[0;31mValueError\u001b[0m                                Traceback (most recent call last)",
            "\u001b[0;32m<ipython-input-435-bce082a4cf62>\u001b[0m in \u001b[0;36m<module>\u001b[0;34m()\u001b[0m\n\u001b[0;32m----> 1\u001b[0;31m \u001b[0;32mfor\u001b[0m \u001b[0mline\u001b[0m \u001b[0;32min\u001b[0m \u001b[0mdata\u001b[0m\u001b[0;34m:\u001b[0m\u001b[0;34m\u001b[0m\u001b[0;34m\u001b[0m\u001b[0m\n\u001b[0m\u001b[1;32m      2\u001b[0m   \u001b[0mprint\u001b[0m\u001b[0;34m(\u001b[0m\u001b[0mline\u001b[0m\u001b[0;34m)\u001b[0m\u001b[0;34m\u001b[0m\u001b[0;34m\u001b[0m\u001b[0m\n",
            "\u001b[0;31mValueError\u001b[0m: I/O operation on closed file."
          ]
        }
      ]
    },
    {
      "cell_type": "markdown",
      "metadata": {
        "id": "s-OgTcNbBKSY"
      },
      "source": [
        "В файл также можно записывать строки через метод `.write()` (по 1-й строке за раз). Для этого откроем другой текстовый файл (который необязательно создавать заранее - запись в файл, который не существует, автоматически создаст его, файл будет пустым; подобный трюк не прокатит с режимом чтения)"
      ]
    },
    {
      "cell_type": "code",
      "metadata": {
        "colab": {
          "base_uri": "https://localhost:8080/"
        },
        "id": "kZMOmI4zCbOe",
        "outputId": "b38c2fdf-f044-4e14-cdb3-2cf97d148a46"
      },
      "source": [
        "data = open('/content/New_Notebook.txt', mode = 'w')\n",
        "\n",
        "data.write(\"Something for line 1\\n\") \n",
        "data.write(\"Something for line 2\\n\")\n",
        "data.write(\"Something for line 3\\n\") "
      ],
      "execution_count": null,
      "outputs": [
        {
          "output_type": "execute_result",
          "data": {
            "text/plain": [
              "21"
            ]
          },
          "metadata": {
            "tags": []
          },
          "execution_count": 661
        }
      ]
    },
    {
      "cell_type": "markdown",
      "metadata": {
        "id": "vrDfR6FhBy7S"
      },
      "source": [
        "Файл открыт на запись, прочитать его не можем."
      ]
    },
    {
      "cell_type": "code",
      "metadata": {
        "colab": {
          "base_uri": "https://localhost:8080/",
          "height": 164
        },
        "id": "vQ-yR2PmDNGF",
        "outputId": "13b1368a-576b-45ea-885c-8b91acccd42c"
      },
      "source": [
        "data.read()"
      ],
      "execution_count": null,
      "outputs": [
        {
          "output_type": "error",
          "ename": "UnsupportedOperation",
          "evalue": "ignored",
          "traceback": [
            "\u001b[0;31m---------------------------------------------------------------------------\u001b[0m",
            "\u001b[0;31mUnsupportedOperation\u001b[0m                      Traceback (most recent call last)",
            "\u001b[0;32m<ipython-input-662-35fa77fbf9f5>\u001b[0m in \u001b[0;36m<module>\u001b[0;34m()\u001b[0m\n\u001b[0;32m----> 1\u001b[0;31m \u001b[0mdata\u001b[0m\u001b[0;34m.\u001b[0m\u001b[0mread\u001b[0m\u001b[0;34m(\u001b[0m\u001b[0;34m)\u001b[0m\u001b[0;34m\u001b[0m\u001b[0;34m\u001b[0m\u001b[0m\n\u001b[0m",
            "\u001b[0;31mUnsupportedOperation\u001b[0m: not readable"
          ]
        }
      ]
    },
    {
      "cell_type": "code",
      "metadata": {
        "id": "r3dVITMtDIDd"
      },
      "source": [
        "data.close() "
      ],
      "execution_count": null,
      "outputs": []
    },
    {
      "cell_type": "markdown",
      "metadata": {
        "id": "jdrdnsrcB3BC"
      },
      "source": [
        "Прочтем и посмотрим, прошла ли запись"
      ]
    },
    {
      "cell_type": "code",
      "metadata": {
        "colab": {
          "base_uri": "https://localhost:8080/"
        },
        "id": "9F5dNyKHD6qk",
        "outputId": "75d02bc0-2d3b-4d72-8b96-289ecbf7eff8"
      },
      "source": [
        "data = open('/content/New_Notebook.txt', mode = 'r')\n",
        "\n",
        "print(data.read())\n",
        "data.close()"
      ],
      "execution_count": null,
      "outputs": [
        {
          "output_type": "stream",
          "text": [
            "Something for line 1\n",
            "Something for line 2\n",
            "Something for line 3\n",
            "\n"
          ],
          "name": "stdout"
        }
      ]
    },
    {
      "cell_type": "markdown",
      "metadata": {
        "id": "KXvOKO1LB5fX"
      },
      "source": [
        "Тепреь давайте присоединим еще 1 строку с помощью режиме присоединения (`mode = 'a'`)"
      ]
    },
    {
      "cell_type": "code",
      "metadata": {
        "id": "0tpNiRiNDSIL"
      },
      "source": [
        "data = open('/content/New_Notebook.txt', mode = 'a')\n",
        "\n",
        "data.write(\"Something for line 4\\n\") \n",
        "data.close()"
      ],
      "execution_count": null,
      "outputs": []
    },
    {
      "cell_type": "code",
      "metadata": {
        "colab": {
          "base_uri": "https://localhost:8080/"
        },
        "id": "NNwH57d4D2y4",
        "outputId": "1aaef485-0cd5-4579-d0c8-f13d637eed5a"
      },
      "source": [
        "data = open('/content/New_Notebook.txt', mode = 'r')\n",
        "\n",
        "print(data.read())\n",
        "data.close()"
      ],
      "execution_count": null,
      "outputs": [
        {
          "output_type": "stream",
          "text": [
            "Something for line 1\n",
            "Something for line 2\n",
            "Something for line 3\n",
            "Something for line 4\n",
            "\n"
          ],
          "name": "stdout"
        }
      ]
    },
    {
      "cell_type": "markdown",
      "metadata": {
        "id": "438ffp-5CCl7"
      },
      "source": [
        "Можно также в файл записывать несколько строк сразу через метод `.writelines()`, подав методу массив из строк."
      ]
    },
    {
      "cell_type": "code",
      "metadata": {
        "id": "hy2rjKvVEFuz"
      },
      "source": [
        "data = open('/content/New_Notebook.txt', mode = 'a')\n",
        "\n",
        "text_lines = [\"Something for line 5\\n\", \"Something for line 6\\n\", \"Something for line 7\\n\"] \n",
        "data.writelines(text_lines) \n",
        "data.close() "
      ],
      "execution_count": null,
      "outputs": []
    },
    {
      "cell_type": "code",
      "metadata": {
        "colab": {
          "base_uri": "https://localhost:8080/"
        },
        "id": "OAd4v6oLEZWT",
        "outputId": "36c784b4-f45a-4180-f3c2-fdca5e143d06"
      },
      "source": [
        "data = open('/content/New_Notebook.txt', mode = 'r')\n",
        "\n",
        "print(data.read())\n",
        "data.close()"
      ],
      "execution_count": null,
      "outputs": [
        {
          "output_type": "stream",
          "text": [
            "Something for line 1\n",
            "Something for line 2\n",
            "Something for line 3\n",
            "Something for line 4\n",
            "Something for line 5\n",
            "Something for line 6\n",
            "Something for line 7\n",
            "\n"
          ],
          "name": "stdout"
        }
      ]
    },
    {
      "cell_type": "markdown",
      "metadata": {
        "id": "A2-ehTJ8CMQJ"
      },
      "source": [
        "Метод записи же для этого файла, перезапишет содержимое."
      ]
    },
    {
      "cell_type": "code",
      "metadata": {
        "id": "v0vlJHoQEa1u"
      },
      "source": [
        "data = open('/content/New_Notebook.txt', mode = 'w')\n",
        "\n",
        "data.write('Something for line 8\\n')\n",
        "data.close()"
      ],
      "execution_count": null,
      "outputs": []
    },
    {
      "cell_type": "code",
      "metadata": {
        "colab": {
          "base_uri": "https://localhost:8080/"
        },
        "id": "eMCvvsfzEm50",
        "outputId": "1c2709c6-7a8f-49c4-dd44-c8f117577a11"
      },
      "source": [
        "data = open('/content/New_Notebook.txt', mode = 'r')\n",
        "\n",
        "print(data.read())\n",
        "data.close()"
      ],
      "execution_count": null,
      "outputs": [
        {
          "output_type": "stream",
          "text": [
            "Something for line 8\n",
            "\n"
          ],
          "name": "stdout"
        }
      ]
    },
    {
      "cell_type": "markdown",
      "metadata": {
        "id": "ScwwMRDXCUt-"
      },
      "source": [
        "Также дпри работе с файлами можно использовать выражение `with`, которое в данном случае открывает файл, выполняет операции под своим блоком (код под блоком `with`) и автоматически закрывает файл. Таким образзом, не надо прописывать закрытие файла самим. Вдобавок, можно считать это выражении при работе с файлами некой страховкой."
      ]
    },
    {
      "cell_type": "code",
      "metadata": {
        "id": "dPctfuw5EojA"
      },
      "source": [
        "with open(\"/content/Testing_Notebook.txt\", mode = 'r') as file:\n",
        "  data = file.read()"
      ],
      "execution_count": null,
      "outputs": []
    },
    {
      "cell_type": "code",
      "metadata": {
        "colab": {
          "base_uri": "https://localhost:8080/"
        },
        "id": "uP1jmA_EDLg1",
        "outputId": "17bebf3b-126a-4205-cc1c-39fbce17fdce"
      },
      "source": [
        "print(data)"
      ],
      "execution_count": null,
      "outputs": [
        {
          "output_type": "stream",
          "text": [
            "id;column_1;column_2;column_3;column_4\n",
            "1;4;Moscow;June;2019;257\n",
            "2;7;Moscow;June;2019;304\n",
            "3;5;Novgorod;July;2018;435\n",
            "10;9;Kazan;September;2020;270\n",
            "14;3;Saint Petersburg;November;2019;342\n"
          ],
          "name": "stdout"
        }
      ]
    },
    {
      "cell_type": "code",
      "metadata": {
        "colab": {
          "base_uri": "https://localhost:8080/"
        },
        "id": "i5ENGdWsDEl8",
        "outputId": "54a2ec83-0512-4675-df5e-bc751f7a2239"
      },
      "source": [
        "with open(\"/content/Testing_Notebook.txt\", mode = 'r') as file:\n",
        "  for l in file:\n",
        "    print(l)"
      ],
      "execution_count": null,
      "outputs": [
        {
          "output_type": "stream",
          "text": [
            "id;column_1;column_2;column_3;column_4\n",
            "\n",
            "1;4;Moscow;June;2019;257\n",
            "\n",
            "2;7;Moscow;June;2019;304\n",
            "\n",
            "3;5;Novgorod;July;2018;435\n",
            "\n",
            "10;9;Kazan;September;2020;270\n",
            "\n",
            "14;3;Saint Petersburg;November;2019;342\n"
          ],
          "name": "stdout"
        }
      ]
    },
    {
      "cell_type": "markdown",
      "metadata": {
        "id": "9XIGzANADOdz"
      },
      "source": [
        "Т.к. файл автоматически закрывается, дальше работать с ним не удастся"
      ]
    },
    {
      "cell_type": "code",
      "metadata": {
        "colab": {
          "base_uri": "https://localhost:8080/",
          "height": 164
        },
        "id": "y9mIVMvlFJ3_",
        "outputId": "db6f0dc0-085c-4383-9361-093e923916e0"
      },
      "source": [
        "file.read()"
      ],
      "execution_count": null,
      "outputs": [
        {
          "output_type": "error",
          "ename": "ValueError",
          "evalue": "ignored",
          "traceback": [
            "\u001b[0;31m---------------------------------------------------------------------------\u001b[0m",
            "\u001b[0;31mValueError\u001b[0m                                Traceback (most recent call last)",
            "\u001b[0;32m<ipython-input-673-f3fc120c03c1>\u001b[0m in \u001b[0;36m<module>\u001b[0;34m()\u001b[0m\n\u001b[0;32m----> 1\u001b[0;31m \u001b[0mfile\u001b[0m\u001b[0;34m.\u001b[0m\u001b[0mread\u001b[0m\u001b[0;34m(\u001b[0m\u001b[0;34m)\u001b[0m\u001b[0;34m\u001b[0m\u001b[0;34m\u001b[0m\u001b[0m\n\u001b[0m",
            "\u001b[0;31mValueError\u001b[0m: I/O operation on closed file."
          ]
        }
      ]
    },
    {
      "cell_type": "code",
      "metadata": {
        "id": "49FKYzFDFm0F"
      },
      "source": [
        "with open(\"/content/Testing_Notebook.txt\", mode = 'r') as file:\n",
        "  data = file.readlines()"
      ],
      "execution_count": null,
      "outputs": []
    },
    {
      "cell_type": "code",
      "metadata": {
        "colab": {
          "base_uri": "https://localhost:8080/"
        },
        "id": "a6wY6l13FodV",
        "outputId": "89f7d23b-22ea-4c2d-e067-e7d18c8d14d5"
      },
      "source": [
        "data"
      ],
      "execution_count": null,
      "outputs": [
        {
          "output_type": "execute_result",
          "data": {
            "text/plain": [
              "['id;column_1;column_2;column_3;column_4\\n',\n",
              " '1;4;Moscow;June;2019;257\\n',\n",
              " '2;7;Moscow;June;2019;304\\n',\n",
              " '3;5;Novgorod;July;2018;435\\n',\n",
              " '10;9;Kazan;September;2020;270\\n',\n",
              " '14;3;Saint Petersburg;November;2019;342']"
            ]
          },
          "metadata": {
            "tags": []
          },
          "execution_count": 675
        }
      ]
    },
    {
      "cell_type": "markdown",
      "metadata": {
        "id": "p18LgN96Evg1"
      },
      "source": [
        "Можно пройтись по строкам внутри списка и для каждой строки сделать список из ее элементов, убрав символ перевода строки и разбив строку на элементы с помощью методов `.rstrip()` и потом `.split(sep)`"
      ]
    },
    {
      "cell_type": "code",
      "metadata": {
        "colab": {
          "base_uri": "https://localhost:8080/"
        },
        "id": "N_MKWVXvFNYc",
        "outputId": "15aa4884-2abf-4f5a-8842-3d4fba1ae304"
      },
      "source": [
        "text_lines = []\n",
        "for i in data:\n",
        "  text_lines.append(i.rstrip().split(';'))\n",
        "\n",
        "text_lines"
      ],
      "execution_count": null,
      "outputs": [
        {
          "output_type": "execute_result",
          "data": {
            "text/plain": [
              "[['id', 'column_1', 'column_2', 'column_3', 'column_4'],\n",
              " ['1', '4', 'Moscow', 'June', '2019', '257'],\n",
              " ['2', '7', 'Moscow', 'June', '2019', '304'],\n",
              " ['3', '5', 'Novgorod', 'July', '2018', '435'],\n",
              " ['10', '9', 'Kazan', 'September', '2020', '270'],\n",
              " ['14', '3', 'Saint Petersburg', 'November', '2019', '342']]"
            ]
          },
          "metadata": {
            "tags": []
          },
          "execution_count": 676
        }
      ]
    },
    {
      "cell_type": "markdown",
      "metadata": {
        "id": "rkAGGuV0E8-v"
      },
      "source": [
        "Одного столбца в первой строчке не хватало - потому добавили еще один, чтобы размерность названий столбцов совпадала с размерностью данных."
      ]
    },
    {
      "cell_type": "code",
      "metadata": {
        "colab": {
          "base_uri": "https://localhost:8080/",
          "height": 204
        },
        "id": "Dysa8iMRF82u",
        "outputId": "a903f4e8-161a-4042-87a9-b387dabc9292"
      },
      "source": [
        "pd.DataFrame(data = text_lines[1:], columns = text_lines[0] + ['column_5'])"
      ],
      "execution_count": null,
      "outputs": [
        {
          "output_type": "execute_result",
          "data": {
            "text/html": [
              "<div>\n",
              "<style scoped>\n",
              "    .dataframe tbody tr th:only-of-type {\n",
              "        vertical-align: middle;\n",
              "    }\n",
              "\n",
              "    .dataframe tbody tr th {\n",
              "        vertical-align: top;\n",
              "    }\n",
              "\n",
              "    .dataframe thead th {\n",
              "        text-align: right;\n",
              "    }\n",
              "</style>\n",
              "<table border=\"1\" class=\"dataframe\">\n",
              "  <thead>\n",
              "    <tr style=\"text-align: right;\">\n",
              "      <th></th>\n",
              "      <th>id</th>\n",
              "      <th>column_1</th>\n",
              "      <th>column_2</th>\n",
              "      <th>column_3</th>\n",
              "      <th>column_4</th>\n",
              "      <th>column_5</th>\n",
              "    </tr>\n",
              "  </thead>\n",
              "  <tbody>\n",
              "    <tr>\n",
              "      <th>0</th>\n",
              "      <td>1</td>\n",
              "      <td>4</td>\n",
              "      <td>Moscow</td>\n",
              "      <td>June</td>\n",
              "      <td>2019</td>\n",
              "      <td>257</td>\n",
              "    </tr>\n",
              "    <tr>\n",
              "      <th>1</th>\n",
              "      <td>2</td>\n",
              "      <td>7</td>\n",
              "      <td>Moscow</td>\n",
              "      <td>June</td>\n",
              "      <td>2019</td>\n",
              "      <td>304</td>\n",
              "    </tr>\n",
              "    <tr>\n",
              "      <th>2</th>\n",
              "      <td>3</td>\n",
              "      <td>5</td>\n",
              "      <td>Novgorod</td>\n",
              "      <td>July</td>\n",
              "      <td>2018</td>\n",
              "      <td>435</td>\n",
              "    </tr>\n",
              "    <tr>\n",
              "      <th>3</th>\n",
              "      <td>10</td>\n",
              "      <td>9</td>\n",
              "      <td>Kazan</td>\n",
              "      <td>September</td>\n",
              "      <td>2020</td>\n",
              "      <td>270</td>\n",
              "    </tr>\n",
              "    <tr>\n",
              "      <th>4</th>\n",
              "      <td>14</td>\n",
              "      <td>3</td>\n",
              "      <td>Saint Petersburg</td>\n",
              "      <td>November</td>\n",
              "      <td>2019</td>\n",
              "      <td>342</td>\n",
              "    </tr>\n",
              "  </tbody>\n",
              "</table>\n",
              "</div>"
            ],
            "text/plain": [
              "   id column_1          column_2   column_3 column_4 column_5\n",
              "0   1        4            Moscow       June     2019      257\n",
              "1   2        7            Moscow       June     2019      304\n",
              "2   3        5          Novgorod       July     2018      435\n",
              "3  10        9             Kazan  September     2020      270\n",
              "4  14        3  Saint Petersburg   November     2019      342"
            ]
          },
          "metadata": {
            "tags": []
          },
          "execution_count": 677
        }
      ]
    },
    {
      "cell_type": "markdown",
      "metadata": {
        "id": "4dpH6RtvFHQh"
      },
      "source": [
        "А можно добавлять всякую специфику внутрь"
      ]
    },
    {
      "cell_type": "code",
      "metadata": {
        "colab": {
          "base_uri": "https://localhost:8080/"
        },
        "id": "Tdo-ZqGKGQKn",
        "outputId": "4b93035c-6062-44a1-b92a-385f7b79e1a7"
      },
      "source": [
        "with open(\"/content/Testing_Notebook.txt\", mode = 'r') as file:\n",
        "  for line in file.readlines():\n",
        "    if 'Moscow' not in line.rstrip().split(';'):\n",
        "      print(line)"
      ],
      "execution_count": null,
      "outputs": [
        {
          "output_type": "stream",
          "text": [
            "id;column_1;column_2;column_3;column_4\n",
            "\n",
            "3;5;Novgorod;July;2018;435\n",
            "\n",
            "10;9;Kazan;September;2020;270\n",
            "\n",
            "14;3;Saint Petersburg;November;2019;342\n"
          ],
          "name": "stdout"
        }
      ]
    },
    {
      "cell_type": "markdown",
      "metadata": {
        "id": "WO5LIiv4FKnd"
      },
      "source": [
        "JSON -  один из наиболее часто встречаемых форматов данных. Подробнее о нем, и зачем он нужен можно прочесть [здесь](https://ru.wikipedia.org/wiki/JSON) и здесь [здесь](https://qastack.ru/programming/383692/what-is-json-and-why-would-i-use-it)\n",
        "\n",
        "Для работы с json файлами, давайте сперва создадим его. Зададим словарь ниже"
      ]
    },
    {
      "cell_type": "code",
      "metadata": {
        "id": "4jbaezjAHLNL"
      },
      "source": [
        "obj = \"\"\"\n",
        "{\"customer_id\": \"3\",\n",
        " \"place_of_living\": \"Canada\",\n",
        " \"degree\": \"masters\",\n",
        " \"majors\": [{\"name\": \"Industrial Organization\", \"n courses\": 4, \"GPA\": 4.6},\n",
        "              {\"name\": \"Finance\", \"n courses\": 7, \"GPA\": 4.9}]}\n",
        "\"\"\"\n"
      ],
      "execution_count": null,
      "outputs": []
    },
    {
      "cell_type": "markdown",
      "metadata": {
        "id": "VJurk_-4FrJQ"
      },
      "source": [
        "Импортируем библиотеку для работы с json файлами"
      ]
    },
    {
      "cell_type": "code",
      "metadata": {
        "id": "CVlOtmnNtwm4"
      },
      "source": [
        "import json"
      ],
      "execution_count": null,
      "outputs": []
    },
    {
      "cell_type": "markdown",
      "metadata": {
        "id": "vgY-5JTHFt4e"
      },
      "source": [
        "Запишем содержимое с помощью метода `.loads()`"
      ]
    },
    {
      "cell_type": "code",
      "metadata": {
        "colab": {
          "base_uri": "https://localhost:8080/"
        },
        "id": "W6n67PbMtzpr",
        "outputId": "60650fff-5fc3-47f3-9b47-481738a2f5da"
      },
      "source": [
        "res = json.loads(obj)\n",
        "res"
      ],
      "execution_count": null,
      "outputs": [
        {
          "output_type": "execute_result",
          "data": {
            "text/plain": [
              "{'customer_id': '3',\n",
              " 'degree': 'masters',\n",
              " 'majors': [{'GPA': 4.6, 'n courses': 4, 'name': 'Industrial Organization'},\n",
              "  {'GPA': 4.9, 'n courses': 7, 'name': 'Finance'}],\n",
              " 'place_of_living': 'Canada'}"
            ]
          },
          "metadata": {
            "tags": []
          },
          "execution_count": 686
        }
      ]
    },
    {
      "cell_type": "markdown",
      "metadata": {
        "id": "F-1vjFd0F4-g"
      },
      "source": [
        "Запишем содержимое в файл"
      ]
    },
    {
      "cell_type": "code",
      "metadata": {
        "id": "ee1DqspmuBNO"
      },
      "source": [
        "with open('json_data.json', 'w', encoding = 'utf-8') as file:\n",
        "    json.dump(res, file)"
      ],
      "execution_count": null,
      "outputs": []
    },
    {
      "cell_type": "markdown",
      "metadata": {
        "id": "TfhsjGuiGCLE"
      },
      "source": [
        "Проверим, как прошла запись, прочитав файл с помощью метода `.load()`"
      ]
    },
    {
      "cell_type": "code",
      "metadata": {
        "id": "4_WbkvqluJRs"
      },
      "source": [
        "with open('/content/json_data.json') as file:\n",
        "    data = json.load(file)"
      ],
      "execution_count": null,
      "outputs": []
    },
    {
      "cell_type": "code",
      "metadata": {
        "colab": {
          "base_uri": "https://localhost:8080/"
        },
        "id": "HRTtNEEIu0-G",
        "outputId": "c995ba1d-6818-49bc-df99-9abf363d9ac0"
      },
      "source": [
        "data"
      ],
      "execution_count": null,
      "outputs": [
        {
          "output_type": "execute_result",
          "data": {
            "text/plain": [
              "{'customer_id': '3',\n",
              " 'degree': 'masters',\n",
              " 'majors': [{'GPA': 4.6, 'n courses': 4, 'name': 'Industrial Organization'},\n",
              "  {'GPA': 4.9, 'n courses': 7, 'name': 'Finance'}],\n",
              " 'place_of_living': 'Canada'}"
            ]
          },
          "metadata": {
            "tags": []
          },
          "execution_count": 689
        }
      ]
    },
    {
      "cell_type": "code",
      "metadata": {
        "colab": {
          "base_uri": "https://localhost:8080/"
        },
        "id": "mJOeIulR9Bfc",
        "outputId": "435ff7b5-1541-4f71-d4b0-a395378c8428"
      },
      "source": [
        "data.values()"
      ],
      "execution_count": null,
      "outputs": [
        {
          "output_type": "execute_result",
          "data": {
            "text/plain": [
              "dict_values(['3', 'Canada', 'masters', [{'name': 'Industrial Organization', 'n courses': 4, 'GPA': 4.6}, {'name': 'Finance', 'n courses': 7, 'GPA': 4.9}]])"
            ]
          },
          "metadata": {
            "tags": []
          },
          "execution_count": 690
        }
      ]
    },
    {
      "cell_type": "markdown",
      "metadata": {
        "id": "zu4Um6gczIQI"
      },
      "source": [
        "## Генераторы"
      ]
    },
    {
      "cell_type": "markdown",
      "metadata": {
        "id": "QdONXVkRGQkC"
      },
      "source": [
        "Генератор - объект, который сразу же при его создании не делает каки-либо вычислений с его элементами. Генератор хранит в памяти только последний вчисленный элемент, а также правило перехода к следующему элементу + условие, при котором переход прерывается\n",
        "\n",
        "Вычисление следующего значения происходит при вызове метода `next()` к объекту генератора.\n",
        "\n",
        "Мотивация использования можем быть в более эконом расходовании ресурсов - файлы можно прочитывать и проводить операции кусками. А возможно поток данных непрерывен - котировки, показания приборов и т.д. Также генераторы можно использовать при желании и/или необходимости задать какую-то свою структуру."
      ]
    },
    {
      "cell_type": "markdown",
      "metadata": {
        "id": "SSvQQkCmHQRZ"
      },
      "source": [
        "Для создания генератора требуется задать функцию, также как мы делали и раньше. Однако вместо `return` будет стоять оператор `yield`. `yield` в отличие от `return` приостанавливает работу функцию, но не завершает.\n",
        "\n",
        "При первом вызове `next()` к объекту генератора выполняется код функции с первой команды до `yield`. При втором и последующих вызовах `next()` выполняется код со следующей после `yield` команды."
      ]
    },
    {
      "cell_type": "markdown",
      "metadata": {
        "id": "IRAkXjoUH92j"
      },
      "source": [
        "Сделаем простой генератор-счетчик"
      ]
    },
    {
      "cell_type": "code",
      "metadata": {
        "id": "Gl8aIs67zIZ_"
      },
      "source": [
        "def exhaust(number):\n",
        "  a = 0\n",
        "  while a < number:\n",
        "      yield a\n",
        "      a += 1"
      ],
      "execution_count": null,
      "outputs": []
    },
    {
      "cell_type": "code",
      "metadata": {
        "id": "HkDtSFktz5cy"
      },
      "source": [
        "gen_1 = exhaust(10)"
      ],
      "execution_count": null,
      "outputs": []
    },
    {
      "cell_type": "code",
      "metadata": {
        "colab": {
          "base_uri": "https://localhost:8080/"
        },
        "id": "JoVOBnca9zBO",
        "outputId": "31de3b25-a1ab-46a7-8f79-49585af7e9bb"
      },
      "source": [
        "gen_1"
      ],
      "execution_count": null,
      "outputs": [
        {
          "output_type": "execute_result",
          "data": {
            "text/plain": [
              "<generator object exhaust at 0x7fc3ae70d0d0>"
            ]
          },
          "metadata": {
            "tags": []
          },
          "execution_count": 693
        }
      ]
    },
    {
      "cell_type": "code",
      "metadata": {
        "colab": {
          "base_uri": "https://localhost:8080/"
        },
        "id": "iop8mSPuz79m",
        "outputId": "54bece0e-7443-4b51-d4a0-d4ac2cf7a3da"
      },
      "source": [
        "next(gen_1)"
      ],
      "execution_count": null,
      "outputs": [
        {
          "output_type": "execute_result",
          "data": {
            "text/plain": [
              "0"
            ]
          },
          "metadata": {
            "tags": []
          },
          "execution_count": 694
        }
      ]
    },
    {
      "cell_type": "code",
      "metadata": {
        "colab": {
          "base_uri": "https://localhost:8080/"
        },
        "id": "Zr126XUEz-HC",
        "outputId": "4e19591f-473b-40c1-b1f9-9ac5a6812ea4"
      },
      "source": [
        "next(gen_1)"
      ],
      "execution_count": null,
      "outputs": [
        {
          "output_type": "execute_result",
          "data": {
            "text/plain": [
              "9"
            ]
          },
          "metadata": {
            "tags": []
          },
          "execution_count": 703
        }
      ]
    },
    {
      "cell_type": "markdown",
      "metadata": {
        "id": "PwtghcXdIFJ-"
      },
      "source": [
        "На 10-м вызове `next()` получим ошибку, т.к. итерировать больше нечего"
      ]
    },
    {
      "cell_type": "code",
      "metadata": {
        "colab": {
          "base_uri": "https://localhost:8080/",
          "height": 164
        },
        "id": "UB9_AhdIz_Zl",
        "outputId": "d6382851-b134-41cf-b111-a5b21491792e"
      },
      "source": [
        "next(gen_1)"
      ],
      "execution_count": null,
      "outputs": [
        {
          "output_type": "error",
          "ename": "StopIteration",
          "evalue": "ignored",
          "traceback": [
            "\u001b[0;31m---------------------------------------------------------------------------\u001b[0m",
            "\u001b[0;31mStopIteration\u001b[0m                             Traceback (most recent call last)",
            "\u001b[0;32m<ipython-input-704-e55610b10645>\u001b[0m in \u001b[0;36m<module>\u001b[0;34m()\u001b[0m\n\u001b[0;32m----> 1\u001b[0;31m \u001b[0mnext\u001b[0m\u001b[0;34m(\u001b[0m\u001b[0mgen_1\u001b[0m\u001b[0;34m)\u001b[0m\u001b[0;34m\u001b[0m\u001b[0;34m\u001b[0m\u001b[0m\n\u001b[0m",
            "\u001b[0;31mStopIteration\u001b[0m: "
          ]
        }
      ]
    },
    {
      "cell_type": "markdown",
      "metadata": {
        "id": "mrBLcRYHIRI9"
      },
      "source": [
        "Можно итерироваться по значениям генератора в списке"
      ]
    },
    {
      "cell_type": "code",
      "metadata": {
        "colab": {
          "base_uri": "https://localhost:8080/"
        },
        "id": "iKrfB-Ax0DR7",
        "outputId": "d9caaece-a95a-4ef1-9e40-ad6c3812d68d"
      },
      "source": [
        "for i in exhaust(10):\n",
        "    print(i)"
      ],
      "execution_count": null,
      "outputs": [
        {
          "output_type": "stream",
          "text": [
            "0\n",
            "1\n",
            "2\n",
            "3\n",
            "4\n",
            "5\n",
            "6\n",
            "7\n",
            "8\n",
            "9\n"
          ],
          "name": "stdout"
        }
      ]
    },
    {
      "cell_type": "markdown",
      "metadata": {
        "id": "uu_ggE6hIUxw"
      },
      "source": [
        "А ведь это напоминает работу `range`"
      ]
    },
    {
      "cell_type": "code",
      "metadata": {
        "colab": {
          "base_uri": "https://localhost:8080/"
        },
        "id": "B8cja8g1-QTB",
        "outputId": "7fb5c7ab-d06b-42cc-c941-39ecfa00ab05"
      },
      "source": [
        "for i in range(10):\n",
        "  print(i)"
      ],
      "execution_count": null,
      "outputs": [
        {
          "output_type": "stream",
          "text": [
            "0\n",
            "1\n",
            "2\n",
            "3\n",
            "4\n",
            "5\n",
            "6\n",
            "7\n",
            "8\n",
            "9\n"
          ],
          "name": "stdout"
        }
      ]
    },
    {
      "cell_type": "markdown",
      "metadata": {
        "id": "zpyQ7qFFIhkB"
      },
      "source": [
        "Однако в отличие от `range` в свой генератор можно добавить различной специфики"
      ]
    },
    {
      "cell_type": "code",
      "metadata": {
        "id": "KXrnqeQ70Lx9"
      },
      "source": [
        "def exhaust_mod(number):\n",
        "  a = 0\n",
        "  while a < number:\n",
        "      if a % 2 == 0:\n",
        "        yield a\n",
        "      a += 1"
      ],
      "execution_count": null,
      "outputs": []
    },
    {
      "cell_type": "code",
      "metadata": {
        "colab": {
          "base_uri": "https://localhost:8080/"
        },
        "id": "e6GxeLOO0bQh",
        "outputId": "ebccce82-1204-4779-bbaf-f6ef2dd442a4"
      },
      "source": [
        "for i in exhaust_mod(10):\n",
        "    print(i)"
      ],
      "execution_count": null,
      "outputs": [
        {
          "output_type": "stream",
          "text": [
            "0\n",
            "2\n",
            "4\n",
            "6\n",
            "8\n"
          ],
          "name": "stdout"
        }
      ]
    },
    {
      "cell_type": "markdown",
      "metadata": {
        "id": "Gh2jQfj8IoMd"
      },
      "source": [
        "А пример ниже позволяет читать данные построчно (хотя реализация его сыра и плоха, т.к. мы сразу читаем весь файл, а потом возвращаем по строчке)"
      ]
    },
    {
      "cell_type": "code",
      "metadata": {
        "id": "_yHdc8so1N4Y"
      },
      "source": [
        "def read_lines(data):\n",
        "  while True:\n",
        "    yield data.readline().rstrip()"
      ],
      "execution_count": null,
      "outputs": []
    },
    {
      "cell_type": "code",
      "metadata": {
        "id": "yZ892MVj1GhD"
      },
      "source": [
        "data = open('/content/Testing_Notebook.txt', 'r')"
      ],
      "execution_count": null,
      "outputs": []
    },
    {
      "cell_type": "code",
      "metadata": {
        "id": "VN-YUV_q1fdV"
      },
      "source": [
        "res = read_lines(data)"
      ],
      "execution_count": null,
      "outputs": []
    },
    {
      "cell_type": "code",
      "metadata": {
        "colab": {
          "base_uri": "https://localhost:8080/",
          "height": 35
        },
        "id": "yMSFRjhR0dPI",
        "outputId": "eac001fe-e1ec-4363-e841-6073294c4525"
      },
      "source": [
        "next(res)"
      ],
      "execution_count": null,
      "outputs": [
        {
          "output_type": "execute_result",
          "data": {
            "application/vnd.google.colaboratory.intrinsic+json": {
              "type": "string"
            },
            "text/plain": [
              "'2;7;Moscow;June;2019;304'"
            ]
          },
          "metadata": {
            "tags": []
          },
          "execution_count": 719
        }
      ]
    },
    {
      "cell_type": "code",
      "metadata": {
        "id": "UZUTowVF1pae"
      },
      "source": [
        "data.close()"
      ],
      "execution_count": null,
      "outputs": []
    },
    {
      "cell_type": "code",
      "metadata": {
        "colab": {
          "base_uri": "https://localhost:8080/",
          "height": 249
        },
        "id": "xqFxUYth1tJW",
        "outputId": "654625e4-51ce-4d1f-b810-6cbdb6f204db"
      },
      "source": [
        "next(res)"
      ],
      "execution_count": null,
      "outputs": [
        {
          "output_type": "error",
          "ename": "ValueError",
          "evalue": "ignored",
          "traceback": [
            "\u001b[0;31m---------------------------------------------------------------------------\u001b[0m",
            "\u001b[0;31mValueError\u001b[0m                                Traceback (most recent call last)",
            "\u001b[0;32m<ipython-input-721-99bd7a0c47e0>\u001b[0m in \u001b[0;36m<module>\u001b[0;34m()\u001b[0m\n\u001b[0;32m----> 1\u001b[0;31m \u001b[0mnext\u001b[0m\u001b[0;34m(\u001b[0m\u001b[0mres\u001b[0m\u001b[0;34m)\u001b[0m\u001b[0;34m\u001b[0m\u001b[0;34m\u001b[0m\u001b[0m\n\u001b[0m",
            "\u001b[0;32m<ipython-input-714-8f79f4a316e5>\u001b[0m in \u001b[0;36mread_lines\u001b[0;34m(data)\u001b[0m\n\u001b[1;32m      1\u001b[0m \u001b[0;32mdef\u001b[0m \u001b[0mread_lines\u001b[0m\u001b[0;34m(\u001b[0m\u001b[0mdata\u001b[0m\u001b[0;34m)\u001b[0m\u001b[0;34m:\u001b[0m\u001b[0;34m\u001b[0m\u001b[0;34m\u001b[0m\u001b[0m\n\u001b[1;32m      2\u001b[0m   \u001b[0;32mwhile\u001b[0m \u001b[0;32mTrue\u001b[0m\u001b[0;34m:\u001b[0m\u001b[0;34m\u001b[0m\u001b[0;34m\u001b[0m\u001b[0m\n\u001b[0;32m----> 3\u001b[0;31m     \u001b[0;32myield\u001b[0m \u001b[0mdata\u001b[0m\u001b[0;34m.\u001b[0m\u001b[0mreadline\u001b[0m\u001b[0;34m(\u001b[0m\u001b[0;34m)\u001b[0m\u001b[0;34m.\u001b[0m\u001b[0mrstrip\u001b[0m\u001b[0;34m(\u001b[0m\u001b[0;34m)\u001b[0m\u001b[0;34m\u001b[0m\u001b[0;34m\u001b[0m\u001b[0m\n\u001b[0m",
            "\u001b[0;31mValueError\u001b[0m: I/O operation on closed file."
          ]
        }
      ]
    },
    {
      "cell_type": "markdown",
      "metadata": {
        "id": "EjIKyplSIFrB"
      },
      "source": [
        "## Статистика\n",
        "\n",
        "<center> <img src=\"https://www.fullstackpython.com/img/logos/scipy.png\" width=50%> </center>\n",
        "\n",
        "**SciPy** - библиотека, предназначенная для различных научных, инженерных и прочих рассчетов. \n",
        "\n",
        "В библиотеке в модуле `stats` реализованы различные методы для работы со случайными величинами, их распределениями, а также для построения доверительных интервалов и тестирования статистических гипотез\n",
        "\n"
      ]
    },
    {
      "cell_type": "code",
      "metadata": {
        "id": "d_CPkdhvIG16"
      },
      "source": [
        "import scipy.stats as sts"
      ],
      "execution_count": null,
      "outputs": []
    },
    {
      "cell_type": "markdown",
      "metadata": {
        "id": "-IB63nllJlgN"
      },
      "source": [
        "С помощью метода `.ppf()` (примененного к распределиню - в нашем случае `norm`) можно получить обратную функцию плотности распределения\n",
        "\n"
      ]
    },
    {
      "cell_type": "code",
      "metadata": {
        "colab": {
          "base_uri": "https://localhost:8080/"
        },
        "id": "vaGiDFzrIaDe",
        "outputId": "9dd21520-bcc1-4a50-9eea-2e3193be2e6c"
      },
      "source": [
        "sts.norm.ppf(0.95)"
      ],
      "execution_count": null,
      "outputs": [
        {
          "output_type": "execute_result",
          "data": {
            "text/plain": [
              "1.6448536269514722"
            ]
          },
          "metadata": {
            "tags": []
          },
          "execution_count": 496
        }
      ]
    },
    {
      "cell_type": "markdown",
      "metadata": {
        "id": "50WSSsFlJrq_"
      },
      "source": [
        "В распределении также можно задать его параметры - для нормального среднее (`loc`) и стандартное отклонение (`scale`)"
      ]
    },
    {
      "cell_type": "code",
      "metadata": {
        "colab": {
          "base_uri": "https://localhost:8080/"
        },
        "id": "J_7mCK8DIrVA",
        "outputId": "30a0cd23-b018-456e-d7d3-01e640d6e096"
      },
      "source": [
        "sts.norm.ppf(0.95, loc = 1, scale = 2)"
      ],
      "execution_count": null,
      "outputs": [
        {
          "output_type": "execute_result",
          "data": {
            "text/plain": [
              "4.289707253902945"
            ]
          },
          "metadata": {
            "tags": []
          },
          "execution_count": 724
        }
      ]
    },
    {
      "cell_type": "code",
      "metadata": {
        "colab": {
          "base_uri": "https://localhost:8080/"
        },
        "id": "F1XPp8I6I4YL",
        "outputId": "3367b409-bc27-4ccf-bbc7-62b2ce38b4f9"
      },
      "source": [
        "array_of_normals = np.random.normal(loc = 2, scale = 1, size = 10000)\n",
        "array_of_normals"
      ],
      "execution_count": null,
      "outputs": [
        {
          "output_type": "execute_result",
          "data": {
            "text/plain": [
              "array([2.56518288, 2.15427874, 2.53962139, ..., 0.89668178, 0.85398329,\n",
              "       0.2803443 ])"
            ]
          },
          "metadata": {
            "tags": []
          },
          "execution_count": 499
        }
      ]
    },
    {
      "cell_type": "markdown",
      "metadata": {
        "id": "9W9M6qcpKBh3"
      },
      "source": [
        "Можно для случайных величин посчитать значения плотности распределиня с помощью метода `.pdf()`"
      ]
    },
    {
      "cell_type": "code",
      "metadata": {
        "colab": {
          "base_uri": "https://localhost:8080/"
        },
        "id": "fWKgblR7K6EM",
        "outputId": "1231de66-1200-4e3f-efca-88b10339d4ee"
      },
      "source": [
        "norm_pdf = sts.norm.pdf(array_of_normals)\n",
        "norm_pdf"
      ],
      "execution_count": null,
      "outputs": [
        {
          "output_type": "execute_result",
          "data": {
            "text/plain": [
              "array([0.01486092, 0.03918752, 0.01586283, ..., 0.2668796 , 0.27704308,\n",
              "       0.38356929])"
            ]
          },
          "metadata": {
            "tags": []
          },
          "execution_count": 500
        }
      ]
    },
    {
      "cell_type": "markdown",
      "metadata": {
        "id": "vKBrVxdsKIB8"
      },
      "source": [
        "Также можно посчитать значения функции распределения с помощью метода `cdf()`"
      ]
    },
    {
      "cell_type": "code",
      "metadata": {
        "colab": {
          "base_uri": "https://localhost:8080/"
        },
        "id": "rieBWOl9LSZx",
        "outputId": "50e0256b-e79d-4be7-ef4d-1713f6e35a84"
      },
      "source": [
        "norm_cdf = sts.norm.cdf(array_of_normals)\n",
        "norm_cdf"
      ],
      "execution_count": null,
      "outputs": [
        {
          "output_type": "execute_result",
          "data": {
            "text/plain": [
              "array([0.99484393, 0.98439084, 0.99445137, ..., 0.81505563, 0.80344287,\n",
              "       0.61039331])"
            ]
          },
          "metadata": {
            "tags": []
          },
          "execution_count": 501
        }
      ]
    },
    {
      "cell_type": "markdown",
      "metadata": {
        "id": "F4olSn5EKOJ-"
      },
      "source": [
        "Ниже проведем сортировку"
      ]
    },
    {
      "cell_type": "code",
      "metadata": {
        "id": "4glb2qtFNXdN"
      },
      "source": [
        "tmp = np.vstack((array_of_normals, norm_cdf))\n",
        "tmp = tmp[: , tmp[1, :].argsort()]"
      ],
      "execution_count": null,
      "outputs": []
    },
    {
      "cell_type": "code",
      "metadata": {
        "colab": {
          "base_uri": "https://localhost:8080/"
        },
        "id": "pVuoujz6_-1x",
        "outputId": "5f4b0f27-fc66-42dc-c1a7-fb571e515bdb"
      },
      "source": [
        "tmp"
      ],
      "execution_count": null,
      "outputs": [
        {
          "output_type": "execute_result",
          "data": {
            "text/plain": [
              "array([[-1.59275705, -1.52556317, -1.50057443, ...,  5.74893361,\n",
              "         5.97316326,  6.04349066],\n",
              "       [ 0.05560735,  0.06355935,  0.06673283, ...,  1.        ,\n",
              "         1.        ,  1.        ]])"
            ]
          },
          "metadata": {
            "tags": []
          },
          "execution_count": 508
        }
      ]
    },
    {
      "cell_type": "code",
      "metadata": {
        "colab": {
          "base_uri": "https://localhost:8080/",
          "height": 465
        },
        "id": "alziz7MaIyNB",
        "outputId": "58471c99-2246-42f6-a3a0-71e25847f74e"
      },
      "source": [
        "plt.figure(figsize = (10, 7))\n",
        "\n",
        "plt.scatter(tmp[0], tmp[1], color = 'darkblue')\n",
        "plt.tick_params(labelsize = 20)\n",
        "plt.grid()\n",
        "plt.title('Cumulative Density Function for $N(1, 2)$', fontsize = 25)\n",
        "plt.show()"
      ],
      "execution_count": null,
      "outputs": [
        {
          "output_type": "display_data",
          "data": {
            "image/png": "[encoded data removed]",
            "text/plain": [
              "<Figure size 720x504 with 1 Axes>"
            ]
          },
          "metadata": {
            "tags": [],
            "needs_background": "light"
          }
        }
      ]
    },
    {
      "cell_type": "code",
      "metadata": {
        "id": "X02KyMczJEms"
      },
      "source": [
        "tmp = np.vstack((array_of_normals, norm_pdf))\n",
        "tmp = tmp[: , tmp[1, :].argsort()]"
      ],
      "execution_count": null,
      "outputs": []
    },
    {
      "cell_type": "code",
      "metadata": {
        "colab": {
          "base_uri": "https://localhost:8080/",
          "height": 465
        },
        "id": "4ovANhZIKg58",
        "outputId": "7507a304-d90a-41e9-8ebe-8d2d09b524b7"
      },
      "source": [
        "plt.figure(figsize = (10, 7))\n",
        "\n",
        "plt.scatter(tmp[0], tmp[1], color = 'darkblue')\n",
        "plt.tick_params(labelsize = 20)\n",
        "plt.grid()\n",
        "plt.title('Probability Density Function for $N(1, 2)$', fontsize = 25)\n",
        "plt.show()"
      ],
      "execution_count": null,
      "outputs": [
        {
          "output_type": "display_data",
          "data": {
            "image/png": "[encoded data removed]",
            "text/plain": [
              "<Figure size 720x504 with 1 Axes>"
            ]
          },
          "metadata": {
            "tags": [],
            "needs_background": "light"
          }
        }
      ]
    },
    {
      "cell_type": "markdown",
      "metadata": {
        "id": "HpbbMJLlKSCb"
      },
      "source": [
        "Можно построить доверительный интервал для среднего своими руками (ну не совсем своими, но не используя встроенные доверительные интервалы в **SciPy**\n",
        "\n",
        "Метод `set()` считает стандартную ошибку выборочного среднего."
      ]
    },
    {
      "cell_type": "code",
      "metadata": {
        "id": "m7sMlmGHIaHK"
      },
      "source": [
        "def mean_confidence_interval(sample, confidence = 0.95):\n",
        "\n",
        "    n = len(sample)\n",
        "    mu, se = np.mean(sample), sts.sem(sample) \n",
        "    critical_value = sts.t.ppf((1 + confidence) / 2, n - 1)\n",
        "\n",
        "    up, low = mu + se * critical_value, mu - se * critical_value\n",
        "\n",
        "    return [low, mu, up]"
      ],
      "execution_count": null,
      "outputs": []
    },
    {
      "cell_type": "markdown",
      "metadata": {
        "id": "qoCSvHdhKhSw"
      },
      "source": [
        "Метод `.rvs()` у распределения позволяет сгенерировать случайную величину/величины.\n",
        "\n",
        "Создадим выборку из 100 случайных величин из распределения Стьюдента с 3-мя степенями свободы."
      ]
    },
    {
      "cell_type": "code",
      "metadata": {
        "colab": {
          "base_uri": "https://localhost:8080/"
        },
        "id": "nudjWC16PBXS",
        "outputId": "56c1dfe1-0524-4520-ae50-4368f72601d2"
      },
      "source": [
        "sample_1 = sts.t.rvs(size = 100, df = 3)\n",
        "sample_1"
      ],
      "execution_count": null,
      "outputs": [
        {
          "output_type": "execute_result",
          "data": {
            "text/plain": [
              "array([ 0.70644266, -0.50060605, -1.99454695,  1.34881673,  0.6700646 ,\n",
              "        0.22741018,  1.85874323,  2.25211514, -0.10300753, -0.69187473,\n",
              "        1.98401416,  0.02739184, -1.41463404, -0.73976077, -1.07803338,\n",
              "       -0.62382549, -1.43229939,  0.16262495,  0.11549672,  0.78227175,\n",
              "        0.97132766, -0.03932902,  1.17580618,  0.02972253, -0.2993355 ,\n",
              "       -0.87389187,  1.88083954, -0.66767907,  0.78314314,  0.62398759,\n",
              "        1.14848517, -1.49394037, -0.14425131, -3.73838312,  0.41044917,\n",
              "        0.60424004,  1.67990994, -0.61420439, -3.0271408 ,  0.65064619,\n",
              "        0.02694495,  0.40646395, -3.20601062, -0.14457113, -0.41070616,\n",
              "       -0.0163113 ,  1.54159932, -1.73024166, -1.18796953,  1.04197666,\n",
              "       -2.63329159, -0.11499718, -0.27399134,  0.36173967,  2.3681726 ,\n",
              "       -0.71497112,  1.85387867, -4.22819745,  0.49273046, -1.47995187,\n",
              "        0.25795599, -0.5949211 , -1.62293347,  0.15515065, 13.09312337,\n",
              "       -0.04956942,  0.81536481,  1.43305305, -1.86024593,  0.26958629,\n",
              "       -1.66584548, -0.84251282, -0.8437598 , -0.62843172,  0.33953453,\n",
              "        0.60685153, -0.07924111,  1.52473244,  0.41928476,  0.03125418,\n",
              "       -1.79006925,  0.55828267, -0.25225217,  1.77591698, -3.05455321,\n",
              "       -0.09591785,  1.16301545,  1.40589272, -4.15603856,  0.43365838,\n",
              "        0.65494359, -0.41226778,  0.38324183, -3.67934037,  1.23104844,\n",
              "        2.80848976,  2.62336998, -2.01375874, -0.94553495,  1.04859851])"
            ]
          },
          "metadata": {
            "tags": []
          },
          "execution_count": 726
        }
      ]
    },
    {
      "cell_type": "markdown",
      "metadata": {
        "id": "B3uT8dysKwpw"
      },
      "source": [
        "Применим нашу написанную функцию"
      ]
    },
    {
      "cell_type": "code",
      "metadata": {
        "colab": {
          "base_uri": "https://localhost:8080/"
        },
        "id": "007cNK5PPNC7",
        "outputId": "dc09b212-6bd7-45da-bd2f-eba660c4cc24"
      },
      "source": [
        "ci_interval = mean_confidence_interval(sample_1, confidence = 0.95)\n",
        "\n",
        "ci_interval"
      ],
      "execution_count": null,
      "outputs": [
        {
          "output_type": "execute_result",
          "data": {
            "text/plain": [
              "[-0.3802184664463444, 0.010146568366339497, 0.40051160317902335]"
            ]
          },
          "metadata": {
            "tags": []
          },
          "execution_count": 727
        }
      ]
    },
    {
      "cell_type": "markdown",
      "metadata": {
        "id": "1dIELPtLKyh6"
      },
      "source": [
        "А можно и воспользоваться встроенным методом `interval()` в распределении."
      ]
    },
    {
      "cell_type": "code",
      "metadata": {
        "colab": {
          "base_uri": "https://localhost:8080/"
        },
        "id": "YAT6OG4YRUV1",
        "outputId": "cface652-9145-487d-fd6f-926d7ed42251"
      },
      "source": [
        "sts.t.interval(0.95, df = len(sample_1) - 1, loc = np.mean(sample_1), scale = sts.sem(sample_1))"
      ],
      "execution_count": null,
      "outputs": [
        {
          "output_type": "execute_result",
          "data": {
            "text/plain": [
              "(-0.3802184664463444, 0.40051160317902335)"
            ]
          },
          "metadata": {
            "tags": []
          },
          "execution_count": 729
        }
      ]
    },
    {
      "cell_type": "markdown",
      "metadata": {
        "id": "wj0D4HkAK4tf"
      },
      "source": [
        "У нормального распределения также можно посчитать подобные вещи."
      ]
    },
    {
      "cell_type": "code",
      "metadata": {
        "colab": {
          "base_uri": "https://localhost:8080/"
        },
        "id": "dphrMTgMR5hD",
        "outputId": "eca720c1-8082-4bf9-8788-4d0b7d54ef51"
      },
      "source": [
        "sts.norm.interval(0.95, loc = np.mean(sample_1), scale = sts.sem(sample_1))"
      ],
      "execution_count": null,
      "outputs": [
        {
          "output_type": "execute_result",
          "data": {
            "text/plain": [
              "(-0.16647863753662714, 0.6544169738093537)"
            ]
          },
          "metadata": {
            "tags": []
          },
          "execution_count": 520
        }
      ]
    },
    {
      "cell_type": "markdown",
      "metadata": {
        "id": "NYyBJVVtK_Ck"
      },
      "source": [
        "Визуально тест на нормальность распределения можно провести с помощью графика **QQ-plot**, у которого координаты (x, y) это координаты, соответствующие определенному квантилю у теоретического и наблюдаемого/тестируемого распределений.\n",
        "\n",
        "Подробнее [тут](https://en.wikipedia.org/wiki/Q%E2%80%93Q_plot)"
      ]
    },
    {
      "cell_type": "code",
      "metadata": {
        "id": "dz-WCAE2UPM2"
      },
      "source": [
        "sample_1 = sts.norm.rvs(loc = 1, scale = 2, size = 1000)\n",
        "sample_2 = sts.t.rvs(loc = 1, scale = 2, df = 3, size = 1000)"
      ],
      "execution_count": null,
      "outputs": []
    },
    {
      "cell_type": "markdown",
      "metadata": {
        "id": "4eZq2pSFLY3n"
      },
      "source": [
        "График можно создать с помощью метода `.probplot()`."
      ]
    },
    {
      "cell_type": "code",
      "metadata": {
        "colab": {
          "base_uri": "https://localhost:8080/",
          "height": 494
        },
        "id": "PrzIt0mbXKav",
        "outputId": "151686f5-064e-49b2-964c-142b9d2e86ae"
      },
      "source": [
        "plt.figure(figsize = (10, 7))\n",
        "res = sts.probplot(sample_1, plot = plt)\n",
        "plt.tick_params(labelsize = 20)\n",
        "plt.xlabel('Theoretical quantiles', fontsize = 25)\n",
        "plt.ylabel('Observed values', fontsize = 25)\n",
        "plt.title('QQ Plot', fontsize = 30)\n",
        "plt.grid()\n",
        "plt.show()"
      ],
      "execution_count": null,
      "outputs": [
        {
          "output_type": "display_data",
          "data": {
            "image/png": "[encoded data removed]",
            "text/plain": [
              "<Figure size 720x504 with 1 Axes>"
            ]
          },
          "metadata": {
            "tags": [],
            "needs_background": "light"
          }
        }
      ]
    },
    {
      "cell_type": "markdown",
      "metadata": {
        "id": "T7rUdG07L2BG"
      },
      "source": [
        "Для распределения Стьюдента видно, что крайние квантили далеки от нормального распределения, что довольно логично и ожидаемо"
      ]
    },
    {
      "cell_type": "code",
      "metadata": {
        "colab": {
          "base_uri": "https://localhost:8080/",
          "height": 494
        },
        "id": "pNl2zDB0VdyJ",
        "outputId": "1d83c05f-7deb-44f1-efb1-148f2fd88c28"
      },
      "source": [
        "plt.figure(figsize = (10, 7))\n",
        "res = sts.probplot(sample_2, plot = plt)\n",
        "plt.tick_params(labelsize = 20)\n",
        "plt.xlabel('Theoretical quantiles', fontsize = 25)\n",
        "plt.ylabel('Observed values', fontsize = 25)\n",
        "plt.title('QQ Plot', fontsize = 30)\n",
        "plt.grid()\n",
        "plt.show()"
      ],
      "execution_count": null,
      "outputs": [
        {
          "output_type": "display_data",
          "data": {
            "image/png": "[encoded data removed]",
            "text/plain": [
              "<Figure size 720x504 with 1 Axes>"
            ]
          },
          "metadata": {
            "tags": [],
            "needs_background": "light"
          }
        }
      ]
    },
    {
      "cell_type": "markdown",
      "metadata": {
        "id": "w-PEN0VUL9zn"
      },
      "source": [
        "Также в библиотеке реализованы различные статистические тесты\n",
        "\n",
        "Есть тесты на нормальность, есть тесты для средних и т.д. (подробнее в документации модуля **stats** бибилотеки **SciPy** [здесь](https://docs.scipy.org/doc/scipy/reference/stats.html))"
      ]
    },
    {
      "cell_type": "markdown",
      "metadata": {
        "id": "YVwbI9PTTM1q"
      },
      "source": [
        "**[Shapiro-Wilk test](https://en.wikipedia.org/wiki/Shapiro%E2%80%93Wilk_test)** (normality test)\n",
        "\n",
        "**H0**: the sample has a Gaussian distribution.\n",
        "\n",
        "**H1**: the sample does not have a Gaussian distribution."
      ]
    },
    {
      "cell_type": "code",
      "metadata": {
        "colab": {
          "base_uri": "https://localhost:8080/"
        },
        "id": "fVKENsIgRxTe",
        "outputId": "6ef731b5-c02c-4b51-94fd-514e10a891e8"
      },
      "source": [
        "from scipy.stats import shapiro\n",
        "\n",
        "test_statistics, p_value = shapiro(sample_2)\n",
        "\n",
        "print(f'Test statistics is {test_statistics:.4f}, and it is {p_value < 0.05} that we can reject the null hypothesis')"
      ],
      "execution_count": null,
      "outputs": [
        {
          "output_type": "stream",
          "text": [
            "Test statistics is 0.8726, and it is True that we can reject the null hypothesis\n"
          ],
          "name": "stdout"
        }
      ]
    },
    {
      "cell_type": "code",
      "metadata": {
        "colab": {
          "base_uri": "https://localhost:8080/"
        },
        "id": "xm7bvi5ODPvq",
        "outputId": "cea1c627-bb59-4a86-99ea-eda38dcd281a"
      },
      "source": [
        "p_value"
      ],
      "execution_count": null,
      "outputs": [
        {
          "output_type": "execute_result",
          "data": {
            "text/plain": [
              "8.73821667677202e-28"
            ]
          },
          "metadata": {
            "tags": []
          },
          "execution_count": 532
        }
      ]
    },
    {
      "cell_type": "markdown",
      "metadata": {
        "id": "IeJxjYqAUccK"
      },
      "source": [
        "**[Anderson-Darling test](https://en.wikipedia.org/wiki/Anderson%E2%80%93Darling_test)** (normality test)\n",
        "\n",
        "**H0**: the sample has a Gaussian distribution.\n",
        "\n",
        "**H1**: the sample does not have a Gaussian distribution."
      ]
    },
    {
      "cell_type": "code",
      "metadata": {
        "colab": {
          "base_uri": "https://localhost:8080/"
        },
        "id": "NGwnx26XULak",
        "outputId": "3dc34144-ab93-4c6b-b8ad-40bfa293b5f7"
      },
      "source": [
        "from scipy.stats import anderson\n",
        "\n",
        "result = anderson(sample_2)\n",
        "\n",
        "result"
      ],
      "execution_count": null,
      "outputs": [
        {
          "output_type": "execute_result",
          "data": {
            "text/plain": [
              "AndersonResult(statistic=22.811930101407143, critical_values=array([0.574, 0.653, 0.784, 0.914, 1.088]), significance_level=array([15. , 10. ,  5. ,  2.5,  1. ]))"
            ]
          },
          "metadata": {
            "tags": []
          },
          "execution_count": 533
        }
      ]
    },
    {
      "cell_type": "markdown",
      "metadata": {
        "id": "tN9T-3GlY1SM"
      },
      "source": [
        "**Correlation significance test** \n",
        "\n",
        "**H0**: $\\rho = 0 $\n",
        "\n",
        "**H1**: $ \\rho \\neq 0$\n",
        "\n",
        "\\begin{equation} t = \\rho \\times \\frac{\\sqrt{n-2}}{\\sqrt{1-\\rho^2}} \\end{equation}"
      ]
    },
    {
      "cell_type": "code",
      "metadata": {
        "colab": {
          "base_uri": "https://localhost:8080/"
        },
        "id": "MWXxQZqGXeE-",
        "outputId": "a750d458-9f16-4723-a8a6-bdc45f9ea5cc"
      },
      "source": [
        "from scipy.stats import pearsonr\n",
        "\n",
        "sample_1 = sts.norm.rvs(loc = 2, scale = 3, size = 10000)\n",
        "sample_2 = sample_1 * 0.3 + sts.norm.rvs(loc = 0, scale = 0.25, size = 10000)\n",
        "\n",
        "pearsonr(sample_1, sample_2)"
      ],
      "execution_count": null,
      "outputs": [
        {
          "output_type": "execute_result",
          "data": {
            "text/plain": [
              "(0.9634955154211478, 0.0)"
            ]
          },
          "metadata": {
            "tags": []
          },
          "execution_count": 535
        }
      ]
    },
    {
      "cell_type": "code",
      "metadata": {
        "colab": {
          "base_uri": "https://localhost:8080/"
        },
        "id": "719-FjcTZYRO",
        "outputId": "5e0d63a7-9280-4e51-e3d8-d01526a50fdd"
      },
      "source": [
        "sample_1 = sts.norm.rvs(loc = 2, scale = 3, size = 10000)\n",
        "sample_2 = sts.norm.rvs(loc = 0, scale = 1, size = 10000)\n",
        "\n",
        "pearsonr(sample_1, sample_2)"
      ],
      "execution_count": null,
      "outputs": [
        {
          "output_type": "execute_result",
          "data": {
            "text/plain": [
              "(0.010389007943987002, 0.29889824737569465)"
            ]
          },
          "metadata": {
            "tags": []
          },
          "execution_count": 536
        }
      ]
    },
    {
      "cell_type": "markdown",
      "metadata": {
        "id": "W5uDbNV6dLcQ"
      },
      "source": [
        "**[Chi-squared contingency test](https://en.wikipedia.org/wiki/Chi-squared_test)**\n",
        "\n",
        "**H0**: the two samples are independent\n",
        "\n",
        "**H1**: there is a dependency between the samples\n"
      ]
    },
    {
      "cell_type": "code",
      "metadata": {
        "colab": {
          "base_uri": "https://localhost:8080/"
        },
        "id": "jI8fSzi8aMb7",
        "outputId": "5fd5f85f-f685-4306-b9c4-b9f6498a09a1"
      },
      "source": [
        "from scipy.stats import chi2_contingency\n",
        "\n",
        "df = [[50, 40, 70], [3,  8,  20]]\n",
        "\n",
        "chi2_contingency(df)"
      ],
      "execution_count": null,
      "outputs": [
        {
          "output_type": "execute_result",
          "data": {
            "text/plain": [
              "(6.738507641847567,\n",
              " 0.034415307747465186,\n",
              " 2,\n",
              " array([[44.39790576, 40.20942408, 75.39267016],\n",
              "        [ 8.60209424,  7.79057592, 14.60732984]]))"
            ]
          },
          "metadata": {
            "tags": []
          },
          "execution_count": 539
        }
      ]
    },
    {
      "cell_type": "code",
      "metadata": {
        "id": "J-qMaIwNEchk"
      },
      "source": [
        "chi2_contingency?"
      ],
      "execution_count": null,
      "outputs": []
    },
    {
      "cell_type": "markdown",
      "metadata": {
        "id": "VXhLmnMjdef7"
      },
      "source": [
        "**[Dickey-Fuller test, Unit Root test](https://en.wikipedia.org/wiki/Augmented_Dickey%E2%80%93Fuller_test)**\n",
        "\n",
        "**H0**: a unit root is present (time series is non-stationary)\n",
        "\n",
        "**H1**: a unit root is not present (time series is stationary)"
      ]
    },
    {
      "cell_type": "code",
      "metadata": {
        "colab": {
          "base_uri": "https://localhost:8080/"
        },
        "id": "HlVPeUX8bv9W",
        "outputId": "b4799d2c-fecb-4b13-a2b8-5fbb808d1447"
      },
      "source": [
        "from statsmodels.tsa.stattools import adfuller\n",
        "\n",
        "point = sts.norm.rvs(loc = 1, scale = 3, size = 1)\n",
        "series = np.zeros(1000)\n",
        "series[0] = point\n",
        "for i in range(1, 1000):\n",
        "  series[i] = 0.1 + 0.8 * series[i - 1] + sts.norm.rvs(loc = 0, scale = 0.25, size = 1)\n",
        "\n",
        "adfuller(series)"
      ],
      "execution_count": null,
      "outputs": [
        {
          "output_type": "execute_result",
          "data": {
            "text/plain": [
              "(-9.973996343704496,\n",
              " 2.2021731720556868e-17,\n",
              " 1,\n",
              " 998,\n",
              " {'1%': -3.4369193380671, '10%': -2.56831430323573, '5%': -2.864440383452517},\n",
              " 99.75208832061412)"
            ]
          },
          "metadata": {
            "tags": []
          },
          "execution_count": 540
        }
      ]
    },
    {
      "cell_type": "code",
      "metadata": {
        "id": "1jNSRqmVE6YR"
      },
      "source": [
        "?adfuller"
      ],
      "execution_count": null,
      "outputs": []
    },
    {
      "cell_type": "markdown",
      "metadata": {
        "id": "pRHC0D93fk-k"
      },
      "source": [
        "**Student's one sample t-test**\n",
        "\n",
        "**H0**: $\\mu = \\mu_0$\n",
        "\n",
        "**H1**: $\\mu \\neq \\mu_0$"
      ]
    },
    {
      "cell_type": "code",
      "metadata": {
        "colab": {
          "base_uri": "https://localhost:8080/"
        },
        "id": "EFEOZIykflFA",
        "outputId": "afccab6d-6fc3-4892-da48-c2e6dae98bcd"
      },
      "source": [
        "sample_1 = sts.norm.rvs(loc = 3, scale = 5, size = 1000)\n",
        "\n",
        "from scipy.stats import ttest_1samp\n",
        "\n",
        "ttest_1samp(sample_1, 3)"
      ],
      "execution_count": null,
      "outputs": [
        {
          "output_type": "execute_result",
          "data": {
            "text/plain": [
              "Ttest_1sampResult(statistic=-0.42901921570516677, pvalue=0.668001738890392)"
            ]
          },
          "metadata": {
            "tags": []
          },
          "execution_count": 546
        }
      ]
    },
    {
      "cell_type": "markdown",
      "metadata": {
        "id": "g-yu6kG_dv9N"
      },
      "source": [
        "**Student's t-test for two means**\n",
        "\n",
        "**H0**: $\\mu_1 = \\mu_2$\n",
        "\n",
        "**H1**: $\\mu_1 \\neq \\mu_2$"
      ]
    },
    {
      "cell_type": "code",
      "metadata": {
        "colab": {
          "base_uri": "https://localhost:8080/"
        },
        "id": "XwZ7erKXdrDR",
        "outputId": "d97977a8-36b6-4e4d-ac57-5dda04c4744b"
      },
      "source": [
        "sample_1 = sts.norm.rvs(loc = 2, scale = 3, size = 100)\n",
        "sample_2 = sts.norm.rvs(loc = 2, scale = 3, size = 100)\n",
        "\n",
        "from scipy.stats import ttest_ind\n",
        "\n",
        "t_stat, p_value = ttest_ind(sample_1, sample_2)\n",
        "t_stat, p_value"
      ],
      "execution_count": null,
      "outputs": [
        {
          "output_type": "execute_result",
          "data": {
            "text/plain": [
              "(-0.8777416170238221, 0.38114776699043507)"
            ]
          },
          "metadata": {
            "tags": []
          },
          "execution_count": 551
        }
      ]
    },
    {
      "cell_type": "markdown",
      "metadata": {
        "id": "3hJxHORufFlQ"
      },
      "source": [
        "**Student's t-test for two paired samples**\n",
        "\n",
        "**H0**: $\\mu_d = 0$\n",
        "\n",
        "**H1**: $\\mu_d \\neq 0$"
      ]
    },
    {
      "cell_type": "code",
      "metadata": {
        "colab": {
          "base_uri": "https://localhost:8080/"
        },
        "id": "caPQyhHJefBJ",
        "outputId": "819f5167-7530-4656-bad9-fabb0a2285cc"
      },
      "source": [
        "from scipy.stats import ttest_rel\n",
        "\n",
        "t_stat, p_value = ttest_rel(sample_1, sample_1 * 2)\n",
        "t_stat, p_value"
      ],
      "execution_count": null,
      "outputs": [
        {
          "output_type": "execute_result",
          "data": {
            "text/plain": [
              "(-6.477465656927566, 3.635881580658586e-09)"
            ]
          },
          "metadata": {
            "tags": []
          },
          "execution_count": 556
        }
      ]
    },
    {
      "cell_type": "markdown",
      "metadata": {
        "id": "AHofcrwqgNcX"
      },
      "source": [
        "## Оптимизация"
      ]
    },
    {
      "cell_type": "markdown",
      "metadata": {
        "id": "Mn46x3WFM8D9"
      },
      "source": [
        "Также в **SciPy** реализован модуль **optimize** для оптимизации функций (доступна как условная, так и безусловная оптимизация). [Подробнее](https://docs.scipy.org/doc/scipy/reference/optimize.html)"
      ]
    },
    {
      "cell_type": "markdown",
      "metadata": {
        "id": "Ej5LY4g5NZGJ"
      },
      "source": [
        "Мы будем пользоваться методом `minimize` из этого модуля"
      ]
    },
    {
      "cell_type": "code",
      "metadata": {
        "id": "CvWXklWSgOw7"
      },
      "source": [
        "from scipy.optimize import minimize"
      ],
      "execution_count": null,
      "outputs": []
    },
    {
      "cell_type": "markdown",
      "metadata": {
        "id": "Wpb_WbcpNeI0"
      },
      "source": [
        "Напишем простенькую квадратичную функцию одной переменной"
      ]
    },
    {
      "cell_type": "code",
      "metadata": {
        "id": "7XDmw5y8hecS"
      },
      "source": [
        "def function_1(x):\n",
        "  return 3 * x ** 2 - 2 * x + 4"
      ],
      "execution_count": null,
      "outputs": []
    },
    {
      "cell_type": "markdown",
      "metadata": {
        "id": "GGz3X1ILNijb"
      },
      "source": [
        "Отобразим ее"
      ]
    },
    {
      "cell_type": "code",
      "metadata": {
        "colab": {
          "base_uri": "https://localhost:8080/",
          "height": 329
        },
        "id": "wtPOQLxPh-BZ",
        "outputId": "f0122df3-5d76-4c82-b01c-f0bc9cafc21d"
      },
      "source": [
        "x = np.linspace(-10, 10, num = 1000)\n",
        "y = function_1(x)\n",
        "\n",
        "plt.figure(figsize = (8, 5))\n",
        "plt.plot(x, y)\n",
        "plt.tick_params(labelsize = 20)\n",
        "plt.grid()\n",
        "plt.show()"
      ],
      "execution_count": null,
      "outputs": [
        {
          "output_type": "display_data",
          "data": {
            "image/png": "[encoded data removed]",
            "text/plain": [
              "<Figure size 576x360 with 1 Axes>"
            ]
          },
          "metadata": {
            "tags": [],
            "needs_background": "light"
          }
        }
      ]
    },
    {
      "cell_type": "markdown",
      "metadata": {
        "id": "yD87-Q1pNj_5"
      },
      "source": [
        "Найдем минимум функции (напоминание - если требуется максимизировать функцию, то нужно минимизировать отрицательную функцию). Для этого в метод `minimize` передадим нашу функцию и изначальные значения для парамтера, по которому проводим оптимизацию, `x0`"
      ]
    },
    {
      "cell_type": "code",
      "metadata": {
        "colab": {
          "base_uri": "https://localhost:8080/"
        },
        "id": "kR_aSoiuiPck",
        "outputId": "a8fc40a4-729b-4915-8312-5e8356707e09"
      },
      "source": [
        "res = minimize(function_1, x0 = 5)\n",
        "res"
      ],
      "execution_count": null,
      "outputs": [
        {
          "output_type": "execute_result",
          "data": {
            "text/plain": [
              "      fun: 3.666666666666677\n",
              " hess_inv: array([[0.16666666]])\n",
              "      jac: array([3.87430191e-07])\n",
              "  message: 'Optimization terminated successfully.'\n",
              "     nfev: 12\n",
              "      nit: 3\n",
              "     njev: 4\n",
              "   status: 0\n",
              "  success: True\n",
              "        x: array([0.33333339])"
            ]
          },
          "metadata": {
            "tags": []
          },
          "execution_count": 560
        }
      ]
    },
    {
      "cell_type": "code",
      "metadata": {
        "colab": {
          "base_uri": "https://localhost:8080/"
        },
        "id": "CGq7VHSsikPf",
        "outputId": "a6ff6c69-c004-4ad2-8513-880f65c989d9"
      },
      "source": [
        "function_1(0), function_1(0.3333339)"
      ],
      "execution_count": null,
      "outputs": [
        {
          "output_type": "execute_result",
          "data": {
            "text/plain": [
              "(4, 3.6666666666676297)"
            ]
          },
          "metadata": {
            "tags": []
          },
          "execution_count": 562
        }
      ]
    },
    {
      "cell_type": "markdown",
      "metadata": {
        "id": "cibQLqMLN7YZ"
      },
      "source": [
        "Также можно оптимизировать и функции, которые используют данные. Давайте оценим коэффициенты линейной однофакторной регрессии с помощью метода максимальнго правдоподобия.\n",
        "\n",
        "Т.к. оптимизировать проще логарифм функции правдоподобия, то сразу приведу его:\n",
        "\n",
        "\\begin{equation} LL = -\\frac{n}{2} \\log{2\\pi} - n \\log{\\sigma} - \\frac{1}{2\\sigma^2} \\sum_{i=1}^{n} (y_i - (\\alpha + \\beta x_i)^2)\\end{equation}"
      ]
    },
    {
      "cell_type": "markdown",
      "metadata": {
        "id": "nO8ezvIxOr4L"
      },
      "source": [
        "Т.к. мы максимизируем логарифмическую функци правдоподобия, то минимизировать надо отрицательную функцию правдоподобия."
      ]
    },
    {
      "cell_type": "code",
      "metadata": {
        "id": "aPE7O_myiwDp"
      },
      "source": [
        "def norm_reg_loglik(coefs, y, x):\n",
        "\n",
        "  alpha = coefs[0]\n",
        "  beta = coefs[1]\n",
        "  S = coefs[2]\n",
        "\n",
        "  n = len(y)\n",
        "\n",
        "  no_data_factor = -n / 2 * np.log(2 * np.pi) - n * np.log(S)\n",
        "  data_factor = -1 / (2 * S ** 2) * sum((y - alpha - beta * x) ** 2)\n",
        "\n",
        "  neg_loglik = -1 * (no_data_factor + data_factor) \n",
        "  return neg_loglik"
      ],
      "execution_count": null,
      "outputs": []
    },
    {
      "cell_type": "markdown",
      "metadata": {
        "id": "k-JhACr3OyZH"
      },
      "source": [
        "Создадим данные"
      ]
    },
    {
      "cell_type": "code",
      "metadata": {
        "colab": {
          "base_uri": "https://localhost:8080/",
          "height": 437
        },
        "id": "i8iX26ZUks-A",
        "outputId": "d43b1f46-036f-40ec-b76d-8bb1abc79d25"
      },
      "source": [
        "x = sts.norm.rvs(scale = 1, loc = 3, size = 1000)\n",
        "alpha, beta = 0.3, 0.5\n",
        "\n",
        "y = alpha + beta * x + sts.norm.rvs(scale = 0.5, loc = 0, size = 1000)\n",
        "\n",
        "plt.figure(figsize = (10, 7))\n",
        "plt.scatter(x, y)\n",
        "plt.grid()\n",
        "plt.tick_params(labelsize = 20)\n",
        "plt.ylabel(r'$y=\\alpha + \\beta x +\\epsilon $', fontsize = 25)\n",
        "plt.show()"
      ],
      "execution_count": null,
      "outputs": [
        {
          "output_type": "display_data",
          "data": {
            "image/png": "[encoded data removed]",
            "text/plain": [
              "<Figure size 720x504 with 1 Axes>"
            ]
          },
          "metadata": {
            "tags": [],
            "needs_background": "light"
          }
        }
      ]
    },
    {
      "cell_type": "markdown",
      "metadata": {
        "id": "OifdJzEqO0bF"
      },
      "source": [
        "Проведем оптимизацию, в качестве метода будем использовать **slsqp**. Также доступну другие методы - за ними в документацию."
      ]
    },
    {
      "cell_type": "code",
      "metadata": {
        "colab": {
          "base_uri": "https://localhost:8080/"
        },
        "id": "48rZMPzCl9IX",
        "outputId": "0407627e-d904-42e4-93f3-03036f029fd9"
      },
      "source": [
        "res_reg = minimize(norm_reg_loglik, [0.1, 0.1, 0.2], args = (y, x, ), method = 'slsqp')\n",
        "res_reg"
      ],
      "execution_count": null,
      "outputs": [
        {
          "output_type": "execute_result",
          "data": {
            "text/plain": [
              "     fun: 699.1415354138613\n",
              "     jac: array([0.0300827 , 0.08968353, 0.01117706])\n",
              " message: 'Optimization terminated successfully.'\n",
              "    nfev: 299\n",
              "     nit: 50\n",
              "    njev: 50\n",
              "  status: 0\n",
              " success: True\n",
              "       x: array([0.32574601, 0.49436631, 0.48685239])"
            ]
          },
          "metadata": {
            "tags": []
          },
          "execution_count": 565
        }
      ]
    },
    {
      "cell_type": "markdown",
      "metadata": {
        "id": "VxV7mL36O9mg"
      },
      "source": [
        "Посмотрим на качество подгонки"
      ]
    },
    {
      "cell_type": "code",
      "metadata": {
        "id": "5H2-10fgmhlS"
      },
      "source": [
        "alpha_hat, beta_hat = res_reg['x'][0], res_reg['x'][1]\n",
        "\n",
        "y_hat = alpha_hat + beta_hat * x"
      ],
      "execution_count": null,
      "outputs": []
    },
    {
      "cell_type": "code",
      "metadata": {
        "colab": {
          "base_uri": "https://localhost:8080/",
          "height": 437
        },
        "id": "qw1_WHammuHn",
        "outputId": "c83d4bdb-0769-44fa-fc17-b73f4683e134"
      },
      "source": [
        "plt.figure(figsize = (10, 7))\n",
        "plt.scatter(x, y, label = 'Empirical Dependence')\n",
        "plt.plot(x, y_hat, label = 'Regression Line', color = 'r')\n",
        "plt.legend(fontsize = 22)\n",
        "plt.grid()\n",
        "plt.tick_params(labelsize = 20)\n",
        "plt.ylabel(r'$y=\\alpha + \\beta x +\\epsilon $', fontsize = 25)\n",
        "plt.show()"
      ],
      "execution_count": null,
      "outputs": [
        {
          "output_type": "display_data",
          "data": {
            "image/png": "[encoded data removed]",
            "text/plain": [
              "<Figure size 720x504 with 1 Axes>"
            ]
          },
          "metadata": {
            "tags": [],
            "needs_background": "light"
          }
        }
      ]
    },
    {
      "cell_type": "markdown",
      "metadata": {
        "id": "GLgh9qzvPATC"
      },
      "source": [
        "Теперь давайте попрактикуемся с оптимизацией с ограничениями\n",
        "\n",
        "Допустим, у нас есть следующая функция полезности, которые ограничена бюджетом. Также мы не можем продавать товары."
      ]
    },
    {
      "cell_type": "markdown",
      "metadata": {
        "id": "vSMU0NpenBNr"
      },
      "source": [
        "\\begin{equation} U(x_1, x_2) = s_1 \\times x_1 + s_{21} \\times x_2 + s_{22} \\times x_2^2  \\end{equation}\n",
        "\n",
        "\\begin{equation} x_1 \\times p_1 + x_2 \\times p_2 \\leq M \\end{equation}\n",
        "\n",
        "\\begin{equation} x_1 \\geq 0 \\end{equation}\n",
        "\\begin{equation} x_2 \\geq 0 \\end{equation}"
      ]
    },
    {
      "cell_type": "markdown",
      "metadata": {
        "id": "Qn_ORw_pPUda"
      },
      "source": [
        "Определим в коде функцию полезности"
      ]
    },
    {
      "cell_type": "code",
      "metadata": {
        "id": "3KlzFZ9WnBY8"
      },
      "source": [
        "def utility_function(quantities, sensitivities):\n",
        "\n",
        "  q1, q2 = quantities[0], quantities[1]\n",
        "  s1, s21, s22 = sensitivities[0], sensitivities[1], sensitivities[2]\n",
        "\n",
        "  return -1 * (s1 * q1 + s21 * q2 + s22 * (q2 ** 2))"
      ],
      "execution_count": null,
      "outputs": []
    },
    {
      "cell_type": "markdown",
      "metadata": {
        "id": "CDDHbbRkPWlh"
      },
      "source": [
        "Определим бюджетное ограничение"
      ]
    },
    {
      "cell_type": "code",
      "metadata": {
        "id": "ORN6-hAUoMic"
      },
      "source": [
        "def budget_constraint(quantities):\n",
        "\n",
        "  q1, q2 = quantities[0], quantities[1]\n",
        "\n",
        "  return -1 * (q1 * 5 + q2 * 10 - 100)"
      ],
      "execution_count": null,
      "outputs": []
    },
    {
      "cell_type": "markdown",
      "metadata": {
        "id": "elK-Lcp4Pb1n"
      },
      "source": [
        "В массив cons передадим ограничения. Каждое ограничение представляет из себя словарь с ключами типа и функции. Тип может быть `eq` (equality) и `ineq` (inequality)\n",
        "\n",
        "Ограничения по самим переменным можно задать массивом bnds, в которых передать границы. Если какой-либо из границ нет - то передается `None`"
      ]
    },
    {
      "cell_type": "code",
      "metadata": {
        "id": "azs4Rxj4nlG4"
      },
      "source": [
        "sensitivities = [1.5, 2.5, -1.25]\n",
        "\n",
        "cons = ({'type': 'ineq', 'fun': budget_constraint})\n",
        "\n",
        "bnds = ((0, None), (0, None))"
      ],
      "execution_count": null,
      "outputs": []
    },
    {
      "cell_type": "code",
      "metadata": {
        "colab": {
          "base_uri": "https://localhost:8080/"
        },
        "id": "TdvDOZLPsoq0",
        "outputId": "fa695faa-d63c-42ac-971b-22459dfd0258"
      },
      "source": [
        "res_util = minimize(utility_function, x0 = [1, 1], args = (sensitivities, ), constraints = cons, method = 'slsqp')\n",
        "res_util"
      ],
      "execution_count": null,
      "outputs": [
        {
          "output_type": "execute_result",
          "data": {
            "text/plain": [
              "     fun: -30.049999999997368\n",
              "     jac: array([-1.5, -3. ])\n",
              " message: 'Optimization terminated successfully.'\n",
              "    nfev: 24\n",
              "     nit: 6\n",
              "    njev: 6\n",
              "  status: 0\n",
              " success: True\n",
              "       x: array([20.39999994, -0.19999997])"
            ]
          },
          "metadata": {
            "tags": []
          },
          "execution_count": 737
        }
      ]
    },
    {
      "cell_type": "markdown",
      "metadata": {
        "id": "35lHUhZzP7Dw"
      },
      "source": [
        "Видим, что оптимальное число второго товара отрицательно. Давайте добавим ограничения по переменным в `bounds`"
      ]
    },
    {
      "cell_type": "code",
      "metadata": {
        "colab": {
          "base_uri": "https://localhost:8080/"
        },
        "id": "06X5jAZoo2H1",
        "outputId": "fe3a4187-1460-4597-e5c1-20b9d899d4cb"
      },
      "source": [
        "res_util = minimize(utility_function, x0 = [1, 1], args = (sensitivities, ), constraints = cons, method = 'slsqp', bounds = bnds)\n",
        "res_util"
      ],
      "execution_count": null,
      "outputs": [
        {
          "output_type": "execute_result",
          "data": {
            "text/plain": [
              "     fun: -29.999999999999968\n",
              "     jac: array([-1.5, -2.5])\n",
              " message: 'Optimization terminated successfully.'\n",
              "    nfev: 16\n",
              "     nit: 4\n",
              "    njev: 4\n",
              "  status: 0\n",
              " success: True\n",
              "       x: array([20.,  0.])"
            ]
          },
          "metadata": {
            "tags": []
          },
          "execution_count": 738
        }
      ]
    },
    {
      "cell_type": "markdown",
      "metadata": {
        "id": "c3M3LfIzs6-F"
      },
      "source": [
        "## Получение данных с помощью Pandas из Yahoo и прочих ресурсов"
      ]
    },
    {
      "cell_type": "markdown",
      "metadata": {
        "id": "XVqRPd29QHPb"
      },
      "source": [
        "С помощью библиотеки **pandas_datareader** можно подгружать различные данные (финансовые и экономические, как правило)\n",
        "\n",
        "Подробнее - [здесь](https://pandas-datareader.readthedocs.io/en/latest/remote_data.html#remote-data-wb)"
      ]
    },
    {
      "cell_type": "code",
      "metadata": {
        "id": "8l_ILUo_vlJP"
      },
      "source": [
        "import pandas_datareader as pdr\n",
        "from datetime import datetime as dt"
      ],
      "execution_count": null,
      "outputs": []
    },
    {
      "cell_type": "code",
      "metadata": {
        "id": "0lfma-oMwXkp"
      },
      "source": [
        "start = dt(2018, 1, 1)\n",
        "end = dt(2020, 12, 31)"
      ],
      "execution_count": null,
      "outputs": []
    },
    {
      "cell_type": "code",
      "metadata": {
        "id": "NPeEchoivmBt"
      },
      "source": [
        "result = pdr.get_data_yahoo('TSLA', start = start, end = end)"
      ],
      "execution_count": null,
      "outputs": []
    },
    {
      "cell_type": "code",
      "metadata": {
        "colab": {
          "base_uri": "https://localhost:8080/",
          "height": 450
        },
        "id": "iWWY7FDQwqjG",
        "outputId": "772bce53-9ff5-4671-8492-9608dfda5a3b"
      },
      "source": [
        "result"
      ],
      "execution_count": null,
      "outputs": [
        {
          "output_type": "execute_result",
          "data": {
            "text/html": [
              "<div>\n",
              "<style scoped>\n",
              "    .dataframe tbody tr th:only-of-type {\n",
              "        vertical-align: middle;\n",
              "    }\n",
              "\n",
              "    .dataframe tbody tr th {\n",
              "        vertical-align: top;\n",
              "    }\n",
              "\n",
              "    .dataframe thead th {\n",
              "        text-align: right;\n",
              "    }\n",
              "</style>\n",
              "<table border=\"1\" class=\"dataframe\">\n",
              "  <thead>\n",
              "    <tr style=\"text-align: right;\">\n",
              "      <th></th>\n",
              "      <th>High</th>\n",
              "      <th>Low</th>\n",
              "      <th>Open</th>\n",
              "      <th>Close</th>\n",
              "      <th>Volume</th>\n",
              "      <th>Adj Close</th>\n",
              "    </tr>\n",
              "    <tr>\n",
              "      <th>Date</th>\n",
              "      <th></th>\n",
              "      <th></th>\n",
              "      <th></th>\n",
              "      <th></th>\n",
              "      <th></th>\n",
              "      <th></th>\n",
              "    </tr>\n",
              "  </thead>\n",
              "  <tbody>\n",
              "    <tr>\n",
              "      <th>2018-01-02</th>\n",
              "      <td>64.421997</td>\n",
              "      <td>62.200001</td>\n",
              "      <td>62.400002</td>\n",
              "      <td>64.106003</td>\n",
              "      <td>21761000.0</td>\n",
              "      <td>64.106003</td>\n",
              "    </tr>\n",
              "    <tr>\n",
              "      <th>2018-01-03</th>\n",
              "      <td>65.050003</td>\n",
              "      <td>63.110001</td>\n",
              "      <td>64.199997</td>\n",
              "      <td>63.450001</td>\n",
              "      <td>22607500.0</td>\n",
              "      <td>63.450001</td>\n",
              "    </tr>\n",
              "    <tr>\n",
              "      <th>2018-01-04</th>\n",
              "      <td>63.709999</td>\n",
              "      <td>61.136002</td>\n",
              "      <td>62.574001</td>\n",
              "      <td>62.924000</td>\n",
              "      <td>49731500.0</td>\n",
              "      <td>62.924000</td>\n",
              "    </tr>\n",
              "    <tr>\n",
              "      <th>2018-01-05</th>\n",
              "      <td>63.448002</td>\n",
              "      <td>62.400002</td>\n",
              "      <td>63.324001</td>\n",
              "      <td>63.316002</td>\n",
              "      <td>22956000.0</td>\n",
              "      <td>63.316002</td>\n",
              "    </tr>\n",
              "    <tr>\n",
              "      <th>2018-01-08</th>\n",
              "      <td>67.403999</td>\n",
              "      <td>63.099998</td>\n",
              "      <td>63.200001</td>\n",
              "      <td>67.281998</td>\n",
              "      <td>49297000.0</td>\n",
              "      <td>67.281998</td>\n",
              "    </tr>\n",
              "    <tr>\n",
              "      <th>...</th>\n",
              "      <td>...</td>\n",
              "      <td>...</td>\n",
              "      <td>...</td>\n",
              "      <td>...</td>\n",
              "      <td>...</td>\n",
              "      <td>...</td>\n",
              "    </tr>\n",
              "    <tr>\n",
              "      <th>2020-12-24</th>\n",
              "      <td>666.090027</td>\n",
              "      <td>641.000000</td>\n",
              "      <td>642.989990</td>\n",
              "      <td>661.770020</td>\n",
              "      <td>22865600.0</td>\n",
              "      <td>661.770020</td>\n",
              "    </tr>\n",
              "    <tr>\n",
              "      <th>2020-12-28</th>\n",
              "      <td>681.400024</td>\n",
              "      <td>660.799988</td>\n",
              "      <td>674.510010</td>\n",
              "      <td>663.690002</td>\n",
              "      <td>32278600.0</td>\n",
              "      <td>663.690002</td>\n",
              "    </tr>\n",
              "    <tr>\n",
              "      <th>2020-12-29</th>\n",
              "      <td>669.900024</td>\n",
              "      <td>655.000000</td>\n",
              "      <td>661.000000</td>\n",
              "      <td>665.989990</td>\n",
              "      <td>22910800.0</td>\n",
              "      <td>665.989990</td>\n",
              "    </tr>\n",
              "    <tr>\n",
              "      <th>2020-12-30</th>\n",
              "      <td>696.599976</td>\n",
              "      <td>668.359985</td>\n",
              "      <td>672.000000</td>\n",
              "      <td>694.780029</td>\n",
              "      <td>42846000.0</td>\n",
              "      <td>694.780029</td>\n",
              "    </tr>\n",
              "    <tr>\n",
              "      <th>2020-12-31</th>\n",
              "      <td>718.719971</td>\n",
              "      <td>691.119995</td>\n",
              "      <td>699.989990</td>\n",
              "      <td>705.669983</td>\n",
              "      <td>49649900.0</td>\n",
              "      <td>705.669983</td>\n",
              "    </tr>\n",
              "  </tbody>\n",
              "</table>\n",
              "<p>756 rows × 6 columns</p>\n",
              "</div>"
            ],
            "text/plain": [
              "                  High         Low  ...      Volume   Adj Close\n",
              "Date                                ...                        \n",
              "2018-01-02   64.421997   62.200001  ...  21761000.0   64.106003\n",
              "2018-01-03   65.050003   63.110001  ...  22607500.0   63.450001\n",
              "2018-01-04   63.709999   61.136002  ...  49731500.0   62.924000\n",
              "2018-01-05   63.448002   62.400002  ...  22956000.0   63.316002\n",
              "2018-01-08   67.403999   63.099998  ...  49297000.0   67.281998\n",
              "...                ...         ...  ...         ...         ...\n",
              "2020-12-24  666.090027  641.000000  ...  22865600.0  661.770020\n",
              "2020-12-28  681.400024  660.799988  ...  32278600.0  663.690002\n",
              "2020-12-29  669.900024  655.000000  ...  22910800.0  665.989990\n",
              "2020-12-30  696.599976  668.359985  ...  42846000.0  694.780029\n",
              "2020-12-31  718.719971  691.119995  ...  49649900.0  705.669983\n",
              "\n",
              "[756 rows x 6 columns]"
            ]
          },
          "metadata": {
            "tags": []
          },
          "execution_count": 741
        }
      ]
    },
    {
      "cell_type": "markdown",
      "metadata": {
        "id": "gR1H0LwPQcXy"
      },
      "source": [
        "Можно обращаться к различным источникам"
      ]
    },
    {
      "cell_type": "code",
      "metadata": {
        "id": "_tdSnSKBwsEH"
      },
      "source": [
        "import pandas_datareader.data as web"
      ],
      "execution_count": null,
      "outputs": []
    },
    {
      "cell_type": "code",
      "metadata": {
        "colab": {
          "base_uri": "https://localhost:8080/"
        },
        "id": "rqx9hnZ2w6IK",
        "outputId": "9efc0cac-e70c-4be7-ebf7-1383f2777631"
      },
      "source": [
        "result = web.DataReader(\"5_Industry_Portfolios\", \"famafrench\")\n",
        "result"
      ],
      "execution_count": null,
      "outputs": [
        {
          "output_type": "execute_result",
          "data": {
            "text/plain": [
              "{0:          Cnsmr  Manuf  HiTec  Hlth   Other\n",
              " Date                                      \n",
              " 2016-03   5.81   8.10   7.91   2.92   7.06\n",
              " 2016-04  -0.13   3.49  -3.06   3.56   2.30\n",
              " 2016-05   0.74  -0.19   4.09   2.47   0.91\n",
              " 2016-06   1.73   2.65  -0.90   0.14  -2.71\n",
              " 2016-07   2.46   1.21   6.65   6.01   3.56\n",
              " 2016-08  -1.00   0.37   0.78  -3.21   3.36\n",
              " 2016-09  -1.44   1.05   2.03   0.35  -1.25\n",
              " 2016-10  -2.52  -2.31  -1.46  -7.44   0.59\n",
              " 2016-11   1.53   5.29   1.65   1.38  11.27\n",
              " 2016-12   1.33   1.57   1.62   0.85   2.94\n",
              " 2017-01   1.37   0.68   4.43   2.21   1.02\n",
              " 2017-02   2.99   2.26   3.95   7.10   3.72\n",
              " 2017-03   0.78  -0.18   1.91  -0.15  -1.67\n",
              " 2017-04   1.81   0.31   2.23   1.09   0.26\n",
              " 2017-05   2.00   0.32   3.10  -0.43  -0.42\n",
              " 2017-06  -1.18   0.29  -2.14   5.56   4.18\n",
              " 2017-07  -0.10   2.30   4.07   0.53   1.44\n",
              " 2017-08  -1.55  -0.81   1.98   1.79  -0.40\n",
              " 2017-09   1.73   4.69   0.17   1.50   4.31\n",
              " 2017-10   1.66   2.20   4.62  -2.24   2.03\n",
              " 2017-11   5.90   3.14   1.47   2.36   3.73\n",
              " 2017-12   2.02   1.60   0.56  -0.23   1.43\n",
              " 2018-01   6.32   2.56   6.85   6.38   5.93\n",
              " 2018-02  -5.31  -5.95  -1.21  -3.90  -3.32\n",
              " 2018-03  -2.31   0.11  -3.18  -2.00  -2.67\n",
              " 2018-04   1.07   1.33  -0.48  -0.28   0.44\n",
              " 2018-05   0.59   2.41   5.76   2.43   1.21\n",
              " 2018-06   3.30   0.12   0.52   1.52  -1.00\n",
              " 2018-07   2.70   3.34   2.33   6.08   4.03\n",
              " 2018-08   4.71  -0.78   6.72   4.47   2.44\n",
              " 2018-09   0.32   1.61   0.00   1.99  -1.19\n",
              " 2018-10  -5.97  -8.81  -7.68  -8.84  -6.62\n",
              " 2018-11   2.06   2.43  -1.03   6.30   3.06\n",
              " 2018-12  -9.87  -9.10  -8.24  -8.41 -10.63\n",
              " 2019-01   8.10   9.04   9.00   5.01   9.20\n",
              " 2019-02   1.23   4.23   5.24   3.05   2.76\n",
              " 2019-03   2.84   0.73   3.27   0.62  -1.24\n",
              " 2019-04   4.12   2.44   6.07  -3.05   6.62\n",
              " 2019-05  -6.34  -8.31  -7.82  -3.46  -6.21\n",
              " 2019-06   6.89   7.36   7.49   7.26   6.75\n",
              " 2019-07   1.16  -0.40   3.39  -1.84   1.61\n",
              " 2019-08  -0.63  -2.26  -2.35  -0.37  -4.39\n",
              " 2019-09   1.24   3.91   0.98  -0.70   2.03\n",
              " 2019-10   0.90  -0.73   3.13   4.43   3.00\n",
              " 2019-11   2.23   1.68   4.62   5.37   4.94\n",
              " 2019-12   2.28   3.03   3.35   3.37   2.37\n",
              " 2020-01   0.86  -3.26   2.57  -1.78  -1.29\n",
              " 2020-02  -7.37 -10.20  -6.74  -5.64  -9.80\n",
              " 2020-03  -9.83 -19.23 -10.27  -5.33 -18.90\n",
              " 2020-04  15.70  12.67  14.53  13.09  10.42\n",
              " 2020-05   4.30   4.68   7.94   3.97   4.05\n",
              " 2020-06   3.81   0.26   5.08  -1.76   0.00\n",
              " 2020-07   9.35   3.37   6.71   4.44   3.62\n",
              " 2020-08  10.06   3.08  10.08   2.77   7.20\n",
              " 2020-09  -4.00  -2.26  -4.89  -1.51  -2.92\n",
              " 2020-10  -2.61  -0.03  -2.08  -4.29  -2.03\n",
              " 2020-11  11.43  12.93  11.35   9.63  15.69\n",
              " 2020-12   4.01   2.61   5.03   4.70   5.20\n",
              " 2021-01   0.74  -0.97   0.11   2.85  -2.82\n",
              " 2021-02  -1.91   5.86   2.04  -1.10   9.53,\n",
              " 1:          Cnsmr  Manuf  HiTec  Hlth   Other\n",
              " Date                                      \n",
              " 2016-03   6.96  13.24   6.59   7.57   7.37\n",
              " 2016-04   0.71   8.31   1.32   5.14   3.50\n",
              " 2016-05  -2.27  -1.86   3.29   1.32   1.03\n",
              " 2016-06   0.95   1.42   1.62  -4.43  -1.13\n",
              " 2016-07   6.37   4.40   6.77   6.15   5.16\n",
              " 2016-08   1.66   2.67   2.57   0.88   2.84\n",
              " 2016-09  -0.69   1.82   1.85   7.91   0.86\n",
              " 2016-10  -4.17  -4.56  -5.13 -13.66  -2.19\n",
              " 2016-11   8.12  11.84   5.03   5.28  12.92\n",
              " 2016-12   1.86   1.61   0.74  -2.62   5.42\n",
              " 2017-01  -2.41   2.06   3.50   4.84   0.88\n",
              " 2017-02  -0.14  -0.51   2.04   6.36   1.54\n",
              " 2017-03   0.75  -0.40   1.62   2.15  -0.59\n",
              " 2017-04   1.63  -0.86   2.31  -3.04   0.45\n",
              " 2017-05  -2.38  -2.55   1.45  -4.92  -2.69\n",
              " 2017-06   1.02   0.70   1.19  10.29   4.61\n",
              " 2017-07  -1.84   0.87   1.43  -2.72   0.24\n",
              " 2017-08  -3.52  -3.72  -0.81   1.35  -1.92\n",
              " 2017-09   6.41   8.77   5.68   8.33   6.84\n",
              " 2017-10  -1.96   0.62   1.74  -2.31   0.75\n",
              " 2017-11   6.46   3.08   1.95   2.50   3.39\n",
              " 2017-12   2.89   2.31   1.23   1.00  -0.19\n",
              " 2018-01   1.68   0.34   4.00   6.89   2.67\n",
              " 2018-02  -4.71  -6.59  -1.61  -3.55  -3.98\n",
              " 2018-03   0.47   1.69   0.17   0.23   1.21\n",
              " 2018-04   0.91   2.30  -0.01  -0.21   0.95\n",
              " 2018-05   3.87   5.07   5.52   7.52   3.49\n",
              " 2018-06   4.15   1.59   1.28  -2.47   0.56\n",
              " 2018-07   0.14   1.60  -0.13  -1.59   1.07\n",
              " 2018-08   4.32  -0.80   7.35   5.87   1.74\n",
              " 2018-09  -2.06  -0.36  -1.97  -1.16  -2.38\n",
              " 2018-10  -8.26 -11.66 -10.26 -14.42  -8.01\n",
              " 2018-11  -1.35  -2.20   0.51  -0.40   0.49\n",
              " 2018-12 -12.93 -14.06 -10.22 -18.40 -11.26\n",
              " 2019-01  12.22  14.30  15.42  17.84  13.16\n",
              " 2019-02   4.30   4.16   6.41   6.53   4.44\n",
              " 2019-03  -3.38  -1.85  -0.80   2.96  -2.99\n",
              " 2019-04   2.55   2.48   4.38  -2.33   4.17\n",
              " 2019-05 -10.57 -11.13  -7.94  -8.38  -6.04\n",
              " 2019-06   6.37   6.75   5.13   4.34   5.63\n",
              " 2019-07  -0.08  -2.90   0.81  -5.07   0.78\n",
              " 2019-08  -3.92  -8.68  -5.48  -4.74  -4.72\n",
              " 2019-09   5.39   5.60   0.35  -3.25   3.39\n",
              " 2019-10  -0.14  -1.99   0.19  -0.34   1.69\n",
              " 2019-11   3.32  -0.17   4.64   8.67   2.60\n",
              " 2019-12   2.35   7.39   3.35   9.72   3.22\n",
              " 2020-01  -4.05  -6.36   1.11   4.29  -3.02\n",
              " 2020-02  -9.34 -11.31  -7.13  -1.03  -8.69\n",
              " 2020-03 -24.06 -27.47 -18.76 -17.26 -25.23\n",
              " 2020-04  21.42  26.77  20.26  21.51  12.08\n",
              " 2020-05   8.78   4.13   9.91  13.85   4.57\n",
              " 2020-06   9.02   6.33   8.58   4.47   6.12\n",
              " 2020-07   6.18   3.53   9.77   3.67   0.51\n",
              " 2020-08   9.60   3.27   4.00   1.36   5.74\n",
              " 2020-09  -1.86  -4.29  -2.98  -1.09  -3.62\n",
              " 2020-10   2.48   1.02   0.30  -2.60   3.80\n",
              " 2020-11  22.08  23.53  22.29  18.48  18.75\n",
              " 2020-12   5.98   9.18  11.47  10.02   8.47\n",
              " 2021-01  18.37   9.34   9.69  19.15   4.73\n",
              " 2021-02   7.38  13.00   7.36   6.57  11.60,\n",
              " 2:       Cnsmr  Manuf  HiTec  Hlth   Other\n",
              " Date                                   \n",
              " 2016   5.52  20.33  13.81  -4.47  20.07\n",
              " 2017  18.66  17.98  29.49  20.43  21.24\n",
              " 2018  -3.62 -11.25  -1.00   4.21  -9.16\n",
              " 2019  25.95  21.45  41.54  20.74  29.76\n",
              " 2020  37.59   0.12  42.63  17.70   6.68,\n",
              " 3:       Cnsmr  Manuf  HiTec  Hlth   Other\n",
              " Date                                   \n",
              " 2016  16.43  32.64  17.18 -11.49  30.61\n",
              " 2017   6.49  10.29  25.84  25.10  13.71\n",
              " 2018 -14.32 -22.39  -6.79 -22.56 -13.68\n",
              " 2019  17.85  11.77  27.51  25.48  26.74\n",
              " 2020  44.04  17.86  65.78  62.85  12.78,\n",
              " 4:          Cnsmr  Manuf  HiTec  Hlth   Other\n",
              " Date                                      \n",
              " 2016-03    536    630    715    576   1074\n",
              " 2016-04    530    624    712    575   1072\n",
              " 2016-05    526    620    702    570   1063\n",
              " 2016-06    525    618    697    568   1058\n",
              " 2016-07    539    622    719    620   1109\n",
              " 2016-08    536    621    713    614   1099\n",
              " 2016-09    534    615    705    609   1090\n",
              " 2016-10    530    613    699    604   1087\n",
              " 2016-11    529    611    688    600   1084\n",
              " 2016-12    527    609    681    597   1075\n",
              " 2017-01    526    606    676    596   1073\n",
              " 2017-02    524    604    670    591   1068\n",
              " 2017-03    520    602    667    586   1063\n",
              " 2017-04    518    596    662    583   1056\n",
              " 2017-05    516    593    659    581   1047\n",
              " 2017-06    512    590    655    579   1037\n",
              " 2017-07    527    624    690    621   1106\n",
              " 2017-08    526    622    682    618   1104\n",
              " 2017-09    521    617    675    616   1099\n",
              " 2017-10    521    615    667    610   1087\n",
              " 2017-11    519    612    659    606   1077\n",
              " 2017-12    514    610    656    601   1067\n",
              " 2018-01    510    610    653    601   1062\n",
              " 2018-02    509    607    648    595   1057\n",
              " 2018-03    505    605    645    592   1054\n",
              " 2018-04    501    601    642    588   1047\n",
              " 2018-05    500    599    638    587   1045\n",
              " 2018-06    497    596    635    585   1040\n",
              " 2018-07    512    615    676    651   1103\n",
              " 2018-08    512    614    671    648   1098\n",
              " 2018-09    511    613    669    646   1095\n",
              " 2018-10    506    609    665    643   1087\n",
              " 2018-11    503    603    662    639   1081\n",
              " 2018-12    500    601    654    636   1077\n",
              " 2019-01    498    599    649    634   1069\n",
              " 2019-02    498    595    641    632   1066\n",
              " 2019-03    495    593    634    629   1061\n",
              " 2019-04    492    589    630    625   1055\n",
              " 2019-05    490    586    629    625   1051\n",
              " 2019-06    488    585    627    622   1050\n",
              " 2019-07    506    603    661    698   1070\n",
              " 2019-08    503    600    656    697   1064\n",
              " 2019-09    499    597    650    696   1057\n",
              " 2019-10    496    592    645    694   1053\n",
              " 2019-11    492    589    644    689   1047\n",
              " 2019-12    490    584    639    685   1037\n",
              " 2020-01    489    580    637    679   1031\n",
              " 2020-02    485    577    636    676   1029\n",
              " 2020-03    483    575    631    676   1028\n",
              " 2020-04    483    572    625    672   1024\n",
              " 2020-05    478    569    623    669   1020\n",
              " 2020-06    473    563    620    666   1016\n",
              " 2020-07    486    564    645    720   1046\n",
              " 2020-08    482    562    640    720   1040\n",
              " 2020-09    480    559    637    719   1038\n",
              " 2020-10    480    555    635    713   1030\n",
              " 2020-11    480    553    635    710   1027\n",
              " 2020-12    476    553    632    706   1026\n",
              " 2021-01    473    550    630    703   1025\n",
              " 2021-02    473    549    627    700   1022,\n",
              " 5:             Cnsmr    Manuf     HiTec    Hlth     Other\n",
              " Date                                                  \n",
              " 2016-03   7295.89  6185.97   7871.06  4090.44  4925.65\n",
              " 2016-04   7781.38  6693.97   8514.15  4210.83  5271.14\n",
              " 2016-05   7779.64  6964.88   8244.72  4396.37  5425.54\n",
              " 2016-06   7839.06  6946.60   8609.17  4503.44  5483.34\n",
              " 2016-07   7886.94  7011.57   8259.32  4132.61  5010.71\n",
              " 2016-08   8116.36  7097.03   8859.60  4416.75  5220.17\n",
              " 2016-09   8041.47  7101.54   8915.12  4275.71  5413.28\n",
              " 2016-10   7969.70  7169.90   9166.29  4318.66  5343.15\n",
              " 2016-11   7777.05  7014.08   9126.56  4019.34  5384.81\n",
              " 2016-12   7897.03  7378.85   9307.00  4078.44  6025.49\n",
              " 2017-01   7997.94  7504.48   9514.68  4076.45  6200.95\n",
              " 2017-02   8130.48  7521.27  10000.19  4188.26  6284.50\n",
              " 2017-03   8410.22  7688.16  10393.32  4505.36  6530.41\n",
              " 2017-04   8461.20  7716.48  10662.57  4512.30  6449.14\n",
              " 2017-05   8640.03  7767.77  10931.54  4573.41  6508.98\n",
              " 2017-06   8818.38  7781.22  11240.99  4558.43  6515.95\n",
              " 2017-07   8166.97  7473.11  10470.14  4483.60  6397.66\n",
              " 2017-08   8141.99  7648.22  11005.38  4521.28  6496.09\n",
              " 2017-09   8038.09  7364.40  11316.64  4605.61  6482.08\n",
              " 2017-10   8163.23  7723.86  11450.91  4692.56  6819.45\n",
              " 2017-11   8315.56  7913.62  12070.47  4614.06  7013.36\n",
              " 2017-12   8869.01  8159.86  12282.17  4711.61  7320.18\n",
              " 2018-01   9091.44  8280.35  12393.56  4695.66  7449.31\n",
              " 2018-02   9671.99  8526.75  13318.93  5036.41  7915.16\n",
              " 2018-03   9202.99  8016.19  13179.91  4818.73  7651.34\n",
              " 2018-04   9018.76  8062.82  12792.20  4747.67  7481.74\n",
              " 2018-05   9126.37  8188.27  12771.10  4727.34  7523.39\n",
              " 2018-06   9102.83  8370.83  13422.38  4845.48  7634.57\n",
              " 2018-07   8944.91  8362.22  12809.82  4509.01  7059.70\n",
              " 2018-08   9179.50  8645.32  13182.77  4796.70  7366.11\n",
              " 2018-09   9612.40  8560.60  14091.88  5016.07  7548.89\n",
              " 2018-10   9693.91  8627.16  14162.61  5126.11  7496.99\n",
              " 2018-11   9162.02  7880.35  13090.59  4690.54  6965.82\n",
              " 2018-12   9278.42  8064.96  13057.64  4996.47  7184.72\n",
              " 2019-01   8374.36  7332.94  12038.90  4578.98  6454.94\n",
              " 2019-02   9046.27  8021.74  13252.15  4800.83  7054.78\n",
              " 2019-03   9195.82  8355.54  13923.76  4961.86  7263.41\n",
              " 2019-04   9489.43  8447.95  14438.40  5018.22  7201.98\n",
              " 2019-05   9913.23  8689.08  15307.85  4860.02  7699.01\n",
              " 2019-06   9305.44  7938.02  14130.95  4703.17  7212.82\n",
              " 2019-07   9681.27  8359.55  14323.87  4558.55  7495.32\n",
              " 2019-08   9842.09  8297.60  14881.30  4475.70  7646.77\n",
              " 2019-09   9837.80  8115.25  14631.59  4455.61  7320.45\n",
              " 2019-10   9997.70  8479.34  14868.65  4429.23  7481.02\n",
              " 2019-11  10158.80  8448.08  15340.35  4538.68  7738.55\n",
              " 2019-12  10407.96  8628.11  16127.77  4791.38  8145.90\n",
              " 2020-01  10641.59  8926.37  16710.22  4970.30  8355.88\n",
              " 2020-02  10812.01  8666.56  17147.53  4894.01  8253.04\n",
              " 2020-03  10043.59  7772.38  16064.07  4610.62  7434.94\n",
              " 2020-04   9027.52  6297.56  14419.47  4377.74  6040.18\n",
              " 2020-05  10531.65  7124.03  16551.99  4871.42  6688.43\n",
              " 2020-06  11067.32  7502.46  17924.70  5076.31  6969.53\n",
              " 2020-07  11207.91  7460.47  18285.78  4745.93  6631.66\n",
              " 2020-08  12351.15  7727.63  19641.03  4948.70  6897.96\n",
              " 2020-09  13635.47  7975.01  21699.57  5081.93  7398.06\n",
              " 2020-10  13066.89  7823.44  20695.31  4984.53  7192.99\n",
              " 2020-11  12718.19  7838.12  20246.50  4758.37  7059.71\n",
              " 2020-12  14234.01  8818.91  22612.63  5238.42  8164.00\n",
              " 2021-01  14823.46  9045.50  23813.61  5493.04  8581.04\n",
              " 2021-02  14927.30  8964.20  23930.55  5662.13  8350.88,\n",
              " 6:       Cnsmr  Manuf  HiTec  Hlth   Other\n",
              " Date                                   \n",
              " 2016   0.23   0.41   0.27   0.22   0.60\n",
              " 2017   0.24   0.38   0.23   0.20   0.48\n",
              " 2018   0.22   0.38   0.21   0.19   0.46\n",
              " 2019   0.22   0.40   0.20   0.19   0.46\n",
              " 2020   0.22   0.48   0.18   0.19   0.57,\n",
              " 7:       Cnsmr  Manuf  HiTec  Hlth   Other\n",
              " Date                                   \n",
              " 2016   0.24   0.47   0.28   0.22   0.56\n",
              " 2017   0.24   0.37   0.26   0.23   0.51\n",
              " 2018   0.21   0.39   0.22   0.20   0.44\n",
              " 2019   0.24   0.45   0.24   0.21   0.53\n",
              " 2020   0.20   0.52   0.18   0.18   0.42,\n",
              " 'DESCR': '5 Industry Portfolios\\n---------------------\\n\\nThis file was created by CMPT_IND_RETS using the 202102 CRSP database. It contains value- and equal-weighted returns for 5 industry portfolios. The portfolios are constructed at the end of June. The annual returns are from January to December. Missing data are indicated by -99.99 or -999. Copyright 2021 Kenneth R. French\\n\\n  0 : Average Value Weighted Returns -- Monthly (60 rows x 5 cols)\\n  1 : Average Equal Weighted Returns -- Monthly (60 rows x 5 cols)\\n  2 : Average Value Weighted Returns -- Annual (5 rows x 5 cols)\\n  3 : Average Equal Weighted Returns -- Annual (5 rows x 5 cols)\\n  4 : Number of Firms in Portfolios (60 rows x 5 cols)\\n  5 : Average Firm Size (60 rows x 5 cols)\\n  6 : Sum of BE / Sum of ME (5 rows x 5 cols)\\n  7 : Value-Weighted Average of BE/ME (5 rows x 5 cols)'}"
            ]
          },
          "metadata": {
            "tags": []
          },
          "execution_count": 743
        }
      ]
    },
    {
      "cell_type": "markdown",
      "metadata": {
        "id": "xSGNDrKbQfqs"
      },
      "source": [
        "Можно поискать, есть ли информация, содержащая следующие вещи"
      ]
    },
    {
      "cell_type": "code",
      "metadata": {
        "id": "NNnGSOEcxhvK"
      },
      "source": [
        "from pandas_datareader import wb\n",
        "\n",
        "results = wb.search('gdp.*capita.*const')"
      ],
      "execution_count": null,
      "outputs": []
    },
    {
      "cell_type": "code",
      "metadata": {
        "colab": {
          "base_uri": "https://localhost:8080/",
          "height": 289
        },
        "id": "DFT2co1iyLc6",
        "outputId": "c4d752f0-f1f4-495b-87df-b1eb56fb9efd"
      },
      "source": [
        "results"
      ],
      "execution_count": null,
      "outputs": [
        {
          "output_type": "execute_result",
          "data": {
            "text/html": [
              "<div>\n",
              "<style scoped>\n",
              "    .dataframe tbody tr th:only-of-type {\n",
              "        vertical-align: middle;\n",
              "    }\n",
              "\n",
              "    .dataframe tbody tr th {\n",
              "        vertical-align: top;\n",
              "    }\n",
              "\n",
              "    .dataframe thead th {\n",
              "        text-align: right;\n",
              "    }\n",
              "</style>\n",
              "<table border=\"1\" class=\"dataframe\">\n",
              "  <thead>\n",
              "    <tr style=\"text-align: right;\">\n",
              "      <th></th>\n",
              "      <th>id</th>\n",
              "      <th>name</th>\n",
              "      <th>unit</th>\n",
              "      <th>source</th>\n",
              "      <th>sourceNote</th>\n",
              "      <th>sourceOrganization</th>\n",
              "      <th>topics</th>\n",
              "    </tr>\n",
              "  </thead>\n",
              "  <tbody>\n",
              "    <tr>\n",
              "      <th>680</th>\n",
              "      <td>6.0.GDPpc_constant</td>\n",
              "      <td>GDP per capita, PPP (constant 2011 internation...</td>\n",
              "      <td></td>\n",
              "      <td>LAC Equity Lab</td>\n",
              "      <td>GDP per capita based on purchasing power parit...</td>\n",
              "      <td>b'World Development Indicators (World Bank)'</td>\n",
              "      <td>Economy &amp; Growth</td>\n",
              "    </tr>\n",
              "    <tr>\n",
              "      <th>9266</th>\n",
              "      <td>NY.GDP.PCAP.KD</td>\n",
              "      <td>GDP per capita (constant 2010 US$)</td>\n",
              "      <td></td>\n",
              "      <td>World Development Indicators</td>\n",
              "      <td>GDP per capita is gross domestic product divid...</td>\n",
              "      <td>b'World Bank national accounts data, and OECD ...</td>\n",
              "      <td>Economy &amp; Growth</td>\n",
              "    </tr>\n",
              "    <tr>\n",
              "      <th>9268</th>\n",
              "      <td>NY.GDP.PCAP.KN</td>\n",
              "      <td>GDP per capita (constant LCU)</td>\n",
              "      <td></td>\n",
              "      <td>World Development Indicators</td>\n",
              "      <td>GDP per capita is gross domestic product divid...</td>\n",
              "      <td>b'World Bank national accounts data, and OECD ...</td>\n",
              "      <td>Economy &amp; Growth</td>\n",
              "    </tr>\n",
              "    <tr>\n",
              "      <th>9270</th>\n",
              "      <td>NY.GDP.PCAP.PP.KD</td>\n",
              "      <td>GDP per capita, PPP (constant 2017 internation...</td>\n",
              "      <td></td>\n",
              "      <td>World Development Indicators</td>\n",
              "      <td>GDP per capita based on purchasing power parit...</td>\n",
              "      <td>b'International Comparison Program, World Bank...</td>\n",
              "      <td>Economy &amp; Growth</td>\n",
              "    </tr>\n",
              "    <tr>\n",
              "      <th>9271</th>\n",
              "      <td>NY.GDP.PCAP.PP.KD.87</td>\n",
              "      <td>GDP per capita, PPP (constant 1987 internation...</td>\n",
              "      <td></td>\n",
              "      <td>WDI Database Archives</td>\n",
              "      <td></td>\n",
              "      <td>b''</td>\n",
              "      <td></td>\n",
              "    </tr>\n",
              "  </tbody>\n",
              "</table>\n",
              "</div>"
            ],
            "text/plain": [
              "                        id  ...            topics\n",
              "680     6.0.GDPpc_constant  ...  Economy & Growth\n",
              "9266        NY.GDP.PCAP.KD  ...  Economy & Growth\n",
              "9268        NY.GDP.PCAP.KN  ...  Economy & Growth\n",
              "9270     NY.GDP.PCAP.PP.KD  ...  Economy & Growth\n",
              "9271  NY.GDP.PCAP.PP.KD.87  ...                  \n",
              "\n",
              "[5 rows x 7 columns]"
            ]
          },
          "metadata": {
            "tags": []
          },
          "execution_count": 613
        }
      ]
    },
    {
      "cell_type": "code",
      "metadata": {
        "id": "qViaLC9uyQ0E"
      },
      "source": [
        "gdp = wb.download(indicator = 'NY.GDP.PCAP.KD', country = ['US', 'CA', 'RU'], start = 2010, end=2020)"
      ],
      "execution_count": null,
      "outputs": []
    },
    {
      "cell_type": "code",
      "metadata": {
        "colab": {
          "base_uri": "https://localhost:8080/",
          "height": 1000
        },
        "id": "4gIzKqtyyc5S",
        "outputId": "94496545-767e-4a4d-a8d0-7a6a23a9c107"
      },
      "source": [
        "gdp = gdp.reset_index()\n",
        "gdp"
      ],
      "execution_count": null,
      "outputs": [
        {
          "output_type": "execute_result",
          "data": {
            "text/html": [
              "<div>\n",
              "<style scoped>\n",
              "    .dataframe tbody tr th:only-of-type {\n",
              "        vertical-align: middle;\n",
              "    }\n",
              "\n",
              "    .dataframe tbody tr th {\n",
              "        vertical-align: top;\n",
              "    }\n",
              "\n",
              "    .dataframe thead th {\n",
              "        text-align: right;\n",
              "    }\n",
              "</style>\n",
              "<table border=\"1\" class=\"dataframe\">\n",
              "  <thead>\n",
              "    <tr style=\"text-align: right;\">\n",
              "      <th></th>\n",
              "      <th>index</th>\n",
              "      <th>country</th>\n",
              "      <th>year</th>\n",
              "      <th>NY.GDP.PCAP.KD</th>\n",
              "    </tr>\n",
              "  </thead>\n",
              "  <tbody>\n",
              "    <tr>\n",
              "      <th>0</th>\n",
              "      <td>0</td>\n",
              "      <td>Canada</td>\n",
              "      <td>2020</td>\n",
              "      <td>NaN</td>\n",
              "    </tr>\n",
              "    <tr>\n",
              "      <th>1</th>\n",
              "      <td>1</td>\n",
              "      <td>Canada</td>\n",
              "      <td>2019</td>\n",
              "      <td>51588.761434</td>\n",
              "    </tr>\n",
              "    <tr>\n",
              "      <th>2</th>\n",
              "      <td>2</td>\n",
              "      <td>Canada</td>\n",
              "      <td>2018</td>\n",
              "      <td>51476.200774</td>\n",
              "    </tr>\n",
              "    <tr>\n",
              "      <th>3</th>\n",
              "      <td>3</td>\n",
              "      <td>Canada</td>\n",
              "      <td>2017</td>\n",
              "      <td>51170.475841</td>\n",
              "    </tr>\n",
              "    <tr>\n",
              "      <th>4</th>\n",
              "      <td>4</td>\n",
              "      <td>Canada</td>\n",
              "      <td>2016</td>\n",
              "      <td>50193.750410</td>\n",
              "    </tr>\n",
              "    <tr>\n",
              "      <th>5</th>\n",
              "      <td>5</td>\n",
              "      <td>Canada</td>\n",
              "      <td>2015</td>\n",
              "      <td>50262.027666</td>\n",
              "    </tr>\n",
              "    <tr>\n",
              "      <th>6</th>\n",
              "      <td>6</td>\n",
              "      <td>Canada</td>\n",
              "      <td>2014</td>\n",
              "      <td>50306.944624</td>\n",
              "    </tr>\n",
              "    <tr>\n",
              "      <th>7</th>\n",
              "      <td>7</td>\n",
              "      <td>Canada</td>\n",
              "      <td>2013</td>\n",
              "      <td>49397.523315</td>\n",
              "    </tr>\n",
              "    <tr>\n",
              "      <th>8</th>\n",
              "      <td>8</td>\n",
              "      <td>Canada</td>\n",
              "      <td>2012</td>\n",
              "      <td>48785.936082</td>\n",
              "    </tr>\n",
              "    <tr>\n",
              "      <th>9</th>\n",
              "      <td>9</td>\n",
              "      <td>Canada</td>\n",
              "      <td>2011</td>\n",
              "      <td>48464.496282</td>\n",
              "    </tr>\n",
              "    <tr>\n",
              "      <th>10</th>\n",
              "      <td>10</td>\n",
              "      <td>Canada</td>\n",
              "      <td>2010</td>\n",
              "      <td>47448.013220</td>\n",
              "    </tr>\n",
              "    <tr>\n",
              "      <th>11</th>\n",
              "      <td>11</td>\n",
              "      <td>Russian Federation</td>\n",
              "      <td>2020</td>\n",
              "      <td>NaN</td>\n",
              "    </tr>\n",
              "    <tr>\n",
              "      <th>12</th>\n",
              "      <td>12</td>\n",
              "      <td>Russian Federation</td>\n",
              "      <td>2019</td>\n",
              "      <td>12011.531801</td>\n",
              "    </tr>\n",
              "    <tr>\n",
              "      <th>13</th>\n",
              "      <td>13</td>\n",
              "      <td>Russian Federation</td>\n",
              "      <td>2018</td>\n",
              "      <td>11844.438600</td>\n",
              "    </tr>\n",
              "    <tr>\n",
              "      <th>14</th>\n",
              "      <td>14</td>\n",
              "      <td>Russian Federation</td>\n",
              "      <td>2017</td>\n",
              "      <td>11550.525121</td>\n",
              "    </tr>\n",
              "    <tr>\n",
              "      <th>15</th>\n",
              "      <td>15</td>\n",
              "      <td>Russian Federation</td>\n",
              "      <td>2016</td>\n",
              "      <td>11356.400042</td>\n",
              "    </tr>\n",
              "    <tr>\n",
              "      <th>16</th>\n",
              "      <td>16</td>\n",
              "      <td>Russian Federation</td>\n",
              "      <td>2015</td>\n",
              "      <td>11355.236305</td>\n",
              "    </tr>\n",
              "    <tr>\n",
              "      <th>17</th>\n",
              "      <td>17</td>\n",
              "      <td>Russian Federation</td>\n",
              "      <td>2014</td>\n",
              "      <td>11608.758637</td>\n",
              "    </tr>\n",
              "    <tr>\n",
              "      <th>18</th>\n",
              "      <td>18</td>\n",
              "      <td>Russian Federation</td>\n",
              "      <td>2013</td>\n",
              "      <td>11731.381780</td>\n",
              "    </tr>\n",
              "    <tr>\n",
              "      <th>19</th>\n",
              "      <td>19</td>\n",
              "      <td>Russian Federation</td>\n",
              "      <td>2012</td>\n",
              "      <td>11553.576420</td>\n",
              "    </tr>\n",
              "    <tr>\n",
              "      <th>20</th>\n",
              "      <td>20</td>\n",
              "      <td>Russian Federation</td>\n",
              "      <td>2011</td>\n",
              "      <td>11125.344592</td>\n",
              "    </tr>\n",
              "    <tr>\n",
              "      <th>21</th>\n",
              "      <td>21</td>\n",
              "      <td>Russian Federation</td>\n",
              "      <td>2010</td>\n",
              "      <td>10674.995783</td>\n",
              "    </tr>\n",
              "    <tr>\n",
              "      <th>22</th>\n",
              "      <td>22</td>\n",
              "      <td>United States</td>\n",
              "      <td>2020</td>\n",
              "      <td>NaN</td>\n",
              "    </tr>\n",
              "    <tr>\n",
              "      <th>23</th>\n",
              "      <td>23</td>\n",
              "      <td>United States</td>\n",
              "      <td>2019</td>\n",
              "      <td>55753.144369</td>\n",
              "    </tr>\n",
              "    <tr>\n",
              "      <th>24</th>\n",
              "      <td>24</td>\n",
              "      <td>United States</td>\n",
              "      <td>2018</td>\n",
              "      <td>54832.978233</td>\n",
              "    </tr>\n",
              "    <tr>\n",
              "      <th>25</th>\n",
              "      <td>25</td>\n",
              "      <td>United States</td>\n",
              "      <td>2017</td>\n",
              "      <td>53552.485014</td>\n",
              "    </tr>\n",
              "    <tr>\n",
              "      <th>26</th>\n",
              "      <td>26</td>\n",
              "      <td>United States</td>\n",
              "      <td>2016</td>\n",
              "      <td>52643.917842</td>\n",
              "    </tr>\n",
              "    <tr>\n",
              "      <th>27</th>\n",
              "      <td>27</td>\n",
              "      <td>United States</td>\n",
              "      <td>2015</td>\n",
              "      <td>52168.126236</td>\n",
              "    </tr>\n",
              "    <tr>\n",
              "      <th>28</th>\n",
              "      <td>28</td>\n",
              "      <td>United States</td>\n",
              "      <td>2014</td>\n",
              "      <td>51065.682692</td>\n",
              "    </tr>\n",
              "    <tr>\n",
              "      <th>29</th>\n",
              "      <td>29</td>\n",
              "      <td>United States</td>\n",
              "      <td>2013</td>\n",
              "      <td>50171.237131</td>\n",
              "    </tr>\n",
              "    <tr>\n",
              "      <th>30</th>\n",
              "      <td>30</td>\n",
              "      <td>United States</td>\n",
              "      <td>2012</td>\n",
              "      <td>49603.253472</td>\n",
              "    </tr>\n",
              "    <tr>\n",
              "      <th>31</th>\n",
              "      <td>31</td>\n",
              "      <td>United States</td>\n",
              "      <td>2011</td>\n",
              "      <td>48866.053276</td>\n",
              "    </tr>\n",
              "    <tr>\n",
              "      <th>32</th>\n",
              "      <td>32</td>\n",
              "      <td>United States</td>\n",
              "      <td>2010</td>\n",
              "      <td>48467.515777</td>\n",
              "    </tr>\n",
              "  </tbody>\n",
              "</table>\n",
              "</div>"
            ],
            "text/plain": [
              "    index             country  year  NY.GDP.PCAP.KD\n",
              "0       0              Canada  2020             NaN\n",
              "1       1              Canada  2019    51588.761434\n",
              "2       2              Canada  2018    51476.200774\n",
              "3       3              Canada  2017    51170.475841\n",
              "4       4              Canada  2016    50193.750410\n",
              "5       5              Canada  2015    50262.027666\n",
              "6       6              Canada  2014    50306.944624\n",
              "7       7              Canada  2013    49397.523315\n",
              "8       8              Canada  2012    48785.936082\n",
              "9       9              Canada  2011    48464.496282\n",
              "10     10              Canada  2010    47448.013220\n",
              "11     11  Russian Federation  2020             NaN\n",
              "12     12  Russian Federation  2019    12011.531801\n",
              "13     13  Russian Federation  2018    11844.438600\n",
              "14     14  Russian Federation  2017    11550.525121\n",
              "15     15  Russian Federation  2016    11356.400042\n",
              "16     16  Russian Federation  2015    11355.236305\n",
              "17     17  Russian Federation  2014    11608.758637\n",
              "18     18  Russian Federation  2013    11731.381780\n",
              "19     19  Russian Federation  2012    11553.576420\n",
              "20     20  Russian Federation  2011    11125.344592\n",
              "21     21  Russian Federation  2010    10674.995783\n",
              "22     22       United States  2020             NaN\n",
              "23     23       United States  2019    55753.144369\n",
              "24     24       United States  2018    54832.978233\n",
              "25     25       United States  2017    53552.485014\n",
              "26     26       United States  2016    52643.917842\n",
              "27     27       United States  2015    52168.126236\n",
              "28     28       United States  2014    51065.682692\n",
              "29     29       United States  2013    50171.237131\n",
              "30     30       United States  2012    49603.253472\n",
              "31     31       United States  2011    48866.053276\n",
              "32     32       United States  2010    48467.515777"
            ]
          },
          "metadata": {
            "tags": []
          },
          "execution_count": 597
        }
      ]
    },
    {
      "cell_type": "markdown",
      "metadata": {
        "id": "oYiVx_Y3Qm-8"
      },
      "source": [
        "Часть ресурсов требует наличия **API**. Как правило, ключ можно получить в личном кабинете этого ресурс после регистрации. Возможно за некоторые **API** или их расширенный функционал, нужно платить"
      ]
    },
    {
      "cell_type": "markdown",
      "metadata": {
        "id": "dhUSA70AQnrm"
      },
      "source": [
        "## Скрапинг данных (базово)\n",
        "\n",
        "Для скрапинга данных используются различные библиотеки. Базовыми являются **requests**, с помощью которой делается запрос к странице/сайту, и **urllib**.\n",
        "\n",
        "Для парсинга полученного кода страницы с помощью запроса можно пользоваться библиотекой **bs4**, а именно модулем **BeautifulSoup**.\n",
        "\n",
        "Мы бедм скрапить [следующую страницу](http://www.cbr.ru/statistics/avgprocstav/?UniDbQuery.Posted=True&UniDbQuery.From=1.05.2019&UniDbQuery.To=1.03.2021)"
      ]
    },
    {
      "cell_type": "code",
      "metadata": {
        "id": "pcKfsU8C2qWV"
      },
      "source": [
        "from bs4 import BeautifulSoup\n",
        "from requests import get\n",
        "import urllib\n",
        "\n",
        "import time\n",
        "\n",
        "import datetime\n",
        "from dateutil.relativedelta import relativedelta"
      ],
      "execution_count": null,
      "outputs": []
    },
    {
      "cell_type": "markdown",
      "metadata": {
        "id": "ze6nuoHDRf1X"
      },
      "source": [
        "В url'e сами укажем дату, с которой вытащить значения и даты, по которую вытаскивать. Применим метод `get` к данному url."
      ]
    },
    {
      "cell_type": "code",
      "metadata": {
        "id": "Taiwlm-B26N9"
      },
      "source": [
        "end_year = time.localtime()[0]\n",
        "end_month = str(time.localtime()[1] - 1)\n",
        "    \n",
        "start_year = 2019\n",
        "start_month = str(8)\n",
        "\n",
        "url = 'https://www.cbr.ru/statistics/avgprocstav/?UniDbQuery.Posted=True&UniDbQuery.From=1.'\n",
        "url = url + start_month + '.' + str(start_year) + '&UniDbQuery.To=3.' + end_month + '.' + str(end_year)\n",
        "\n",
        "response = get(url)"
      ],
      "execution_count": null,
      "outputs": []
    },
    {
      "cell_type": "markdown",
      "metadata": {
        "id": "LZiuQiFTSP0T"
      },
      "source": [
        "Получили какую-то HTML'ную кашу. Но если ее развернуть можно увидеть нужные нам данные по ставкам. Также известно, что HTML все же имеет свою структуру, из которой можно выцепить ту часть, которая нам нужна"
      ]
    },
    {
      "cell_type": "code",
      "metadata": {
        "colab": {
          "base_uri": "https://localhost:8080/",
          "height": 137
        },
        "id": "AIUpnQsB3bId",
        "outputId": "ecb760d0-b3ed-45e4-9d34-a887571d9014"
      },
      "source": [
        "response.text"
      ],
      "execution_count": null,
      "outputs": [
        {
          "output_type": "execute_result",
          "data": {
            "application/vnd.google.colaboratory.intrinsic+json": {
              "type": "string"
            },
            "text/plain": [
              "'\\r\\n<!DOCTYPE html>\\r\\n<html>\\r\\n<head>\\r\\n    \\r\\n\\r\\n<meta http-equiv=\"Content-Type\" content=\"text/html; charset=UTF-8\" />\\r\\n<meta http-equiv=\"X-UA-Compatible\" content=\"IE=edge,chrome=1\">\\r\\n<meta name=\"viewport\" content=\"width=device-width, initial-scale=1, shrink-to-fit=no\">\\r\\n<meta name=\"format-detection\" content=\"telephone=no\" />\\r\\n<meta name=\"zoom:lang\" content=\"ru\" />\\r\\n    <meta name=\"zoom:last-modified\" content=\"Fri, 12 Mar 2021 16:15:11 GMT\" />\\r\\n<title>Динамика максимальной процентной ставки (по&#160;вкладам в&#160;российских рублях) десяти кредитных организаций, привлекающих наибольший объём депозитов физических лиц | Банк России</title>\\r\\n\\r\\n\\r\\n\\r\\n    <meta property=\"og:image\" content=\"/common/images/share-1.jpg\" />\\r\\n\\r\\n    \\r\\n\\r\\n\\r\\n            <link rel=\"stylesheet\" type=\"text/css\" href=\"/common/libs/jquery-ui/jquery-ui.min.css?v=v3348762655\" media=\"all\">\\r\\n\\r\\n            <!--[if IE 9]><link rel=\"stylesheet\" type=\"text/css\" href=\"/common/style/main-ie9.css?v=v3703271909\" media=\"all\"><![endif]-->\\r\\n\\r\\n            <!--[if gt IE 9]><!--><link rel=\"stylesheet\" type=\"text/css\" href=\"/common/style/main.css?v=v2793958826\" media=\"all\"><!--<![endif]-->\\r\\n\\r\\n\\r\\n        <script type=\"text/javascript\" src=\"/common/libs/jquery-3.4.1.min.js?v=v906141912\"></script>\\r\\n\\r\\n        <script type=\"text/javascript\" src=\"/common/libs/jquery-ui/jquery-ui.min.js?v=v906141912\"></script>\\r\\n\\r\\n        <script type=\"text/javascript\" src=\"/common/libs/jquery.inputmask.min.js?v=v089173232\"></script>\\r\\n\\r\\n        <script type=\"text/javascript\" src=\"/common/scripts/vendor.js?v=v236022842\"></script>\\r\\n\\r\\n        <script type=\"text/javascript\" src=\"/common/libs/jquery.floatThead.min.js?v=v3348762655\"></script>\\r\\n\\r\\n        <script type=\"text/javascript\" src=\"/common/libs/highcharts.js?v=v2179020732\"></script>\\r\\n        <script type=\"text/javascript\" src=\"/common/scripts/main.min.js?v=v236022842\"></script>\\r\\n\\r\\n\\r\\n        <script type=\"text/javascript\" src=\"/common/libs/localization-ru.js?v=v1814421028\"></script>\\r\\n\\r\\n        <script type=\"text/javascript\" src=\"/js/jquery.cookie.min.js?v=v4260771145\"></script>\\r\\n\\r\\n        <script type=\"text/javascript\" src=\"/js/site.js?v=v2009763665\"></script>\\r\\n\\r\\n\\r\\n\\r\\n\\r\\n\\r\\n<script src=\"/Modules/Queries/Scripts/queries-ui.js?v=v662783731\" type=\"text/javascript\"></script>\\r\\n<script src=\"/common/libs/highcharts-more.js?v=v2192630460\" type=\"text/javascript\"></script>\\r\\n    <script type=\"text/javascript\">\\r\\n    $(function () {\\r\\n        var $menu = $(\\'[data-menu]\\'),\\r\\n            $menuItemBtn = $menu.find(\\'[data-menu-item-btn]\\'),\\r\\n            $menuShow = $(\\'[data-menu-show]\\'),\\r\\n            $menuClose = $(\\'[data-menu-close]\\');\\r\\n        var config = $menu.data(\\'config\\');\\r\\n\\r\\n        $menu.find(\\'.header_right\\').html($(\\'#header .header_right\\').html());\\r\\n\\r\\n        $menuShow.on(\\'click.cms_loadwholesite\\', function (event) {\\r\\n            loadWholeSite(true);\\r\\n        });\\r\\n        $menuShow.on(\\'mouseenter.cms_loadwholesite\\', function (event) {\\r\\n            loadWholeSite(false);\\r\\n        });\\r\\n\\r\\n        var xhr = null, g_openMenu = false;\\r\\n        function loadWholeSite(openmenu) {\\r\\n            g_openMenu = g_openMenu || openmenu;\\r\\n            $menuShow.off(\\'click.cms_loadwholesite mouseenter.cms_loadwholesite\\');\\r\\n            if (xhr === null) {\\r\\n                $(\\'.menu_wrap .networks-circle\\').html($(\\'.networks-circle.footer_networks\\').html());\\r\\n                $(\\'.menu_wrap .header_search\\').html($(\\'.header .offsetMenu .header_search\\').html());\\r\\n\\r\\n                xhr = $.ajax(config.url, {\\r\\n                    dataType: \"html\",\\r\\n                    method: \"get\",\\r\\n                    success: function (html) {\\r\\n                        $(\\'[data-cms-wholesite-placeholder]\\').replaceWith(html);\\r\\n\\r\\n                        $menu.find(\\'.menu_tab[data-tabs-tab]\\').each(function () {\\r\\n                            var tab = $(this).data(\\'tabs-tab\\');\\r\\n                            $(this).toggle($menu.find(\\'[data-tabs-content=\"\\' + tab + \\'\"]\\').length != 0);\\r\\n                        });\\r\\n\\r\\n                        app.init($menu);\\r\\n\\r\\n                        for (var i in config.catalogPath) {\\r\\n                            $menu.find(\\'li[data-catalog-id=\"\\' + config.catalogPath[i] + \\'\"]\\')\\r\\n                                .addClass(\"_active\");\\r\\n                            $menu.find(\\'li[data-catalog-id=\"\\' + config.catalogPath[i] + \\'\"]\\')\\r\\n                                .closest(\\'[data-tabs-content]\\')\\r\\n                                .trigger(\\'open-anchor\\');\\r\\n                        }\\r\\n\\r\\n                        \\r\\n                        xhr = true;\\r\\n                    },\\r\\n                    error: function () {\\r\\n                        xhr = null;\\r\\n                    }\\r\\n                });\\r\\n            }\\r\\n        }\\r\\n    });\\r\\n    </script>\\r\\n\\r\\n\\r\\n<script>\\r\\n    if (window.localStorage) {\\r\\n        if (localStorage.getItem(\\'vision-impaired\\'))\\r\\n            document.getElementsByTagName(\\'html\\')[0].className += \\' vision-impaired\\';\\r\\n    }\\r\\n</script>\\r\\n<script>\\r\\n    document.documentElement.style.setProperty(\\'--scrollbar-width\\', \\'17px\\');\\r\\n    setTimeout(function () {\\r\\n        \\r\\n        var div = document.createElement(\\'div\\');\\r\\n\\r\\n        div.style.overflowY = \\'scroll\\';\\r\\n        div.style.width = \\'50px\\';\\r\\n        div.style.height = \\'50px\\';\\r\\n\\r\\n        \\r\\n        div.style.visibility = \\'hidden\\';\\r\\n\\r\\n        document.body.appendChild(div);\\r\\n        var scrollWidth = Math.max(div.offsetWidth - div.clientWidth, 0.15); \\r\\n        document.body.removeChild(div);\\r\\n        \\r\\n        document.documentElement.style.setProperty(\\'--scrollbar-width\\', scrollWidth + \\'px\\');\\r\\n    }, 0);\\r\\n</script>\\r\\n\\r\\n\\r\\n\\r\\n    \\r\\n</head>\\r\\n<body>\\r\\n    \\r\\n\\r\\n    <!-- Yandex.Metrika counter -->\\r\\n    <script type=\"text/javascript\" >\\n       (function(m,e,t,r,i,k,a){m[i]=m[i]||function(){(m[i].a=m[i].a||[]).push(arguments)};\\n       m[i].l=1*new Date();k=e.createElement(t),a=e.getElementsByTagName(t)[0],k.async=1,k.src=r,a.parentNode.insertBefore(k,a)})\\n       (window, document, \"script\", \"https://mc.yandex.ru/metrika/tag.js\", \"ym\");\\n\\n       ym(5774506, \"init\", {\\n            clickmap:true,\\n            trackLinks:true,\\n            accurateTrackBounce:true,\\n            webvisor:true\\n       });\\n    </script>\\n    <noscript><div><img src=\"https://mc.yandex.ru/watch/5774506\" style=\"position:absolute; left:-9999px;\" alt=\"\" /></div></noscript>\\r\\n    <!-- /Yandex.Metrika counter -->   \\r\\n\\r\\n    \\r\\n    \\r\\n\\r\\n    <div class=\"header-print\">\\r\\n        <div class=\"offsetMenu\">\\r\\n            <div class=\"header-print_inner\">\\r\\n                <img class=\"header-print_logo\" alt=\"cbr\" src=\"/common/images/logo.svg\">\\r\\n                <ul class=\"header-print_contacts\">\\r\\n<li>ул. Неглинная, 12, Москва, 107016</li>\\r\\n\\n<li><nobr class=\"phone\">8 800 300-30-00</nobr></li>\\r\\n<li>www.cbr.ru</li>\\r\\n</ul>\\r\\n\\r\\n\\r\\n            </div>\\r\\n        </div>\\r\\n    </div>\\r\\n    <header class=\"header\" id=\"header\">\\r\\n        <div class=\"top-line\" data-top-line=\"\">\\r\\n            <div class=\"offsetMenu\">\\r\\n                <div class=\"col-md-23 offset-md-1\">\\r\\n                    <div class=\"top-line_inner header_inner\">\\r\\n                        <div class=\"row\">\\r\\n                            <div class=\"col-xl-5 col-md-9\">\\r\\n                                <div class=\"header_left\">\\r\\n                                        <div class=\"header_menu\" data-menu-show=\"\"></div>\\r\\n                                    <a class=\"header_logo\" href=\"/\"></a>\\r\\n                                </div>\\r\\n                            </div>\\r\\n                            <div class=\"col-xl-17 col-md-13 offset-md-1 header_block\">\\r\\n                                <div class=\"header_search\">\\r\\n                                        <a class=\"header_search_btn\" href=\"#\" data-search-form-show=\"\" title=\"поиск\">\\r\\n        <div class=\"header_search_icon\"></div><span class=\"d-none d-xl-block\">Поиск по сайту</span>\\r\\n    </a>\\r\\n\\r\\n\\r\\n                                </div>\\r\\n                                <div class=\"d-none d-md-block\">\\r\\n                                    <div class=\"header_right\">\\r\\n                                        <div class=\"header_link\"><a href=\"/reception/\">Интернет-приемная</a></div>\\r\\n<div class=\"header_lang\">\\r\\n            <div class=\"header_lang_item _active\"><span><!--noindex-->RU<!--/noindex--></span></div>\\r\\n            <div class=\"header_lang_item\"><a href=\"/Localization/SwitchLanguage?url=%2Fstatistics%2Favgprocstav%2F%3FUniDbQuery.Posted%3DTrue%26UniDbQuery.From%3D1.8.2019%26UniDbQuery.To%3D3.2.2021&amp;from=ru-RU&amp;to=en-GB\"><!--noindex-->EN<!--/noindex--></a></div>\\r\\n</div>\\r\\n\\r\\n                                    </div>\\r\\n                                </div>\\r\\n                            </div>\\r\\n                        </div>\\r\\n                    </div>\\r\\n                </div>\\r\\n            </div>\\r\\n        </div>\\r\\n        <div class=\"offsetMenu\">\\r\\n            <div class=\"col-md-23 offset-md-1\">\\r\\n                <div class=\"header_inner\">\\r\\n                    <div class=\"row\">\\r\\n                        <div class=\"col-xl-5 col-md-9\">\\r\\n                            <div class=\"header_left\">\\r\\n                                    <div class=\"header_menu\" data-menu-show=\"\"></div>\\r\\n                                <a class=\"header_logo\" href=\"/\"></a>\\r\\n                            </div>\\r\\n                        </div>\\r\\n                        <div class=\"col-xl-17 col-md-13 offset-md-1 header_block\">\\r\\n                            <div class=\"header_search\">\\r\\n                                    <a class=\"header_search_btn\" href=\"#\" data-search-form-show=\"\" title=\"поиск\">\\r\\n        <div class=\"header_search_icon\"></div><span class=\"d-none d-xl-block\">Поиск по сайту</span>\\r\\n    </a>\\r\\n\\r\\n\\r\\n                            </div>\\r\\n                            <div class=\"d-none d-md-block\">\\r\\n                                <div class=\"header_right\">\\r\\n                                    <div class=\"header_link\"><a href=\"/reception/\">Интернет-приемная</a></div>\\r\\n<div class=\"header_lang\">\\r\\n            <div class=\"header_lang_item _active\"><span><!--noindex-->RU<!--/noindex--></span></div>\\r\\n            <div class=\"header_lang_item\"><a href=\"/Localization/SwitchLanguage?url=%2Fstatistics%2Favgprocstav%2F%3FUniDbQuery.Posted%3DTrue%26UniDbQuery.From%3D1.8.2019%26UniDbQuery.To%3D3.2.2021&amp;from=ru-RU&amp;to=en-GB\"><!--noindex-->EN<!--/noindex--></a></div>\\r\\n</div>\\r\\n\\r\\n                                </div>\\r\\n                            </div>\\r\\n                        </div>\\r\\n                    </div>\\r\\n                </div>\\r\\n            </div>\\r\\n        </div>\\r\\n    </header>\\r\\n    <form class=\"search-form\" action=\"/search/\" method=\"get\" data-search-form=\"\">\\r\\n    <div class=\"offsetMenu\">\\r\\n        <div class=\"col-md-23 offset-md-1\">\\r\\n            <div class=\"search-form_inner\">\\r\\n                <div class=\"search-form_title\">Что вы хотите найти?</div>\\r\\n                <div class=\"search-form_content\">\\r\\n                    <div class=\"search-form_block\">\\r\\n                        <div class=\"search-form_icon\"></div>\\r\\n                        <div class=\"search-form_field\">\\r\\n                            <input name=\"text\" type=\"text\" placeholder=\"Начните писать\" data-search-form-input=\"\" />\\r\\n                        </div>\\r\\n                    </div>\\r\\n                    <div class=\"search-form_btn\">\\r\\n                        <button class=\"b-btn _blue\" data-search-form-btn=\"\">Искать</button>\\r\\n                    </div>\\r\\n                </div>\\r\\n            </div>\\r\\n        </div>\\r\\n    </div>\\r\\n</form>\\r\\n\\r\\n\\r\\n\\r\\n\\r\\n<div class=\"menu_wrap\" data-menu=\"\" data-config=\"{&quot;catalogPath&quot;:[22108,16628],&quot;url&quot;:&quot;/Catalog/SiteMap/GetWholeSiteHtml?blockId=59191\\\\u0026t=1&quot;}\">\\r\\n    <div class=\"offsetMenu\">\\r\\n        <div class=\"header_menu _close menu_close d-none d-md-block\" data-menu-close=\"\"></div>\\r\\n        <div class=\"header_inner top-line_inner d-block d-md-none\">\\r\\n            <div class=\"row\">\\r\\n                <div class=\"col-xl-5 col-md-9\">\\r\\n                    <div class=\"header_left\">\\r\\n                        <div class=\"header_menu _close\" data-menu-close=\"\"></div><a class=\"header_logo\" href=\"/\"></a>\\r\\n                    </div>\\r\\n                </div>\\r\\n                <div class=\"col-xl-17 col-md-13 offset-md-1 header_block\">\\r\\n                    <div class=\"header_search\"></div>\\r\\n                </div>\\r\\n            </div>\\r\\n        </div>\\r\\n        <div class=\"menu row\" data-tabs=\"data-tabs\">\\r\\n            <div class=\"menu_quick col-md-7\">\\r\\n                <div class=\"menu_quick_tabs\">\\r\\n                    <a class=\"menu_tab _active\" href=\"#\" data-tabs-tab=\"Activity\">Деятельность</a>\\r\\n                        <a class=\"menu_tab\" href=\"#\" data-tabs-tab=\"FinancialMarkets\">Финансовые рынки</a>\\r\\n                    <a class=\"menu_tab\" href=\"#\" data-tabs-tab=\"Documents\">Документы и данные</a>\\r\\n                    <a class=\"menu_tab\" href=\"#\" data-tabs-tab=\"AboutBank\">О Банке России</a>\\r\\n                    <a class=\"menu_tab\" href=\"#\" data-tabs-tab=\"Services\">Сервисы</a>\\r\\n                </div>\\r\\n                <div class=\"menu_quick_links\">\\r\\n                    <div class=\"inner_links\"><a href=\"/allcovid/\" title=\"Новости\" style=\"color:red\">Коронавирус: поддержка экономики, бизнеса, граждан</a></div>\\n<div class=\"phones\"><a class=\"menu_phone_val\" href=\"tel:+74993003000\">\\n<div class=\"plus\">+</div>7 499 300-30-00</a><a class=\"menu_phone_val\" href=\"tel:88003003000\">8 800 300-30-00</a><a class=\"menu_phone_val\" href=\"tel:300\">300</a><span>Бесплатно для звонков с мобильных телефонов</span></div>\\n<div class=\"inner_links\">\\n  <a href=\"/news/\" title=\"Новости\">Новости</a>\\n  <a href=\"/rbr/\" title=\"Решения Банка России\">Решения Банка России</a>\\n  <a href=\"/contacts/\" title=\"Контактная информация\">Контактная информация</a>\\n  <a href=\"/sitemap\" title=\"Карта сайта\">Карта сайта</a>\\n  <a href=\"/about/\" title=\"О сайте\">О сайте</a>\\n  </div>\\n<div class=\"networks-circle\">\\n  <a class=\"networks-circle_item _fb\" href=\"https://www.facebook.com/cbr.ru/\" title=\"Facebook\"></a>\\n  <a class=\"networks-circle_item _ig\" href=\"https://www.instagram.com/cbrf_official/\" title=\"Instagram\"></a>\\n  <a class=\"networks-circle_item _vk\" href=\"https://vk.com/cbr_official\" title=\"ВКонтакте\"></a>\\n  <a class=\"networks-circle_item _tw\" href=\"https://twitter.com/bank_of_russia\" title=\"Twitter\"></a>\\n  <a class=\"networks-circle_item _yt\" href=\"https://www.youtube.com/user/BankofRussia\" title=\"Youtube\"></a>\\n</div>\\r\\n                </div>\\r\\n            </div>\\r\\n            <div class=\"d-md-none link-above\">\\r\\n                <div class=\"header_right\"></div>\\r\\n            </div>\\r\\n            <div class=\"menu_content_container col-md with-centered-loader\" data-cms-wholesite-placeholder=\"\">\\r\\n            </div>\\r\\n        </div>\\r\\n    </div>\\r\\n</div>\\r\\n\\r\\n\\r\\n    <div id=\"content\">\\r\\n        <div class=\"offsetMenu\">\\r\\n            <div class=\"container-fluid\">\\r\\n                <div class=\"col-md-23 offset-md-1\">\\r\\n                    <div class=\"breadcrumbs\">\\r\\n    <div class=\"breadcrumbs_item\"><a class=\"breadcrumbs_home\" href=\"/\"></a></div>\\r\\n        <div class=\"breadcrumbs_item\">\\r\\n            <a href=\"/statistics/\"><!--noindex-->Статистика<!--/noindex--></a>\\r\\n        </div>\\r\\n    </div>\\r\\n\\r\\n\\r\\n                    <!--index-->\\r\\n<h1 class=\"_medium\"><span class=\"referenceable\">Динамика максимальной процентной ставки (по&#160;вкладам в&#160;российских рублях) десяти кредитных организаций, привлекающих наибольший объём депозитов физических лиц</span>\\r\\n</h1>\\r\\n                                        \\r\\n\\r\\n\\r\\n\\r\\n\\r\\n\\r\\n\\r\\n\\r\\n                                                            \\r\\n\\r\\n<script type=\"text/javascript\">\\r\\n<!--\\r\\n    var UniDbQuery_Data = {};\\r\\n// -->\\r\\n</script>\\r\\n\\r\\n        <!--noindex-->\\r\\n<form action=\"/statistics/avgprocstav/?UniDbQuery.Posted=True&amp;UniDbQuery.From=1.8.2019&amp;UniDbQuery.To=3.2.2021\" class=\"_with-submit\" method=\"get\"><input id=\"UniDbQuery_Posted\" name=\"UniDbQuery.Posted\" type=\"hidden\" value=\"True\" />    <div class=\"request vertical\" id=\"UniDbQuery_form\">\\r\\n\\r\\n\\r\\n\\r\\n\\r\\n<div>\\r\\n\\r\\n\\r\\n\\r\\n        <div class=\"request_block\">\\r\\n            <div class=\"text-input _m _filter\" data-text-input>\\r\\n                \\r\\n                <label class=\"input_label\">\\r\\n                        <div class=\"datepicker-filter\" data-decadepicker-period-filter\\r\\n         data-min-date=\"2.07.2009\"\\r\\n         data-max-date=\"1.03.2021\"\\r\\n         data-default-value-from=\"1.05.2019\"\\r\\n         data-default-value-to=\"1.03.2021\">\\r\\n        <input class=\"datepicker-filter_input-from\" type=\"hidden\" name=\"UniDbQuery.From\" value=\"1.05.2019\" />\\r\\n        <input class=\"datepicker-filter_input-to\" type=\"hidden\" name=\"UniDbQuery.To\" value=\"1.03.2021\" />\\r\\n        <button class=\"datepicker-filter_button\" type=\"button\">\\r\\n            I.05.2019\\r\\n            - I.03.2021\\r\\n        </button>\\r\\n        <div class=\"datepicker-filter_modal\">\\r\\n            <div class=\"datepicker-filter_head\">\\r\\n                <div class=\"datepicker-filter_close\"></div>\\r\\n            </div>\\r\\n            <div class=\"datepicker-filter_tabs\">\\r\\n                <div class=\"datepicker-filter_tab-from\"></div>&nbsp;-&nbsp;\\r\\n                <div class=\"datepicker-filter_tab-to\"></div>\\r\\n            </div>\\r\\n            <div class=\"datepicker-filter_body\">\\r\\n                <div class=\"datepicker-filter_datepicker-from decadepicker-custom\"></div>\\r\\n                <div class=\"datepicker-filter_datepicker-to decadepicker-custom\"></div>\\r\\n            </div>\\r\\n            <div class=\"datepicker-filter_footer\">\\r\\n                <button class=\"datepicker-filter_apply-btn\" type=\"button\">Применить</button>\\r\\n            </div>\\r\\n        </div>\\r\\n    </div>\\r\\n\\r\\n                        <div class=\"input_placeholder\">Период</div>\\r\\n                </label>\\r\\n            </div>\\r\\n        </div>\\r\\n\\r\\n\\r\\n\\r\\n\\r\\n\\r\\n\\r\\n\\r\\n\\r\\n\\r\\n\\r\\n\\r\\n\\r\\n\\r\\n\\r\\n</div>\\r\\n\\r\\n\\r\\n\\r\\n\\r\\n\\r\\n\\r\\n\\r\\n\\r\\n\\r\\n\\r\\n\\r\\n\\r\\n\\r\\n\\r\\n            <div class=\"request_bottom btns\">\\r\\n                    <button type=\"submit\" id=\"UniDbQuery_searchbutton\" class=\"btn _large _blue \">\\r\\n                        Получить данные\\r\\n                    </button>\\r\\n                            </div>\\r\\n    </div>\\r\\n</form>\\r\\n        <!--/noindex-->\\r\\n\\r\\n\\r\\n<h2 class=\"h3\">Диаграмма изменения максимальной процентной ставки за&#160;выбранный период</h2><div class=\"chart-container \"  id=\"UniDbQuery_Charts_0__ChartModel_chart\"></div>\\r\\n        <script>\\r\\n            //<![CDATA[\\r\\n            $(function () {\\r\\n                Highcharts.setOptions({\\r\\n                    lang: {\\r\\n                        decimalPoint: \\',\\'\\r\\n                    }\\r\\n                });\\r\\n            })\\r\\n            //]]>\\r\\n        </script>\\r\\n\\r\\n<script>\\r\\n//<![CDATA[\\r\\n    $(function () {\\r\\n        var id = \"UniDbQuery_Charts_0__ChartModel_chart\";\\r\\n\\r\\n        var commonSettings = {\\r\\n                                        \\r\\n            xAxis: {\\r\\n                crosshair: {\\r\\n                    color: \\'#f5f5f5\\',\\r\\n                    zIndex: 0\\r\\n                },\\r\\n            },\\r\\n            yAxis: {\\r\\n                tickAmount: 5\\r\\n            },\\r\\n                \\r\\n            plotOptions: {\\r\\n            },\\r\\n            responsive: {\\r\\n                rules: [\\r\\n                        ]},\\r\\n            Cbr_RepositionOverlappingLabels: false\\r\\n        };\\r\\n\\r\\n        var settings = {\"chart\":{},\"xAxis\":{\"type\":\"category\",\"categories\":[\"\",\"\",\"\",\"\",\"\",\"\",\"\",\"\",\"\",\"\",\"\",\"\",\"\",\"\",\"\",\"\",\"\",\"\",\"\",\"\",\"\",\"\",\"\",\"\",\"\",\"\",\"\",\"\",\"\",\"\",\"\",\"\",\"\",\"\",\"\",\"\",\"\",\"\",\"\",\"\",\"\",\"\",\"\",\"\",\"\",\"\",\"\",\"\",\"\",\"\",\"\",\"\",\"\",\"\",\"\",\"\",\"\",\"\",\"\",\"\",\"\",\"\",\"\",\"\",\"\",\"\",\"\"],\"title\":{}},\"yAxis\":[{\"title\":{\"text\":\"\"},\"labels\":{\"format\":\"{value}\"}}],\"legend\":{\"enabled\":false},\"title\":{},\"subtitle\":{},\"series\":[{\"dataLabels\":{\"enabled\":false},\"tooltip\":{},\"type\":\"line\",\"lineWidth\":2,\"marker\":{\"symbol\":\"circle\"},\"data\":[7.5220,7.4470,7.3740,7.3060,7.3640,7.2710,7.1350,7.1200,7.0460,6.8230,6.8030,6.8030,6.7140,6.7540,6.6210,6.4780,6.4780,6.3640,6.1690,6.0300,6.1260,6.1260,6.0560,6.0110,5.9270,5.8870,5.7570,5.4890,5.4470,5.2180,5.1500,5.1500,5.3800,5.4270,5.4320,5.3630,5.5080,5.3990,5.0390,5.0140,4.9940,4.8010,4.6290,4.5490,4.5840,4.5150,4.4500,4.4250,4.4060,4.3960,4.3960,4.3260,4.3690,4.4190,4.4190,4.5390,4.4390,4.4560,4.4860,4.4860,4.4860,4.4860,4.4860,4.4660,4.5290,4.5090,4.5290],\"color\":\"#0088cc\",\"name\":\"ставка, %\"}],\"tooltip\":{\"headerFormat\":\"<div class=\\\\\"chart-tooltip-header\\\\\">{point.x}</div>\",\"pointFormat\":\"<div class=\\\\\"chart-tooltip-line\\\\\">\\\\r\\\\n<div class=\\\\\"chart-tooltip-dot\\\\\" style=\\\\\"color:{point.color}\\\\\">●</div>\\\\r\\\\n<div class=\\\\\"chart-tooltip-series\\\\\">{series.name}: </div>\\\\r\\\\n<div class=\\\\\"chart-tooltip-value\\\\\">{point.y}{series.options.units}</div>\\\\r\\\\n</div>\"}};\\r\\n        var comboSettings = $.extend(true, {}, commonSettings, settings);\\r\\n\\r\\n        var chart = Highcharts.chart(id, comboSettings);\\r\\n\\r\\n                    app.chartLegendDataHighlighter(id, chart);\\r\\n        app.chartAutoHeight(id, chart);\\r\\n    })\\r\\n//]]>\\r\\n</script>\\r\\n\\r\\n<div class=\"table-wrapper\">\\r\\n  <div class=\"table\">\\r\\n    <table class=\"data\">\\r\\n      <tr>\\r\\n        <th>Декада</th>\\r\\n        <th>Ставка, %</th>\\r\\n      </tr>\\r\\n      <tr>\\r\\n        <td>I.03.2021</td>\\r\\n        <td>4,5290</td>\\r\\n      </tr>\\r\\n      <tr>\\r\\n        <td>III.02.2021</td>\\r\\n        <td>4,5090</td>\\r\\n      </tr>\\r\\n      <tr>\\r\\n        <td>II.02.2021</td>\\r\\n        <td>4,5290</td>\\r\\n      </tr>\\r\\n      <tr>\\r\\n        <td>I.02.2021</td>\\r\\n        <td>4,4660</td>\\r\\n      </tr>\\r\\n      <tr>\\r\\n        <td>III.01.2021</td>\\r\\n        <td>4,4860</td>\\r\\n      </tr>\\r\\n      <tr>\\r\\n        <td>II.01.2021</td>\\r\\n        <td>4,4860</td>\\r\\n      </tr>\\r\\n      <tr>\\r\\n        <td>I.01.2021</td>\\r\\n        <td>4,4860</td>\\r\\n      </tr>\\r\\n      <tr>\\r\\n        <td>III.12.2020</td>\\r\\n        <td>4,4860</td>\\r\\n      </tr>\\r\\n      <tr>\\r\\n        <td>II.12.2020</td>\\r\\n        <td>4,4860</td>\\r\\n      </tr>\\r\\n      <tr>\\r\\n        <td>I.12.2020</td>\\r\\n        <td>4,4560</td>\\r\\n      </tr>\\r\\n      <tr>\\r\\n        <td>III.11.2020</td>\\r\\n        <td>4,4390</td>\\r\\n      </tr>\\r\\n      <tr>\\r\\n        <td>II.11.2020</td>\\r\\n        <td>4,5390</td>\\r\\n      </tr>\\r\\n      <tr>\\r\\n        <td>I.11.2020</td>\\r\\n        <td>4,4190</td>\\r\\n      </tr>\\r\\n      <tr>\\r\\n        <td>III.10.2020</td>\\r\\n        <td>4,4190</td>\\r\\n      </tr>\\r\\n      <tr>\\r\\n        <td>II.10.2020</td>\\r\\n        <td>4,3690</td>\\r\\n      </tr>\\r\\n      <tr>\\r\\n        <td>I.10.2020</td>\\r\\n        <td>4,3260</td>\\r\\n      </tr>\\r\\n      <tr>\\r\\n        <td>III.09.2020</td>\\r\\n        <td>4,3960</td>\\r\\n      </tr>\\r\\n      <tr>\\r\\n        <td>II.09.2020</td>\\r\\n        <td>4,3960</td>\\r\\n      </tr>\\r\\n      <tr>\\r\\n        <td>I.09.2020</td>\\r\\n        <td>4,4060</td>\\r\\n      </tr>\\r\\n      <tr>\\r\\n        <td>III.08.2020</td>\\r\\n        <td>4,4250</td>\\r\\n      </tr>\\r\\n      <tr>\\r\\n        <td>II.08.2020</td>\\r\\n        <td>4,4500</td>\\r\\n      </tr>\\r\\n      <tr>\\r\\n        <td>I.08.2020</td>\\r\\n        <td>4,5150</td>\\r\\n      </tr>\\r\\n      <tr>\\r\\n        <td>III.07.2020</td>\\r\\n        <td>4,5840</td>\\r\\n      </tr>\\r\\n      <tr>\\r\\n        <td>II.07.2020</td>\\r\\n        <td>4,5490</td>\\r\\n      </tr>\\r\\n      <tr>\\r\\n        <td>I.07.2020</td>\\r\\n        <td>4,6290</td>\\r\\n      </tr>\\r\\n      <tr>\\r\\n        <td>III.06.2020</td>\\r\\n        <td>4,8010</td>\\r\\n      </tr>\\r\\n      <tr>\\r\\n        <td>II.06.2020</td>\\r\\n        <td>4,9940</td>\\r\\n      </tr>\\r\\n      <tr>\\r\\n        <td>I.06.2020</td>\\r\\n        <td>5,0140</td>\\r\\n      </tr>\\r\\n      <tr>\\r\\n        <td>III.05.2020</td>\\r\\n        <td>5,0390</td>\\r\\n      </tr>\\r\\n      <tr>\\r\\n        <td>II.05.2020</td>\\r\\n        <td>5,3990</td>\\r\\n      </tr>\\r\\n      <tr>\\r\\n        <td>I.05.2020</td>\\r\\n        <td>5,5080</td>\\r\\n      </tr>\\r\\n      <tr>\\r\\n        <td>III.04.2020</td>\\r\\n        <td>5,3630</td>\\r\\n      </tr>\\r\\n      <tr>\\r\\n        <td>II.04.2020</td>\\r\\n        <td>5,4320</td>\\r\\n      </tr>\\r\\n      <tr>\\r\\n        <td>I.04.2020</td>\\r\\n        <td>5,4270</td>\\r\\n      </tr>\\r\\n      <tr>\\r\\n        <td>III.03.2020</td>\\r\\n        <td>5,3800</td>\\r\\n      </tr>\\r\\n      <tr>\\r\\n        <td>II.03.2020</td>\\r\\n        <td>5,1500</td>\\r\\n      </tr>\\r\\n      <tr>\\r\\n        <td>I.03.2020</td>\\r\\n        <td>5,1500</td>\\r\\n      </tr>\\r\\n      <tr>\\r\\n        <td>III.02.2020</td>\\r\\n        <td>5,2180</td>\\r\\n      </tr>\\r\\n      <tr>\\r\\n        <td>II.02.2020</td>\\r\\n        <td>5,4470</td>\\r\\n      </tr>\\r\\n      <tr>\\r\\n        <td>I.02.2020</td>\\r\\n        <td>5,4890</td>\\r\\n      </tr>\\r\\n      <tr>\\r\\n        <td>III.01.2020</td>\\r\\n        <td>5,7570</td>\\r\\n      </tr>\\r\\n      <tr>\\r\\n        <td>II.01.2020</td>\\r\\n        <td>5,8870</td>\\r\\n      </tr>\\r\\n      <tr>\\r\\n        <td>I.01.2020</td>\\r\\n        <td>5,9270</td>\\r\\n      </tr>\\r\\n      <tr>\\r\\n        <td>III.12.2019</td>\\r\\n        <td>6,0110</td>\\r\\n      </tr>\\r\\n      <tr>\\r\\n        <td>II.12.2019</td>\\r\\n        <td>6,0560</td>\\r\\n      </tr>\\r\\n      <tr>\\r\\n        <td>I.12.2019</td>\\r\\n        <td>6,1260</td>\\r\\n      </tr>\\r\\n      <tr>\\r\\n        <td>III.11.2019</td>\\r\\n        <td>6,1260</td>\\r\\n      </tr>\\r\\n      <tr>\\r\\n        <td>II.11.2019</td>\\r\\n        <td>6,0300</td>\\r\\n      </tr>\\r\\n      <tr>\\r\\n        <td>I.11.2019</td>\\r\\n        <td>6,1690</td>\\r\\n      </tr>\\r\\n      <tr>\\r\\n        <td>III.10.2019</td>\\r\\n        <td>6,3640</td>\\r\\n      </tr>\\r\\n      <tr>\\r\\n        <td>II.10.2019</td>\\r\\n        <td>6,4780</td>\\r\\n      </tr>\\r\\n      <tr>\\r\\n        <td>I.10.2019</td>\\r\\n        <td>6,4780</td>\\r\\n      </tr>\\r\\n      <tr>\\r\\n        <td>III.09.2019</td>\\r\\n        <td>6,6210</td>\\r\\n      </tr>\\r\\n      <tr>\\r\\n        <td>II.09.2019</td>\\r\\n        <td>6,7540</td>\\r\\n      </tr>\\r\\n      <tr>\\r\\n        <td>I.09.2019</td>\\r\\n        <td>6,7140</td>\\r\\n      </tr>\\r\\n      <tr>\\r\\n        <td>III.08.2019</td>\\r\\n        <td>6,8030</td>\\r\\n      </tr>\\r\\n      <tr>\\r\\n        <td>II.08.2019</td>\\r\\n        <td>6,8030</td>\\r\\n      </tr>\\r\\n      <tr>\\r\\n        <td>I.08.2019</td>\\r\\n        <td>6,8230</td>\\r\\n      </tr>\\r\\n      <tr>\\r\\n        <td>III.07.2019</td>\\r\\n        <td>7,0460</td>\\r\\n      </tr>\\r\\n      <tr>\\r\\n        <td>II.07.2019</td>\\r\\n        <td>7,1200</td>\\r\\n      </tr>\\r\\n      <tr>\\r\\n        <td>I.07.2019</td>\\r\\n        <td>7,1350</td>\\r\\n      </tr>\\r\\n      <tr>\\r\\n        <td>III.06.2019</td>\\r\\n        <td>7,2710</td>\\r\\n      </tr>\\r\\n      <tr>\\r\\n        <td>II.06.2019</td>\\r\\n        <td>7,3640</td>\\r\\n      </tr>\\r\\n      <tr>\\r\\n        <td>I.06.2019</td>\\r\\n        <td>7,3060</td>\\r\\n      </tr>\\r\\n      <tr>\\r\\n        <td>III.05.2019</td>\\r\\n        <td>7,3740</td>\\r\\n      </tr>\\r\\n      <tr>\\r\\n        <td>II.05.2019</td>\\r\\n        <td>7,4470</td>\\r\\n      </tr>\\r\\n      <tr>\\r\\n        <td>I.05.2019</td>\\r\\n        <td>7,5220</td>\\r\\n      </tr>\\r\\n    </table>\\r\\n  </div>\\r\\n</div>\\r\\n\\r\\n\\r\\n\\r\\n                    \\r\\n                    <!--/index-->\\r\\n                    \\r\\n    <div class=\"page-info\">\\r\\n        <!--noindex-->\\r\\n        \\r\\n\\r\\n\\r\\n<div class=\"page-info_helpful\"\\r\\n     data-page-feedback=\"\"\\r\\n     data-feedback-url=\"/Content/PageInfo/RegisterFeedback\">\\r\\n    <!--noindex-->\\r\\n    <div class=\"helpful\" data-helpful=\"\">\\r\\n        Страница была полезной?\\r\\n        <div class=\"helpful_btns\">\\r\\n            <button class=\"helpful_btn _yes\" data-helpful-btn=\"yes\"><i class=\"helpful_icon\"></i><span>Да</span></button>\\r\\n            <button class=\"helpful_btn _no\" data-helpful-btn=\"no\"><i class=\"helpful_icon\"></i><span>Нет</span></button>\\r\\n        </div>\\r\\n    </div>\\r\\n    <!--/noindex-->\\r\\n</div>\\r\\n\\r\\n            <div class=\"page-info_last-update\">Последнее обновление страницы: 12.03.2021</div>\\r\\n        <!--/noindex-->\\r\\n    </div>\\r\\n\\r\\n                </div>\\r\\n            </div>\\r\\n        </div>\\r\\n    </div>\\r\\n\\r\\n    <footer class=\"footer\" id=\"footer\">\\r\\n        <div class=\"offsetMenu\">\\r\\n            <div class=\"footer_main\">\\r\\n                <div class=\"col-md-23 col-xl-22 offset-md-1 offset-xl-2\">\\r\\n                    <div class=\"footer_top\">\\r\\n                        <a class=\"footer_logo\" href=\"/\"></a>\\r\\n                        <div class=\"footer_up gotoUp\">\\r\\n                            <div class=\"footer_up_title\">Наверх</div>\\r\\n                            <div class=\"footer_up_icon\"></div>\\r\\n                        </div>\\r\\n                    </div>\\r\\n                    \\r\\n<div class=\"footer_contacts\">\\r\\n<div class=\"footer_address\">ул. Неглинная, 12, Москва, 107016</div>\\r\\n<div class=\"footer_phones\">\\r\\n<div class=\"footer_phone\"><a class=\"footer_phone_val\" href=\"tel:88003003000\">8&nbsp;800 300-30-00</a><span>(круглосуточно, бесплатно для&nbsp;звонков из&nbsp;регионов России)</span></div>\\r\\n<div class=\"footer_phone\"><a class=\"footer_phone_val\" href=\"tel:+74993003000\">+7&nbsp;499 300-30-00</a><span>(круглосуточно, в&nbsp;соответствии с&nbsp;тарифами вашего оператора)</span></div>\\r\\n<div class=\"footer_phone\"><a class=\"footer_phone_val\" href=\"tel:300\">300</a><span>(круглосуточно, бесплатно для&nbsp;звонков с&nbsp;мобильных телефонов)</span></div>\\r\\n</div>\\r\\n</div>\\r\\n<div class=\"footer_main_block\">\\r\\n<div class=\"footer_left-menu\">\\r\\n<div class=\"footer_left-menu_item\"><a href=\"/lk_uio/\">Личный кабинет участников рынка</a></div>\\r\\n<div class=\"footer_left-menu_item\"><a href=\"/about_br/irp/\">Отношения с&nbsp;инвесторами</a></div>\\r\\n<div class=\"footer_left-menu_item\"><a href=\"/rbr/list_inside/\">Перечень инсайдерской информации Банка России</a></div>\\r\\n<div class=\"footer_left-menu_item\"><a href=\"/analytics/na_vr/\">Официальное опубликование нормативных актов Банка России</a></div>\\r\\n<div class=\"footer_left-menu_item\"><a href=\"/project_na/\">Проекты нормативных актов Банка России</a></div>\\r\\n<div class=\"footer_left-menu_item\"><a href=\"/other/holidays/\">Перечень нерабочих праздничных дней и&nbsp;перенесенных выходных дней</a></div>\\r\\n</div>\\r\\n<div class=\"networks-circle footer_networks\">\\r\\n<a class=\"networks-circle_item _fb\" href=\"https://www.facebook.com/cbr.ru/\"></a>\\r\\n<a class=\"networks-circle_item _ig\" href=\"https://www.instagram.com/cbrf_official/\" title=\"Instagram\"></a>\\r\\n<a class=\"networks-circle_item _vk\" href=\"https://vk.com/cbr_official\"></a>\\r\\n<a class=\"networks-circle_item _tw\" href=\"https://twitter.com/bank_of_russia\"></a>\\r\\n<a class=\"networks-circle_item _yt\" href=\"https://www.youtube.com/user/BankofRussia\"></a>\\r\\n</div>\\r\\n</div>\\r\\n<div class=\"footer_menu\">\\r\\n<div class=\"footer_menu_items\">\\r\\n<div class=\"footer_menu_item\"><a href=\"/about/\">О&nbsp;сайте</a></div>\\r\\n<div class=\"footer_menu_item\"><a href=\"/contacts/\">Контакты</a></div>\\r\\n<div class=\"footer_menu_item\"><a href=\"/about_br/anticor/\">Противодействие коррупции</a></div>\\r\\n<div class=\"footer_menu_item\"><a href=\"/development/\">Технические ресурсы</a></div>\\r\\n</div>\\r\\n\\t\\t\\t <div class=\"footer_menu_item _visually-impaired\"><a href=\"#\" title=\"Версия для слабовидящих\"><span class=\"visually-impaired-on\">Версия для&nbsp;слабовидящих</span><span class=\"visually-impaired-off\">Обычная версия</span></a></div>\\r\\n</div>\\r\\n\\r\\n\\r\\n                </div>\\r\\n            </div>\\r\\n            <div class=\"footer_bottom\">\\r\\n                <div class=\"col-md-23 col-xl-22 offset-md-1 offset-xl-2 row\">\\r\\n                    <div class=\"footer_bottom_text col-md-12 col-xl-11\">&#169; Банк России, 2000–2021.</div>\\r\\n<div class=\"footer_bottom_aic col-md-11\">Дизайн сайта — <a href=\"https://aic.ru\" target=\"_blank\"><img src=\"/common/images/icons/aic-logo.svg\" /></a></div>\\r\\n\\r\\n\\r\\n                </div>\\r\\n            </div>\\r\\n        </div>\\r\\n    </footer>\\r\\n    \\r\\n        <div class=\"popup-cookies\" data-popup-cookies>\\r\\n        <div class=\"popup-cookies_title\">\\r\\n            На сайте Банка России используются файлы cookie\\r\\n        </div>\\r\\n        <div class=\"popup-cookies_subtitle\">\\r\\n            Оставаясь на <a href=\"/\">www.cbr.ru</a>, вы принимаете\\r\\n            <a href=\\'/user_agreement/\\'>пользовательское соглашение</a>\\r\\n        </div>\\r\\n        <button class=\"btn _medium _blue \" data-popup-cookies-btn>\\r\\n            Подтвердить\\r\\n        </button>\\r\\n    </div>\\r\\n\\r\\n\\r\\n    \\r\\n<!--[if IE 9]><script>$(\\'body\\').addClass(\\'ie9\\')</script><![endif]-->\\r\\n<script src=\"/Modules/Content/Scripts/PageInfo.js?v=v3116962712\" type=\"text/javascript\"></script>\\r\\n    <script type=\"text/javascript\">\\r\\n        $(function () {\\r\\n            Content_PageInfo.init($(\\'[data-page-feedback]\\'));\\r\\n        });\\r\\n    </script>\\r\\n\\r\\n\\r\\n\\r\\n</body>\\r\\n</html>\\r\\n'"
            ]
          },
          "metadata": {
            "tags": []
          },
          "execution_count": 621
        }
      ]
    },
    {
      "cell_type": "markdown",
      "metadata": {
        "id": "D9Rr2rH6Sdwx"
      },
      "source": [
        "Воспользуемся методом `BeautifulSoup`, передав в него код (текст) страницы и указав вид парсера"
      ]
    },
    {
      "cell_type": "code",
      "metadata": {
        "id": "6j0MAyDK3ch_"
      },
      "source": [
        "soup = BeautifulSoup(response.text, 'html.parser')"
      ],
      "execution_count": null,
      "outputs": []
    },
    {
      "cell_type": "markdown",
      "metadata": {
        "id": "TnD3oB1cSqq_"
      },
      "source": [
        "Получили уже что-то более структурированное"
      ]
    },
    {
      "cell_type": "code",
      "metadata": {
        "colab": {
          "base_uri": "https://localhost:8080/"
        },
        "id": "QihcTn3p3i2u",
        "outputId": "b7ec36e2-97ab-4873-c270-1bf635b487b2"
      },
      "source": [
        "soup"
      ],
      "execution_count": null,
      "outputs": [
        {
          "output_type": "execute_result",
          "data": {
            "text/plain": [
              "\n",
              "<!DOCTYPE html>\n",
              "\n",
              "<html>\n",
              "<head>\n",
              "<meta content=\"text/html; charset=utf-8\" http-equiv=\"Content-Type\"/>\n",
              "<meta content=\"IE=edge,chrome=1\" http-equiv=\"X-UA-Compatible\"/>\n",
              "<meta content=\"width=device-width, initial-scale=1, shrink-to-fit=no\" name=\"viewport\"/>\n",
              "<meta content=\"telephone=no\" name=\"format-detection\">\n",
              "<meta content=\"ru\" name=\"zoom:lang\">\n",
              "<meta content=\"Fri, 12 Mar 2021 16:15:11 GMT\" name=\"zoom:last-modified\"/>\n",
              "<title>Динамика максимальной процентной ставки (по вкладам в российских рублях) десяти кредитных организаций, привлекающих наибольший объём депозитов физических лиц | Банк России</title>\n",
              "<meta content=\"/common/images/share-1.jpg\" property=\"og:image\"/>\n",
              "<link href=\"/common/libs/jquery-ui/jquery-ui.min.css?v=v3348762655\" media=\"all\" rel=\"stylesheet\" type=\"text/css\"/>\n",
              "<!--[if IE 9]><link rel=\"stylesheet\" type=\"text/css\" href=\"/common/style/main-ie9.css?v=v3703271909\" media=\"all\"><![endif]-->\n",
              "<!--[if gt IE 9]><!--><link href=\"/common/style/main.css?v=v2793958826\" media=\"all\" rel=\"stylesheet\" type=\"text/css\"/><!--<![endif]-->\n",
              "<script src=\"/common/libs/jquery-3.4.1.min.js?v=v906141912\" type=\"text/javascript\"></script>\n",
              "<script src=\"/common/libs/jquery-ui/jquery-ui.min.js?v=v906141912\" type=\"text/javascript\"></script>\n",
              "<script src=\"/common/libs/jquery.inputmask.min.js?v=v089173232\" type=\"text/javascript\"></script>\n",
              "<script src=\"/common/scripts/vendor.js?v=v236022842\" type=\"text/javascript\"></script>\n",
              "<script src=\"/common/libs/jquery.floatThead.min.js?v=v3348762655\" type=\"text/javascript\"></script>\n",
              "<script src=\"/common/libs/highcharts.js?v=v2179020732\" type=\"text/javascript\"></script>\n",
              "<script src=\"/common/scripts/main.min.js?v=v236022842\" type=\"text/javascript\"></script>\n",
              "<script src=\"/common/libs/localization-ru.js?v=v1814421028\" type=\"text/javascript\"></script>\n",
              "<script src=\"/js/jquery.cookie.min.js?v=v4260771145\" type=\"text/javascript\"></script>\n",
              "<script src=\"/js/site.js?v=v2009763665\" type=\"text/javascript\"></script>\n",
              "<script src=\"/Modules/Queries/Scripts/queries-ui.js?v=v662783731\" type=\"text/javascript\"></script>\n",
              "<script src=\"/common/libs/highcharts-more.js?v=v2192630460\" type=\"text/javascript\"></script>\n",
              "<script type=\"text/javascript\">\n",
              "    $(function () {\n",
              "        var $menu = $('[data-menu]'),\n",
              "            $menuItemBtn = $menu.find('[data-menu-item-btn]'),\n",
              "            $menuShow = $('[data-menu-show]'),\n",
              "            $menuClose = $('[data-menu-close]');\n",
              "        var config = $menu.data('config');\n",
              "\n",
              "        $menu.find('.header_right').html($('#header .header_right').html());\n",
              "\n",
              "        $menuShow.on('click.cms_loadwholesite', function (event) {\n",
              "            loadWholeSite(true);\n",
              "        });\n",
              "        $menuShow.on('mouseenter.cms_loadwholesite', function (event) {\n",
              "            loadWholeSite(false);\n",
              "        });\n",
              "\n",
              "        var xhr = null, g_openMenu = false;\n",
              "        function loadWholeSite(openmenu) {\n",
              "            g_openMenu = g_openMenu || openmenu;\n",
              "            $menuShow.off('click.cms_loadwholesite mouseenter.cms_loadwholesite');\n",
              "            if (xhr === null) {\n",
              "                $('.menu_wrap .networks-circle').html($('.networks-circle.footer_networks').html());\n",
              "                $('.menu_wrap .header_search').html($('.header .offsetMenu .header_search').html());\n",
              "\n",
              "                xhr = $.ajax(config.url, {\n",
              "                    dataType: \"html\",\n",
              "                    method: \"get\",\n",
              "                    success: function (html) {\n",
              "                        $('[data-cms-wholesite-placeholder]').replaceWith(html);\n",
              "\n",
              "                        $menu.find('.menu_tab[data-tabs-tab]').each(function () {\n",
              "                            var tab = $(this).data('tabs-tab');\n",
              "                            $(this).toggle($menu.find('[data-tabs-content=\"' + tab + '\"]').length != 0);\n",
              "                        });\n",
              "\n",
              "                        app.init($menu);\n",
              "\n",
              "                        for (var i in config.catalogPath) {\n",
              "                            $menu.find('li[data-catalog-id=\"' + config.catalogPath[i] + '\"]')\n",
              "                                .addClass(\"_active\");\n",
              "                            $menu.find('li[data-catalog-id=\"' + config.catalogPath[i] + '\"]')\n",
              "                                .closest('[data-tabs-content]')\n",
              "                                .trigger('open-anchor');\n",
              "                        }\n",
              "\n",
              "                        \n",
              "                        xhr = true;\n",
              "                    },\n",
              "                    error: function () {\n",
              "                        xhr = null;\n",
              "                    }\n",
              "                });\n",
              "            }\n",
              "        }\n",
              "    });\n",
              "    </script>\n",
              "<script>\n",
              "    if (window.localStorage) {\n",
              "        if (localStorage.getItem('vision-impaired'))\n",
              "            document.getElementsByTagName('html')[0].className += ' vision-impaired';\n",
              "    }\n",
              "</script>\n",
              "<script>\n",
              "    document.documentElement.style.setProperty('--scrollbar-width', '17px');\n",
              "    setTimeout(function () {\n",
              "        \n",
              "        var div = document.createElement('div');\n",
              "\n",
              "        div.style.overflowY = 'scroll';\n",
              "        div.style.width = '50px';\n",
              "        div.style.height = '50px';\n",
              "\n",
              "        \n",
              "        div.style.visibility = 'hidden';\n",
              "\n",
              "        document.body.appendChild(div);\n",
              "        var scrollWidth = Math.max(div.offsetWidth - div.clientWidth, 0.15); \n",
              "        document.body.removeChild(div);\n",
              "        \n",
              "        document.documentElement.style.setProperty('--scrollbar-width', scrollWidth + 'px');\n",
              "    }, 0);\n",
              "</script>\n",
              "</meta></meta></head>\n",
              "<body>\n",
              "<!-- Yandex.Metrika counter -->\n",
              "<script type=\"text/javascript\">\n",
              "       (function(m,e,t,r,i,k,a){m[i]=m[i]||function(){(m[i].a=m[i].a||[]).push(arguments)};\n",
              "       m[i].l=1*new Date();k=e.createElement(t),a=e.getElementsByTagName(t)[0],k.async=1,k.src=r,a.parentNode.insertBefore(k,a)})\n",
              "       (window, document, \"script\", \"https://mc.yandex.ru/metrika/tag.js\", \"ym\");\n",
              "\n",
              "       ym(5774506, \"init\", {\n",
              "            clickmap:true,\n",
              "            trackLinks:true,\n",
              "            accurateTrackBounce:true,\n",
              "            webvisor:true\n",
              "       });\n",
              "    </script>\n",
              "<noscript><div><img alt=\"\" src=\"https://mc.yandex.ru/watch/5774506\" style=\"position:absolute; left:-9999px;\"/></div></noscript>\n",
              "<!-- /Yandex.Metrika counter -->\n",
              "<div class=\"header-print\">\n",
              "<div class=\"offsetMenu\">\n",
              "<div class=\"header-print_inner\">\n",
              "<img alt=\"cbr\" class=\"header-print_logo\" src=\"/common/images/logo.svg\"/>\n",
              "<ul class=\"header-print_contacts\">\n",
              "<li>ул. Неглинная, 12, Москва, 107016</li>\n",
              "<li><nobr class=\"phone\">8 800 300-30-00</nobr></li>\n",
              "<li>www.cbr.ru</li>\n",
              "</ul>\n",
              "</div>\n",
              "</div>\n",
              "</div>\n",
              "<header class=\"header\" id=\"header\">\n",
              "<div class=\"top-line\" data-top-line=\"\">\n",
              "<div class=\"offsetMenu\">\n",
              "<div class=\"col-md-23 offset-md-1\">\n",
              "<div class=\"top-line_inner header_inner\">\n",
              "<div class=\"row\">\n",
              "<div class=\"col-xl-5 col-md-9\">\n",
              "<div class=\"header_left\">\n",
              "<div class=\"header_menu\" data-menu-show=\"\"></div>\n",
              "<a class=\"header_logo\" href=\"/\"></a>\n",
              "</div>\n",
              "</div>\n",
              "<div class=\"col-xl-17 col-md-13 offset-md-1 header_block\">\n",
              "<div class=\"header_search\">\n",
              "<a class=\"header_search_btn\" data-search-form-show=\"\" href=\"#\" title=\"поиск\">\n",
              "<div class=\"header_search_icon\"></div><span class=\"d-none d-xl-block\">Поиск по сайту</span>\n",
              "</a>\n",
              "</div>\n",
              "<div class=\"d-none d-md-block\">\n",
              "<div class=\"header_right\">\n",
              "<div class=\"header_link\"><a href=\"/reception/\">Интернет-приемная</a></div>\n",
              "<div class=\"header_lang\">\n",
              "<div class=\"header_lang_item _active\"><span><!--noindex-->RU<!--/noindex--></span></div>\n",
              "<div class=\"header_lang_item\"><a href=\"/Localization/SwitchLanguage?url=%2Fstatistics%2Favgprocstav%2F%3FUniDbQuery.Posted%3DTrue%26UniDbQuery.From%3D1.8.2019%26UniDbQuery.To%3D3.2.2021&amp;from=ru-RU&amp;to=en-GB\"><!--noindex-->EN<!--/noindex--></a></div>\n",
              "</div>\n",
              "</div>\n",
              "</div>\n",
              "</div>\n",
              "</div>\n",
              "</div>\n",
              "</div>\n",
              "</div>\n",
              "</div>\n",
              "<div class=\"offsetMenu\">\n",
              "<div class=\"col-md-23 offset-md-1\">\n",
              "<div class=\"header_inner\">\n",
              "<div class=\"row\">\n",
              "<div class=\"col-xl-5 col-md-9\">\n",
              "<div class=\"header_left\">\n",
              "<div class=\"header_menu\" data-menu-show=\"\"></div>\n",
              "<a class=\"header_logo\" href=\"/\"></a>\n",
              "</div>\n",
              "</div>\n",
              "<div class=\"col-xl-17 col-md-13 offset-md-1 header_block\">\n",
              "<div class=\"header_search\">\n",
              "<a class=\"header_search_btn\" data-search-form-show=\"\" href=\"#\" title=\"поиск\">\n",
              "<div class=\"header_search_icon\"></div><span class=\"d-none d-xl-block\">Поиск по сайту</span>\n",
              "</a>\n",
              "</div>\n",
              "<div class=\"d-none d-md-block\">\n",
              "<div class=\"header_right\">\n",
              "<div class=\"header_link\"><a href=\"/reception/\">Интернет-приемная</a></div>\n",
              "<div class=\"header_lang\">\n",
              "<div class=\"header_lang_item _active\"><span><!--noindex-->RU<!--/noindex--></span></div>\n",
              "<div class=\"header_lang_item\"><a href=\"/Localization/SwitchLanguage?url=%2Fstatistics%2Favgprocstav%2F%3FUniDbQuery.Posted%3DTrue%26UniDbQuery.From%3D1.8.2019%26UniDbQuery.To%3D3.2.2021&amp;from=ru-RU&amp;to=en-GB\"><!--noindex-->EN<!--/noindex--></a></div>\n",
              "</div>\n",
              "</div>\n",
              "</div>\n",
              "</div>\n",
              "</div>\n",
              "</div>\n",
              "</div>\n",
              "</div>\n",
              "</header>\n",
              "<form action=\"/search/\" class=\"search-form\" data-search-form=\"\" method=\"get\">\n",
              "<div class=\"offsetMenu\">\n",
              "<div class=\"col-md-23 offset-md-1\">\n",
              "<div class=\"search-form_inner\">\n",
              "<div class=\"search-form_title\">Что вы хотите найти?</div>\n",
              "<div class=\"search-form_content\">\n",
              "<div class=\"search-form_block\">\n",
              "<div class=\"search-form_icon\"></div>\n",
              "<div class=\"search-form_field\">\n",
              "<input data-search-form-input=\"\" name=\"text\" placeholder=\"Начните писать\" type=\"text\"/>\n",
              "</div>\n",
              "</div>\n",
              "<div class=\"search-form_btn\">\n",
              "<button class=\"b-btn _blue\" data-search-form-btn=\"\">Искать</button>\n",
              "</div>\n",
              "</div>\n",
              "</div>\n",
              "</div>\n",
              "</div>\n",
              "</form>\n",
              "<div class=\"menu_wrap\" data-config='{\"catalogPath\":[22108,16628],\"url\":\"/Catalog/SiteMap/GetWholeSiteHtml?blockId=59191\\u0026t=1\"}' data-menu=\"\">\n",
              "<div class=\"offsetMenu\">\n",
              "<div class=\"header_menu _close menu_close d-none d-md-block\" data-menu-close=\"\"></div>\n",
              "<div class=\"header_inner top-line_inner d-block d-md-none\">\n",
              "<div class=\"row\">\n",
              "<div class=\"col-xl-5 col-md-9\">\n",
              "<div class=\"header_left\">\n",
              "<div class=\"header_menu _close\" data-menu-close=\"\"></div><a class=\"header_logo\" href=\"/\"></a>\n",
              "</div>\n",
              "</div>\n",
              "<div class=\"col-xl-17 col-md-13 offset-md-1 header_block\">\n",
              "<div class=\"header_search\"></div>\n",
              "</div>\n",
              "</div>\n",
              "</div>\n",
              "<div class=\"menu row\" data-tabs=\"data-tabs\">\n",
              "<div class=\"menu_quick col-md-7\">\n",
              "<div class=\"menu_quick_tabs\">\n",
              "<a class=\"menu_tab _active\" data-tabs-tab=\"Activity\" href=\"#\">Деятельность</a>\n",
              "<a class=\"menu_tab\" data-tabs-tab=\"FinancialMarkets\" href=\"#\">Финансовые рынки</a>\n",
              "<a class=\"menu_tab\" data-tabs-tab=\"Documents\" href=\"#\">Документы и данные</a>\n",
              "<a class=\"menu_tab\" data-tabs-tab=\"AboutBank\" href=\"#\">О Банке России</a>\n",
              "<a class=\"menu_tab\" data-tabs-tab=\"Services\" href=\"#\">Сервисы</a>\n",
              "</div>\n",
              "<div class=\"menu_quick_links\">\n",
              "<div class=\"inner_links\"><a href=\"/allcovid/\" style=\"color:red\" title=\"Новости\">Коронавирус: поддержка экономики, бизнеса, граждан</a></div>\n",
              "<div class=\"phones\"><a class=\"menu_phone_val\" href=\"tel:+74993003000\">\n",
              "<div class=\"plus\">+</div>7 499 300-30-00</a><a class=\"menu_phone_val\" href=\"tel:88003003000\">8 800 300-30-00</a><a class=\"menu_phone_val\" href=\"tel:300\">300</a><span>Бесплатно для звонков с мобильных телефонов</span></div>\n",
              "<div class=\"inner_links\">\n",
              "<a href=\"/news/\" title=\"Новости\">Новости</a>\n",
              "<a href=\"/rbr/\" title=\"Решения Банка России\">Решения Банка России</a>\n",
              "<a href=\"/contacts/\" title=\"Контактная информация\">Контактная информация</a>\n",
              "<a href=\"/sitemap\" title=\"Карта сайта\">Карта сайта</a>\n",
              "<a href=\"/about/\" title=\"О сайте\">О сайте</a>\n",
              "</div>\n",
              "<div class=\"networks-circle\">\n",
              "<a class=\"networks-circle_item _fb\" href=\"https://www.facebook.com/cbr.ru/\" title=\"Facebook\"></a>\n",
              "<a class=\"networks-circle_item _ig\" href=\"https://www.instagram.com/cbrf_official/\" title=\"Instagram\"></a>\n",
              "<a class=\"networks-circle_item _vk\" href=\"https://vk.com/cbr_official\" title=\"ВКонтакте\"></a>\n",
              "<a class=\"networks-circle_item _tw\" href=\"https://twitter.com/bank_of_russia\" title=\"Twitter\"></a>\n",
              "<a class=\"networks-circle_item _yt\" href=\"https://www.youtube.com/user/BankofRussia\" title=\"Youtube\"></a>\n",
              "</div>\n",
              "</div>\n",
              "</div>\n",
              "<div class=\"d-md-none link-above\">\n",
              "<div class=\"header_right\"></div>\n",
              "</div>\n",
              "<div class=\"menu_content_container col-md with-centered-loader\" data-cms-wholesite-placeholder=\"\">\n",
              "</div>\n",
              "</div>\n",
              "</div>\n",
              "</div>\n",
              "<div id=\"content\">\n",
              "<div class=\"offsetMenu\">\n",
              "<div class=\"container-fluid\">\n",
              "<div class=\"col-md-23 offset-md-1\">\n",
              "<div class=\"breadcrumbs\">\n",
              "<div class=\"breadcrumbs_item\"><a class=\"breadcrumbs_home\" href=\"/\"></a></div>\n",
              "<div class=\"breadcrumbs_item\">\n",
              "<a href=\"/statistics/\"><!--noindex-->Статистика<!--/noindex--></a>\n",
              "</div>\n",
              "</div>\n",
              "<!--index-->\n",
              "<h1 class=\"_medium\"><span class=\"referenceable\">Динамика максимальной процентной ставки (по вкладам в российских рублях) десяти кредитных организаций, привлекающих наибольший объём депозитов физических лиц</span>\n",
              "</h1>\n",
              "<script type=\"text/javascript\">\n",
              "<!--\n",
              "    var UniDbQuery_Data = {};\n",
              "// -->\n",
              "</script>\n",
              "<!--noindex-->\n",
              "<form action=\"/statistics/avgprocstav/?UniDbQuery.Posted=True&amp;UniDbQuery.From=1.8.2019&amp;UniDbQuery.To=3.2.2021\" class=\"_with-submit\" method=\"get\"><input id=\"UniDbQuery_Posted\" name=\"UniDbQuery.Posted\" type=\"hidden\" value=\"True\"/> <div class=\"request vertical\" id=\"UniDbQuery_form\">\n",
              "<div>\n",
              "<div class=\"request_block\">\n",
              "<div class=\"text-input _m _filter\" data-text-input=\"\">\n",
              "<label class=\"input_label\">\n",
              "<div class=\"datepicker-filter\" data-decadepicker-period-filter=\"\" data-default-value-from=\"1.05.2019\" data-default-value-to=\"1.03.2021\" data-max-date=\"1.03.2021\" data-min-date=\"2.07.2009\">\n",
              "<input class=\"datepicker-filter_input-from\" name=\"UniDbQuery.From\" type=\"hidden\" value=\"1.05.2019\"/>\n",
              "<input class=\"datepicker-filter_input-to\" name=\"UniDbQuery.To\" type=\"hidden\" value=\"1.03.2021\"/>\n",
              "<button class=\"datepicker-filter_button\" type=\"button\">\n",
              "            I.05.2019\n",
              "            - I.03.2021\n",
              "        </button>\n",
              "<div class=\"datepicker-filter_modal\">\n",
              "<div class=\"datepicker-filter_head\">\n",
              "<div class=\"datepicker-filter_close\"></div>\n",
              "</div>\n",
              "<div class=\"datepicker-filter_tabs\">\n",
              "<div class=\"datepicker-filter_tab-from\"></div> - \n",
              "                <div class=\"datepicker-filter_tab-to\"></div>\n",
              "</div>\n",
              "<div class=\"datepicker-filter_body\">\n",
              "<div class=\"datepicker-filter_datepicker-from decadepicker-custom\"></div>\n",
              "<div class=\"datepicker-filter_datepicker-to decadepicker-custom\"></div>\n",
              "</div>\n",
              "<div class=\"datepicker-filter_footer\">\n",
              "<button class=\"datepicker-filter_apply-btn\" type=\"button\">Применить</button>\n",
              "</div>\n",
              "</div>\n",
              "</div>\n",
              "<div class=\"input_placeholder\">Период</div>\n",
              "</label>\n",
              "</div>\n",
              "</div>\n",
              "</div>\n",
              "<div class=\"request_bottom btns\">\n",
              "<button class=\"btn _large _blue \" id=\"UniDbQuery_searchbutton\" type=\"submit\">\n",
              "                        Получить данные\n",
              "                    </button>\n",
              "</div>\n",
              "</div>\n",
              "</form>\n",
              "<!--/noindex-->\n",
              "<h2 class=\"h3\">Диаграмма изменения максимальной процентной ставки за выбранный период</h2><div class=\"chart-container \" id=\"UniDbQuery_Charts_0__ChartModel_chart\"></div>\n",
              "<script>\n",
              "            //<![CDATA[\n",
              "            $(function () {\n",
              "                Highcharts.setOptions({\n",
              "                    lang: {\n",
              "                        decimalPoint: ','\n",
              "                    }\n",
              "                });\n",
              "            })\n",
              "            //]]>\n",
              "        </script>\n",
              "<script>\n",
              "//<![CDATA[\n",
              "    $(function () {\n",
              "        var id = \"UniDbQuery_Charts_0__ChartModel_chart\";\n",
              "\n",
              "        var commonSettings = {\n",
              "                                        \n",
              "            xAxis: {\n",
              "                crosshair: {\n",
              "                    color: '#f5f5f5',\n",
              "                    zIndex: 0\n",
              "                },\n",
              "            },\n",
              "            yAxis: {\n",
              "                tickAmount: 5\n",
              "            },\n",
              "                \n",
              "            plotOptions: {\n",
              "            },\n",
              "            responsive: {\n",
              "                rules: [\n",
              "                        ]},\n",
              "            Cbr_RepositionOverlappingLabels: false\n",
              "        };\n",
              "\n",
              "        var settings = {\"chart\":{},\"xAxis\":{\"type\":\"category\",\"categories\":[\"\",\"\",\"\",\"\",\"\",\"\",\"\",\"\",\"\",\"\",\"\",\"\",\"\",\"\",\"\",\"\",\"\",\"\",\"\",\"\",\"\",\"\",\"\",\"\",\"\",\"\",\"\",\"\",\"\",\"\",\"\",\"\",\"\",\"\",\"\",\"\",\"\",\"\",\"\",\"\",\"\",\"\",\"\",\"\",\"\",\"\",\"\",\"\",\"\",\"\",\"\",\"\",\"\",\"\",\"\",\"\",\"\",\"\",\"\",\"\",\"\",\"\",\"\",\"\",\"\",\"\",\"\"],\"title\":{}},\"yAxis\":[{\"title\":{\"text\":\"\"},\"labels\":{\"format\":\"{value}\"}}],\"legend\":{\"enabled\":false},\"title\":{},\"subtitle\":{},\"series\":[{\"dataLabels\":{\"enabled\":false},\"tooltip\":{},\"type\":\"line\",\"lineWidth\":2,\"marker\":{\"symbol\":\"circle\"},\"data\":[7.5220,7.4470,7.3740,7.3060,7.3640,7.2710,7.1350,7.1200,7.0460,6.8230,6.8030,6.8030,6.7140,6.7540,6.6210,6.4780,6.4780,6.3640,6.1690,6.0300,6.1260,6.1260,6.0560,6.0110,5.9270,5.8870,5.7570,5.4890,5.4470,5.2180,5.1500,5.1500,5.3800,5.4270,5.4320,5.3630,5.5080,5.3990,5.0390,5.0140,4.9940,4.8010,4.6290,4.5490,4.5840,4.5150,4.4500,4.4250,4.4060,4.3960,4.3960,4.3260,4.3690,4.4190,4.4190,4.5390,4.4390,4.4560,4.4860,4.4860,4.4860,4.4860,4.4860,4.4660,4.5290,4.5090,4.5290],\"color\":\"#0088cc\",\"name\":\"ставка, %\"}],\"tooltip\":{\"headerFormat\":\"<div class=\\\"chart-tooltip-header\\\">{point.x}</div>\",\"pointFormat\":\"<div class=\\\"chart-tooltip-line\\\">\\r\\n<div class=\\\"chart-tooltip-dot\\\" style=\\\"color:{point.color}\\\">●</div>\\r\\n<div class=\\\"chart-tooltip-series\\\">{series.name}: </div>\\r\\n<div class=\\\"chart-tooltip-value\\\">{point.y}{series.options.units}</div>\\r\\n</div>\"}};\n",
              "        var comboSettings = $.extend(true, {}, commonSettings, settings);\n",
              "\n",
              "        var chart = Highcharts.chart(id, comboSettings);\n",
              "\n",
              "                    app.chartLegendDataHighlighter(id, chart);\n",
              "        app.chartAutoHeight(id, chart);\n",
              "    })\n",
              "//]]>\n",
              "</script>\n",
              "<div class=\"table-wrapper\">\n",
              "<div class=\"table\">\n",
              "<table class=\"data\">\n",
              "<tr>\n",
              "<th>Декада</th>\n",
              "<th>Ставка, %</th>\n",
              "</tr>\n",
              "<tr>\n",
              "<td>I.03.2021</td>\n",
              "<td>4,5290</td>\n",
              "</tr>\n",
              "<tr>\n",
              "<td>III.02.2021</td>\n",
              "<td>4,5090</td>\n",
              "</tr>\n",
              "<tr>\n",
              "<td>II.02.2021</td>\n",
              "<td>4,5290</td>\n",
              "</tr>\n",
              "<tr>\n",
              "<td>I.02.2021</td>\n",
              "<td>4,4660</td>\n",
              "</tr>\n",
              "<tr>\n",
              "<td>III.01.2021</td>\n",
              "<td>4,4860</td>\n",
              "</tr>\n",
              "<tr>\n",
              "<td>II.01.2021</td>\n",
              "<td>4,4860</td>\n",
              "</tr>\n",
              "<tr>\n",
              "<td>I.01.2021</td>\n",
              "<td>4,4860</td>\n",
              "</tr>\n",
              "<tr>\n",
              "<td>III.12.2020</td>\n",
              "<td>4,4860</td>\n",
              "</tr>\n",
              "<tr>\n",
              "<td>II.12.2020</td>\n",
              "<td>4,4860</td>\n",
              "</tr>\n",
              "<tr>\n",
              "<td>I.12.2020</td>\n",
              "<td>4,4560</td>\n",
              "</tr>\n",
              "<tr>\n",
              "<td>III.11.2020</td>\n",
              "<td>4,4390</td>\n",
              "</tr>\n",
              "<tr>\n",
              "<td>II.11.2020</td>\n",
              "<td>4,5390</td>\n",
              "</tr>\n",
              "<tr>\n",
              "<td>I.11.2020</td>\n",
              "<td>4,4190</td>\n",
              "</tr>\n",
              "<tr>\n",
              "<td>III.10.2020</td>\n",
              "<td>4,4190</td>\n",
              "</tr>\n",
              "<tr>\n",
              "<td>II.10.2020</td>\n",
              "<td>4,3690</td>\n",
              "</tr>\n",
              "<tr>\n",
              "<td>I.10.2020</td>\n",
              "<td>4,3260</td>\n",
              "</tr>\n",
              "<tr>\n",
              "<td>III.09.2020</td>\n",
              "<td>4,3960</td>\n",
              "</tr>\n",
              "<tr>\n",
              "<td>II.09.2020</td>\n",
              "<td>4,3960</td>\n",
              "</tr>\n",
              "<tr>\n",
              "<td>I.09.2020</td>\n",
              "<td>4,4060</td>\n",
              "</tr>\n",
              "<tr>\n",
              "<td>III.08.2020</td>\n",
              "<td>4,4250</td>\n",
              "</tr>\n",
              "<tr>\n",
              "<td>II.08.2020</td>\n",
              "<td>4,4500</td>\n",
              "</tr>\n",
              "<tr>\n",
              "<td>I.08.2020</td>\n",
              "<td>4,5150</td>\n",
              "</tr>\n",
              "<tr>\n",
              "<td>III.07.2020</td>\n",
              "<td>4,5840</td>\n",
              "</tr>\n",
              "<tr>\n",
              "<td>II.07.2020</td>\n",
              "<td>4,5490</td>\n",
              "</tr>\n",
              "<tr>\n",
              "<td>I.07.2020</td>\n",
              "<td>4,6290</td>\n",
              "</tr>\n",
              "<tr>\n",
              "<td>III.06.2020</td>\n",
              "<td>4,8010</td>\n",
              "</tr>\n",
              "<tr>\n",
              "<td>II.06.2020</td>\n",
              "<td>4,9940</td>\n",
              "</tr>\n",
              "<tr>\n",
              "<td>I.06.2020</td>\n",
              "<td>5,0140</td>\n",
              "</tr>\n",
              "<tr>\n",
              "<td>III.05.2020</td>\n",
              "<td>5,0390</td>\n",
              "</tr>\n",
              "<tr>\n",
              "<td>II.05.2020</td>\n",
              "<td>5,3990</td>\n",
              "</tr>\n",
              "<tr>\n",
              "<td>I.05.2020</td>\n",
              "<td>5,5080</td>\n",
              "</tr>\n",
              "<tr>\n",
              "<td>III.04.2020</td>\n",
              "<td>5,3630</td>\n",
              "</tr>\n",
              "<tr>\n",
              "<td>II.04.2020</td>\n",
              "<td>5,4320</td>\n",
              "</tr>\n",
              "<tr>\n",
              "<td>I.04.2020</td>\n",
              "<td>5,4270</td>\n",
              "</tr>\n",
              "<tr>\n",
              "<td>III.03.2020</td>\n",
              "<td>5,3800</td>\n",
              "</tr>\n",
              "<tr>\n",
              "<td>II.03.2020</td>\n",
              "<td>5,1500</td>\n",
              "</tr>\n",
              "<tr>\n",
              "<td>I.03.2020</td>\n",
              "<td>5,1500</td>\n",
              "</tr>\n",
              "<tr>\n",
              "<td>III.02.2020</td>\n",
              "<td>5,2180</td>\n",
              "</tr>\n",
              "<tr>\n",
              "<td>II.02.2020</td>\n",
              "<td>5,4470</td>\n",
              "</tr>\n",
              "<tr>\n",
              "<td>I.02.2020</td>\n",
              "<td>5,4890</td>\n",
              "</tr>\n",
              "<tr>\n",
              "<td>III.01.2020</td>\n",
              "<td>5,7570</td>\n",
              "</tr>\n",
              "<tr>\n",
              "<td>II.01.2020</td>\n",
              "<td>5,8870</td>\n",
              "</tr>\n",
              "<tr>\n",
              "<td>I.01.2020</td>\n",
              "<td>5,9270</td>\n",
              "</tr>\n",
              "<tr>\n",
              "<td>III.12.2019</td>\n",
              "<td>6,0110</td>\n",
              "</tr>\n",
              "<tr>\n",
              "<td>II.12.2019</td>\n",
              "<td>6,0560</td>\n",
              "</tr>\n",
              "<tr>\n",
              "<td>I.12.2019</td>\n",
              "<td>6,1260</td>\n",
              "</tr>\n",
              "<tr>\n",
              "<td>III.11.2019</td>\n",
              "<td>6,1260</td>\n",
              "</tr>\n",
              "<tr>\n",
              "<td>II.11.2019</td>\n",
              "<td>6,0300</td>\n",
              "</tr>\n",
              "<tr>\n",
              "<td>I.11.2019</td>\n",
              "<td>6,1690</td>\n",
              "</tr>\n",
              "<tr>\n",
              "<td>III.10.2019</td>\n",
              "<td>6,3640</td>\n",
              "</tr>\n",
              "<tr>\n",
              "<td>II.10.2019</td>\n",
              "<td>6,4780</td>\n",
              "</tr>\n",
              "<tr>\n",
              "<td>I.10.2019</td>\n",
              "<td>6,4780</td>\n",
              "</tr>\n",
              "<tr>\n",
              "<td>III.09.2019</td>\n",
              "<td>6,6210</td>\n",
              "</tr>\n",
              "<tr>\n",
              "<td>II.09.2019</td>\n",
              "<td>6,7540</td>\n",
              "</tr>\n",
              "<tr>\n",
              "<td>I.09.2019</td>\n",
              "<td>6,7140</td>\n",
              "</tr>\n",
              "<tr>\n",
              "<td>III.08.2019</td>\n",
              "<td>6,8030</td>\n",
              "</tr>\n",
              "<tr>\n",
              "<td>II.08.2019</td>\n",
              "<td>6,8030</td>\n",
              "</tr>\n",
              "<tr>\n",
              "<td>I.08.2019</td>\n",
              "<td>6,8230</td>\n",
              "</tr>\n",
              "<tr>\n",
              "<td>III.07.2019</td>\n",
              "<td>7,0460</td>\n",
              "</tr>\n",
              "<tr>\n",
              "<td>II.07.2019</td>\n",
              "<td>7,1200</td>\n",
              "</tr>\n",
              "<tr>\n",
              "<td>I.07.2019</td>\n",
              "<td>7,1350</td>\n",
              "</tr>\n",
              "<tr>\n",
              "<td>III.06.2019</td>\n",
              "<td>7,2710</td>\n",
              "</tr>\n",
              "<tr>\n",
              "<td>II.06.2019</td>\n",
              "<td>7,3640</td>\n",
              "</tr>\n",
              "<tr>\n",
              "<td>I.06.2019</td>\n",
              "<td>7,3060</td>\n",
              "</tr>\n",
              "<tr>\n",
              "<td>III.05.2019</td>\n",
              "<td>7,3740</td>\n",
              "</tr>\n",
              "<tr>\n",
              "<td>II.05.2019</td>\n",
              "<td>7,4470</td>\n",
              "</tr>\n",
              "<tr>\n",
              "<td>I.05.2019</td>\n",
              "<td>7,5220</td>\n",
              "</tr>\n",
              "</table>\n",
              "</div>\n",
              "</div>\n",
              "<!--/index-->\n",
              "<div class=\"page-info\">\n",
              "<!--noindex-->\n",
              "<div class=\"page-info_helpful\" data-feedback-url=\"/Content/PageInfo/RegisterFeedback\" data-page-feedback=\"\">\n",
              "<!--noindex-->\n",
              "<div class=\"helpful\" data-helpful=\"\">\n",
              "        Страница была полезной?\n",
              "        <div class=\"helpful_btns\">\n",
              "<button class=\"helpful_btn _yes\" data-helpful-btn=\"yes\"><i class=\"helpful_icon\"></i><span>Да</span></button>\n",
              "<button class=\"helpful_btn _no\" data-helpful-btn=\"no\"><i class=\"helpful_icon\"></i><span>Нет</span></button>\n",
              "</div>\n",
              "</div>\n",
              "<!--/noindex-->\n",
              "</div>\n",
              "<div class=\"page-info_last-update\">Последнее обновление страницы: 12.03.2021</div>\n",
              "<!--/noindex-->\n",
              "</div>\n",
              "</div>\n",
              "</div>\n",
              "</div>\n",
              "</div>\n",
              "<footer class=\"footer\" id=\"footer\">\n",
              "<div class=\"offsetMenu\">\n",
              "<div class=\"footer_main\">\n",
              "<div class=\"col-md-23 col-xl-22 offset-md-1 offset-xl-2\">\n",
              "<div class=\"footer_top\">\n",
              "<a class=\"footer_logo\" href=\"/\"></a>\n",
              "<div class=\"footer_up gotoUp\">\n",
              "<div class=\"footer_up_title\">Наверх</div>\n",
              "<div class=\"footer_up_icon\"></div>\n",
              "</div>\n",
              "</div>\n",
              "<div class=\"footer_contacts\">\n",
              "<div class=\"footer_address\">ул. Неглинная, 12, Москва, 107016</div>\n",
              "<div class=\"footer_phones\">\n",
              "<div class=\"footer_phone\"><a class=\"footer_phone_val\" href=\"tel:88003003000\">8 800 300-30-00</a><span>(круглосуточно, бесплатно для звонков из регионов России)</span></div>\n",
              "<div class=\"footer_phone\"><a class=\"footer_phone_val\" href=\"tel:+74993003000\">+7 499 300-30-00</a><span>(круглосуточно, в соответствии с тарифами вашего оператора)</span></div>\n",
              "<div class=\"footer_phone\"><a class=\"footer_phone_val\" href=\"tel:300\">300</a><span>(круглосуточно, бесплатно для звонков с мобильных телефонов)</span></div>\n",
              "</div>\n",
              "</div>\n",
              "<div class=\"footer_main_block\">\n",
              "<div class=\"footer_left-menu\">\n",
              "<div class=\"footer_left-menu_item\"><a href=\"/lk_uio/\">Личный кабинет участников рынка</a></div>\n",
              "<div class=\"footer_left-menu_item\"><a href=\"/about_br/irp/\">Отношения с инвесторами</a></div>\n",
              "<div class=\"footer_left-menu_item\"><a href=\"/rbr/list_inside/\">Перечень инсайдерской информации Банка России</a></div>\n",
              "<div class=\"footer_left-menu_item\"><a href=\"/analytics/na_vr/\">Официальное опубликование нормативных актов Банка России</a></div>\n",
              "<div class=\"footer_left-menu_item\"><a href=\"/project_na/\">Проекты нормативных актов Банка России</a></div>\n",
              "<div class=\"footer_left-menu_item\"><a href=\"/other/holidays/\">Перечень нерабочих праздничных дней и перенесенных выходных дней</a></div>\n",
              "</div>\n",
              "<div class=\"networks-circle footer_networks\">\n",
              "<a class=\"networks-circle_item _fb\" href=\"https://www.facebook.com/cbr.ru/\"></a>\n",
              "<a class=\"networks-circle_item _ig\" href=\"https://www.instagram.com/cbrf_official/\" title=\"Instagram\"></a>\n",
              "<a class=\"networks-circle_item _vk\" href=\"https://vk.com/cbr_official\"></a>\n",
              "<a class=\"networks-circle_item _tw\" href=\"https://twitter.com/bank_of_russia\"></a>\n",
              "<a class=\"networks-circle_item _yt\" href=\"https://www.youtube.com/user/BankofRussia\"></a>\n",
              "</div>\n",
              "</div>\n",
              "<div class=\"footer_menu\">\n",
              "<div class=\"footer_menu_items\">\n",
              "<div class=\"footer_menu_item\"><a href=\"/about/\">О сайте</a></div>\n",
              "<div class=\"footer_menu_item\"><a href=\"/contacts/\">Контакты</a></div>\n",
              "<div class=\"footer_menu_item\"><a href=\"/about_br/anticor/\">Противодействие коррупции</a></div>\n",
              "<div class=\"footer_menu_item\"><a href=\"/development/\">Технические ресурсы</a></div>\n",
              "</div>\n",
              "<div class=\"footer_menu_item _visually-impaired\"><a href=\"#\" title=\"Версия для слабовидящих\"><span class=\"visually-impaired-on\">Версия для слабовидящих</span><span class=\"visually-impaired-off\">Обычная версия</span></a></div>\n",
              "</div>\n",
              "</div>\n",
              "</div>\n",
              "<div class=\"footer_bottom\">\n",
              "<div class=\"col-md-23 col-xl-22 offset-md-1 offset-xl-2 row\">\n",
              "<div class=\"footer_bottom_text col-md-12 col-xl-11\">© Банк России, 2000–2021.</div>\n",
              "<div class=\"footer_bottom_aic col-md-11\">Дизайн сайта — <a href=\"https://aic.ru\" target=\"_blank\"><img src=\"/common/images/icons/aic-logo.svg\"/></a></div>\n",
              "</div>\n",
              "</div>\n",
              "</div>\n",
              "</footer>\n",
              "<div class=\"popup-cookies\" data-popup-cookies=\"\">\n",
              "<div class=\"popup-cookies_title\">\n",
              "            На сайте Банка России используются файлы cookie\n",
              "        </div>\n",
              "<div class=\"popup-cookies_subtitle\">\n",
              "            Оставаясь на <a href=\"/\">www.cbr.ru</a>, вы принимаете\n",
              "            <a href=\"/user_agreement/\">пользовательское соглашение</a>\n",
              "</div>\n",
              "<button class=\"btn _medium _blue \" data-popup-cookies-btn=\"\">\n",
              "            Подтвердить\n",
              "        </button>\n",
              "</div>\n",
              "<!--[if IE 9]><script>$('body').addClass('ie9')</script><![endif]-->\n",
              "<script src=\"/Modules/Content/Scripts/PageInfo.js?v=v3116962712\" type=\"text/javascript\"></script>\n",
              "<script type=\"text/javascript\">\n",
              "        $(function () {\n",
              "            Content_PageInfo.init($('[data-page-feedback]'));\n",
              "        });\n",
              "    </script>\n",
              "</body>\n",
              "</html>"
            ]
          },
          "metadata": {
            "tags": []
          },
          "execution_count": 623
        }
      ]
    },
    {
      "cell_type": "markdown",
      "metadata": {
        "id": "MoQx2VEiSvLa"
      },
      "source": [
        "Можно открыть код страницы и при наведении на него будет подсвечиваться тот, участок страницы, на который мы наводим в ее коде.\n",
        "\n",
        "Можно увидеть, что нужные нам данные находятся в **table-wrapper** части"
      ]
    },
    {
      "cell_type": "code",
      "metadata": {
        "colab": {
          "base_uri": "https://localhost:8080/"
        },
        "id": "Rec8OVrZ3kWK",
        "outputId": "3777ff32-37e0-4fdb-d3b7-b3cd19d344aa"
      },
      "source": [
        "soup.find_all('div', class_ = 'table-wrapper')[0]"
      ],
      "execution_count": null,
      "outputs": [
        {
          "output_type": "execute_result",
          "data": {
            "text/plain": [
              "<div class=\"table-wrapper\">\n",
              "<div class=\"table\">\n",
              "<table class=\"data\">\n",
              "<tr>\n",
              "<th>Декада</th>\n",
              "<th>Ставка, %</th>\n",
              "</tr>\n",
              "<tr>\n",
              "<td>I.03.2021</td>\n",
              "<td>4,5290</td>\n",
              "</tr>\n",
              "<tr>\n",
              "<td>III.02.2021</td>\n",
              "<td>4,5090</td>\n",
              "</tr>\n",
              "<tr>\n",
              "<td>II.02.2021</td>\n",
              "<td>4,5290</td>\n",
              "</tr>\n",
              "<tr>\n",
              "<td>I.02.2021</td>\n",
              "<td>4,4660</td>\n",
              "</tr>\n",
              "<tr>\n",
              "<td>III.01.2021</td>\n",
              "<td>4,4860</td>\n",
              "</tr>\n",
              "<tr>\n",
              "<td>II.01.2021</td>\n",
              "<td>4,4860</td>\n",
              "</tr>\n",
              "<tr>\n",
              "<td>I.01.2021</td>\n",
              "<td>4,4860</td>\n",
              "</tr>\n",
              "<tr>\n",
              "<td>III.12.2020</td>\n",
              "<td>4,4860</td>\n",
              "</tr>\n",
              "<tr>\n",
              "<td>II.12.2020</td>\n",
              "<td>4,4860</td>\n",
              "</tr>\n",
              "<tr>\n",
              "<td>I.12.2020</td>\n",
              "<td>4,4560</td>\n",
              "</tr>\n",
              "<tr>\n",
              "<td>III.11.2020</td>\n",
              "<td>4,4390</td>\n",
              "</tr>\n",
              "<tr>\n",
              "<td>II.11.2020</td>\n",
              "<td>4,5390</td>\n",
              "</tr>\n",
              "<tr>\n",
              "<td>I.11.2020</td>\n",
              "<td>4,4190</td>\n",
              "</tr>\n",
              "<tr>\n",
              "<td>III.10.2020</td>\n",
              "<td>4,4190</td>\n",
              "</tr>\n",
              "<tr>\n",
              "<td>II.10.2020</td>\n",
              "<td>4,3690</td>\n",
              "</tr>\n",
              "<tr>\n",
              "<td>I.10.2020</td>\n",
              "<td>4,3260</td>\n",
              "</tr>\n",
              "<tr>\n",
              "<td>III.09.2020</td>\n",
              "<td>4,3960</td>\n",
              "</tr>\n",
              "<tr>\n",
              "<td>II.09.2020</td>\n",
              "<td>4,3960</td>\n",
              "</tr>\n",
              "<tr>\n",
              "<td>I.09.2020</td>\n",
              "<td>4,4060</td>\n",
              "</tr>\n",
              "<tr>\n",
              "<td>III.08.2020</td>\n",
              "<td>4,4250</td>\n",
              "</tr>\n",
              "<tr>\n",
              "<td>II.08.2020</td>\n",
              "<td>4,4500</td>\n",
              "</tr>\n",
              "<tr>\n",
              "<td>I.08.2020</td>\n",
              "<td>4,5150</td>\n",
              "</tr>\n",
              "<tr>\n",
              "<td>III.07.2020</td>\n",
              "<td>4,5840</td>\n",
              "</tr>\n",
              "<tr>\n",
              "<td>II.07.2020</td>\n",
              "<td>4,5490</td>\n",
              "</tr>\n",
              "<tr>\n",
              "<td>I.07.2020</td>\n",
              "<td>4,6290</td>\n",
              "</tr>\n",
              "<tr>\n",
              "<td>III.06.2020</td>\n",
              "<td>4,8010</td>\n",
              "</tr>\n",
              "<tr>\n",
              "<td>II.06.2020</td>\n",
              "<td>4,9940</td>\n",
              "</tr>\n",
              "<tr>\n",
              "<td>I.06.2020</td>\n",
              "<td>5,0140</td>\n",
              "</tr>\n",
              "<tr>\n",
              "<td>III.05.2020</td>\n",
              "<td>5,0390</td>\n",
              "</tr>\n",
              "<tr>\n",
              "<td>II.05.2020</td>\n",
              "<td>5,3990</td>\n",
              "</tr>\n",
              "<tr>\n",
              "<td>I.05.2020</td>\n",
              "<td>5,5080</td>\n",
              "</tr>\n",
              "<tr>\n",
              "<td>III.04.2020</td>\n",
              "<td>5,3630</td>\n",
              "</tr>\n",
              "<tr>\n",
              "<td>II.04.2020</td>\n",
              "<td>5,4320</td>\n",
              "</tr>\n",
              "<tr>\n",
              "<td>I.04.2020</td>\n",
              "<td>5,4270</td>\n",
              "</tr>\n",
              "<tr>\n",
              "<td>III.03.2020</td>\n",
              "<td>5,3800</td>\n",
              "</tr>\n",
              "<tr>\n",
              "<td>II.03.2020</td>\n",
              "<td>5,1500</td>\n",
              "</tr>\n",
              "<tr>\n",
              "<td>I.03.2020</td>\n",
              "<td>5,1500</td>\n",
              "</tr>\n",
              "<tr>\n",
              "<td>III.02.2020</td>\n",
              "<td>5,2180</td>\n",
              "</tr>\n",
              "<tr>\n",
              "<td>II.02.2020</td>\n",
              "<td>5,4470</td>\n",
              "</tr>\n",
              "<tr>\n",
              "<td>I.02.2020</td>\n",
              "<td>5,4890</td>\n",
              "</tr>\n",
              "<tr>\n",
              "<td>III.01.2020</td>\n",
              "<td>5,7570</td>\n",
              "</tr>\n",
              "<tr>\n",
              "<td>II.01.2020</td>\n",
              "<td>5,8870</td>\n",
              "</tr>\n",
              "<tr>\n",
              "<td>I.01.2020</td>\n",
              "<td>5,9270</td>\n",
              "</tr>\n",
              "<tr>\n",
              "<td>III.12.2019</td>\n",
              "<td>6,0110</td>\n",
              "</tr>\n",
              "<tr>\n",
              "<td>II.12.2019</td>\n",
              "<td>6,0560</td>\n",
              "</tr>\n",
              "<tr>\n",
              "<td>I.12.2019</td>\n",
              "<td>6,1260</td>\n",
              "</tr>\n",
              "<tr>\n",
              "<td>III.11.2019</td>\n",
              "<td>6,1260</td>\n",
              "</tr>\n",
              "<tr>\n",
              "<td>II.11.2019</td>\n",
              "<td>6,0300</td>\n",
              "</tr>\n",
              "<tr>\n",
              "<td>I.11.2019</td>\n",
              "<td>6,1690</td>\n",
              "</tr>\n",
              "<tr>\n",
              "<td>III.10.2019</td>\n",
              "<td>6,3640</td>\n",
              "</tr>\n",
              "<tr>\n",
              "<td>II.10.2019</td>\n",
              "<td>6,4780</td>\n",
              "</tr>\n",
              "<tr>\n",
              "<td>I.10.2019</td>\n",
              "<td>6,4780</td>\n",
              "</tr>\n",
              "<tr>\n",
              "<td>III.09.2019</td>\n",
              "<td>6,6210</td>\n",
              "</tr>\n",
              "<tr>\n",
              "<td>II.09.2019</td>\n",
              "<td>6,7540</td>\n",
              "</tr>\n",
              "<tr>\n",
              "<td>I.09.2019</td>\n",
              "<td>6,7140</td>\n",
              "</tr>\n",
              "<tr>\n",
              "<td>III.08.2019</td>\n",
              "<td>6,8030</td>\n",
              "</tr>\n",
              "<tr>\n",
              "<td>II.08.2019</td>\n",
              "<td>6,8030</td>\n",
              "</tr>\n",
              "<tr>\n",
              "<td>I.08.2019</td>\n",
              "<td>6,8230</td>\n",
              "</tr>\n",
              "<tr>\n",
              "<td>III.07.2019</td>\n",
              "<td>7,0460</td>\n",
              "</tr>\n",
              "<tr>\n",
              "<td>II.07.2019</td>\n",
              "<td>7,1200</td>\n",
              "</tr>\n",
              "<tr>\n",
              "<td>I.07.2019</td>\n",
              "<td>7,1350</td>\n",
              "</tr>\n",
              "<tr>\n",
              "<td>III.06.2019</td>\n",
              "<td>7,2710</td>\n",
              "</tr>\n",
              "<tr>\n",
              "<td>II.06.2019</td>\n",
              "<td>7,3640</td>\n",
              "</tr>\n",
              "<tr>\n",
              "<td>I.06.2019</td>\n",
              "<td>7,3060</td>\n",
              "</tr>\n",
              "<tr>\n",
              "<td>III.05.2019</td>\n",
              "<td>7,3740</td>\n",
              "</tr>\n",
              "<tr>\n",
              "<td>II.05.2019</td>\n",
              "<td>7,4470</td>\n",
              "</tr>\n",
              "<tr>\n",
              "<td>I.05.2019</td>\n",
              "<td>7,5220</td>\n",
              "</tr>\n",
              "</table>\n",
              "</div>\n",
              "</div>"
            ]
          },
          "metadata": {
            "tags": []
          },
          "execution_count": 624
        }
      ]
    },
    {
      "cell_type": "markdown",
      "metadata": {
        "id": "QCU9rRPyS8eZ"
      },
      "source": [
        "Давайте запишем и используем метод `.find_all()` к данным"
      ]
    },
    {
      "cell_type": "code",
      "metadata": {
        "id": "eD5I5WV63tqW"
      },
      "source": [
        "rates_table = soup.find_all('div', class_ = 'table-wrapper')[0]\n",
        "    \n",
        "rates_n_dates = rates_table.find_all('td')"
      ],
      "execution_count": null,
      "outputs": []
    },
    {
      "cell_type": "markdown",
      "metadata": {
        "id": "q2ZYD4tGTEso"
      },
      "source": [
        "С данными ниже дальше будем проводить цикл для окончательной сборки"
      ]
    },
    {
      "cell_type": "code",
      "metadata": {
        "colab": {
          "base_uri": "https://localhost:8080/"
        },
        "id": "R_oP9uH83wfk",
        "outputId": "34850196-8913-4fc4-9ef3-477db50ad715"
      },
      "source": [
        "rates_n_dates"
      ],
      "execution_count": null,
      "outputs": [
        {
          "output_type": "execute_result",
          "data": {
            "text/plain": [
              "[<td>I.03.2021</td>,\n",
              " <td>4,5290</td>,\n",
              " <td>III.02.2021</td>,\n",
              " <td>4,5090</td>,\n",
              " <td>II.02.2021</td>,\n",
              " <td>4,5290</td>,\n",
              " <td>I.02.2021</td>,\n",
              " <td>4,4660</td>,\n",
              " <td>III.01.2021</td>,\n",
              " <td>4,4860</td>,\n",
              " <td>II.01.2021</td>,\n",
              " <td>4,4860</td>,\n",
              " <td>I.01.2021</td>,\n",
              " <td>4,4860</td>,\n",
              " <td>III.12.2020</td>,\n",
              " <td>4,4860</td>,\n",
              " <td>II.12.2020</td>,\n",
              " <td>4,4860</td>,\n",
              " <td>I.12.2020</td>,\n",
              " <td>4,4560</td>,\n",
              " <td>III.11.2020</td>,\n",
              " <td>4,4390</td>,\n",
              " <td>II.11.2020</td>,\n",
              " <td>4,5390</td>,\n",
              " <td>I.11.2020</td>,\n",
              " <td>4,4190</td>,\n",
              " <td>III.10.2020</td>,\n",
              " <td>4,4190</td>,\n",
              " <td>II.10.2020</td>,\n",
              " <td>4,3690</td>,\n",
              " <td>I.10.2020</td>,\n",
              " <td>4,3260</td>,\n",
              " <td>III.09.2020</td>,\n",
              " <td>4,3960</td>,\n",
              " <td>II.09.2020</td>,\n",
              " <td>4,3960</td>,\n",
              " <td>I.09.2020</td>,\n",
              " <td>4,4060</td>,\n",
              " <td>III.08.2020</td>,\n",
              " <td>4,4250</td>,\n",
              " <td>II.08.2020</td>,\n",
              " <td>4,4500</td>,\n",
              " <td>I.08.2020</td>,\n",
              " <td>4,5150</td>,\n",
              " <td>III.07.2020</td>,\n",
              " <td>4,5840</td>,\n",
              " <td>II.07.2020</td>,\n",
              " <td>4,5490</td>,\n",
              " <td>I.07.2020</td>,\n",
              " <td>4,6290</td>,\n",
              " <td>III.06.2020</td>,\n",
              " <td>4,8010</td>,\n",
              " <td>II.06.2020</td>,\n",
              " <td>4,9940</td>,\n",
              " <td>I.06.2020</td>,\n",
              " <td>5,0140</td>,\n",
              " <td>III.05.2020</td>,\n",
              " <td>5,0390</td>,\n",
              " <td>II.05.2020</td>,\n",
              " <td>5,3990</td>,\n",
              " <td>I.05.2020</td>,\n",
              " <td>5,5080</td>,\n",
              " <td>III.04.2020</td>,\n",
              " <td>5,3630</td>,\n",
              " <td>II.04.2020</td>,\n",
              " <td>5,4320</td>,\n",
              " <td>I.04.2020</td>,\n",
              " <td>5,4270</td>,\n",
              " <td>III.03.2020</td>,\n",
              " <td>5,3800</td>,\n",
              " <td>II.03.2020</td>,\n",
              " <td>5,1500</td>,\n",
              " <td>I.03.2020</td>,\n",
              " <td>5,1500</td>,\n",
              " <td>III.02.2020</td>,\n",
              " <td>5,2180</td>,\n",
              " <td>II.02.2020</td>,\n",
              " <td>5,4470</td>,\n",
              " <td>I.02.2020</td>,\n",
              " <td>5,4890</td>,\n",
              " <td>III.01.2020</td>,\n",
              " <td>5,7570</td>,\n",
              " <td>II.01.2020</td>,\n",
              " <td>5,8870</td>,\n",
              " <td>I.01.2020</td>,\n",
              " <td>5,9270</td>,\n",
              " <td>III.12.2019</td>,\n",
              " <td>6,0110</td>,\n",
              " <td>II.12.2019</td>,\n",
              " <td>6,0560</td>,\n",
              " <td>I.12.2019</td>,\n",
              " <td>6,1260</td>,\n",
              " <td>III.11.2019</td>,\n",
              " <td>6,1260</td>,\n",
              " <td>II.11.2019</td>,\n",
              " <td>6,0300</td>,\n",
              " <td>I.11.2019</td>,\n",
              " <td>6,1690</td>,\n",
              " <td>III.10.2019</td>,\n",
              " <td>6,3640</td>,\n",
              " <td>II.10.2019</td>,\n",
              " <td>6,4780</td>,\n",
              " <td>I.10.2019</td>,\n",
              " <td>6,4780</td>,\n",
              " <td>III.09.2019</td>,\n",
              " <td>6,6210</td>,\n",
              " <td>II.09.2019</td>,\n",
              " <td>6,7540</td>,\n",
              " <td>I.09.2019</td>,\n",
              " <td>6,7140</td>,\n",
              " <td>III.08.2019</td>,\n",
              " <td>6,8030</td>,\n",
              " <td>II.08.2019</td>,\n",
              " <td>6,8030</td>,\n",
              " <td>I.08.2019</td>,\n",
              " <td>6,8230</td>,\n",
              " <td>III.07.2019</td>,\n",
              " <td>7,0460</td>,\n",
              " <td>II.07.2019</td>,\n",
              " <td>7,1200</td>,\n",
              " <td>I.07.2019</td>,\n",
              " <td>7,1350</td>,\n",
              " <td>III.06.2019</td>,\n",
              " <td>7,2710</td>,\n",
              " <td>II.06.2019</td>,\n",
              " <td>7,3640</td>,\n",
              " <td>I.06.2019</td>,\n",
              " <td>7,3060</td>,\n",
              " <td>III.05.2019</td>,\n",
              " <td>7,3740</td>,\n",
              " <td>II.05.2019</td>,\n",
              " <td>7,4470</td>,\n",
              " <td>I.05.2019</td>,\n",
              " <td>7,5220</td>]"
            ]
          },
          "metadata": {
            "tags": []
          },
          "execution_count": 627
        }
      ]
    },
    {
      "cell_type": "code",
      "metadata": {
        "id": "pSf75osiQXjC"
      },
      "source": [
        "dates = []\n",
        "rates = []\n",
        "    \n",
        "for i, j in enumerate(rates_n_dates):\n",
        "    if i%2 == 0:\n",
        "        dates.append(j.text)\n",
        "    else:\n",
        "        rates.append(j.text)\n",
        "            \n",
        "rates = list(map(lambda x: float(x.replace(',', '.')), rates))\n",
        "            \n",
        "rates_table = pd.DataFrame({'Date': dates, 'Rate': rates})"
      ],
      "execution_count": null,
      "outputs": []
    },
    {
      "cell_type": "markdown",
      "metadata": {
        "id": "jlYLGozhTMcS"
      },
      "source": [
        "Получили красивую и удобную табличку с данными"
      ]
    },
    {
      "cell_type": "code",
      "metadata": {
        "colab": {
          "base_uri": "https://localhost:8080/",
          "height": 419
        },
        "id": "YA9fcFfiQgYJ",
        "outputId": "cf67426b-8b15-496b-bc1e-72b202c22f13"
      },
      "source": [
        "rates_table"
      ],
      "execution_count": null,
      "outputs": [
        {
          "output_type": "execute_result",
          "data": {
            "text/html": [
              "<div>\n",
              "<style scoped>\n",
              "    .dataframe tbody tr th:only-of-type {\n",
              "        vertical-align: middle;\n",
              "    }\n",
              "\n",
              "    .dataframe tbody tr th {\n",
              "        vertical-align: top;\n",
              "    }\n",
              "\n",
              "    .dataframe thead th {\n",
              "        text-align: right;\n",
              "    }\n",
              "</style>\n",
              "<table border=\"1\" class=\"dataframe\">\n",
              "  <thead>\n",
              "    <tr style=\"text-align: right;\">\n",
              "      <th></th>\n",
              "      <th>Date</th>\n",
              "      <th>Rate</th>\n",
              "    </tr>\n",
              "  </thead>\n",
              "  <tbody>\n",
              "    <tr>\n",
              "      <th>0</th>\n",
              "      <td>I.03.2021</td>\n",
              "      <td>4.529</td>\n",
              "    </tr>\n",
              "    <tr>\n",
              "      <th>1</th>\n",
              "      <td>III.02.2021</td>\n",
              "      <td>4.509</td>\n",
              "    </tr>\n",
              "    <tr>\n",
              "      <th>2</th>\n",
              "      <td>II.02.2021</td>\n",
              "      <td>4.529</td>\n",
              "    </tr>\n",
              "    <tr>\n",
              "      <th>3</th>\n",
              "      <td>I.02.2021</td>\n",
              "      <td>4.466</td>\n",
              "    </tr>\n",
              "    <tr>\n",
              "      <th>4</th>\n",
              "      <td>III.01.2021</td>\n",
              "      <td>4.486</td>\n",
              "    </tr>\n",
              "    <tr>\n",
              "      <th>...</th>\n",
              "      <td>...</td>\n",
              "      <td>...</td>\n",
              "    </tr>\n",
              "    <tr>\n",
              "      <th>62</th>\n",
              "      <td>II.06.2019</td>\n",
              "      <td>7.364</td>\n",
              "    </tr>\n",
              "    <tr>\n",
              "      <th>63</th>\n",
              "      <td>I.06.2019</td>\n",
              "      <td>7.306</td>\n",
              "    </tr>\n",
              "    <tr>\n",
              "      <th>64</th>\n",
              "      <td>III.05.2019</td>\n",
              "      <td>7.374</td>\n",
              "    </tr>\n",
              "    <tr>\n",
              "      <th>65</th>\n",
              "      <td>II.05.2019</td>\n",
              "      <td>7.447</td>\n",
              "    </tr>\n",
              "    <tr>\n",
              "      <th>66</th>\n",
              "      <td>I.05.2019</td>\n",
              "      <td>7.522</td>\n",
              "    </tr>\n",
              "  </tbody>\n",
              "</table>\n",
              "<p>67 rows × 2 columns</p>\n",
              "</div>"
            ],
            "text/plain": [
              "           Date   Rate\n",
              "0     I.03.2021  4.529\n",
              "1   III.02.2021  4.509\n",
              "2    II.02.2021  4.529\n",
              "3     I.02.2021  4.466\n",
              "4   III.01.2021  4.486\n",
              "..          ...    ...\n",
              "62   II.06.2019  7.364\n",
              "63    I.06.2019  7.306\n",
              "64  III.05.2019  7.374\n",
              "65   II.05.2019  7.447\n",
              "66    I.05.2019  7.522\n",
              "\n",
              "[67 rows x 2 columns]"
            ]
          },
          "metadata": {
            "tags": []
          },
          "execution_count": 629
        }
      ]
    },
    {
      "cell_type": "markdown",
      "metadata": {
        "id": "h333xw2mTPYd"
      },
      "source": [
        "Объединим все в 1 функцию"
      ]
    },
    {
      "cell_type": "code",
      "metadata": {
        "id": "PMJmvmaB2rFH"
      },
      "source": [
        "def retrieve_top10_max_deposit_rates(start_year, start_month, save = False):\n",
        "    \n",
        "    \"\"\"Returns (parse) the data on maximum deposit rates across top 10 (by assets) banks from CBR.\n",
        "    \n",
        "    \n",
        "    Keyword arguments:\n",
        "    start_year -- a year to begin collecting data from (can be either int or str)\n",
        "    start_month -- a month to begin collection data from (can be either int or str; values - from 1 to 12)\n",
        "    -----------------------------------------------------\n",
        "    One needs to turn off VPN to succeed with the request\n",
        "    \"\"\"\n",
        "    \n",
        "    if start_month > 12 or start_month < 1:\n",
        "        raise ValueError('Start month should be between 1 and 12')\n",
        "    \n",
        "    end_year = time.localtime()[0]\n",
        "    end_month = str(time.localtime()[1] - 1)\n",
        "    \n",
        "    start_month = str(start_month)\n",
        "    \n",
        "    if len(start_month) == 1:\n",
        "        start_month = str(0) + start_month\n",
        "    \n",
        "    if len(end_month) == 1:\n",
        "        end_month = str(0) + end_month\n",
        "        \n",
        "    url = 'https://www.cbr.ru/statistics/avgprocstav/?UniDbQuery.Posted=True&UniDbQuery.From=1.'\n",
        "    url = url + start_month + '.' + str(start_year) + '&UniDbQuery.To=3.' + end_month + '.' + str(end_year)\n",
        "    \n",
        "    response = get(url)\n",
        "    soup = BeautifulSoup(response.text, 'html.parser')\n",
        "    \n",
        "    rates_table = soup.find_all('div', class_ = 'table-wrapper')[0]\n",
        "    \n",
        "    rates_n_dates = rates_table.find_all('td')\n",
        "    \n",
        "    dates = []\n",
        "    rates = []\n",
        "    \n",
        "    for i, j in enumerate(rates_n_dates):\n",
        "        \n",
        "        if i%2 == 0:\n",
        "            dates.append(j.text)\n",
        "        else:\n",
        "            rates.append(j.text)\n",
        "            \n",
        "    rates = list(map(lambda x: float(x.replace(',', '.')), rates))\n",
        "            \n",
        "    rates_table = pd.DataFrame({'Date': dates, 'Rate': rates})\n",
        "    \n",
        "    if save:\n",
        "        print('Type the path to the file with its name')\n",
        "        rates_table.to_csv(str(input()) + '.csv')\n",
        "    \n",
        "    return rates_table"
      ],
      "execution_count": null,
      "outputs": []
    },
    {
      "cell_type": "code",
      "metadata": {
        "colab": {
          "base_uri": "https://localhost:8080/",
          "height": 1000
        },
        "id": "rq7vwCzyQoIv",
        "outputId": "5fdd3c6f-1912-4a1a-9939-bae13ef51579"
      },
      "source": [
        "start_year = 2019\n",
        "start_month = 8\n",
        "retrieve_top10_max_deposit_rates(start_year, start_month, save = False)"
      ],
      "execution_count": null,
      "outputs": [
        {
          "output_type": "execute_result",
          "data": {
            "text/html": [
              "<div>\n",
              "<style scoped>\n",
              "    .dataframe tbody tr th:only-of-type {\n",
              "        vertical-align: middle;\n",
              "    }\n",
              "\n",
              "    .dataframe tbody tr th {\n",
              "        vertical-align: top;\n",
              "    }\n",
              "\n",
              "    .dataframe thead th {\n",
              "        text-align: right;\n",
              "    }\n",
              "</style>\n",
              "<table border=\"1\" class=\"dataframe\">\n",
              "  <thead>\n",
              "    <tr style=\"text-align: right;\">\n",
              "      <th></th>\n",
              "      <th>Date</th>\n",
              "      <th>Rate</th>\n",
              "    </tr>\n",
              "  </thead>\n",
              "  <tbody>\n",
              "    <tr>\n",
              "      <th>0</th>\n",
              "      <td>III.02.2021</td>\n",
              "      <td>4.509</td>\n",
              "    </tr>\n",
              "    <tr>\n",
              "      <th>1</th>\n",
              "      <td>II.02.2021</td>\n",
              "      <td>4.529</td>\n",
              "    </tr>\n",
              "    <tr>\n",
              "      <th>2</th>\n",
              "      <td>I.02.2021</td>\n",
              "      <td>4.466</td>\n",
              "    </tr>\n",
              "    <tr>\n",
              "      <th>3</th>\n",
              "      <td>III.01.2021</td>\n",
              "      <td>4.486</td>\n",
              "    </tr>\n",
              "    <tr>\n",
              "      <th>4</th>\n",
              "      <td>II.01.2021</td>\n",
              "      <td>4.486</td>\n",
              "    </tr>\n",
              "    <tr>\n",
              "      <th>5</th>\n",
              "      <td>I.01.2021</td>\n",
              "      <td>4.486</td>\n",
              "    </tr>\n",
              "    <tr>\n",
              "      <th>6</th>\n",
              "      <td>III.12.2020</td>\n",
              "      <td>4.486</td>\n",
              "    </tr>\n",
              "    <tr>\n",
              "      <th>7</th>\n",
              "      <td>II.12.2020</td>\n",
              "      <td>4.486</td>\n",
              "    </tr>\n",
              "    <tr>\n",
              "      <th>8</th>\n",
              "      <td>I.12.2020</td>\n",
              "      <td>4.456</td>\n",
              "    </tr>\n",
              "    <tr>\n",
              "      <th>9</th>\n",
              "      <td>III.11.2020</td>\n",
              "      <td>4.439</td>\n",
              "    </tr>\n",
              "    <tr>\n",
              "      <th>10</th>\n",
              "      <td>II.11.2020</td>\n",
              "      <td>4.539</td>\n",
              "    </tr>\n",
              "    <tr>\n",
              "      <th>11</th>\n",
              "      <td>I.11.2020</td>\n",
              "      <td>4.419</td>\n",
              "    </tr>\n",
              "    <tr>\n",
              "      <th>12</th>\n",
              "      <td>III.10.2020</td>\n",
              "      <td>4.419</td>\n",
              "    </tr>\n",
              "    <tr>\n",
              "      <th>13</th>\n",
              "      <td>II.10.2020</td>\n",
              "      <td>4.369</td>\n",
              "    </tr>\n",
              "    <tr>\n",
              "      <th>14</th>\n",
              "      <td>I.10.2020</td>\n",
              "      <td>4.326</td>\n",
              "    </tr>\n",
              "    <tr>\n",
              "      <th>15</th>\n",
              "      <td>III.09.2020</td>\n",
              "      <td>4.396</td>\n",
              "    </tr>\n",
              "    <tr>\n",
              "      <th>16</th>\n",
              "      <td>II.09.2020</td>\n",
              "      <td>4.396</td>\n",
              "    </tr>\n",
              "    <tr>\n",
              "      <th>17</th>\n",
              "      <td>I.09.2020</td>\n",
              "      <td>4.406</td>\n",
              "    </tr>\n",
              "    <tr>\n",
              "      <th>18</th>\n",
              "      <td>III.08.2020</td>\n",
              "      <td>4.425</td>\n",
              "    </tr>\n",
              "    <tr>\n",
              "      <th>19</th>\n",
              "      <td>II.08.2020</td>\n",
              "      <td>4.450</td>\n",
              "    </tr>\n",
              "    <tr>\n",
              "      <th>20</th>\n",
              "      <td>I.08.2020</td>\n",
              "      <td>4.515</td>\n",
              "    </tr>\n",
              "    <tr>\n",
              "      <th>21</th>\n",
              "      <td>III.07.2020</td>\n",
              "      <td>4.584</td>\n",
              "    </tr>\n",
              "    <tr>\n",
              "      <th>22</th>\n",
              "      <td>II.07.2020</td>\n",
              "      <td>4.549</td>\n",
              "    </tr>\n",
              "    <tr>\n",
              "      <th>23</th>\n",
              "      <td>I.07.2020</td>\n",
              "      <td>4.629</td>\n",
              "    </tr>\n",
              "    <tr>\n",
              "      <th>24</th>\n",
              "      <td>III.06.2020</td>\n",
              "      <td>4.801</td>\n",
              "    </tr>\n",
              "    <tr>\n",
              "      <th>25</th>\n",
              "      <td>II.06.2020</td>\n",
              "      <td>4.994</td>\n",
              "    </tr>\n",
              "    <tr>\n",
              "      <th>26</th>\n",
              "      <td>I.06.2020</td>\n",
              "      <td>5.014</td>\n",
              "    </tr>\n",
              "    <tr>\n",
              "      <th>27</th>\n",
              "      <td>III.05.2020</td>\n",
              "      <td>5.039</td>\n",
              "    </tr>\n",
              "    <tr>\n",
              "      <th>28</th>\n",
              "      <td>II.05.2020</td>\n",
              "      <td>5.399</td>\n",
              "    </tr>\n",
              "    <tr>\n",
              "      <th>29</th>\n",
              "      <td>I.05.2020</td>\n",
              "      <td>5.508</td>\n",
              "    </tr>\n",
              "    <tr>\n",
              "      <th>30</th>\n",
              "      <td>III.04.2020</td>\n",
              "      <td>5.363</td>\n",
              "    </tr>\n",
              "    <tr>\n",
              "      <th>31</th>\n",
              "      <td>II.04.2020</td>\n",
              "      <td>5.432</td>\n",
              "    </tr>\n",
              "    <tr>\n",
              "      <th>32</th>\n",
              "      <td>I.04.2020</td>\n",
              "      <td>5.427</td>\n",
              "    </tr>\n",
              "    <tr>\n",
              "      <th>33</th>\n",
              "      <td>III.03.2020</td>\n",
              "      <td>5.380</td>\n",
              "    </tr>\n",
              "    <tr>\n",
              "      <th>34</th>\n",
              "      <td>II.03.2020</td>\n",
              "      <td>5.150</td>\n",
              "    </tr>\n",
              "    <tr>\n",
              "      <th>35</th>\n",
              "      <td>I.03.2020</td>\n",
              "      <td>5.150</td>\n",
              "    </tr>\n",
              "    <tr>\n",
              "      <th>36</th>\n",
              "      <td>III.02.2020</td>\n",
              "      <td>5.218</td>\n",
              "    </tr>\n",
              "    <tr>\n",
              "      <th>37</th>\n",
              "      <td>II.02.2020</td>\n",
              "      <td>5.447</td>\n",
              "    </tr>\n",
              "    <tr>\n",
              "      <th>38</th>\n",
              "      <td>I.02.2020</td>\n",
              "      <td>5.489</td>\n",
              "    </tr>\n",
              "    <tr>\n",
              "      <th>39</th>\n",
              "      <td>III.01.2020</td>\n",
              "      <td>5.757</td>\n",
              "    </tr>\n",
              "    <tr>\n",
              "      <th>40</th>\n",
              "      <td>II.01.2020</td>\n",
              "      <td>5.887</td>\n",
              "    </tr>\n",
              "    <tr>\n",
              "      <th>41</th>\n",
              "      <td>I.01.2020</td>\n",
              "      <td>5.927</td>\n",
              "    </tr>\n",
              "    <tr>\n",
              "      <th>42</th>\n",
              "      <td>III.12.2019</td>\n",
              "      <td>6.011</td>\n",
              "    </tr>\n",
              "    <tr>\n",
              "      <th>43</th>\n",
              "      <td>II.12.2019</td>\n",
              "      <td>6.056</td>\n",
              "    </tr>\n",
              "    <tr>\n",
              "      <th>44</th>\n",
              "      <td>I.12.2019</td>\n",
              "      <td>6.126</td>\n",
              "    </tr>\n",
              "    <tr>\n",
              "      <th>45</th>\n",
              "      <td>III.11.2019</td>\n",
              "      <td>6.126</td>\n",
              "    </tr>\n",
              "    <tr>\n",
              "      <th>46</th>\n",
              "      <td>II.11.2019</td>\n",
              "      <td>6.030</td>\n",
              "    </tr>\n",
              "    <tr>\n",
              "      <th>47</th>\n",
              "      <td>I.11.2019</td>\n",
              "      <td>6.169</td>\n",
              "    </tr>\n",
              "    <tr>\n",
              "      <th>48</th>\n",
              "      <td>III.10.2019</td>\n",
              "      <td>6.364</td>\n",
              "    </tr>\n",
              "    <tr>\n",
              "      <th>49</th>\n",
              "      <td>II.10.2019</td>\n",
              "      <td>6.478</td>\n",
              "    </tr>\n",
              "    <tr>\n",
              "      <th>50</th>\n",
              "      <td>I.10.2019</td>\n",
              "      <td>6.478</td>\n",
              "    </tr>\n",
              "    <tr>\n",
              "      <th>51</th>\n",
              "      <td>III.09.2019</td>\n",
              "      <td>6.621</td>\n",
              "    </tr>\n",
              "    <tr>\n",
              "      <th>52</th>\n",
              "      <td>II.09.2019</td>\n",
              "      <td>6.754</td>\n",
              "    </tr>\n",
              "    <tr>\n",
              "      <th>53</th>\n",
              "      <td>I.09.2019</td>\n",
              "      <td>6.714</td>\n",
              "    </tr>\n",
              "    <tr>\n",
              "      <th>54</th>\n",
              "      <td>III.08.2019</td>\n",
              "      <td>6.803</td>\n",
              "    </tr>\n",
              "    <tr>\n",
              "      <th>55</th>\n",
              "      <td>II.08.2019</td>\n",
              "      <td>6.803</td>\n",
              "    </tr>\n",
              "    <tr>\n",
              "      <th>56</th>\n",
              "      <td>I.08.2019</td>\n",
              "      <td>6.823</td>\n",
              "    </tr>\n",
              "  </tbody>\n",
              "</table>\n",
              "</div>"
            ],
            "text/plain": [
              "           Date   Rate\n",
              "0   III.02.2021  4.509\n",
              "1    II.02.2021  4.529\n",
              "2     I.02.2021  4.466\n",
              "3   III.01.2021  4.486\n",
              "4    II.01.2021  4.486\n",
              "5     I.01.2021  4.486\n",
              "6   III.12.2020  4.486\n",
              "7    II.12.2020  4.486\n",
              "8     I.12.2020  4.456\n",
              "9   III.11.2020  4.439\n",
              "10   II.11.2020  4.539\n",
              "11    I.11.2020  4.419\n",
              "12  III.10.2020  4.419\n",
              "13   II.10.2020  4.369\n",
              "14    I.10.2020  4.326\n",
              "15  III.09.2020  4.396\n",
              "16   II.09.2020  4.396\n",
              "17    I.09.2020  4.406\n",
              "18  III.08.2020  4.425\n",
              "19   II.08.2020  4.450\n",
              "20    I.08.2020  4.515\n",
              "21  III.07.2020  4.584\n",
              "22   II.07.2020  4.549\n",
              "23    I.07.2020  4.629\n",
              "24  III.06.2020  4.801\n",
              "25   II.06.2020  4.994\n",
              "26    I.06.2020  5.014\n",
              "27  III.05.2020  5.039\n",
              "28   II.05.2020  5.399\n",
              "29    I.05.2020  5.508\n",
              "30  III.04.2020  5.363\n",
              "31   II.04.2020  5.432\n",
              "32    I.04.2020  5.427\n",
              "33  III.03.2020  5.380\n",
              "34   II.03.2020  5.150\n",
              "35    I.03.2020  5.150\n",
              "36  III.02.2020  5.218\n",
              "37   II.02.2020  5.447\n",
              "38    I.02.2020  5.489\n",
              "39  III.01.2020  5.757\n",
              "40   II.01.2020  5.887\n",
              "41    I.01.2020  5.927\n",
              "42  III.12.2019  6.011\n",
              "43   II.12.2019  6.056\n",
              "44    I.12.2019  6.126\n",
              "45  III.11.2019  6.126\n",
              "46   II.11.2019  6.030\n",
              "47    I.11.2019  6.169\n",
              "48  III.10.2019  6.364\n",
              "49   II.10.2019  6.478\n",
              "50    I.10.2019  6.478\n",
              "51  III.09.2019  6.621\n",
              "52   II.09.2019  6.754\n",
              "53    I.09.2019  6.714\n",
              "54  III.08.2019  6.803\n",
              "55   II.08.2019  6.803\n",
              "56    I.08.2019  6.823"
            ]
          },
          "metadata": {
            "tags": []
          },
          "execution_count": 632
        }
      ]
    },
    {
      "cell_type": "markdown",
      "metadata": {
        "id": "HG31D7T3TTNO"
      },
      "source": [
        "С помощью библиотеки **urlllib** и метода `urlretrieve()` в `.request` можно также выгружать файлы с сайтов (не залезая на сайт и прожимая кнопочки)\n",
        "\n",
        "Указать требутеся url до файла для скачивания (ссылка, по которой файл скачивается) и путь, куда сохранить файл"
      ]
    },
    {
      "cell_type": "code",
      "metadata": {
        "colab": {
          "base_uri": "https://localhost:8080/"
        },
        "id": "F39eZtmQR7Je",
        "outputId": "ed40769d-5af0-4478-955e-d4eb1a49e7a5"
      },
      "source": [
        "nosb_path = 'https://www.cbr.ru/vfs/statistics/pdko/int_rat/loans_deposits_except_for_Sberbank.xlsx'\n",
        "nosb_store_path = '/content/NOSBER_DEPOSITS.xlsx'\n",
        "    \n",
        "urllib.request.urlretrieve(nosb_path, nosb_store_path)"
      ],
      "execution_count": null,
      "outputs": [
        {
          "output_type": "execute_result",
          "data": {
            "text/plain": [
              "('/content/NOSBER_DEPOSITS.xlsx', <http.client.HTTPMessage at 0x7fc3ae645b10>)"
            ]
          },
          "metadata": {
            "tags": []
          },
          "execution_count": 635
        }
      ]
    },
    {
      "cell_type": "code",
      "metadata": {
        "id": "GuOsZ9ZJSG9k"
      },
      "source": [
        "nosber_rates = pd.read_excel('/content//NOSBER_DEPOSITS.xlsx')"
      ],
      "execution_count": null,
      "outputs": []
    },
    {
      "cell_type": "markdown",
      "metadata": {
        "id": "Q0ZMwubHTo_x"
      },
      "source": [
        "Данные действительно загрузили, однако их еще нужно обработать (ручками - однако, если структура файла не меняется, то можно каждый месяц повторять один и тот же скрипт)"
      ]
    },
    {
      "cell_type": "code",
      "metadata": {
        "colab": {
          "base_uri": "https://localhost:8080/",
          "height": 1000
        },
        "id": "Lg0fEfWmTFeS",
        "outputId": "69684757-750d-497d-c9c6-347e3b120bd7"
      },
      "source": [
        "nosber_rates"
      ],
      "execution_count": null,
      "outputs": [
        {
          "output_type": "execute_result",
          "data": {
            "text/html": [
              "<div>\n",
              "<style scoped>\n",
              "    .dataframe tbody tr th:only-of-type {\n",
              "        vertical-align: middle;\n",
              "    }\n",
              "\n",
              "    .dataframe tbody tr th {\n",
              "        vertical-align: top;\n",
              "    }\n",
              "\n",
              "    .dataframe thead th {\n",
              "        text-align: right;\n",
              "    }\n",
              "</style>\n",
              "<table border=\"1\" class=\"dataframe\">\n",
              "  <thead>\n",
              "    <tr style=\"text-align: right;\">\n",
              "      <th></th>\n",
              "      <th>Средневзвешенные процентные ставки кредитных организаций по кредитным и депозитным операциям в рублях без учета ПАО Сбербанк (% годовых)</th>\n",
              "      <th>Unnamed: 1</th>\n",
              "      <th>Unnamed: 2</th>\n",
              "      <th>Unnamed: 3</th>\n",
              "      <th>Unnamed: 4</th>\n",
              "      <th>Unnamed: 5</th>\n",
              "      <th>Unnamed: 6</th>\n",
              "      <th>Unnamed: 7</th>\n",
              "      <th>Unnamed: 8</th>\n",
              "      <th>Unnamed: 9</th>\n",
              "      <th>Unnamed: 10</th>\n",
              "      <th>Unnamed: 11</th>\n",
              "      <th>Unnamed: 12</th>\n",
              "      <th>Unnamed: 13</th>\n",
              "      <th>Unnamed: 14</th>\n",
              "      <th>Unnamed: 15</th>\n",
              "      <th>Unnamed: 16</th>\n",
              "      <th>Unnamed: 17</th>\n",
              "      <th>Unnamed: 18</th>\n",
              "      <th>Unnamed: 19</th>\n",
              "      <th>Unnamed: 20</th>\n",
              "      <th>Unnamed: 21</th>\n",
              "      <th>Unnamed: 22</th>\n",
              "      <th>Unnamed: 23</th>\n",
              "      <th>Unnamed: 24</th>\n",
              "      <th>Unnamed: 25</th>\n",
              "      <th>Unnamed: 26</th>\n",
              "      <th>Unnamed: 27</th>\n",
              "      <th>Unnamed: 28</th>\n",
              "      <th>Unnamed: 29</th>\n",
              "      <th>Unnamed: 30</th>\n",
              "      <th>Unnamed: 31</th>\n",
              "      <th>Unnamed: 32</th>\n",
              "      <th>Unnamed: 33</th>\n",
              "      <th>Unnamed: 34</th>\n",
              "      <th>Unnamed: 35</th>\n",
              "      <th>Unnamed: 36</th>\n",
              "      <th>Unnamed: 37</th>\n",
              "      <th>Unnamed: 38</th>\n",
              "      <th>Unnamed: 39</th>\n",
              "      <th>...</th>\n",
              "      <th>Unnamed: 47</th>\n",
              "      <th>Unnamed: 48</th>\n",
              "      <th>Unnamed: 49</th>\n",
              "      <th>Unnamed: 50</th>\n",
              "      <th>Unnamed: 51</th>\n",
              "      <th>Unnamed: 52</th>\n",
              "      <th>Unnamed: 53</th>\n",
              "      <th>Unnamed: 54</th>\n",
              "      <th>Unnamed: 55</th>\n",
              "      <th>Unnamed: 56</th>\n",
              "      <th>Unnamed: 57</th>\n",
              "      <th>Unnamed: 58</th>\n",
              "      <th>Unnamed: 59</th>\n",
              "      <th>Unnamed: 60</th>\n",
              "      <th>Unnamed: 61</th>\n",
              "      <th>Unnamed: 62</th>\n",
              "      <th>Unnamed: 63</th>\n",
              "      <th>Unnamed: 64</th>\n",
              "      <th>Unnamed: 65</th>\n",
              "      <th>Unnamed: 66</th>\n",
              "      <th>Unnamed: 67</th>\n",
              "      <th>Unnamed: 68</th>\n",
              "      <th>Unnamed: 69</th>\n",
              "      <th>Unnamed: 70</th>\n",
              "      <th>Unnamed: 71</th>\n",
              "      <th>Unnamed: 72</th>\n",
              "      <th>Unnamed: 73</th>\n",
              "      <th>Unnamed: 74</th>\n",
              "      <th>Unnamed: 75</th>\n",
              "      <th>Unnamed: 76</th>\n",
              "      <th>Unnamed: 77</th>\n",
              "      <th>Unnamed: 78</th>\n",
              "      <th>Unnamed: 79</th>\n",
              "      <th>Unnamed: 80</th>\n",
              "      <th>Unnamed: 81</th>\n",
              "      <th>Unnamed: 82</th>\n",
              "      <th>Unnamed: 83</th>\n",
              "      <th>Unnamed: 84</th>\n",
              "      <th>Unnamed: 85</th>\n",
              "      <th>Unnamed: 86</th>\n",
              "    </tr>\n",
              "  </thead>\n",
              "  <tbody>\n",
              "    <tr>\n",
              "      <th>0</th>\n",
              "      <td>Операции</td>\n",
              "      <td>Срок</td>\n",
              "      <td>Январь 2014</td>\n",
              "      <td>Февраль 2014</td>\n",
              "      <td>Март 2014</td>\n",
              "      <td>Апрель 2014</td>\n",
              "      <td>Май 2014</td>\n",
              "      <td>Июнь 2014</td>\n",
              "      <td>Июль 2014</td>\n",
              "      <td>Август 2014</td>\n",
              "      <td>Сентябрь 2014</td>\n",
              "      <td>Октябрь 2014</td>\n",
              "      <td>Ноябрь 2014</td>\n",
              "      <td>Декабрь 2014</td>\n",
              "      <td>Январь 2015</td>\n",
              "      <td>Февраль 2015</td>\n",
              "      <td>Март 2015</td>\n",
              "      <td>Апрель 2015</td>\n",
              "      <td>Май 2015</td>\n",
              "      <td>Июнь 2015</td>\n",
              "      <td>Июль 2015</td>\n",
              "      <td>Август 2015</td>\n",
              "      <td>Сентябрь 2015</td>\n",
              "      <td>Октябрь 2015</td>\n",
              "      <td>Ноябрь 2015</td>\n",
              "      <td>Декабрь 2015</td>\n",
              "      <td>Январь 2016</td>\n",
              "      <td>Февраль 2016</td>\n",
              "      <td>Март 2016</td>\n",
              "      <td>Апрель 2016</td>\n",
              "      <td>Май 2016</td>\n",
              "      <td>Июнь 2016</td>\n",
              "      <td>Июль 2016</td>\n",
              "      <td>Август 2016</td>\n",
              "      <td>Сентябрь 2016</td>\n",
              "      <td>Октябрь 2016</td>\n",
              "      <td>Ноябрь 2016</td>\n",
              "      <td>Декабрь 2016</td>\n",
              "      <td>Январь 2017</td>\n",
              "      <td>Февраль 2017</td>\n",
              "      <td>...</td>\n",
              "      <td>Октябрь 2017</td>\n",
              "      <td>Ноябрь 2017</td>\n",
              "      <td>Декабрь 2017</td>\n",
              "      <td>Январь 2018</td>\n",
              "      <td>Февраль 2018</td>\n",
              "      <td>Март 2018</td>\n",
              "      <td>Апрель 2018</td>\n",
              "      <td>Май 2018</td>\n",
              "      <td>Июнь 2018</td>\n",
              "      <td>Июль 2018</td>\n",
              "      <td>Август 2018</td>\n",
              "      <td>Сентябрь 2018</td>\n",
              "      <td>Октябрь 2018</td>\n",
              "      <td>Ноябрь 2018</td>\n",
              "      <td>Декабрь 2018</td>\n",
              "      <td>Январь 2019</td>\n",
              "      <td>Февраль 2019</td>\n",
              "      <td>Март 2019</td>\n",
              "      <td>Апрель 2019</td>\n",
              "      <td>Май 2019</td>\n",
              "      <td>Июнь 2019</td>\n",
              "      <td>Июль 2019</td>\n",
              "      <td>Август 2019</td>\n",
              "      <td>Сентябрь 2019</td>\n",
              "      <td>Октябрь 2019</td>\n",
              "      <td>Ноябрь 2019</td>\n",
              "      <td>Декабрь 2019</td>\n",
              "      <td>Январь 2020</td>\n",
              "      <td>Февраль 2020</td>\n",
              "      <td>Март 2020</td>\n",
              "      <td>Апрель 2020</td>\n",
              "      <td>Май 2020</td>\n",
              "      <td>Июнь 2020</td>\n",
              "      <td>Июль 2020</td>\n",
              "      <td>Август 2020</td>\n",
              "      <td>Сентябрь 2020</td>\n",
              "      <td>Октябрь 2020</td>\n",
              "      <td>Ноябрь 2020</td>\n",
              "      <td>Декабрь 2020</td>\n",
              "      <td>Январь 2021</td>\n",
              "    </tr>\n",
              "    <tr>\n",
              "      <th>1</th>\n",
              "      <td>Кредиты физическим лицам</td>\n",
              "      <td>до 1 года, включая \"до востребования\"</td>\n",
              "      <td>26.21</td>\n",
              "      <td>24.01</td>\n",
              "      <td>24.11</td>\n",
              "      <td>21.13</td>\n",
              "      <td>25.69</td>\n",
              "      <td>24.73</td>\n",
              "      <td>24.07</td>\n",
              "      <td>24.71</td>\n",
              "      <td>24.3</td>\n",
              "      <td>24.64</td>\n",
              "      <td>24.86</td>\n",
              "      <td>25.03</td>\n",
              "      <td>29.28</td>\n",
              "      <td>28.94</td>\n",
              "      <td>27.44</td>\n",
              "      <td>26.43</td>\n",
              "      <td>29.16</td>\n",
              "      <td>27</td>\n",
              "      <td>26.89</td>\n",
              "      <td>26.11</td>\n",
              "      <td>25.24</td>\n",
              "      <td>25.71</td>\n",
              "      <td>25.5</td>\n",
              "      <td>24.54</td>\n",
              "      <td>25.85</td>\n",
              "      <td>23.93</td>\n",
              "      <td>24.29</td>\n",
              "      <td>21.79</td>\n",
              "      <td>23.6</td>\n",
              "      <td>22.21</td>\n",
              "      <td>23.51</td>\n",
              "      <td>24.23</td>\n",
              "      <td>23.95</td>\n",
              "      <td>23.85</td>\n",
              "      <td>23.07</td>\n",
              "      <td>21.64</td>\n",
              "      <td>22.88</td>\n",
              "      <td>21.38</td>\n",
              "      <td>...</td>\n",
              "      <td>19</td>\n",
              "      <td>19.66</td>\n",
              "      <td>19.53</td>\n",
              "      <td>19.56</td>\n",
              "      <td>19.06</td>\n",
              "      <td>17.92</td>\n",
              "      <td>16.42</td>\n",
              "      <td>18.62</td>\n",
              "      <td>18.63</td>\n",
              "      <td>17.82</td>\n",
              "      <td>18.7</td>\n",
              "      <td>18.19</td>\n",
              "      <td>18.64</td>\n",
              "      <td>18.46</td>\n",
              "      <td>18.42</td>\n",
              "      <td>16.17</td>\n",
              "      <td>15.57</td>\n",
              "      <td>14.76</td>\n",
              "      <td>14.79</td>\n",
              "      <td>15.08</td>\n",
              "      <td>14.82</td>\n",
              "      <td>14.62</td>\n",
              "      <td>14.16</td>\n",
              "      <td>13.75</td>\n",
              "      <td>13.17</td>\n",
              "      <td>14.98</td>\n",
              "      <td>14.61</td>\n",
              "      <td>14.59</td>\n",
              "      <td>13.85</td>\n",
              "      <td>13.32</td>\n",
              "      <td>14.34</td>\n",
              "      <td>13.91</td>\n",
              "      <td>13.19</td>\n",
              "      <td>12.78</td>\n",
              "      <td>12.46</td>\n",
              "      <td>12.65</td>\n",
              "      <td>12.82</td>\n",
              "      <td>12.84</td>\n",
              "      <td>12.63</td>\n",
              "      <td>12.56</td>\n",
              "    </tr>\n",
              "    <tr>\n",
              "      <th>2</th>\n",
              "      <td>NaN</td>\n",
              "      <td>свыше 1 года</td>\n",
              "      <td>18.91</td>\n",
              "      <td>18.5</td>\n",
              "      <td>18.26</td>\n",
              "      <td>18.21</td>\n",
              "      <td>18.52</td>\n",
              "      <td>18.54</td>\n",
              "      <td>18.68</td>\n",
              "      <td>18.33</td>\n",
              "      <td>18.18</td>\n",
              "      <td>17.96</td>\n",
              "      <td>18.19</td>\n",
              "      <td>18.19</td>\n",
              "      <td>22.63</td>\n",
              "      <td>23.52</td>\n",
              "      <td>24.55</td>\n",
              "      <td>22.53</td>\n",
              "      <td>21.68</td>\n",
              "      <td>20.44</td>\n",
              "      <td>20.13</td>\n",
              "      <td>19.55</td>\n",
              "      <td>19.22</td>\n",
              "      <td>19.12</td>\n",
              "      <td>18.71</td>\n",
              "      <td>17.85</td>\n",
              "      <td>18.49</td>\n",
              "      <td>17.02</td>\n",
              "      <td>18.21</td>\n",
              "      <td>17.81</td>\n",
              "      <td>17.91</td>\n",
              "      <td>17.71</td>\n",
              "      <td>17.63</td>\n",
              "      <td>17.2</td>\n",
              "      <td>17</td>\n",
              "      <td>16.69</td>\n",
              "      <td>16.33</td>\n",
              "      <td>15.88</td>\n",
              "      <td>16.85</td>\n",
              "      <td>16.44</td>\n",
              "      <td>...</td>\n",
              "      <td>14.34</td>\n",
              "      <td>14.09</td>\n",
              "      <td>13.57</td>\n",
              "      <td>14.29</td>\n",
              "      <td>14.09</td>\n",
              "      <td>13.95</td>\n",
              "      <td>13.61</td>\n",
              "      <td>13.61</td>\n",
              "      <td>13.39</td>\n",
              "      <td>13.36</td>\n",
              "      <td>13.29</td>\n",
              "      <td>12.71</td>\n",
              "      <td>12.69</td>\n",
              "      <td>12.56</td>\n",
              "      <td>12.62</td>\n",
              "      <td>13.22</td>\n",
              "      <td>13.08</td>\n",
              "      <td>13.19</td>\n",
              "      <td>13.17</td>\n",
              "      <td>13.31</td>\n",
              "      <td>13.1</td>\n",
              "      <td>13.05</td>\n",
              "      <td>12.81</td>\n",
              "      <td>12.58</td>\n",
              "      <td>12.4</td>\n",
              "      <td>12.17</td>\n",
              "      <td>11.77</td>\n",
              "      <td>11.96</td>\n",
              "      <td>11.65</td>\n",
              "      <td>11.28</td>\n",
              "      <td>11.68</td>\n",
              "      <td>11.43</td>\n",
              "      <td>11.1</td>\n",
              "      <td>10.59</td>\n",
              "      <td>10.4</td>\n",
              "      <td>10.16</td>\n",
              "      <td>9.78</td>\n",
              "      <td>9.86</td>\n",
              "      <td>9.68</td>\n",
              "      <td>10.14</td>\n",
              "    </tr>\n",
              "    <tr>\n",
              "      <th>3</th>\n",
              "      <td>Кредиты нефинансовым организациям</td>\n",
              "      <td>до 1 года, включая \"до востребования\"</td>\n",
              "      <td>9.63</td>\n",
              "      <td>9.81</td>\n",
              "      <td>10.66</td>\n",
              "      <td>10.73</td>\n",
              "      <td>11.07</td>\n",
              "      <td>11.14</td>\n",
              "      <td>11</td>\n",
              "      <td>10.9</td>\n",
              "      <td>11.08</td>\n",
              "      <td>11.3</td>\n",
              "      <td>12.38</td>\n",
              "      <td>16.73</td>\n",
              "      <td>19.82</td>\n",
              "      <td>18.34</td>\n",
              "      <td>17.91</td>\n",
              "      <td>17.19</td>\n",
              "      <td>16.05</td>\n",
              "      <td>15.62</td>\n",
              "      <td>14.7</td>\n",
              "      <td>14.33</td>\n",
              "      <td>14.03</td>\n",
              "      <td>13.72</td>\n",
              "      <td>13.83</td>\n",
              "      <td>13.89</td>\n",
              "      <td>13.48</td>\n",
              "      <td>13.48</td>\n",
              "      <td>13.33</td>\n",
              "      <td>13.06</td>\n",
              "      <td>13.17</td>\n",
              "      <td>12.79</td>\n",
              "      <td>12.53</td>\n",
              "      <td>12.26</td>\n",
              "      <td>12.21</td>\n",
              "      <td>12.25</td>\n",
              "      <td>11.88</td>\n",
              "      <td>11.99</td>\n",
              "      <td>11.73</td>\n",
              "      <td>11.65</td>\n",
              "      <td>...</td>\n",
              "      <td>9.99</td>\n",
              "      <td>9.88</td>\n",
              "      <td>9.73</td>\n",
              "      <td>9.3</td>\n",
              "      <td>9.12</td>\n",
              "      <td>9</td>\n",
              "      <td>8.92</td>\n",
              "      <td>8.91</td>\n",
              "      <td>8.94</td>\n",
              "      <td>8.88</td>\n",
              "      <td>8.8</td>\n",
              "      <td>9.09</td>\n",
              "      <td>9</td>\n",
              "      <td>9.06</td>\n",
              "      <td>9.24</td>\n",
              "      <td>9.23</td>\n",
              "      <td>9.25</td>\n",
              "      <td>9.25</td>\n",
              "      <td>9.15</td>\n",
              "      <td>9.14</td>\n",
              "      <td>9.03</td>\n",
              "      <td>8.71</td>\n",
              "      <td>8.52</td>\n",
              "      <td>8.29</td>\n",
              "      <td>8.18</td>\n",
              "      <td>7.91</td>\n",
              "      <td>7.8</td>\n",
              "      <td>7.42</td>\n",
              "      <td>7.48</td>\n",
              "      <td>7.75</td>\n",
              "      <td>7.62</td>\n",
              "      <td>7.24</td>\n",
              "      <td>6.89</td>\n",
              "      <td>6.38</td>\n",
              "      <td>6.15</td>\n",
              "      <td>6.24</td>\n",
              "      <td>6.01</td>\n",
              "      <td>5.88</td>\n",
              "      <td>6.18</td>\n",
              "      <td>6.02</td>\n",
              "    </tr>\n",
              "    <tr>\n",
              "      <th>4</th>\n",
              "      <td>NaN</td>\n",
              "      <td>в том числе субъектам малого и среднего предпр...</td>\n",
              "      <td>12.63</td>\n",
              "      <td>12.73</td>\n",
              "      <td>12.68</td>\n",
              "      <td>12.95</td>\n",
              "      <td>12.99</td>\n",
              "      <td>13.04</td>\n",
              "      <td>13.17</td>\n",
              "      <td>13.24</td>\n",
              "      <td>13.34</td>\n",
              "      <td>13.41</td>\n",
              "      <td>13.87</td>\n",
              "      <td>16.25</td>\n",
              "      <td>18.91</td>\n",
              "      <td>19.06</td>\n",
              "      <td>19.16</td>\n",
              "      <td>18.96</td>\n",
              "      <td>18.62</td>\n",
              "      <td>18.22</td>\n",
              "      <td>17.78</td>\n",
              "      <td>17.55</td>\n",
              "      <td>17.17</td>\n",
              "      <td>17.12</td>\n",
              "      <td>16.88</td>\n",
              "      <td>16.6</td>\n",
              "      <td>16.56</td>\n",
              "      <td>16.54</td>\n",
              "      <td>16.35</td>\n",
              "      <td>16.6</td>\n",
              "      <td>16.47</td>\n",
              "      <td>16.22</td>\n",
              "      <td>15.8</td>\n",
              "      <td>15.76</td>\n",
              "      <td>15.34</td>\n",
              "      <td>15.24</td>\n",
              "      <td>15.23</td>\n",
              "      <td>14.82</td>\n",
              "      <td>14.77</td>\n",
              "      <td>14.04</td>\n",
              "      <td>...</td>\n",
              "      <td>13.3</td>\n",
              "      <td>12.79</td>\n",
              "      <td>12.4</td>\n",
              "      <td>12.92</td>\n",
              "      <td>11.89</td>\n",
              "      <td>11.63</td>\n",
              "      <td>11.74</td>\n",
              "      <td>11.86</td>\n",
              "      <td>11.67</td>\n",
              "      <td>11.69</td>\n",
              "      <td>11.63</td>\n",
              "      <td>11.16</td>\n",
              "      <td>11.5</td>\n",
              "      <td>10.47</td>\n",
              "      <td>11.04</td>\n",
              "      <td>11.19</td>\n",
              "      <td>11.36</td>\n",
              "      <td>11.03</td>\n",
              "      <td>11.35</td>\n",
              "      <td>11.11</td>\n",
              "      <td>11.29</td>\n",
              "      <td>11.27</td>\n",
              "      <td>11.03</td>\n",
              "      <td>10.8</td>\n",
              "      <td>10.76</td>\n",
              "      <td>10.53</td>\n",
              "      <td>10.32</td>\n",
              "      <td>10.53</td>\n",
              "      <td>9.96</td>\n",
              "      <td>9.4</td>\n",
              "      <td>9.94</td>\n",
              "      <td>9.91</td>\n",
              "      <td>9.43</td>\n",
              "      <td>8.27</td>\n",
              "      <td>7.69</td>\n",
              "      <td>7.54</td>\n",
              "      <td>8.49</td>\n",
              "      <td>8.56</td>\n",
              "      <td>8.13</td>\n",
              "      <td>8.27</td>\n",
              "    </tr>\n",
              "    <tr>\n",
              "      <th>5</th>\n",
              "      <td>NaN</td>\n",
              "      <td>свыше 1 года</td>\n",
              "      <td>11.41</td>\n",
              "      <td>11.68</td>\n",
              "      <td>11.09</td>\n",
              "      <td>12.16</td>\n",
              "      <td>12.02</td>\n",
              "      <td>12.06</td>\n",
              "      <td>12.29</td>\n",
              "      <td>12.6</td>\n",
              "      <td>12.53</td>\n",
              "      <td>12.87</td>\n",
              "      <td>13.16</td>\n",
              "      <td>13.95</td>\n",
              "      <td>17.35</td>\n",
              "      <td>16.82</td>\n",
              "      <td>17</td>\n",
              "      <td>16.04</td>\n",
              "      <td>16.51</td>\n",
              "      <td>15.85</td>\n",
              "      <td>15.77</td>\n",
              "      <td>14.97</td>\n",
              "      <td>15.06</td>\n",
              "      <td>14.55</td>\n",
              "      <td>14.74</td>\n",
              "      <td>13.15</td>\n",
              "      <td>13.78</td>\n",
              "      <td>13.34</td>\n",
              "      <td>14.16</td>\n",
              "      <td>14.12</td>\n",
              "      <td>14.15</td>\n",
              "      <td>13.9</td>\n",
              "      <td>13.76</td>\n",
              "      <td>13.45</td>\n",
              "      <td>13.18</td>\n",
              "      <td>12.44</td>\n",
              "      <td>12.19</td>\n",
              "      <td>11.93</td>\n",
              "      <td>12.78</td>\n",
              "      <td>12.45</td>\n",
              "      <td>...</td>\n",
              "      <td>10.29</td>\n",
              "      <td>9.94</td>\n",
              "      <td>9.34</td>\n",
              "      <td>9.45</td>\n",
              "      <td>9.72</td>\n",
              "      <td>9.37</td>\n",
              "      <td>8.63</td>\n",
              "      <td>9.33</td>\n",
              "      <td>8.62</td>\n",
              "      <td>8.75</td>\n",
              "      <td>8.98</td>\n",
              "      <td>9.48</td>\n",
              "      <td>9.2</td>\n",
              "      <td>9.47</td>\n",
              "      <td>9.33</td>\n",
              "      <td>9.76</td>\n",
              "      <td>10.13</td>\n",
              "      <td>9.82</td>\n",
              "      <td>9.54</td>\n",
              "      <td>9.8</td>\n",
              "      <td>9.11</td>\n",
              "      <td>9.39</td>\n",
              "      <td>8.95</td>\n",
              "      <td>8.82</td>\n",
              "      <td>9.3</td>\n",
              "      <td>8.88</td>\n",
              "      <td>8.33</td>\n",
              "      <td>8.38</td>\n",
              "      <td>8.17</td>\n",
              "      <td>8.06</td>\n",
              "      <td>8.77</td>\n",
              "      <td>8.4</td>\n",
              "      <td>7.34</td>\n",
              "      <td>7.26</td>\n",
              "      <td>7.35</td>\n",
              "      <td>7.01</td>\n",
              "      <td>7.07</td>\n",
              "      <td>6.88</td>\n",
              "      <td>6.71</td>\n",
              "      <td>7.04</td>\n",
              "    </tr>\n",
              "    <tr>\n",
              "      <th>6</th>\n",
              "      <td>NaN</td>\n",
              "      <td>в том числе субъектам малого и среднего предпр...</td>\n",
              "      <td>13.59</td>\n",
              "      <td>13.93</td>\n",
              "      <td>13.33</td>\n",
              "      <td>13.64</td>\n",
              "      <td>13.17</td>\n",
              "      <td>12.98</td>\n",
              "      <td>13.63</td>\n",
              "      <td>14</td>\n",
              "      <td>14.03</td>\n",
              "      <td>14.1</td>\n",
              "      <td>14.31</td>\n",
              "      <td>15.47</td>\n",
              "      <td>18.22</td>\n",
              "      <td>17.87</td>\n",
              "      <td>17.58</td>\n",
              "      <td>17.86</td>\n",
              "      <td>17.82</td>\n",
              "      <td>17.1</td>\n",
              "      <td>17.29</td>\n",
              "      <td>16.63</td>\n",
              "      <td>16.29</td>\n",
              "      <td>15.52</td>\n",
              "      <td>16.47</td>\n",
              "      <td>15.32</td>\n",
              "      <td>16.2</td>\n",
              "      <td>16.12</td>\n",
              "      <td>15.98</td>\n",
              "      <td>15.94</td>\n",
              "      <td>15.89</td>\n",
              "      <td>16.42</td>\n",
              "      <td>15.88</td>\n",
              "      <td>15.65</td>\n",
              "      <td>14.87</td>\n",
              "      <td>13.91</td>\n",
              "      <td>14.49</td>\n",
              "      <td>13.68</td>\n",
              "      <td>14.15</td>\n",
              "      <td>13.78</td>\n",
              "      <td>...</td>\n",
              "      <td>12.15</td>\n",
              "      <td>11.1</td>\n",
              "      <td>10.86</td>\n",
              "      <td>12.04</td>\n",
              "      <td>10.98</td>\n",
              "      <td>11.02</td>\n",
              "      <td>11.09</td>\n",
              "      <td>10.71</td>\n",
              "      <td>9.43</td>\n",
              "      <td>10.65</td>\n",
              "      <td>10.35</td>\n",
              "      <td>10.4</td>\n",
              "      <td>10.44</td>\n",
              "      <td>9.52</td>\n",
              "      <td>10.23</td>\n",
              "      <td>10.74</td>\n",
              "      <td>11.35</td>\n",
              "      <td>10.6</td>\n",
              "      <td>10.59</td>\n",
              "      <td>10.99</td>\n",
              "      <td>10.42</td>\n",
              "      <td>10.27</td>\n",
              "      <td>10.59</td>\n",
              "      <td>10.27</td>\n",
              "      <td>10.29</td>\n",
              "      <td>10.14</td>\n",
              "      <td>9.61</td>\n",
              "      <td>9.63</td>\n",
              "      <td>9.7</td>\n",
              "      <td>9.33</td>\n",
              "      <td>9.39</td>\n",
              "      <td>8.76</td>\n",
              "      <td>7.55</td>\n",
              "      <td>8.11</td>\n",
              "      <td>8.15</td>\n",
              "      <td>8.28</td>\n",
              "      <td>8.08</td>\n",
              "      <td>8.03</td>\n",
              "      <td>7.82</td>\n",
              "      <td>7.65</td>\n",
              "    </tr>\n",
              "    <tr>\n",
              "      <th>7</th>\n",
              "      <td>Депозиты физических лиц</td>\n",
              "      <td>\"до востребования\"*</td>\n",
              "      <td>2.48</td>\n",
              "      <td>2.48</td>\n",
              "      <td>2.28</td>\n",
              "      <td>2.06</td>\n",
              "      <td>1.83</td>\n",
              "      <td>1.91</td>\n",
              "      <td>2.08</td>\n",
              "      <td>1.97</td>\n",
              "      <td>2.17</td>\n",
              "      <td>2.24</td>\n",
              "      <td>3.33</td>\n",
              "      <td>6.59</td>\n",
              "      <td>5.81</td>\n",
              "      <td>4.75</td>\n",
              "      <td>3.63</td>\n",
              "      <td>3</td>\n",
              "      <td>2.17</td>\n",
              "      <td>2.3</td>\n",
              "      <td>1.69</td>\n",
              "      <td>2.1</td>\n",
              "      <td>2.11</td>\n",
              "      <td>1.98</td>\n",
              "      <td>2.22</td>\n",
              "      <td>3.27</td>\n",
              "      <td>3.59</td>\n",
              "      <td>3.46</td>\n",
              "      <td>3.59</td>\n",
              "      <td>2.98</td>\n",
              "      <td>2.56</td>\n",
              "      <td>2.27</td>\n",
              "      <td>2.33</td>\n",
              "      <td>2.49</td>\n",
              "      <td>2.42</td>\n",
              "      <td>2.24</td>\n",
              "      <td>3.1</td>\n",
              "      <td>3.45</td>\n",
              "      <td>3.17</td>\n",
              "      <td>3.78</td>\n",
              "      <td>...</td>\n",
              "      <td>2.36</td>\n",
              "      <td>2.61</td>\n",
              "      <td>2.47</td>\n",
              "      <td>2.41</td>\n",
              "      <td>2.85</td>\n",
              "      <td>2.29</td>\n",
              "      <td>2.97</td>\n",
              "      <td>3.27</td>\n",
              "      <td>3.13</td>\n",
              "      <td>3.99</td>\n",
              "      <td>4.52</td>\n",
              "      <td>4.55</td>\n",
              "      <td>4.03</td>\n",
              "      <td>4.65</td>\n",
              "      <td>5.54</td>\n",
              "      <td>4.81</td>\n",
              "      <td>4.48</td>\n",
              "      <td>4.79</td>\n",
              "      <td>4.68</td>\n",
              "      <td>3.92</td>\n",
              "      <td>4.05</td>\n",
              "      <td>4.15</td>\n",
              "      <td>3.97</td>\n",
              "      <td>3.88</td>\n",
              "      <td>3.92</td>\n",
              "      <td>3.61</td>\n",
              "      <td>3.89</td>\n",
              "      <td>2.72</td>\n",
              "      <td>2.45</td>\n",
              "      <td>2.27</td>\n",
              "      <td>2.88</td>\n",
              "      <td>2.22</td>\n",
              "      <td>1.99</td>\n",
              "      <td>2.46</td>\n",
              "      <td>2.48</td>\n",
              "      <td>2.25</td>\n",
              "      <td>2.4</td>\n",
              "      <td>2.79</td>\n",
              "      <td>1.96</td>\n",
              "      <td>1.84</td>\n",
              "    </tr>\n",
              "    <tr>\n",
              "      <th>8</th>\n",
              "      <td>NaN</td>\n",
              "      <td>до 1 года, кроме \"до востребования\"</td>\n",
              "      <td>7.54</td>\n",
              "      <td>7.41</td>\n",
              "      <td>7.44</td>\n",
              "      <td>7.71</td>\n",
              "      <td>7.83</td>\n",
              "      <td>8.09</td>\n",
              "      <td>8.06</td>\n",
              "      <td>8.12</td>\n",
              "      <td>8.32</td>\n",
              "      <td>8.65</td>\n",
              "      <td>8.97</td>\n",
              "      <td>14.35</td>\n",
              "      <td>15.7</td>\n",
              "      <td>14.23</td>\n",
              "      <td>13.31</td>\n",
              "      <td>12.85</td>\n",
              "      <td>11.96</td>\n",
              "      <td>11.41</td>\n",
              "      <td>10.66</td>\n",
              "      <td>10.22</td>\n",
              "      <td>9.91</td>\n",
              "      <td>9.81</td>\n",
              "      <td>9.63</td>\n",
              "      <td>10.04</td>\n",
              "      <td>9.65</td>\n",
              "      <td>9.41</td>\n",
              "      <td>9.21</td>\n",
              "      <td>9.14</td>\n",
              "      <td>8.97</td>\n",
              "      <td>8.8</td>\n",
              "      <td>8.51</td>\n",
              "      <td>8.38</td>\n",
              "      <td>8.19</td>\n",
              "      <td>8.09</td>\n",
              "      <td>8.08</td>\n",
              "      <td>8.05</td>\n",
              "      <td>7.89</td>\n",
              "      <td>7.75</td>\n",
              "      <td>...</td>\n",
              "      <td>7.11</td>\n",
              "      <td>7.09</td>\n",
              "      <td>6.93</td>\n",
              "      <td>6.97</td>\n",
              "      <td>6.67</td>\n",
              "      <td>6.55</td>\n",
              "      <td>6.21</td>\n",
              "      <td>6.33</td>\n",
              "      <td>6.05</td>\n",
              "      <td>5.95</td>\n",
              "      <td>5.93</td>\n",
              "      <td>5.88</td>\n",
              "      <td>6.12</td>\n",
              "      <td>6.32</td>\n",
              "      <td>6.52</td>\n",
              "      <td>6.45</td>\n",
              "      <td>6.61</td>\n",
              "      <td>6.67</td>\n",
              "      <td>6.62</td>\n",
              "      <td>6.5</td>\n",
              "      <td>6.42</td>\n",
              "      <td>6.36</td>\n",
              "      <td>6.18</td>\n",
              "      <td>6.02</td>\n",
              "      <td>5.91</td>\n",
              "      <td>5.64</td>\n",
              "      <td>5.47</td>\n",
              "      <td>5.27</td>\n",
              "      <td>5.03</td>\n",
              "      <td>4.91</td>\n",
              "      <td>5.09</td>\n",
              "      <td>4.97</td>\n",
              "      <td>4.67</td>\n",
              "      <td>4.17</td>\n",
              "      <td>3.99</td>\n",
              "      <td>3.93</td>\n",
              "      <td>3.94</td>\n",
              "      <td>4.03</td>\n",
              "      <td>4.16</td>\n",
              "      <td>4.16</td>\n",
              "    </tr>\n",
              "    <tr>\n",
              "      <th>9</th>\n",
              "      <td>NaN</td>\n",
              "      <td>до 1 года, включая \"до востребования\"</td>\n",
              "      <td>6.46</td>\n",
              "      <td>6.25</td>\n",
              "      <td>6.23</td>\n",
              "      <td>6.52</td>\n",
              "      <td>6.56</td>\n",
              "      <td>6.78</td>\n",
              "      <td>6.88</td>\n",
              "      <td>6.91</td>\n",
              "      <td>7.07</td>\n",
              "      <td>7.42</td>\n",
              "      <td>7.78</td>\n",
              "      <td>13.79</td>\n",
              "      <td>14.7</td>\n",
              "      <td>13.05</td>\n",
              "      <td>12.41</td>\n",
              "      <td>11.89</td>\n",
              "      <td>10.87</td>\n",
              "      <td>10.41</td>\n",
              "      <td>9.78</td>\n",
              "      <td>9.29</td>\n",
              "      <td>9.13</td>\n",
              "      <td>9.13</td>\n",
              "      <td>8.96</td>\n",
              "      <td>9.23</td>\n",
              "      <td>8.89</td>\n",
              "      <td>8.74</td>\n",
              "      <td>8.6</td>\n",
              "      <td>8.46</td>\n",
              "      <td>8.35</td>\n",
              "      <td>8.15</td>\n",
              "      <td>7.9</td>\n",
              "      <td>7.82</td>\n",
              "      <td>7.7</td>\n",
              "      <td>7.56</td>\n",
              "      <td>7.61</td>\n",
              "      <td>7.48</td>\n",
              "      <td>7.41</td>\n",
              "      <td>7.3</td>\n",
              "      <td>...</td>\n",
              "      <td>6.71</td>\n",
              "      <td>6.76</td>\n",
              "      <td>6.43</td>\n",
              "      <td>6.5</td>\n",
              "      <td>6.32</td>\n",
              "      <td>6.21</td>\n",
              "      <td>5.98</td>\n",
              "      <td>6.1</td>\n",
              "      <td>5.83</td>\n",
              "      <td>5.77</td>\n",
              "      <td>5.77</td>\n",
              "      <td>5.73</td>\n",
              "      <td>5.9</td>\n",
              "      <td>6.13</td>\n",
              "      <td>6.36</td>\n",
              "      <td>6.27</td>\n",
              "      <td>6.38</td>\n",
              "      <td>6.43</td>\n",
              "      <td>6.37</td>\n",
              "      <td>6.24</td>\n",
              "      <td>6.2</td>\n",
              "      <td>6.11</td>\n",
              "      <td>5.95</td>\n",
              "      <td>5.82</td>\n",
              "      <td>5.7</td>\n",
              "      <td>5.44</td>\n",
              "      <td>5.26</td>\n",
              "      <td>5.02</td>\n",
              "      <td>4.77</td>\n",
              "      <td>4.63</td>\n",
              "      <td>4.88</td>\n",
              "      <td>4.72</td>\n",
              "      <td>4.4</td>\n",
              "      <td>3.89</td>\n",
              "      <td>3.7</td>\n",
              "      <td>3.66</td>\n",
              "      <td>3.71</td>\n",
              "      <td>3.79</td>\n",
              "      <td>3.97</td>\n",
              "      <td>3.94</td>\n",
              "    </tr>\n",
              "    <tr>\n",
              "      <th>10</th>\n",
              "      <td>NaN</td>\n",
              "      <td>свыше 1 года</td>\n",
              "      <td>8.4</td>\n",
              "      <td>8.47</td>\n",
              "      <td>8.46</td>\n",
              "      <td>8.58</td>\n",
              "      <td>8.85</td>\n",
              "      <td>8.59</td>\n",
              "      <td>8.8</td>\n",
              "      <td>8.94</td>\n",
              "      <td>9.19</td>\n",
              "      <td>9.31</td>\n",
              "      <td>9.73</td>\n",
              "      <td>13.9</td>\n",
              "      <td>15.01</td>\n",
              "      <td>13.53</td>\n",
              "      <td>12.55</td>\n",
              "      <td>12.11</td>\n",
              "      <td>11.72</td>\n",
              "      <td>11.25</td>\n",
              "      <td>10.84</td>\n",
              "      <td>10.45</td>\n",
              "      <td>10.29</td>\n",
              "      <td>10.08</td>\n",
              "      <td>10.15</td>\n",
              "      <td>10.16</td>\n",
              "      <td>9.88</td>\n",
              "      <td>9.84</td>\n",
              "      <td>9.45</td>\n",
              "      <td>9.6</td>\n",
              "      <td>9.39</td>\n",
              "      <td>9.37</td>\n",
              "      <td>9.1</td>\n",
              "      <td>8.85</td>\n",
              "      <td>8.69</td>\n",
              "      <td>8.56</td>\n",
              "      <td>8.28</td>\n",
              "      <td>8.28</td>\n",
              "      <td>8.24</td>\n",
              "      <td>8.02</td>\n",
              "      <td>...</td>\n",
              "      <td>7.16</td>\n",
              "      <td>7.16</td>\n",
              "      <td>7.11</td>\n",
              "      <td>6.95</td>\n",
              "      <td>6.8</td>\n",
              "      <td>6.51</td>\n",
              "      <td>6.33</td>\n",
              "      <td>6.4</td>\n",
              "      <td>6.06</td>\n",
              "      <td>6.04</td>\n",
              "      <td>5.99</td>\n",
              "      <td>6.13</td>\n",
              "      <td>6.62</td>\n",
              "      <td>6.82</td>\n",
              "      <td>7.01</td>\n",
              "      <td>7.01</td>\n",
              "      <td>7.03</td>\n",
              "      <td>7.12</td>\n",
              "      <td>7.09</td>\n",
              "      <td>6.96</td>\n",
              "      <td>6.86</td>\n",
              "      <td>6.83</td>\n",
              "      <td>6.62</td>\n",
              "      <td>6.38</td>\n",
              "      <td>6.26</td>\n",
              "      <td>5.94</td>\n",
              "      <td>5.66</td>\n",
              "      <td>5.53</td>\n",
              "      <td>5.24</td>\n",
              "      <td>4.95</td>\n",
              "      <td>5</td>\n",
              "      <td>5.05</td>\n",
              "      <td>4.82</td>\n",
              "      <td>4.39</td>\n",
              "      <td>4.15</td>\n",
              "      <td>4.18</td>\n",
              "      <td>4.24</td>\n",
              "      <td>4.24</td>\n",
              "      <td>4.3</td>\n",
              "      <td>4.24</td>\n",
              "    </tr>\n",
              "    <tr>\n",
              "      <th>11</th>\n",
              "      <td>Депозиты нефинансовых организаций</td>\n",
              "      <td>до 1 года, включая \"до востребования\"</td>\n",
              "      <td>5.57</td>\n",
              "      <td>5.51</td>\n",
              "      <td>6.85</td>\n",
              "      <td>7.12</td>\n",
              "      <td>7.48</td>\n",
              "      <td>7.49</td>\n",
              "      <td>7.45</td>\n",
              "      <td>7.3</td>\n",
              "      <td>7.31</td>\n",
              "      <td>7.58</td>\n",
              "      <td>9.13</td>\n",
              "      <td>14.13</td>\n",
              "      <td>15.21</td>\n",
              "      <td>13.48</td>\n",
              "      <td>13.3</td>\n",
              "      <td>12.88</td>\n",
              "      <td>11.49</td>\n",
              "      <td>11.05</td>\n",
              "      <td>10.38</td>\n",
              "      <td>9.83</td>\n",
              "      <td>9.94</td>\n",
              "      <td>9.99</td>\n",
              "      <td>10.14</td>\n",
              "      <td>9.97</td>\n",
              "      <td>9.83</td>\n",
              "      <td>9.77</td>\n",
              "      <td>9.81</td>\n",
              "      <td>9.71</td>\n",
              "      <td>9.77</td>\n",
              "      <td>9.46</td>\n",
              "      <td>9.29</td>\n",
              "      <td>9.24</td>\n",
              "      <td>9.09</td>\n",
              "      <td>8.98</td>\n",
              "      <td>8.87</td>\n",
              "      <td>8.92</td>\n",
              "      <td>8.86</td>\n",
              "      <td>8.9</td>\n",
              "      <td>...</td>\n",
              "      <td>7.17</td>\n",
              "      <td>6.98</td>\n",
              "      <td>6.75</td>\n",
              "      <td>6.21</td>\n",
              "      <td>6.05</td>\n",
              "      <td>6.09</td>\n",
              "      <td>5.87</td>\n",
              "      <td>5.89</td>\n",
              "      <td>5.9</td>\n",
              "      <td>5.96</td>\n",
              "      <td>6.06</td>\n",
              "      <td>6.28</td>\n",
              "      <td>6.46</td>\n",
              "      <td>6.52</td>\n",
              "      <td>6.59</td>\n",
              "      <td>6.55</td>\n",
              "      <td>6.55</td>\n",
              "      <td>6.51</td>\n",
              "      <td>6.5</td>\n",
              "      <td>6.53</td>\n",
              "      <td>6.43</td>\n",
              "      <td>6.2</td>\n",
              "      <td>6.02</td>\n",
              "      <td>5.86</td>\n",
              "      <td>5.77</td>\n",
              "      <td>5.47</td>\n",
              "      <td>5.21</td>\n",
              "      <td>5.07</td>\n",
              "      <td>4.88</td>\n",
              "      <td>4.83</td>\n",
              "      <td>4.82</td>\n",
              "      <td>4.48</td>\n",
              "      <td>4.11</td>\n",
              "      <td>3.39</td>\n",
              "      <td>3.25</td>\n",
              "      <td>3.27</td>\n",
              "      <td>3.32</td>\n",
              "      <td>3.31</td>\n",
              "      <td>3.35</td>\n",
              "      <td>3.36</td>\n",
              "    </tr>\n",
              "    <tr>\n",
              "      <th>12</th>\n",
              "      <td>NaN</td>\n",
              "      <td>свыше 1 года</td>\n",
              "      <td>8.04</td>\n",
              "      <td>7.95</td>\n",
              "      <td>7.73</td>\n",
              "      <td>8.65</td>\n",
              "      <td>8.66</td>\n",
              "      <td>8.66</td>\n",
              "      <td>8.78</td>\n",
              "      <td>9.31</td>\n",
              "      <td>9.44</td>\n",
              "      <td>8.51</td>\n",
              "      <td>9.83</td>\n",
              "      <td>13.46</td>\n",
              "      <td>13.64</td>\n",
              "      <td>13.78</td>\n",
              "      <td>13.17</td>\n",
              "      <td>12.45</td>\n",
              "      <td>11.69</td>\n",
              "      <td>11.33</td>\n",
              "      <td>11.73</td>\n",
              "      <td>10.5</td>\n",
              "      <td>10.99</td>\n",
              "      <td>10.87</td>\n",
              "      <td>9.97</td>\n",
              "      <td>10.84</td>\n",
              "      <td>10.15</td>\n",
              "      <td>10.2</td>\n",
              "      <td>9.53</td>\n",
              "      <td>10.07</td>\n",
              "      <td>9.99</td>\n",
              "      <td>9.85</td>\n",
              "      <td>10.44</td>\n",
              "      <td>9.43</td>\n",
              "      <td>10.97</td>\n",
              "      <td>9.94</td>\n",
              "      <td>8.7</td>\n",
              "      <td>9.16</td>\n",
              "      <td>9</td>\n",
              "      <td>8.82</td>\n",
              "      <td>...</td>\n",
              "      <td>7.25</td>\n",
              "      <td>7.14</td>\n",
              "      <td>7.55</td>\n",
              "      <td>6.66</td>\n",
              "      <td>6.18</td>\n",
              "      <td>6.31</td>\n",
              "      <td>5.68</td>\n",
              "      <td>6.29</td>\n",
              "      <td>6</td>\n",
              "      <td>6.19</td>\n",
              "      <td>7.2</td>\n",
              "      <td>6.05</td>\n",
              "      <td>6.01</td>\n",
              "      <td>6.93</td>\n",
              "      <td>6.72</td>\n",
              "      <td>6.64</td>\n",
              "      <td>6.33</td>\n",
              "      <td>6.48</td>\n",
              "      <td>6.7</td>\n",
              "      <td>6.46</td>\n",
              "      <td>6.94</td>\n",
              "      <td>6.29</td>\n",
              "      <td>6.22</td>\n",
              "      <td>7.09</td>\n",
              "      <td>6.32</td>\n",
              "      <td>6.18</td>\n",
              "      <td>5.87</td>\n",
              "      <td>5.77</td>\n",
              "      <td>5.13</td>\n",
              "      <td>5.15</td>\n",
              "      <td>5.13</td>\n",
              "      <td>5</td>\n",
              "      <td>4.58</td>\n",
              "      <td>4.33</td>\n",
              "      <td>4.12</td>\n",
              "      <td>4.75</td>\n",
              "      <td>4.31</td>\n",
              "      <td>4.49</td>\n",
              "      <td>4.75</td>\n",
              "      <td>4.61</td>\n",
              "    </tr>\n",
              "    <tr>\n",
              "      <th>13</th>\n",
              "      <td>NaN</td>\n",
              "      <td>NaN</td>\n",
              "      <td>NaN</td>\n",
              "      <td>NaN</td>\n",
              "      <td>NaN</td>\n",
              "      <td>NaN</td>\n",
              "      <td>NaN</td>\n",
              "      <td>NaN</td>\n",
              "      <td>NaN</td>\n",
              "      <td>NaN</td>\n",
              "      <td>NaN</td>\n",
              "      <td>NaN</td>\n",
              "      <td>NaN</td>\n",
              "      <td>NaN</td>\n",
              "      <td>NaN</td>\n",
              "      <td>NaN</td>\n",
              "      <td>NaN</td>\n",
              "      <td>NaN</td>\n",
              "      <td>NaN</td>\n",
              "      <td>NaN</td>\n",
              "      <td>NaN</td>\n",
              "      <td>NaN</td>\n",
              "      <td>NaN</td>\n",
              "      <td>NaN</td>\n",
              "      <td>NaN</td>\n",
              "      <td>NaN</td>\n",
              "      <td>NaN</td>\n",
              "      <td>NaN</td>\n",
              "      <td>NaN</td>\n",
              "      <td>NaN</td>\n",
              "      <td>NaN</td>\n",
              "      <td>NaN</td>\n",
              "      <td>NaN</td>\n",
              "      <td>NaN</td>\n",
              "      <td>NaN</td>\n",
              "      <td>NaN</td>\n",
              "      <td>NaN</td>\n",
              "      <td>NaN</td>\n",
              "      <td>NaN</td>\n",
              "      <td>NaN</td>\n",
              "      <td>...</td>\n",
              "      <td>NaN</td>\n",
              "      <td>NaN</td>\n",
              "      <td>NaN</td>\n",
              "      <td>NaN</td>\n",
              "      <td>NaN</td>\n",
              "      <td>NaN</td>\n",
              "      <td>NaN</td>\n",
              "      <td>NaN</td>\n",
              "      <td>NaN</td>\n",
              "      <td>NaN</td>\n",
              "      <td>NaN</td>\n",
              "      <td>NaN</td>\n",
              "      <td>NaN</td>\n",
              "      <td>NaN</td>\n",
              "      <td>NaN</td>\n",
              "      <td>NaN</td>\n",
              "      <td>NaN</td>\n",
              "      <td>NaN</td>\n",
              "      <td>NaN</td>\n",
              "      <td>NaN</td>\n",
              "      <td>NaN</td>\n",
              "      <td>NaN</td>\n",
              "      <td>NaN</td>\n",
              "      <td>NaN</td>\n",
              "      <td>NaN</td>\n",
              "      <td>NaN</td>\n",
              "      <td>NaN</td>\n",
              "      <td>NaN</td>\n",
              "      <td>NaN</td>\n",
              "      <td>NaN</td>\n",
              "      <td>NaN</td>\n",
              "      <td>NaN</td>\n",
              "      <td>NaN</td>\n",
              "      <td>NaN</td>\n",
              "      <td>NaN</td>\n",
              "      <td>NaN</td>\n",
              "      <td>NaN</td>\n",
              "      <td>NaN</td>\n",
              "      <td>NaN</td>\n",
              "      <td>NaN</td>\n",
              "    </tr>\n",
              "    <tr>\n",
              "      <th>14</th>\n",
              "      <td>*В том числе вклады, по которым условия догово...</td>\n",
              "      <td>NaN</td>\n",
              "      <td>NaN</td>\n",
              "      <td>NaN</td>\n",
              "      <td>NaN</td>\n",
              "      <td>NaN</td>\n",
              "      <td>NaN</td>\n",
              "      <td>NaN</td>\n",
              "      <td>NaN</td>\n",
              "      <td>NaN</td>\n",
              "      <td>NaN</td>\n",
              "      <td>NaN</td>\n",
              "      <td>NaN</td>\n",
              "      <td>NaN</td>\n",
              "      <td>NaN</td>\n",
              "      <td>NaN</td>\n",
              "      <td>NaN</td>\n",
              "      <td>NaN</td>\n",
              "      <td>NaN</td>\n",
              "      <td>NaN</td>\n",
              "      <td>NaN</td>\n",
              "      <td>NaN</td>\n",
              "      <td>NaN</td>\n",
              "      <td>NaN</td>\n",
              "      <td>NaN</td>\n",
              "      <td>NaN</td>\n",
              "      <td>NaN</td>\n",
              "      <td>NaN</td>\n",
              "      <td>NaN</td>\n",
              "      <td>NaN</td>\n",
              "      <td>NaN</td>\n",
              "      <td>NaN</td>\n",
              "      <td>NaN</td>\n",
              "      <td>NaN</td>\n",
              "      <td>NaN</td>\n",
              "      <td>NaN</td>\n",
              "      <td>NaN</td>\n",
              "      <td>NaN</td>\n",
              "      <td>NaN</td>\n",
              "      <td>NaN</td>\n",
              "      <td>...</td>\n",
              "      <td>NaN</td>\n",
              "      <td>NaN</td>\n",
              "      <td>NaN</td>\n",
              "      <td>NaN</td>\n",
              "      <td>NaN</td>\n",
              "      <td>NaN</td>\n",
              "      <td>NaN</td>\n",
              "      <td>NaN</td>\n",
              "      <td>NaN</td>\n",
              "      <td>NaN</td>\n",
              "      <td>NaN</td>\n",
              "      <td>NaN</td>\n",
              "      <td>NaN</td>\n",
              "      <td>NaN</td>\n",
              "      <td>NaN</td>\n",
              "      <td>NaN</td>\n",
              "      <td>NaN</td>\n",
              "      <td>NaN</td>\n",
              "      <td>NaN</td>\n",
              "      <td>NaN</td>\n",
              "      <td>NaN</td>\n",
              "      <td>NaN</td>\n",
              "      <td>NaN</td>\n",
              "      <td>NaN</td>\n",
              "      <td>NaN</td>\n",
              "      <td>NaN</td>\n",
              "      <td>NaN</td>\n",
              "      <td>NaN</td>\n",
              "      <td>NaN</td>\n",
              "      <td>NaN</td>\n",
              "      <td>NaN</td>\n",
              "      <td>NaN</td>\n",
              "      <td>NaN</td>\n",
              "      <td>NaN</td>\n",
              "      <td>NaN</td>\n",
              "      <td>NaN</td>\n",
              "      <td>NaN</td>\n",
              "      <td>NaN</td>\n",
              "      <td>NaN</td>\n",
              "      <td>NaN</td>\n",
              "    </tr>\n",
              "  </tbody>\n",
              "</table>\n",
              "<p>15 rows × 87 columns</p>\n",
              "</div>"
            ],
            "text/plain": [
              "   Средневзвешенные процентные ставки кредитных организаций по кредитным и депозитным операциям в рублях без учета ПАО Сбербанк (% годовых)  ...  Unnamed: 86\n",
              "0                                            Операции                                                                                        ...  Январь 2021\n",
              "1                            Кредиты физическим лицам                                                                                        ...        12.56\n",
              "2                                                 NaN                                                                                        ...        10.14\n",
              "3                   Кредиты нефинансовым организациям                                                                                        ...         6.02\n",
              "4                                                 NaN                                                                                        ...         8.27\n",
              "5                                                 NaN                                                                                        ...         7.04\n",
              "6                                                 NaN                                                                                        ...         7.65\n",
              "7                             Депозиты физических лиц                                                                                        ...         1.84\n",
              "8                                                 NaN                                                                                        ...         4.16\n",
              "9                                                 NaN                                                                                        ...         3.94\n",
              "10                                                NaN                                                                                        ...         4.24\n",
              "11                  Депозиты нефинансовых организаций                                                                                        ...         3.36\n",
              "12                                                NaN                                                                                        ...         4.61\n",
              "13                                                NaN                                                                                        ...          NaN\n",
              "14  *В том числе вклады, по которым условия догово...                                                                                        ...          NaN\n",
              "\n",
              "[15 rows x 87 columns]"
            ]
          },
          "metadata": {
            "tags": []
          },
          "execution_count": 637
        }
      ]
    },
    {
      "cell_type": "code",
      "metadata": {
        "id": "Vl37j7ZpTFkm"
      },
      "source": [
        "nosber_rates = nosber_rates[nosber_rates.index.isin([1, 8, 9, 10])].T.reset_index(drop = True).iloc[2:].dropna()"
      ],
      "execution_count": null,
      "outputs": []
    },
    {
      "cell_type": "code",
      "metadata": {
        "colab": {
          "base_uri": "https://localhost:8080/",
          "height": 419
        },
        "id": "zQW6QWjBTkox",
        "outputId": "4018d294-38f3-4681-b703-2a4e147d6f41"
      },
      "source": [
        "nosber_rates"
      ],
      "execution_count": null,
      "outputs": [
        {
          "output_type": "execute_result",
          "data": {
            "text/html": [
              "<div>\n",
              "<style scoped>\n",
              "    .dataframe tbody tr th:only-of-type {\n",
              "        vertical-align: middle;\n",
              "    }\n",
              "\n",
              "    .dataframe tbody tr th {\n",
              "        vertical-align: top;\n",
              "    }\n",
              "\n",
              "    .dataframe thead th {\n",
              "        text-align: right;\n",
              "    }\n",
              "</style>\n",
              "<table border=\"1\" class=\"dataframe\">\n",
              "  <thead>\n",
              "    <tr style=\"text-align: right;\">\n",
              "      <th></th>\n",
              "      <th>1</th>\n",
              "      <th>8</th>\n",
              "      <th>9</th>\n",
              "      <th>10</th>\n",
              "    </tr>\n",
              "  </thead>\n",
              "  <tbody>\n",
              "    <tr>\n",
              "      <th>2</th>\n",
              "      <td>26.21</td>\n",
              "      <td>7.54</td>\n",
              "      <td>6.46</td>\n",
              "      <td>8.4</td>\n",
              "    </tr>\n",
              "    <tr>\n",
              "      <th>3</th>\n",
              "      <td>24.01</td>\n",
              "      <td>7.41</td>\n",
              "      <td>6.25</td>\n",
              "      <td>8.47</td>\n",
              "    </tr>\n",
              "    <tr>\n",
              "      <th>4</th>\n",
              "      <td>24.11</td>\n",
              "      <td>7.44</td>\n",
              "      <td>6.23</td>\n",
              "      <td>8.46</td>\n",
              "    </tr>\n",
              "    <tr>\n",
              "      <th>5</th>\n",
              "      <td>21.13</td>\n",
              "      <td>7.71</td>\n",
              "      <td>6.52</td>\n",
              "      <td>8.58</td>\n",
              "    </tr>\n",
              "    <tr>\n",
              "      <th>6</th>\n",
              "      <td>25.69</td>\n",
              "      <td>7.83</td>\n",
              "      <td>6.56</td>\n",
              "      <td>8.85</td>\n",
              "    </tr>\n",
              "    <tr>\n",
              "      <th>...</th>\n",
              "      <td>...</td>\n",
              "      <td>...</td>\n",
              "      <td>...</td>\n",
              "      <td>...</td>\n",
              "    </tr>\n",
              "    <tr>\n",
              "      <th>82</th>\n",
              "      <td>12.65</td>\n",
              "      <td>3.93</td>\n",
              "      <td>3.66</td>\n",
              "      <td>4.18</td>\n",
              "    </tr>\n",
              "    <tr>\n",
              "      <th>83</th>\n",
              "      <td>12.82</td>\n",
              "      <td>3.94</td>\n",
              "      <td>3.71</td>\n",
              "      <td>4.24</td>\n",
              "    </tr>\n",
              "    <tr>\n",
              "      <th>84</th>\n",
              "      <td>12.84</td>\n",
              "      <td>4.03</td>\n",
              "      <td>3.79</td>\n",
              "      <td>4.24</td>\n",
              "    </tr>\n",
              "    <tr>\n",
              "      <th>85</th>\n",
              "      <td>12.63</td>\n",
              "      <td>4.16</td>\n",
              "      <td>3.97</td>\n",
              "      <td>4.3</td>\n",
              "    </tr>\n",
              "    <tr>\n",
              "      <th>86</th>\n",
              "      <td>12.56</td>\n",
              "      <td>4.16</td>\n",
              "      <td>3.94</td>\n",
              "      <td>4.24</td>\n",
              "    </tr>\n",
              "  </tbody>\n",
              "</table>\n",
              "<p>85 rows × 4 columns</p>\n",
              "</div>"
            ],
            "text/plain": [
              "       1     8     9     10\n",
              "2   26.21  7.54  6.46   8.4\n",
              "3   24.01  7.41  6.25  8.47\n",
              "4   24.11  7.44  6.23  8.46\n",
              "5   21.13  7.71  6.52  8.58\n",
              "6   25.69  7.83  6.56  8.85\n",
              "..    ...   ...   ...   ...\n",
              "82  12.65  3.93  3.66  4.18\n",
              "83  12.82  3.94  3.71  4.24\n",
              "84  12.84  4.03  3.79  4.24\n",
              "85  12.63  4.16  3.97   4.3\n",
              "86  12.56  4.16  3.94  4.24\n",
              "\n",
              "[85 rows x 4 columns]"
            ]
          },
          "metadata": {
            "tags": []
          },
          "execution_count": 639
        }
      ]
    },
    {
      "cell_type": "code",
      "metadata": {
        "colab": {
          "base_uri": "https://localhost:8080/",
          "height": 204
        },
        "id": "5ZH0pcsRTnfa",
        "outputId": "8e88c998-cfab-4bdf-b2b9-8eb61d3e64d9"
      },
      "source": [
        "nosber_rates.columns = ['Date', 'NDM_NOSB_RATE', 'DEP1Y_NOSB_RATE', 'NDM_NOSB_DEP1Y_RATE']\n",
        "#nosber_rates['Date'] = [(start_date + relativedelta(months = i)) for i in range(nosber_rates.shape[0])]\n",
        "nosber_rates.head()"
      ],
      "execution_count": null,
      "outputs": [
        {
          "output_type": "execute_result",
          "data": {
            "text/html": [
              "<div>\n",
              "<style scoped>\n",
              "    .dataframe tbody tr th:only-of-type {\n",
              "        vertical-align: middle;\n",
              "    }\n",
              "\n",
              "    .dataframe tbody tr th {\n",
              "        vertical-align: top;\n",
              "    }\n",
              "\n",
              "    .dataframe thead th {\n",
              "        text-align: right;\n",
              "    }\n",
              "</style>\n",
              "<table border=\"1\" class=\"dataframe\">\n",
              "  <thead>\n",
              "    <tr style=\"text-align: right;\">\n",
              "      <th></th>\n",
              "      <th>Date</th>\n",
              "      <th>NDM_NOSB_RATE</th>\n",
              "      <th>DEP1Y_NOSB_RATE</th>\n",
              "      <th>NDM_NOSB_DEP1Y_RATE</th>\n",
              "    </tr>\n",
              "  </thead>\n",
              "  <tbody>\n",
              "    <tr>\n",
              "      <th>2</th>\n",
              "      <td>26.21</td>\n",
              "      <td>7.54</td>\n",
              "      <td>6.46</td>\n",
              "      <td>8.4</td>\n",
              "    </tr>\n",
              "    <tr>\n",
              "      <th>3</th>\n",
              "      <td>24.01</td>\n",
              "      <td>7.41</td>\n",
              "      <td>6.25</td>\n",
              "      <td>8.47</td>\n",
              "    </tr>\n",
              "    <tr>\n",
              "      <th>4</th>\n",
              "      <td>24.11</td>\n",
              "      <td>7.44</td>\n",
              "      <td>6.23</td>\n",
              "      <td>8.46</td>\n",
              "    </tr>\n",
              "    <tr>\n",
              "      <th>5</th>\n",
              "      <td>21.13</td>\n",
              "      <td>7.71</td>\n",
              "      <td>6.52</td>\n",
              "      <td>8.58</td>\n",
              "    </tr>\n",
              "    <tr>\n",
              "      <th>6</th>\n",
              "      <td>25.69</td>\n",
              "      <td>7.83</td>\n",
              "      <td>6.56</td>\n",
              "      <td>8.85</td>\n",
              "    </tr>\n",
              "  </tbody>\n",
              "</table>\n",
              "</div>"
            ],
            "text/plain": [
              "    Date NDM_NOSB_RATE DEP1Y_NOSB_RATE NDM_NOSB_DEP1Y_RATE\n",
              "2  26.21          7.54            6.46                 8.4\n",
              "3  24.01          7.41            6.25                8.47\n",
              "4  24.11          7.44            6.23                8.46\n",
              "5  21.13          7.71            6.52                8.58\n",
              "6  25.69          7.83            6.56                8.85"
            ]
          },
          "metadata": {
            "tags": []
          },
          "execution_count": 642
        }
      ]
    }
  ]
}