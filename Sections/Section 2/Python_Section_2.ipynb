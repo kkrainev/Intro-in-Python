{
  "nbformat": 4,
  "nbformat_minor": 0,
  "metadata": {
    "colab": {
      "name": "Python_Section_2.ipynb",
      "provenance": [],
      "collapsed_sections": []
    },
    "kernelspec": {
      "name": "python3",
      "display_name": "Python 3"
    }
  },
  "cells": [
    {
      "cell_type": "markdown",
      "metadata": {
        "id": "V5ErA6UK4Ss1"
      },
      "source": [
        "# **<center> Введение в Python, New Economic School, MAE 2022 </center>**\n",
        "## **<center> Занятие 2 </center>**\n",
        "\n",
        "План:\n",
        "\n",
        "* \\*args, **kwargs в функциях\n",
        "* Обработка исключений\n",
        "* Лямбда-выражения\n",
        "* Декораторы\n",
        "* Написание классов"
      ]
    },
    {
      "cell_type": "markdown",
      "metadata": {
        "id": "IaUqnX1D6qTF"
      },
      "source": [
        "## \"Звездочки\", а также позиционные и именованные аргументы"
      ]
    },
    {
      "cell_type": "markdown",
      "metadata": {
        "id": "AHgcTQcYygt3"
      },
      "source": [
        "Операторы, помеченные `*` (asterisks) позволяют Вам (как одна из возможностей) распаковывать элементы \"одним скопом\". В примере ниже, вы присваиваете переменным **a**, **b**, и **c** значения из списка. \n",
        "\n",
        "Допустим, Вы бы хотели присваивать **a** первое значение из списка, **c** - последнее, а **b** - все промежуточные. Сделать это можно через добавление оператора `*` слева к переменной. \n",
        "\n",
        "Также через `print(..)` вы можете вывести все элементы списка (не прописывая их через запятую с помощью индексации по списку) путем добавления `*` слева от переменной.\n",
        "\n"
      ]
    },
    {
      "cell_type": "code",
      "metadata": {
        "colab": {
          "base_uri": "https://localhost:8080/"
        },
        "id": "apq65BOC4NA_",
        "outputId": "9d6933f7-84b7-4275-e2a2-a0c66c27146a"
      },
      "source": [
        "a, b, c = [1, 2, 3]\n",
        "\n",
        "print(f'a is {a}, b is {b}, and c is {c}')\n",
        "\n",
        "a, *b, c = [1, 2, 3, 4, 5, 6]\n",
        "\n",
        "print(f'a is {a}, b is {b}, and c is {c}')\n",
        "\n",
        "list_1 = [1, 2, 3, 4 ,5]\n",
        "\n",
        "print(*list_1)\n",
        "print('1st element is {}, 2nd element is {}, 3rd element is {}, 4th element is {}, 5th element is {}'.format(*list_1))"
      ],
      "execution_count": null,
      "outputs": [
        {
          "output_type": "stream",
          "text": [
            "a is 1, b is 2, and c is 3\n",
            "a is 1, b is [2, 3, 4, 5], and c is 6\n",
            "1 2 3 4 5\n",
            "1st element is 1, 2nd element is 2, 3rd element is 3, 4th element is 4, 5th element is 5\n"
          ],
          "name": "stdout"
        }
      ]
    },
    {
      "cell_type": "markdown",
      "metadata": {
        "id": "WSHZ-tdmzqpp"
      },
      "source": [
        "Также можно схлопнуть два листа в один с помощью данного оператора"
      ]
    },
    {
      "cell_type": "code",
      "metadata": {
        "colab": {
          "base_uri": "https://localhost:8080/"
        },
        "id": "ubrcDftK8w1I",
        "outputId": "af7ce55b-c19e-4e25-a3b6-a96133b79da4"
      },
      "source": [
        "list_1 = [1, 2, 3, 4, 5]\n",
        "list_2 = ['a', 'b', 'c', 'd']\n",
        "\n",
        "list_3 = [*list_1, *list_2]\n",
        "print(list_3)"
      ],
      "execution_count": null,
      "outputs": [
        {
          "output_type": "stream",
          "text": [
            "[1, 2, 3, 4, 5, 'a', 'b', 'c', 'd']\n"
          ],
          "name": "stdout"
        }
      ]
    },
    {
      "cell_type": "markdown",
      "metadata": {
        "id": "riD7uFhC2VJO"
      },
      "source": [
        "Точно также только с использованием `**` можно схлопнуть и распаковать элементы словаря. "
      ]
    },
    {
      "cell_type": "code",
      "metadata": {
        "colab": {
          "base_uri": "https://localhost:8080/"
        },
        "id": "tfYzocNj85Xc",
        "outputId": "1ef86fe6-2026-4de6-bc30-1276ec23c8bc"
      },
      "source": [
        "dict_1 = {'a': 1, 'b': 2, 'c': 3}\n",
        "dict_2 = {'d': 11, 'e': 22, 'f': 33}\n",
        "\n",
        "dict_3 = {**dict_1, **dict_2}\n",
        "print(dict_3)"
      ],
      "execution_count": null,
      "outputs": [
        {
          "output_type": "stream",
          "text": [
            "{'a': 1, 'b': 2, 'c': 3, 'd': 11, 'e': 22, 'f': 33}\n"
          ],
          "name": "stdout"
        }
      ]
    },
    {
      "cell_type": "markdown",
      "metadata": {
        "id": "ZtPal92w9kmd"
      },
      "source": [
        "### Неопределенное число аргументов в функции"
      ]
    },
    {
      "cell_type": "markdown",
      "metadata": {
        "id": "iSlEmQLy2sfW"
      },
      "source": [
        "Часто случается, что часть аргументов у функции (и их количество) определена заранее, а часть аргументов может добавляться (притом, в неизвестном числе). \n",
        "\n",
        "Для этого Вы можете воспользоваться операторами `*` (для позиционный аргументов) и `**` (для именованных аргументов).\n",
        "\n",
        "* Позиционные аргументы - аргументы, передаваемые в вызов в определённой последовательности (а также на определенных позициях), без указания их имён. \n",
        "* Именованные аргументы - аргументы, передаваемые в вызов с указанием их имён.\n",
        "* Опциональный элемент (значение которого проставлено по дефолту) также является именованным."
      ]
    },
    {
      "cell_type": "markdown",
      "metadata": {
        "id": "bCWATxkCQsAj"
      },
      "source": [
        "#### Позиционные аргументы"
      ]
    },
    {
      "cell_type": "markdown",
      "metadata": {
        "id": "IcP_PJQS5UyC"
      },
      "source": [
        "Также стоит помнить, что в функцию сперва подаются позиционные аргументы, а потом уже именованные. Иначе возникнет ошибка, как в примере ниже:"
      ]
    },
    {
      "cell_type": "code",
      "metadata": {
        "id": "ydKAl1Gh5fP6"
      },
      "source": [
        "def myFunc(person, age = 27):\n",
        "  pass"
      ],
      "execution_count": null,
      "outputs": []
    },
    {
      "cell_type": "code",
      "metadata": {
        "colab": {
          "base_uri": "https://localhost:8080/",
          "height": 130
        },
        "id": "eV7JdeSWbG4N",
        "outputId": "6bce31ea-a8d7-45e4-e48b-bfd3a055b1ff"
      },
      "source": [
        "def myFunc(age = 27, person):\n",
        "  pass"
      ],
      "execution_count": null,
      "outputs": [
        {
          "output_type": "error",
          "ename": "SyntaxError",
          "evalue": "ignored",
          "traceback": [
            "\u001b[0;36m  File \u001b[0;32m\"<ipython-input-137-2c487cb46d29>\"\u001b[0;36m, line \u001b[0;32m1\u001b[0m\n\u001b[0;31m    def myFunc(age = 27, person):\u001b[0m\n\u001b[0m              ^\u001b[0m\n\u001b[0;31mSyntaxError\u001b[0m\u001b[0;31m:\u001b[0m non-default argument follows default argument\n"
          ]
        }
      ]
    },
    {
      "cell_type": "markdown",
      "metadata": {
        "id": "GR8UafXf5ixu"
      },
      "source": [
        "Неопределенное число позиционных аргументов можно передать в функцию через добавление `*` слева от общего названия этих элементов. \n",
        "\n",
        "Обычно, из именуют через `*args` в аргументах функции (без `*` в теле функции). Однако - название остается на Ваше усмотрение.\n",
        "\n",
        "Создадим функцию, которая выводит транзакции для человека (транзакции подаются к аргументы, число которых не определено - через `*transactions`)"
      ]
    },
    {
      "cell_type": "code",
      "metadata": {
        "id": "BHTyAZJC9H-c"
      },
      "source": [
        "def print_transcactions(person, *transactions):\n",
        "\n",
        "  print(f'Transactions of {person} were the following:')\n",
        "\n",
        "  for i in transactions:\n",
        "\n",
        "    print(i)"
      ],
      "execution_count": null,
      "outputs": []
    },
    {
      "cell_type": "code",
      "metadata": {
        "colab": {
          "base_uri": "https://localhost:8080/"
        },
        "id": "tDOF6vps-Xts",
        "outputId": "c7d20280-09ba-48cf-c8a1-f3e09b998ed2"
      },
      "source": [
        "print_transcactions('Dereck', -100, 50, 100)"
      ],
      "execution_count": null,
      "outputs": [
        {
          "output_type": "stream",
          "text": [
            "Transactions of Dereck were the following:\n",
            "-100\n",
            "50\n",
            "100\n"
          ],
          "name": "stdout"
        }
      ]
    },
    {
      "cell_type": "markdown",
      "metadata": {
        "id": "Xi9-ZB_x7D9k"
      },
      "source": [
        "Число аргументов может быть и больше (и меньше)"
      ]
    },
    {
      "cell_type": "code",
      "metadata": {
        "colab": {
          "base_uri": "https://localhost:8080/"
        },
        "id": "6Qj6cRa7-OUY",
        "outputId": "dfb6691f-2196-48c9-fb4a-0c354f40e920"
      },
      "source": [
        "print_transcactions('Dereck', -100, 50, -200, 50, 300, 500, -250, 100)"
      ],
      "execution_count": null,
      "outputs": [
        {
          "output_type": "stream",
          "text": [
            "Transactions of Dereck were the following:\n",
            "-100\n",
            "50\n",
            "-200\n",
            "50\n",
            "300\n",
            "500\n",
            "-250\n",
            "100\n"
          ],
          "name": "stdout"
        }
      ]
    },
    {
      "cell_type": "markdown",
      "metadata": {
        "id": "RlF2QSsx-bPC"
      },
      "source": [
        "#### Именованные аргументы"
      ]
    },
    {
      "cell_type": "markdown",
      "metadata": {
        "id": "UjsgRNyP7KWG"
      },
      "source": [
        "Также вы можете передавать неопределенное число именованных аргументов в функцию. В данном случае, функция будет \"воспринимать\" это как передачу ей словаря (ключ - имя аргумента, а значение - значение, соответствующее имени)\n",
        "\n",
        "Обычно, именуют через `**kwargs`, но Выбор имени целиком за Вами."
      ]
    },
    {
      "cell_type": "markdown",
      "metadata": {
        "id": "O6qjxTaJ7hUu"
      },
      "source": [
        "В примере ниже создаем функцию, которая возвращает какую-то информацию по человеку. Притом, число аргументов (которые характеризуют эту информацию) неопределено. Итерирование идёт через словарь (и его элементы, где элемент - пара из ключа и значения)."
      ]
    },
    {
      "cell_type": "code",
      "metadata": {
        "id": "YORyg0aj-aaA"
      },
      "source": [
        "def print_person_info(person, **kwargs):\n",
        "\n",
        "  print(f'The info for {person} is the following: \\n')\n",
        "\n",
        "  for i,j in kwargs.items():\n",
        "    print(f'{i} is {j}')"
      ],
      "execution_count": null,
      "outputs": []
    },
    {
      "cell_type": "code",
      "metadata": {
        "colab": {
          "base_uri": "https://localhost:8080/"
        },
        "id": "xGK_Xf7E--4K",
        "outputId": "9b9a45e0-dcf3-4242-d61a-2a8ef024c9fa"
      },
      "source": [
        "print_person_info('Judith Smith', age = 25, city = 'Boston')"
      ],
      "execution_count": null,
      "outputs": [
        {
          "output_type": "stream",
          "text": [
            "The info for Judith Smith is the following: \n",
            "\n",
            "age is 25\n",
            "city is Boston\n"
          ],
          "name": "stdout"
        }
      ]
    },
    {
      "cell_type": "markdown",
      "metadata": {
        "id": "pMwvKrPd713A"
      },
      "source": [
        "А можно указать и больше именованных аргументов"
      ]
    },
    {
      "cell_type": "code",
      "metadata": {
        "colab": {
          "base_uri": "https://localhost:8080/"
        },
        "id": "3OQKCeQq_XsP",
        "outputId": "525b9055-853b-4168-9296-6bfb3c5568c5"
      },
      "source": [
        "print_person_info('Jane Black', age = 23, city = 'Bruklin', highest_degree = 'Masters', university = 'New York University', maritual_status = 'Single')"
      ],
      "execution_count": null,
      "outputs": [
        {
          "output_type": "stream",
          "text": [
            "The info for Jane Black is the following: \n",
            "\n",
            "age is 23\n",
            "city is Bruklin\n",
            "highest_degree is Masters\n",
            "university is New York University\n",
            "maritual_status is Single\n"
          ],
          "name": "stdout"
        }
      ]
    },
    {
      "cell_type": "markdown",
      "metadata": {
        "id": "VhStNoE076Ui"
      },
      "source": [
        "Также можно миксовать позиционные и именованные аргументы. Однако не забывайте, что именованные аргументы идут за позиционными."
      ]
    },
    {
      "cell_type": "markdown",
      "metadata": {
        "id": "g3pCMzyE8Bmz"
      },
      "source": [
        "Ниже функция выводит траты человека. Если аргумент `show_new = True`, то к тратам прибавляются новые транзакции (которые подаются в неопределенном количестве через `*new_transactions`"
      ]
    },
    {
      "cell_type": "code",
      "metadata": {
        "id": "uMEJ7n9m_t9j"
      },
      "source": [
        "def print_person_expences(person, expences, *new_transactions, show_new = True):\n",
        "\n",
        "  result = expences\n",
        "\n",
        "  if show_new:\n",
        "    for t in new_transactions:\n",
        "      result += t\n",
        "    print(f'{result} spent by {person}')\n",
        "    return result\n",
        "\n",
        "  else:\n",
        "    print(f'{result} spent by {person}')\n",
        "    return result"
      ],
      "execution_count": null,
      "outputs": []
    },
    {
      "cell_type": "code",
      "metadata": {
        "colab": {
          "base_uri": "https://localhost:8080/"
        },
        "id": "0It9yWpABAGP",
        "outputId": "a40c0c8c-a26a-4dfc-c9a3-0f020d0ed4c4"
      },
      "source": [
        "sum_transac = print_person_expences('John Black', 345)\n",
        "sum_transac"
      ],
      "execution_count": null,
      "outputs": [
        {
          "output_type": "stream",
          "text": [
            "345 spent by John Black\n"
          ],
          "name": "stdout"
        },
        {
          "output_type": "execute_result",
          "data": {
            "text/plain": [
              "345"
            ]
          },
          "metadata": {
            "tags": []
          },
          "execution_count": 145
        }
      ]
    },
    {
      "cell_type": "markdown",
      "metadata": {
        "id": "k85UyF7J8Ool"
      },
      "source": [
        "Если есть транзакции новые"
      ]
    },
    {
      "cell_type": "code",
      "metadata": {
        "colab": {
          "base_uri": "https://localhost:8080/"
        },
        "id": "pQ--6yNoBjwu",
        "outputId": "a3280959-0a8e-4402-d4b5-d977bc050ede"
      },
      "source": [
        "sum_transac = print_person_expences('John Black', 345, 10, 40, 20, 30)"
      ],
      "execution_count": null,
      "outputs": [
        {
          "output_type": "stream",
          "text": [
            "445 spent by John Black\n"
          ],
          "name": "stdout"
        }
      ]
    },
    {
      "cell_type": "markdown",
      "metadata": {
        "id": "M6awhvON8RMW"
      },
      "source": [
        "Если есть транзакции новые, **но прибавлять мы их не хотим**"
      ]
    },
    {
      "cell_type": "code",
      "metadata": {
        "colab": {
          "base_uri": "https://localhost:8080/"
        },
        "id": "cvbZndKPBpr2",
        "outputId": "c1ab06ee-72e4-42c7-bb96-2239edecc4ea"
      },
      "source": [
        "sum_transac = print_person_expences('John Black', 345, 10, 40, 20, 30, show_new = False)"
      ],
      "execution_count": null,
      "outputs": [
        {
          "output_type": "stream",
          "text": [
            "345 spent by John Black\n"
          ],
          "name": "stdout"
        }
      ]
    },
    {
      "cell_type": "markdown",
      "metadata": {
        "id": "rOE7Bz3T8WiO"
      },
      "source": [
        "Можно совместить все пройденное выше"
      ]
    },
    {
      "cell_type": "code",
      "metadata": {
        "id": "RHvEsMHCBy-i"
      },
      "source": [
        "def print_person_expences(person, expences, *new_transactions, show_new = True, **additional_info):\n",
        "\n",
        "  result = expences\n",
        "\n",
        "  if show_new:\n",
        "    for t in new_transactions:\n",
        "      result += t\n",
        "\n",
        "  print(f'{result} spent by {person}')\n",
        "\n",
        "  for i,j in additional_info.items():\n",
        "    print(f'{i} is {j}')\n",
        "\n",
        "  return result"
      ],
      "execution_count": null,
      "outputs": []
    },
    {
      "cell_type": "code",
      "metadata": {
        "colab": {
          "base_uri": "https://localhost:8080/"
        },
        "id": "ZKIctNmCCfmK",
        "outputId": "d59280e0-41c1-4574-801d-9342e01c9938"
      },
      "source": [
        "sum_transac = print_person_expences('John Black', 345, 10, 15, 40, 10, show_new = True, n_transactions = 10, share_payed_with_card = 0.7)"
      ],
      "execution_count": null,
      "outputs": [
        {
          "output_type": "stream",
          "text": [
            "420 spent by John Black\n",
            "n_transactions is 10\n",
            "share_payed_with_card is 0.7\n"
          ],
          "name": "stdout"
        }
      ]
    },
    {
      "cell_type": "markdown",
      "metadata": {
        "id": "VR2aCsveC4Xt"
      },
      "source": [
        "## Обработка исключений"
      ]
    },
    {
      "cell_type": "markdown",
      "metadata": {
        "id": "Nknez_AU8ZQy"
      },
      "source": [
        "Обработка исключений позволяет Вам выполнить Ваш код без прерывания по той или иной ошибке. Такой блок может быть важен, когда Вам хочется так или иначе (несмотря на возможные ошибки) получить результат работы функции.\n",
        "\n",
        "Допустим, Вы собираете информацию по 10 сайтам (может быть классикой для курсовых и дипломных). На 3-м сайте Ваш код падает из-за того, что происходит какая-то ошибка (допустим, сайт распознает Вас как бота). Возможно, Ваш код работает несколько дней (в которые Вы хотели поехать на дачу). Вы уехали, Ваш код упал через полдня, обнаружили Вы это по приезде. \n",
        "\n",
        "Хотелось бы давать указание в коде, что делать (какой код исполнять) при возникновении ошибки. А также что делать, если все ОК."
      ]
    },
    {
      "cell_type": "markdown",
      "metadata": {
        "id": "9HmPt60P9NU_"
      },
      "source": [
        "Данные вещи можно делать через операторы `try` и `except`.\n",
        "\n",
        "В блок кода под `try:` мы подаем тот код, который мы бы хотели исполнить при отсутствии ошибок.\n",
        "\n",
        "В блок кода под `except ErrorTypeName:` мы подаем тот код, который мы бы хотели исполнить при наличии ошибки **\"ErrorTypeName\"** (виды ошибок могут быть разными - деление на ноль, неверный тип данных, нехватка памяти, синтаксическая ошибка и т.д.)\n",
        "\n",
        "Общий список ошибок можно глянуть, например, [здесь](https://docs.python.org/3/library/exceptions.html)"
      ]
    },
    {
      "cell_type": "markdown",
      "metadata": {
        "id": "po7lj6yM9-50"
      },
      "source": [
        "В функции ниже мы считаем результат попарного деления двух списков (первый список из числетелей, второй - из знаменателей)\n",
        "\n",
        "Если знаменатель равен нулю, то эта ошибка будет обработана как исключение, для нее выполнится следующая пара комманд:\n",
        "\n",
        "```\n",
        "results.append('division by zero')\n",
        "print(\"Cannot divide by zero\")\n",
        "```\n",
        "\n",
        "Если одно из чисел не числовое, то исключение ошибки приведет к исполнению следующего кода:\n",
        "\n",
        "```\n",
        "print(\"Please enter a number\")\n",
        "results.append('not a number')\n",
        "```\n",
        "\n",
        "\n",
        "\n"
      ]
    },
    {
      "cell_type": "code",
      "metadata": {
        "id": "eY6-rzrnC4hq"
      },
      "source": [
        "def pairwise_division(first_container, second_container):\n",
        "\n",
        "  results = []\n",
        "\n",
        "  for i,j in zip(first_container, second_container):\n",
        "\n",
        "    try:\n",
        "      r = i / j\n",
        "      results.append(r)\n",
        "    except ZeroDivisionError:\n",
        "      results.append('division by zero')\n",
        "      print(\"Cannot divide by zero\")\n",
        "    except TypeError:\n",
        "      print(\"Please enter a number\")\n",
        "      results.append('not a number')\n",
        "\n",
        "  return results\n"
      ],
      "execution_count": null,
      "outputs": []
    },
    {
      "cell_type": "code",
      "metadata": {
        "colab": {
          "base_uri": "https://localhost:8080/"
        },
        "id": "5dPL9G9qEV65",
        "outputId": "f48a9f13-9b48-4a6c-e75d-b76b3e11ce53"
      },
      "source": [
        "list_1, list_2 = [1, 2, 3], [2, 3, 4]\n",
        "\n",
        "result = pairwise_division(list_1, list_2)\n",
        "print(*result)"
      ],
      "execution_count": null,
      "outputs": [
        {
          "output_type": "stream",
          "text": [
            "0.5 0.6666666666666666 0.75\n"
          ],
          "name": "stdout"
        }
      ]
    },
    {
      "cell_type": "markdown",
      "metadata": {
        "id": "HwrAK_nl-iIJ"
      },
      "source": [
        "А теперь посмотрим, что будет если знаменатель равен 0."
      ]
    },
    {
      "cell_type": "code",
      "metadata": {
        "colab": {
          "base_uri": "https://localhost:8080/"
        },
        "id": "UeT619CAEm6X",
        "outputId": "fcb119f4-f3c5-4ca3-c5f9-130c56afbca5"
      },
      "source": [
        "list_1, list_2 = [1, 2, 3], [2, 3, 0]\n",
        "\n",
        "result = pairwise_division(list_1, list_2)\n",
        "print(*result)"
      ],
      "execution_count": null,
      "outputs": [
        {
          "output_type": "stream",
          "text": [
            "Cannot divide by zero\n",
            "0.5 0.6666666666666666 division by zero\n"
          ],
          "name": "stdout"
        }
      ]
    },
    {
      "cell_type": "markdown",
      "metadata": {
        "id": "xHw7tHZS-myH"
      },
      "source": [
        "Если тип одного из чисел не принадлежит валидному типу данных."
      ]
    },
    {
      "cell_type": "code",
      "metadata": {
        "colab": {
          "base_uri": "https://localhost:8080/"
        },
        "id": "yC-agMaJFJdm",
        "outputId": "36c51772-f442-4e56-aeab-b7c4a24eb0dd"
      },
      "source": [
        "list_1, list_2 = [1, 2, 3], [2, 3, 'd']\n",
        "\n",
        "result = pairwise_division(list_1, list_2)\n",
        "print(*result)"
      ],
      "execution_count": null,
      "outputs": [
        {
          "output_type": "stream",
          "text": [
            "Please enter a number\n",
            "0.5 0.6666666666666666 not a number\n"
          ],
          "name": "stdout"
        }
      ]
    },
    {
      "cell_type": "code",
      "metadata": {
        "colab": {
          "base_uri": "https://localhost:8080/"
        },
        "id": "ANGFhA5pgfpv",
        "outputId": "5a4ad6d9-2496-46dd-9cee-5e67ebc0fbae"
      },
      "source": [
        "result"
      ],
      "execution_count": null,
      "outputs": [
        {
          "output_type": "execute_result",
          "data": {
            "text/plain": [
              "[0.5, 0.6666666666666666, 'not a number']"
            ]
          },
          "metadata": {
            "tags": []
          },
          "execution_count": 159
        }
      ]
    },
    {
      "cell_type": "markdown",
      "metadata": {
        "id": "A7zB0QEc-vn6"
      },
      "source": [
        "Мы заранее можем не знать, какая ошибка нас ждет (мы можем забыть все дефолтные ошибки, или же такая ошибка может не существовать). Для этого в качестве имени ошибки можно после `except` подать более общий вариант \"**Exception**\".\n",
        "\n",
        "Стоит отметить, что более частные ошибки обрабатываются в первую очередь. "
      ]
    },
    {
      "cell_type": "code",
      "metadata": {
        "id": "Fe6e85ePFe17"
      },
      "source": [
        "def pairwise_division(first_container, second_container):\n",
        "\n",
        "  results = []\n",
        "\n",
        "  for i,j in zip(first_container, second_container):\n",
        "\n",
        "    try:\n",
        "      r = i / j\n",
        "      results.append(r)\n",
        "    except ZeroDivisionError:\n",
        "      results.append('division by zero')\n",
        "      print(\"Cannot divide by zero\")\n",
        "    except Exception:\n",
        "      results.append('some other error')\n",
        "      print(\"Other error occured\")\n",
        "\n",
        "  return results\n"
      ],
      "execution_count": null,
      "outputs": []
    },
    {
      "cell_type": "code",
      "metadata": {
        "colab": {
          "base_uri": "https://localhost:8080/"
        },
        "id": "M15a8FgtFe9M",
        "outputId": "b527b3d5-49ee-4d0b-dd8a-6be686943adb"
      },
      "source": [
        "list_1, list_2 = [1, 2, 3], [2, 3, 'd']\n",
        "\n",
        "result = pairwise_division(list_1, list_2)\n",
        "print(result)"
      ],
      "execution_count": null,
      "outputs": [
        {
          "output_type": "stream",
          "text": [
            "Other error occured\n",
            "[0.5, 0.6666666666666666, 'some other error']\n"
          ],
          "name": "stdout"
        }
      ]
    },
    {
      "cell_type": "markdown",
      "metadata": {
        "id": "iTTFPwW-_MHT"
      },
      "source": [
        "Также можно \"поднимать\" ошибку при выполнении (не выполнении) заданного Вами условия через конструкцию `raise ErrorName('some optional text')`\n",
        "\n"
      ]
    },
    {
      "cell_type": "code",
      "metadata": {
        "id": "Y5yv5wm9_dZz"
      },
      "source": [
        "def pairwise_division(first_container, second_container):\n",
        "\n",
        "  results = []\n",
        "\n",
        "  for i,j in zip(first_container, second_container):\n",
        "\n",
        "    try:\n",
        "      if i == 3:\n",
        "        raise ValueError('We ignore 3 in numerator (just because)')\n",
        "      else:\n",
        "        r = i / j\n",
        "        results.append(r)\n",
        "    except ZeroDivisionError:\n",
        "      results.append('division by zero')\n",
        "      print(\"Cannot divide by zero\")\n",
        "    except Exception:\n",
        "      results.append('some other error')\n",
        "      print(\"Other error occured\")\n",
        "\n",
        "  return results\n"
      ],
      "execution_count": null,
      "outputs": []
    },
    {
      "cell_type": "code",
      "metadata": {
        "colab": {
          "base_uri": "https://localhost:8080/"
        },
        "id": "FsCLCB61_eqA",
        "outputId": "e04cad11-9cee-4090-bd48-efddce21c493"
      },
      "source": [
        "list_1, list_2 = [1, 2, 3, 3], [2, 3, 'd', 4]\n",
        "\n",
        "result = pairwise_division(list_1, list_2)\n",
        "print(result)"
      ],
      "execution_count": null,
      "outputs": [
        {
          "output_type": "stream",
          "text": [
            "Other error occured\n",
            "Other error occured\n",
            "[0.5, 0.6666666666666666, 'some other error', 'some other error']\n"
          ],
          "name": "stdout"
        }
      ]
    },
    {
      "cell_type": "markdown",
      "metadata": {
        "id": "opOGXj2q_i2U"
      },
      "source": [
        "Поправим немного функцию и будем обрабатывать только 2 заранее определенных вида ошибок. Можно увидеть, что ошибка для 4-й пары элементов обработана не будет, т.к. относится к другому классу/типу ошибок - **ValueError**, такие ошибки мы не обрабатываем в нашей функции.\n",
        "\n",
        "Ошибка в коде также выведет текст, который мы ей задали (его задавать не обязательно)"
      ]
    },
    {
      "cell_type": "code",
      "metadata": {
        "id": "jc4PXVEmG9sB"
      },
      "source": [
        "def pairwise_division(first_container, second_container):\n",
        "\n",
        "  results = []\n",
        "\n",
        "  for i,j in zip(first_container, second_container):\n",
        "\n",
        "    try:\n",
        "      if i == 3:\n",
        "        raise ValueError('We ignore 3 in numerator (just because)')\n",
        "      else:\n",
        "        r = i / j\n",
        "        results.append(r)\n",
        "    except ZeroDivisionError:\n",
        "      results.append('division by zero')\n",
        "      print(\"Cannot divide by zero\")\n",
        "    except TypeError:\n",
        "      results.append('some other error')\n",
        "      print(\"Other error occured\")\n",
        "\n",
        "  return results\n"
      ],
      "execution_count": null,
      "outputs": []
    },
    {
      "cell_type": "code",
      "metadata": {
        "colab": {
          "base_uri": "https://localhost:8080/",
          "height": 334
        },
        "id": "wc05bLF2G91F",
        "outputId": "684a5ea0-169b-4176-e091-ffcf65e470b4"
      },
      "source": [
        "list_1, list_2 = [1, 2, 3, 3], [2, 3, 'd', 4]\n",
        "\n",
        "result = pairwise_division(list_1, list_2)\n",
        "print(result)"
      ],
      "execution_count": null,
      "outputs": [
        {
          "output_type": "error",
          "ename": "ValueError",
          "evalue": "ignored",
          "traceback": [
            "\u001b[0;31m---------------------------------------------------------------------------\u001b[0m",
            "\u001b[0;31mValueError\u001b[0m                                Traceback (most recent call last)",
            "\u001b[0;32m<ipython-input-243-676ec89536cc>\u001b[0m in \u001b[0;36m<module>\u001b[0;34m()\u001b[0m\n\u001b[1;32m      1\u001b[0m \u001b[0mlist_1\u001b[0m\u001b[0;34m,\u001b[0m \u001b[0mlist_2\u001b[0m \u001b[0;34m=\u001b[0m \u001b[0;34m[\u001b[0m\u001b[0;36m1\u001b[0m\u001b[0;34m,\u001b[0m \u001b[0;36m2\u001b[0m\u001b[0;34m,\u001b[0m \u001b[0;36m3\u001b[0m\u001b[0;34m,\u001b[0m \u001b[0;36m3\u001b[0m\u001b[0;34m]\u001b[0m\u001b[0;34m,\u001b[0m \u001b[0;34m[\u001b[0m\u001b[0;36m2\u001b[0m\u001b[0;34m,\u001b[0m \u001b[0;36m3\u001b[0m\u001b[0;34m,\u001b[0m \u001b[0;34m'd'\u001b[0m\u001b[0;34m,\u001b[0m \u001b[0;36m4\u001b[0m\u001b[0;34m]\u001b[0m\u001b[0;34m\u001b[0m\u001b[0;34m\u001b[0m\u001b[0m\n\u001b[1;32m      2\u001b[0m \u001b[0;34m\u001b[0m\u001b[0m\n\u001b[0;32m----> 3\u001b[0;31m \u001b[0mresult\u001b[0m \u001b[0;34m=\u001b[0m \u001b[0mpairwise_division\u001b[0m\u001b[0;34m(\u001b[0m\u001b[0mlist_1\u001b[0m\u001b[0;34m,\u001b[0m \u001b[0mlist_2\u001b[0m\u001b[0;34m)\u001b[0m\u001b[0;34m\u001b[0m\u001b[0;34m\u001b[0m\u001b[0m\n\u001b[0m\u001b[1;32m      4\u001b[0m \u001b[0mprint\u001b[0m\u001b[0;34m(\u001b[0m\u001b[0mresult\u001b[0m\u001b[0;34m)\u001b[0m\u001b[0;34m\u001b[0m\u001b[0;34m\u001b[0m\u001b[0m\n",
            "\u001b[0;32m<ipython-input-242-baec6cbe7da9>\u001b[0m in \u001b[0;36mpairwise_division\u001b[0;34m(first_container, second_container)\u001b[0m\n\u001b[1;32m      7\u001b[0m     \u001b[0;32mtry\u001b[0m\u001b[0;34m:\u001b[0m\u001b[0;34m\u001b[0m\u001b[0;34m\u001b[0m\u001b[0m\n\u001b[1;32m      8\u001b[0m       \u001b[0;32mif\u001b[0m \u001b[0mi\u001b[0m \u001b[0;34m==\u001b[0m \u001b[0;36m3\u001b[0m\u001b[0;34m:\u001b[0m\u001b[0;34m\u001b[0m\u001b[0;34m\u001b[0m\u001b[0m\n\u001b[0;32m----> 9\u001b[0;31m         \u001b[0;32mraise\u001b[0m \u001b[0mValueError\u001b[0m\u001b[0;34m(\u001b[0m\u001b[0;34m'We ignore 3 in numerator (just because)'\u001b[0m\u001b[0;34m)\u001b[0m\u001b[0;34m\u001b[0m\u001b[0;34m\u001b[0m\u001b[0m\n\u001b[0m\u001b[1;32m     10\u001b[0m       \u001b[0;32melse\u001b[0m\u001b[0;34m:\u001b[0m\u001b[0;34m\u001b[0m\u001b[0;34m\u001b[0m\u001b[0m\n\u001b[1;32m     11\u001b[0m         \u001b[0mr\u001b[0m \u001b[0;34m=\u001b[0m \u001b[0mi\u001b[0m \u001b[0;34m/\u001b[0m \u001b[0mj\u001b[0m\u001b[0;34m\u001b[0m\u001b[0;34m\u001b[0m\u001b[0m\n",
            "\u001b[0;31mValueError\u001b[0m: We ignore 3 in numerator (just because)"
          ]
        }
      ]
    },
    {
      "cell_type": "markdown",
      "metadata": {
        "id": "YjhJKrcpGLWx"
      },
      "source": [
        "## Лямбда-выражения"
      ]
    },
    {
      "cell_type": "markdown",
      "metadata": {
        "id": "_iWRSc-RAAQF"
      },
      "source": [
        "Лямбда выражения являются укороченными и анонимными функциями. \n",
        "\n",
        "Их использовани в ряде случаев более удобно, а также компактно. Использовать их можно внутри функций (как и обычные функции), передавать как аргументы (как и обычные функции), принимать у них на вход такие же функции (как и для обычных функций)\n",
        "\n",
        "Конструкция лямбда выражения следующая: \"**keyword** arguments: *expression*\", где **keyword = lambda**. Пример простенькой функции возведения в квадрат ниже."
      ]
    },
    {
      "cell_type": "code",
      "metadata": {
        "colab": {
          "base_uri": "https://localhost:8080/"
        },
        "id": "LfKfz4bvHm5e",
        "outputId": "ad4e7518-b44b-4dbe-f1de-102fccd20ec4"
      },
      "source": [
        "def take_square(x):\n",
        "\n",
        "  return x ** 2\n",
        "\n",
        "take_square(2)"
      ],
      "execution_count": null,
      "outputs": [
        {
          "output_type": "execute_result",
          "data": {
            "text/plain": [
              "4"
            ]
          },
          "metadata": {
            "tags": []
          },
          "execution_count": 72
        }
      ]
    },
    {
      "cell_type": "code",
      "metadata": {
        "colab": {
          "base_uri": "https://localhost:8080/"
        },
        "id": "pQdvHigBGLjY",
        "outputId": "94aba861-a48c-40a4-8c3a-0b41e5544569"
      },
      "source": [
        "take_square = lambda x: x ** 2\n",
        "\n",
        "take_square(2)"
      ],
      "execution_count": null,
      "outputs": [
        {
          "output_type": "execute_result",
          "data": {
            "text/plain": [
              "4"
            ]
          },
          "metadata": {
            "tags": []
          },
          "execution_count": 166
        }
      ]
    },
    {
      "cell_type": "markdown",
      "metadata": {
        "id": "SAxAKMVeAlHJ"
      },
      "source": [
        "Можно даже не определять, а сразу взять"
      ]
    },
    {
      "cell_type": "code",
      "metadata": {
        "colab": {
          "base_uri": "https://localhost:8080/"
        },
        "id": "cMWpRzAdHjqA",
        "outputId": "4dd2be14-db73-4d5b-d25c-cc44dc79b69c"
      },
      "source": [
        "(lambda x: x ** 2)(2)"
      ],
      "execution_count": null,
      "outputs": [
        {
          "output_type": "execute_result",
          "data": {
            "text/plain": [
              "4"
            ]
          },
          "metadata": {
            "tags": []
          },
          "execution_count": 167
        }
      ]
    },
    {
      "cell_type": "markdown",
      "metadata": {
        "id": "SocpjD32ApHT"
      },
      "source": [
        "Можно и несколько параметров передавать"
      ]
    },
    {
      "cell_type": "code",
      "metadata": {
        "colab": {
          "base_uri": "https://localhost:8080/"
        },
        "id": "dyawvoe4IZ3o",
        "outputId": "4e863813-3568-4e8c-9253-bf3dda1fdffd"
      },
      "source": [
        "take_power = lambda x, y: x ** y\n",
        "\n",
        "take_power(2, 3)"
      ],
      "execution_count": null,
      "outputs": [
        {
          "output_type": "execute_result",
          "data": {
            "text/plain": [
              "8"
            ]
          },
          "metadata": {
            "tags": []
          },
          "execution_count": 168
        }
      ]
    },
    {
      "cell_type": "markdown",
      "metadata": {
        "id": "-sUYxpCwIas4"
      },
      "source": [
        "### Лямбда-выражения с условиями"
      ]
    },
    {
      "cell_type": "markdown",
      "metadata": {
        "id": "wTKw1MEVArMa"
      },
      "source": [
        "А так можно добавлять условия"
      ]
    },
    {
      "cell_type": "code",
      "metadata": {
        "colab": {
          "base_uri": "https://localhost:8080/"
        },
        "id": "xdbJKcnpIjt-",
        "outputId": "0666c666-d7af-4110-ef0e-72452698623e"
      },
      "source": [
        "take_power = lambda x, y: x ** y if x != 0 else 'error'\n",
        "\n",
        "print(take_power(2, 3))\n",
        "print(take_power(0, 2))\n",
        "print(take_power(2, 1))"
      ],
      "execution_count": null,
      "outputs": [
        {
          "output_type": "stream",
          "text": [
            "8\n",
            "error\n",
            "2\n"
          ],
          "name": "stdout"
        }
      ]
    },
    {
      "cell_type": "markdown",
      "metadata": {
        "id": "EhA5OFYUAtMp"
      },
      "source": [
        "Лямбда выражение возвращает какое-то значение, поэтому для переданного массива нам надо вернуть какое-то значение (а не какой-то массив)"
      ]
    },
    {
      "cell_type": "code",
      "metadata": {
        "colab": {
          "base_uri": "https://localhost:8080/"
        },
        "id": "yxnFHR0XJ1ph",
        "outputId": "fd8b287f-0fcf-43f4-b62a-3ace36c00557"
      },
      "source": [
        "sum_of_squares = lambda x: sum(i ** 2 for i in x)\n",
        "\n",
        "sum_of_squares([1, 2, 3])"
      ],
      "execution_count": null,
      "outputs": [
        {
          "output_type": "execute_result",
          "data": {
            "text/plain": [
              "14"
            ]
          },
          "metadata": {
            "tags": []
          },
          "execution_count": 171
        }
      ]
    },
    {
      "cell_type": "markdown",
      "metadata": {
        "id": "hJ2bGhscBC8y"
      },
      "source": [
        "Также можно лямбда выражение прописывать внутри функции. Функция ниже будет возвращать лямбда выражение. "
      ]
    },
    {
      "cell_type": "code",
      "metadata": {
        "colab": {
          "base_uri": "https://localhost:8080/"
        },
        "id": "hn6WmFgrKa9e",
        "outputId": "79ed11ac-0a21-4723-d580-aafdbfe354d8"
      },
      "source": [
        "def take_power(power):\n",
        "  return lambda x : x ** power\n",
        "\n",
        "result_fnc = take_power(3)\n",
        "\n",
        "print(result_fnc(2))\n",
        "print(result_fnc(3))"
      ],
      "execution_count": null,
      "outputs": [
        {
          "output_type": "stream",
          "text": [
            "8\n",
            "27\n"
          ],
          "name": "stdout"
        }
      ]
    },
    {
      "cell_type": "markdown",
      "metadata": {
        "id": "0pWT15XnBKVs"
      },
      "source": [
        "Также лямбда выражение можно делать иерархическим"
      ]
    },
    {
      "cell_type": "code",
      "metadata": {
        "colab": {
          "base_uri": "https://localhost:8080/"
        },
        "id": "_Wf-IDJcM1hj",
        "outputId": "43ada6f1-6915-4765-95de-d1e0f3297a3a"
      },
      "source": [
        "hierarchical_fnc = lambda x, fnc: x ** 3 + fnc(x)\n",
        "\n",
        "hierarchical_fnc(3, lambda x: -x)"
      ],
      "execution_count": null,
      "outputs": [
        {
          "output_type": "execute_result",
          "data": {
            "text/plain": [
              "24"
            ]
          },
          "metadata": {
            "tags": []
          },
          "execution_count": 173
        }
      ]
    },
    {
      "cell_type": "markdown",
      "metadata": {
        "id": "pRMhqVf4BN18"
      },
      "source": [
        "Но! Лямбда выражение нельзя аннотировать как обычную функцию в примере ниже (аннотированы типы переменных на входе и выходе)"
      ]
    },
    {
      "cell_type": "code",
      "metadata": {
        "colab": {
          "base_uri": "https://localhost:8080/",
          "height": 35
        },
        "id": "MgbydEnFNiBD",
        "outputId": "48717e33-929a-43c0-e50b-f89b3357c536"
      },
      "source": [
        "def print_person(name: str, surname: str) -> str:\n",
        "    \n",
        "    return \"Person's name is {} and surname is {}\".format(name, surname)\n",
        "\n",
        "print_person('Jack', 'White')"
      ],
      "execution_count": null,
      "outputs": [
        {
          "output_type": "execute_result",
          "data": {
            "application/vnd.google.colaboratory.intrinsic+json": {
              "type": "string"
            },
            "text/plain": [
              "\"Person's name is Jack and surname is White\""
            ]
          },
          "metadata": {
            "tags": []
          },
          "execution_count": 174
        }
      ]
    },
    {
      "cell_type": "markdown",
      "metadata": {
        "id": "kEhF1yr4KI5U"
      },
      "source": [
        "### Map, Filter, Reduce + Itertools"
      ]
    },
    {
      "cell_type": "markdown",
      "metadata": {
        "id": "4mXfJQpdBUuT"
      },
      "source": [
        "Есть ряд удобных встроенных методов - `map`, `filter`, а также некоторых других функций в библиотеках **`functools`** и **`itertools`**\n",
        "\n",
        "Более подробно о методах определенных в них смотрите в документации: [itertools](https://docs.python.org/3/library/itertools.html))"
      ]
    },
    {
      "cell_type": "markdown",
      "metadata": {
        "id": "_pIVHJkCCJal"
      },
      "source": [
        "`map` позволяет применить функцию (лямбда-выражение либо обычную функцию) к элементам массива. `map` возвращает объект класса **map**, по которому можно итерироваться. Чтобы перевести этот объект в список требуется накинуть `list(..)` поверх. Первым аргументом у `map` (а также у `filter` и `reduce`) идет функция, а вторым - массив (упрощение - идет iterable object)\n",
        "\n",
        "Ниже пример работы `map` к списку, от которого мы хотим получить список квадратов элементов."
      ]
    },
    {
      "cell_type": "code",
      "metadata": {
        "colab": {
          "base_uri": "https://localhost:8080/"
        },
        "id": "qqu9jnjHKJIB",
        "outputId": "4589cb1f-ac4b-479f-d636-1075c9c2156f"
      },
      "source": [
        "take_square = lambda x: x ** 2\n",
        "\n",
        "list_1 = [1, 2, 3, 4, 5]\n",
        "\n",
        "list_2 = list(map(take_square, list_1))\n",
        "list_3 = list(map(lambda x: x ** 2, list_1))\n",
        "\n",
        "print(list_2)\n",
        "print(list_3)"
      ],
      "execution_count": null,
      "outputs": [
        {
          "output_type": "stream",
          "text": [
            "[1, 4, 9, 16, 25]\n",
            "[1, 4, 9, 16, 25]\n"
          ],
          "name": "stdout"
        }
      ]
    },
    {
      "cell_type": "markdown",
      "metadata": {
        "id": "LG8R-Qd2DNjV"
      },
      "source": [
        "Массив также можно фильтровать с помощью функций и лямбда выражений как в примере ниже"
      ]
    },
    {
      "cell_type": "code",
      "metadata": {
        "colab": {
          "base_uri": "https://localhost:8080/"
        },
        "id": "ShK0NhOLLHT0",
        "outputId": "b39e7151-b819-4dc7-b453-713625de1e88"
      },
      "source": [
        "list_1 = [i for i in range(1, 11)]\n",
        "\n",
        "list_2 = list(filter(lambda x: (x % 2 == 0) , list_1))\n",
        "\n",
        "print(list_1)\n",
        "print(list_2)"
      ],
      "execution_count": null,
      "outputs": [
        {
          "output_type": "stream",
          "text": [
            "[1, 2, 3, 4, 5, 6, 7, 8, 9, 10]\n",
            "[2, 4, 6, 8, 10]\n"
          ],
          "name": "stdout"
        }
      ]
    },
    {
      "cell_type": "markdown",
      "metadata": {
        "id": "wAd2oyFZDUsj"
      },
      "source": [
        "Также есть метод `reduce` которому на вход подается несколько аргументов, где первый элемент это аккумулированный результат работы функции на предыдущих элементах, а второй аргумент - текущий элемент."
      ]
    },
    {
      "cell_type": "code",
      "metadata": {
        "id": "ED22KGRGMYxA"
      },
      "source": [
        "from functools import reduce\n",
        "import itertools "
      ],
      "execution_count": null,
      "outputs": []
    },
    {
      "cell_type": "code",
      "metadata": {
        "colab": {
          "base_uri": "https://localhost:8080/"
        },
        "id": "vtmMyeBfO7Pi",
        "outputId": "9d0beb38-2921-4fa7-fbb4-6aec87ab13a6"
      },
      "source": [
        "list_1 = [i for i in range(1, 11)]\n",
        "\n",
        "result = reduce(lambda x, y: x + y, list_1)\n",
        "print(result)\n",
        "\n",
        "result = reduce(lambda x, y: x * y, list_1)\n",
        "print(result)"
      ],
      "execution_count": null,
      "outputs": [
        {
          "output_type": "stream",
          "text": [
            "55\n",
            "3628800\n"
          ],
          "name": "stdout"
        }
      ]
    },
    {
      "cell_type": "markdown",
      "metadata": {
        "id": "3igcT4wgDlFN"
      },
      "source": [
        "`accumulate` в `itertools` позволяет Вам брать накопленные результата работы функции по массиву. Порядок аргументов отличен от предыдущих методов."
      ]
    },
    {
      "cell_type": "code",
      "metadata": {
        "colab": {
          "base_uri": "https://localhost:8080/"
        },
        "id": "zLwpTuvyPLfj",
        "outputId": "b2b2f837-5fd5-4241-c763-dcfb8bdad465"
      },
      "source": [
        "print(list_1)\n",
        "result = list(itertools.accumulate(list_1, lambda x, y: x + y))\n",
        "print(result)"
      ],
      "execution_count": null,
      "outputs": [
        {
          "output_type": "stream",
          "text": [
            "[1, 2, 3, 4, 5, 6, 7, 8, 9, 10]\n",
            "[1, 3, 6, 10, 15, 21, 28, 36, 45, 55]\n"
          ],
          "name": "stdout"
        }
      ]
    },
    {
      "cell_type": "markdown",
      "metadata": {
        "id": "KEL9BislDygc"
      },
      "source": [
        "Также в `itertool` есть куча полезных методов, которые можно посмотреть ниже, а также в документации выше."
      ]
    },
    {
      "cell_type": "code",
      "metadata": {
        "colab": {
          "base_uri": "https://localhost:8080/"
        },
        "id": "BRS_oc6VQNB-",
        "outputId": "deb959ef-78be-4e3c-c2bf-98077974f5bf"
      },
      "source": [
        "# комбинации из двух чисел из значений из списка\n",
        "list(itertools.combinations([1, 2, 3, 4], 2))"
      ],
      "execution_count": null,
      "outputs": [
        {
          "output_type": "execute_result",
          "data": {
            "text/plain": [
              "[(1, 2), (1, 3), (1, 4), (2, 3), (2, 4), (3, 4)]"
            ]
          },
          "metadata": {
            "tags": []
          },
          "execution_count": 180
        }
      ]
    },
    {
      "cell_type": "code",
      "metadata": {
        "colab": {
          "base_uri": "https://localhost:8080/"
        },
        "id": "iKrstcomQ1n3",
        "outputId": "ec6f8fdf-9fff-430f-de0c-018885b9e411"
      },
      "source": [
        "# комбинации из трех символов из элементов строки\n",
        "list(itertools.combinations('ABCDE', 3))"
      ],
      "execution_count": null,
      "outputs": [
        {
          "output_type": "execute_result",
          "data": {
            "text/plain": [
              "[('A', 'B', 'C'),\n",
              " ('A', 'B', 'D'),\n",
              " ('A', 'B', 'E'),\n",
              " ('A', 'C', 'D'),\n",
              " ('A', 'C', 'E'),\n",
              " ('A', 'D', 'E'),\n",
              " ('B', 'C', 'D'),\n",
              " ('B', 'C', 'E'),\n",
              " ('B', 'D', 'E'),\n",
              " ('C', 'D', 'E')]"
            ]
          },
          "metadata": {
            "tags": []
          },
          "execution_count": 181
        }
      ]
    },
    {
      "cell_type": "code",
      "metadata": {
        "colab": {
          "base_uri": "https://localhost:8080/"
        },
        "id": "_RVgIC9mR3vT",
        "outputId": "39430ddc-7a48-41a6-ab95-91605e561343"
      },
      "source": [
        "# комбинации из трех символов из элементов строки (1 комбинация тк строка только из 3-х элементов)\n",
        "list(itertools.combinations('ABC', 3))"
      ],
      "execution_count": null,
      "outputs": [
        {
          "output_type": "execute_result",
          "data": {
            "text/plain": [
              "[('A', 'B', 'C')]"
            ]
          },
          "metadata": {
            "tags": []
          },
          "execution_count": 182
        }
      ]
    },
    {
      "cell_type": "code",
      "metadata": {
        "colab": {
          "base_uri": "https://localhost:8080/"
        },
        "id": "itbxLhZaQ6L_",
        "outputId": "c8571d9d-36f6-4ed8-b840-eefb4c4dd217"
      },
      "source": [
        "# комбинации из трех символов из элементов строки с повторениями \n",
        "list(itertools.combinations_with_replacement('ABC', 3))"
      ],
      "execution_count": null,
      "outputs": [
        {
          "output_type": "execute_result",
          "data": {
            "text/plain": [
              "[('A', 'A', 'A'),\n",
              " ('A', 'A', 'B'),\n",
              " ('A', 'A', 'C'),\n",
              " ('A', 'B', 'B'),\n",
              " ('A', 'B', 'C'),\n",
              " ('A', 'C', 'C'),\n",
              " ('B', 'B', 'B'),\n",
              " ('B', 'B', 'C'),\n",
              " ('B', 'C', 'C'),\n",
              " ('C', 'C', 'C')]"
            ]
          },
          "metadata": {
            "tags": []
          },
          "execution_count": 183
        }
      ]
    },
    {
      "cell_type": "code",
      "metadata": {
        "colab": {
          "base_uri": "https://localhost:8080/"
        },
        "id": "qDuJ65VeQ_hX",
        "outputId": "46834393-1301-4c85-a3ce-60b532fb57fa"
      },
      "source": [
        "# варианты возможных перестановок\n",
        "list(itertools.permutations(\"ABCD\"))"
      ],
      "execution_count": null,
      "outputs": [
        {
          "output_type": "execute_result",
          "data": {
            "text/plain": [
              "[('A', 'B', 'C', 'D'),\n",
              " ('A', 'B', 'D', 'C'),\n",
              " ('A', 'C', 'B', 'D'),\n",
              " ('A', 'C', 'D', 'B'),\n",
              " ('A', 'D', 'B', 'C'),\n",
              " ('A', 'D', 'C', 'B'),\n",
              " ('B', 'A', 'C', 'D'),\n",
              " ('B', 'A', 'D', 'C'),\n",
              " ('B', 'C', 'A', 'D'),\n",
              " ('B', 'C', 'D', 'A'),\n",
              " ('B', 'D', 'A', 'C'),\n",
              " ('B', 'D', 'C', 'A'),\n",
              " ('C', 'A', 'B', 'D'),\n",
              " ('C', 'A', 'D', 'B'),\n",
              " ('C', 'B', 'A', 'D'),\n",
              " ('C', 'B', 'D', 'A'),\n",
              " ('C', 'D', 'A', 'B'),\n",
              " ('C', 'D', 'B', 'A'),\n",
              " ('D', 'A', 'B', 'C'),\n",
              " ('D', 'A', 'C', 'B'),\n",
              " ('D', 'B', 'A', 'C'),\n",
              " ('D', 'B', 'C', 'A'),\n",
              " ('D', 'C', 'A', 'B'),\n",
              " ('D', 'C', 'B', 'A')]"
            ]
          },
          "metadata": {
            "tags": []
          },
          "execution_count": 184
        }
      ]
    },
    {
      "cell_type": "markdown",
      "metadata": {
        "id": "oQr13CSZSGg1"
      },
      "source": [
        "## Декораторы"
      ]
    },
    {
      "cell_type": "markdown",
      "metadata": {
        "id": "XQ_RxAfxEX4c"
      },
      "source": [
        "Декораторы также являются удобным способом для изменения работы функции.\n",
        "\n",
        "Допустим, у вас есть какая-то функция. Вам не хотелось бы переписывать ее снова, дописывая ей какие-то дополнительные возможности. Вам хотелось бы ее дополнить.\n",
        "\n",
        "Для этого можно воспользоваться декорированием одной функции с помощью другой (а функция может быть аргументом другой функция + функция может быть определена внутри другой функции)\n",
        "\n",
        "Для этого нам требуется декорирующая функция, которая на вход берет фукнцию, которую нужно изменить. Внутри декорирующей функции содержится функция-обёртка, которая выполняет какие-то дополнительные вещи + выполняет декорируемую функцию."
      ]
    },
    {
      "cell_type": "markdown",
      "metadata": {
        "id": "cVTwcFfxGTXa"
      },
      "source": [
        "Мы посмотрим на примере ниже. Создадим массив данных, матрицу, где строка - какое-то наблюдение/объект/человек, а элементы строки - значения тех или иных переменных по этому наблюдению.\n",
        "\n",
        "Далее определим вспомогательную функцию для подсчета попарного расстояния (в нашем случае, L1 норма или же Манхэттеновское расстояние)"
      ]
    },
    {
      "cell_type": "code",
      "metadata": {
        "id": "yGSJQ0aMSFfs"
      },
      "source": [
        "import time"
      ],
      "execution_count": null,
      "outputs": []
    },
    {
      "cell_type": "code",
      "metadata": {
        "id": "9Hv-C-1DZoq9"
      },
      "source": [
        "matrix_list = [[1, 2, 3], [2, 3, 4], [3, 4, 5], [4, 5, 6], [5, 6, 7], [6, 7, 8]]"
      ],
      "execution_count": null,
      "outputs": []
    },
    {
      "cell_type": "code",
      "metadata": {
        "id": "hHcH1DmOU5hU"
      },
      "source": [
        "def distance_fnc(x, y):\n",
        "  distance = 0\n",
        "  for i,j in zip(x, y):\n",
        "    distance += abs(i - j)\n",
        "  return distance"
      ],
      "execution_count": null,
      "outputs": []
    },
    {
      "cell_type": "markdown",
      "metadata": {
        "id": "Y4wgMSvrGk25"
      },
      "source": [
        "Определим функцию, которая считает матрицу попарных расстояний (её не самый эффективный вариант, т.к. достаточно посчитать значения под или над диагональю)"
      ]
    },
    {
      "cell_type": "code",
      "metadata": {
        "id": "5fR3L1jmaFov"
      },
      "source": [
        "def pairwise_distance(matrix_obs):\n",
        "\n",
        "  l = len(matrix_obs)\n",
        "  distance_matrix = []\n",
        "  for i in range(l):\n",
        "    distance_matrix.append([])\n",
        "    for j in range(l):\n",
        "      distance = distance_fnc(matrix_obs[i], matrix_obs[j])\n",
        "      distance_matrix[i].append(distance)\n",
        "\n",
        "  return distance_matrix"
      ],
      "execution_count": null,
      "outputs": []
    },
    {
      "cell_type": "code",
      "metadata": {
        "colab": {
          "base_uri": "https://localhost:8080/"
        },
        "id": "1HrDakWQVFPr",
        "outputId": "6a2454da-833d-40f5-e24b-8fc28b5bf806"
      },
      "source": [
        "pairwise_distance(matrix_list)"
      ],
      "execution_count": null,
      "outputs": [
        {
          "output_type": "execute_result",
          "data": {
            "text/plain": [
              "[[0, 3, 6, 9, 12, 15],\n",
              " [3, 0, 3, 6, 9, 12],\n",
              " [6, 3, 0, 3, 6, 9],\n",
              " [9, 6, 3, 0, 3, 6],\n",
              " [12, 9, 6, 3, 0, 3],\n",
              " [15, 12, 9, 6, 3, 0]]"
            ]
          },
          "metadata": {
            "tags": []
          },
          "execution_count": 188
        }
      ]
    },
    {
      "cell_type": "markdown",
      "metadata": {
        "id": "OUljhMqDG2_E"
      },
      "source": [
        "Создадим функцию-декоратор `measure_time` (название на Ваше усмотрение), которая на вход берет другую функцию, которую нужно изменить (функцию `pairwise_distance`). Мы бы хотели добавить в декорируемую функцию вывод времени работы кода.\n",
        "\n",
        "Для этого внутри функции-декоратора создаем функцию-обёртку `wrapper_func` (название на Ваше усмотрение). Функция-обёртка замеряет время старта работы функции, исполняет функцию (которую ей передали - в частности, `pairwise_distance`), замеряет время конца работы функции, выводит затраченное время и результат (нельзя забывать про `return` внутри функции-обёртки). Чтобы передать в изменяемую функцию ее параметры, их также нужно передать в функцию-обёртку. "
      ]
    },
    {
      "cell_type": "code",
      "metadata": {
        "id": "VOSwbRKRYMcz"
      },
      "source": [
        "def measure_time(func):\n",
        "\n",
        "  def wrapper_func(*args):\n",
        "    start = time.time()\n",
        "    result = func(*args)\n",
        "    end = time.time()\n",
        "    print('Time of execution is {} seconds'.format(end - start))\n",
        "    return result\n",
        "\n",
        "  return wrapper_func"
      ],
      "execution_count": null,
      "outputs": []
    },
    {
      "cell_type": "markdown",
      "metadata": {
        "id": "Bt4XztrEHxqZ"
      },
      "source": [
        "Чтобы обернуть функцию `pairwise_distance` с помощью декоратора нужно поверх определения этой функции через оператор `@` прописать название декоратора."
      ]
    },
    {
      "cell_type": "code",
      "metadata": {
        "id": "V0nkrB_VXyOq"
      },
      "source": [
        "@measure_time\n",
        "def pairwise_distance(matrix_obs):\n",
        "\n",
        "  l = len(matrix_list)\n",
        "  distance_matrix = []\n",
        "  for i in range(l):\n",
        "    distance_matrix.append([])\n",
        "    for j in range(l):\n",
        "      distance = distance_fnc(matrix_list[i], matrix_list[j])\n",
        "      distance_matrix[i].append(distance)\n",
        "\n",
        "  return distance_matrix"
      ],
      "execution_count": null,
      "outputs": []
    },
    {
      "cell_type": "code",
      "metadata": {
        "colab": {
          "base_uri": "https://localhost:8080/"
        },
        "id": "T0VR8y7MTv1D",
        "outputId": "d8d9e3d7-e5c6-4123-d1d8-dc2c64efcf1f"
      },
      "source": [
        "result = pairwise_distance(matrix_list)\n",
        "result"
      ],
      "execution_count": null,
      "outputs": [
        {
          "output_type": "stream",
          "text": [
            "Time of execution is 5.8650970458984375e-05 seconds\n"
          ],
          "name": "stdout"
        },
        {
          "output_type": "execute_result",
          "data": {
            "text/plain": [
              "[[0, 3, 6, 9, 12, 15],\n",
              " [3, 0, 3, 6, 9, 12],\n",
              " [6, 3, 0, 3, 6, 9],\n",
              " [9, 6, 3, 0, 3, 6],\n",
              " [12, 9, 6, 3, 0, 3],\n",
              " [15, 12, 9, 6, 3, 0]]"
            ]
          },
          "metadata": {
            "tags": []
          },
          "execution_count": 193
        }
      ]
    },
    {
      "cell_type": "markdown",
      "metadata": {
        "id": "hz0HJft1H78P"
      },
      "source": [
        "Иначе пришлось бы делать как ниже (предпоследняя строчка,по сути, заменяет выражение с `@`)"
      ]
    },
    {
      "cell_type": "code",
      "metadata": {
        "colab": {
          "base_uri": "https://localhost:8080/"
        },
        "id": "oxRxhWkTimmC",
        "outputId": "2bdd6594-adc6-44c0-c161-02eef0025db1"
      },
      "source": [
        "def pairwise_distance(matrix_obs):\n",
        "\n",
        "  l = len(matrix_list)\n",
        "  distance_matrix = []\n",
        "  for i in range(l):\n",
        "    distance_matrix.append([])\n",
        "    for j in range(l):\n",
        "      distance = distance_fnc(matrix_list[i], matrix_list[j])\n",
        "      distance_matrix[i].append(distance)\n",
        "\n",
        "  return distance_matrix\n",
        "\n",
        "pairwise_distance = measure_time(pairwise_distance)\n",
        "pairwise_distance(matrix_list)"
      ],
      "execution_count": null,
      "outputs": [
        {
          "output_type": "stream",
          "text": [
            "Time of execution is 3.886222839355469e-05 seconds\n"
          ],
          "name": "stdout"
        },
        {
          "output_type": "execute_result",
          "data": {
            "text/plain": [
              "[[0, 3, 6, 9, 12, 15],\n",
              " [3, 0, 3, 6, 9, 12],\n",
              " [6, 3, 0, 3, 6, 9],\n",
              " [9, 6, 3, 0, 3, 6],\n",
              " [12, 9, 6, 3, 0, 3],\n",
              " [15, 12, 9, 6, 3, 0]]"
            ]
          },
          "metadata": {
            "tags": []
          },
          "execution_count": 194
        }
      ]
    },
    {
      "cell_type": "markdown",
      "metadata": {
        "id": "JlyfOmjhIC3q"
      },
      "source": [
        "Далее есть избитый пример про сэндвич, который мы хотим обернуть в начинку, а потом обернуть в хлеб\n",
        "\n",
        "В этом примере используется несколько декораторов - `bread` и `ingredients`"
      ]
    },
    {
      "cell_type": "code",
      "metadata": {
        "id": "l-rJ6hw9lmKo"
      },
      "source": [
        "def bread(func):\n",
        "  def wrapper():\n",
        "    print(\"</______\\>\")\n",
        "    func()\n",
        "    print(\"<\\______/>\")\n",
        "  return wrapper\n",
        "\n",
        "def ingredients(func):\n",
        "  def wrapper():\n",
        "    print(\"#помидоры#\")\n",
        "    func()\n",
        "    print(\"~салат~\")\n",
        "  return wrapper"
      ],
      "execution_count": null,
      "outputs": []
    },
    {
      "cell_type": "code",
      "metadata": {
        "id": "_IccbahglmNb"
      },
      "source": [
        "@bread\n",
        "@ingredients\n",
        "def sandwich(food = \"--ветчина--\"):\n",
        "  print(food)"
      ],
      "execution_count": null,
      "outputs": []
    },
    {
      "cell_type": "markdown",
      "metadata": {
        "id": "I-hg2w-jIVhh"
      },
      "source": [
        "Первым функция обарачивается декоратором `ingredients`"
      ]
    },
    {
      "cell_type": "code",
      "metadata": {
        "colab": {
          "base_uri": "https://localhost:8080/"
        },
        "id": "ISPCEJIGl8kc",
        "outputId": "495e9f7c-7763-4111-f115-c9302781bb15"
      },
      "source": [
        "sandwich()"
      ],
      "execution_count": null,
      "outputs": [
        {
          "output_type": "stream",
          "text": [
            "</______\\>\n",
            "#помидоры#\n",
            "--ветчина--\n",
            "~салат~\n",
            "<\\______/>\n"
          ],
          "name": "stdout"
        }
      ]
    },
    {
      "cell_type": "markdown",
      "metadata": {
        "id": "XJb5ZAknIdn_"
      },
      "source": [
        "А в таком случае - в обратном порядке, который вряд ли для нас ценен"
      ]
    },
    {
      "cell_type": "code",
      "metadata": {
        "colab": {
          "base_uri": "https://localhost:8080/"
        },
        "id": "eThvFzl8TmuC",
        "outputId": "3059739f-6eae-439b-9d42-ae0bd156ebf4"
      },
      "source": [
        "@ingredients\n",
        "@bread\n",
        "def sandwich(food = \"--ветчина--\"):\n",
        "  print(food)\n",
        "\n",
        "sandwich()"
      ],
      "execution_count": null,
      "outputs": [
        {
          "output_type": "stream",
          "text": [
            "#помидоры#\n",
            "</______\\>\n",
            "--ветчина--\n",
            "<\\______/>\n",
            "~салат~\n"
          ],
          "name": "stdout"
        }
      ]
    },
    {
      "cell_type": "markdown",
      "metadata": {
        "id": "TsEGOvcwizx8"
      },
      "source": [
        "## Классы"
      ]
    },
    {
      "cell_type": "markdown",
      "metadata": {
        "id": "SXk-eimBIj3l"
      },
      "source": [
        "Одним из главных компонентов является объект. В Python все является объектами. Эти объекты принадлежат какому-то одному классу. Например, 3 может принадлежать классу целых чисел (вещественных чисел, положительных чисел и т.д.). На класс целых чисел определены те или иные операции (сложения, умножения, сравнения и т.д.). Однако для какой-то другой структуры данных/класса, операции (методы) могут быть отличны, а также их поведение может отличаться для объектов разных классов.\n",
        "\n",
        "Класс Вы можете определить через ключевое слово `Class` не забыв про **:** в конце\n",
        "\n",
        "Класс может содержать внутри себя какие-то функции - методы (в контексте классов - методы), а также переменные."
      ]
    },
    {
      "cell_type": "code",
      "metadata": {
        "id": "ioPVp4Q-iz-2"
      },
      "source": [
        "class MyClass:\n",
        "  pass"
      ],
      "execution_count": null,
      "outputs": []
    },
    {
      "cell_type": "markdown",
      "metadata": {
        "id": "PtJlYWN5JVlB"
      },
      "source": [
        "Методы с двойным нижним подчеркиванием по бокам являются магическими (это устоявшееся название, если что). Можно их также интерпретировать как базовые (в зависимости от того, где интерпретация и ассоциации для Вас легче). \n",
        "\n",
        "Эти методы являются специальными не предполагают их вызов напрямую от объекта. Они позволяют вызывать их при применении каких-либо операций с объектами класса.\n",
        "\n",
        "Метод **`__init__(self, ..)`** является инициализатором объекта. Объект определенного класса мы инициализируем какими-то значениями (у человека, например, есть имя и фамилия с возрастом, у товара - код на штрих-коде, срок годности и т.д.). Первым аргументом кладется аргумент **`self`**, который является ссылкой на конкретный экземпляр класса. Устоявшимся (но не обязательным) названием является **self**, и лучше придерживаться этому названию."
      ]
    },
    {
      "cell_type": "markdown",
      "metadata": {
        "id": "81G6rr6nKry5"
      },
      "source": [
        "Определим класс `Person`, инициализируя его именем, фамилией и возрастом человека. **self** - ссылка объекта на себя же, записываем в него эти параметры.\n",
        "\n",
        "Магический метод **`__str()__`** позволяет выводить какой-то результат, который мы в нем определяем при вызове `print(object_of_class_person)`\n",
        "\n",
        "Метод `print_person_age(..)` принимает на вход также внешний параметр, city."
      ]
    },
    {
      "cell_type": "code",
      "metadata": {
        "id": "PTk0j9bHLYAO"
      },
      "source": [
        "class Person:\n",
        "  def __init__(self, name, surname, age):\n",
        "    self.name = name\n",
        "    self.surname = surname\n",
        "    self.age = age\n",
        "    print('A Person is added')\n",
        "\n",
        "  def __str__(self):\n",
        "    return 'Object for {} {}'.format(self.name, self.surname)\n",
        "\n",
        "  def print_person_age(self, city):\n",
        "    print('The person is {} years old and lives in {}'.format(self.age, city))\n"
      ],
      "execution_count": null,
      "outputs": []
    },
    {
      "cell_type": "markdown",
      "metadata": {
        "id": "ETqdwqdfLMX9"
      },
      "source": [
        "Создадим объект `person_1` класса `Person`\n",
        "\n",
        "Нам не надо прописывать следующее, чтобы инициализировать объект:\n",
        "\n",
        "```\n",
        "person_1 = Person()\n",
        "person_1.__init__('Suzie', 'Smith', 27)\n",
        "```\n",
        "\n",
        "Инициализация и передача параметров для инициализации происходит при определении объекта, как указано ниже\n"
      ]
    },
    {
      "cell_type": "code",
      "metadata": {
        "colab": {
          "base_uri": "https://localhost:8080/"
        },
        "id": "_Pm_UCu4MJpa",
        "outputId": "79fe9ccc-0872-4f7a-bc28-8db495879b52"
      },
      "source": [
        "person_1 = Person('Suzie', 'Smith', 27)"
      ],
      "execution_count": null,
      "outputs": [
        {
          "output_type": "stream",
          "text": [
            "A Person is added\n"
          ],
          "name": "stdout"
        }
      ]
    },
    {
      "cell_type": "markdown",
      "metadata": {
        "id": "9Us3VGynLlDp"
      },
      "source": [
        "Через `.` Вы можете посмотреть на аттрибуты объекта (методы и переменные)"
      ]
    },
    {
      "cell_type": "code",
      "metadata": {
        "colab": {
          "base_uri": "https://localhost:8080/",
          "height": 35
        },
        "id": "NlhfiL8IMPyG",
        "outputId": "7271c7ed-0918-4fea-ae6d-bec201f2a085"
      },
      "source": [
        "person_1.surname"
      ],
      "execution_count": null,
      "outputs": [
        {
          "output_type": "execute_result",
          "data": {
            "application/vnd.google.colaboratory.intrinsic+json": {
              "type": "string"
            },
            "text/plain": [
              "'Smith'"
            ]
          },
          "metadata": {
            "tags": []
          },
          "execution_count": 204
        }
      ]
    },
    {
      "cell_type": "markdown",
      "metadata": {
        "id": "jvmoOYeqLsA6"
      },
      "source": [
        "От объекта Вы можете взять метод, как в примере ниже"
      ]
    },
    {
      "cell_type": "code",
      "metadata": {
        "colab": {
          "base_uri": "https://localhost:8080/"
        },
        "id": "_tDvCcPJMSlS",
        "outputId": "ebc2ac0e-a050-4264-80c8-e34d10ab7bb3"
      },
      "source": [
        "person_1.print_person_age('Kansas')"
      ],
      "execution_count": null,
      "outputs": [
        {
          "output_type": "stream",
          "text": [
            "The person is 27 years old and lives in Kansas\n"
          ],
          "name": "stdout"
        }
      ]
    },
    {
      "cell_type": "code",
      "metadata": {
        "colab": {
          "base_uri": "https://localhost:8080/"
        },
        "id": "PH5cijpisvOH",
        "outputId": "9f8852eb-9c30-4281-c47a-28fed48ada8b"
      },
      "source": [
        "person_1"
      ],
      "execution_count": null,
      "outputs": [
        {
          "output_type": "execute_result",
          "data": {
            "text/plain": [
              "<__main__.Person at 0x7f6506d56da0>"
            ]
          },
          "metadata": {
            "tags": []
          },
          "execution_count": 208
        }
      ]
    },
    {
      "cell_type": "markdown",
      "metadata": {
        "id": "mUj_FgbxLvUM"
      },
      "source": [
        "А вот ниже результат работы магического методы **`__str(..)__`**"
      ]
    },
    {
      "cell_type": "code",
      "metadata": {
        "colab": {
          "base_uri": "https://localhost:8080/"
        },
        "id": "4rozn2gfMWCH",
        "outputId": "7dd55057-3d4d-4fb8-e8d9-d49d9b342be6"
      },
      "source": [
        "print(person_1)"
      ],
      "execution_count": null,
      "outputs": [
        {
          "output_type": "stream",
          "text": [
            "Object for Suzie Smith\n"
          ],
          "name": "stdout"
        }
      ]
    },
    {
      "cell_type": "markdown",
      "metadata": {
        "id": "Xf9VDuQgL8Ow"
      },
      "source": [
        "Как и говорилось - все в Python является объектом. Даже переменная, которой присвоено какое-то число. У нас есть ряд операций с числами - например, арифметическое сложение. Арифметическое сложение доступно через оператор `+`, за который, по сути, отвечает магический метод **`__add()__`**. Нам не требуется для сложения этот метод вызывать, если он определен в классе объекта."
      ]
    },
    {
      "cell_type": "code",
      "metadata": {
        "colab": {
          "base_uri": "https://localhost:8080/"
        },
        "id": "IROIjvTpNJZu",
        "outputId": "bb91bee0-f0c3-455e-a4f7-95db7270a200"
      },
      "source": [
        "a = 5\n",
        "\n",
        "a + 4"
      ],
      "execution_count": null,
      "outputs": [
        {
          "output_type": "execute_result",
          "data": {
            "text/plain": [
              "9"
            ]
          },
          "metadata": {
            "tags": []
          },
          "execution_count": 116
        }
      ]
    },
    {
      "cell_type": "markdown",
      "metadata": {
        "id": "wLO9AoCcMZ4M"
      },
      "source": [
        "Нет смысла делать так:"
      ]
    },
    {
      "cell_type": "code",
      "metadata": {
        "colab": {
          "base_uri": "https://localhost:8080/"
        },
        "id": "8uqDbBzjNNqx",
        "outputId": "d783834e-cf64-4655-f7b1-b534697aa6fd"
      },
      "source": [
        "a.__add__(4)"
      ],
      "execution_count": null,
      "outputs": [
        {
          "output_type": "execute_result",
          "data": {
            "text/plain": [
              "9"
            ]
          },
          "metadata": {
            "tags": []
          },
          "execution_count": 117
        }
      ]
    },
    {
      "cell_type": "markdown",
      "metadata": {
        "id": "kkQBdFgKMcux"
      },
      "source": [
        "Для класса строк этот же метод работает иначе"
      ]
    },
    {
      "cell_type": "code",
      "metadata": {
        "colab": {
          "base_uri": "https://localhost:8080/",
          "height": 35
        },
        "id": "t8AO7CzBtNI3",
        "outputId": "2eae026d-c50f-4f1f-847a-535c1e5db60c"
      },
      "source": [
        "a = 'ab'\n",
        "c = 'cd'\n",
        "a + c"
      ],
      "execution_count": null,
      "outputs": [
        {
          "output_type": "execute_result",
          "data": {
            "application/vnd.google.colaboratory.intrinsic+json": {
              "type": "string"
            },
            "text/plain": [
              "'abcd'"
            ]
          },
          "metadata": {
            "tags": []
          },
          "execution_count": 251
        }
      ]
    },
    {
      "cell_type": "markdown",
      "metadata": {
        "id": "83HuR3neM6AW"
      },
      "source": [
        "Можно проверить название класса (тоже магический метод)"
      ]
    },
    {
      "cell_type": "code",
      "metadata": {
        "colab": {
          "base_uri": "https://localhost:8080/",
          "height": 35
        },
        "id": "x6rbkr8DMi9p",
        "outputId": "a4ac6f0a-3e72-419e-93ab-3e954d315143"
      },
      "source": [
        "c.__class__.__name__"
      ],
      "execution_count": null,
      "outputs": [
        {
          "output_type": "execute_result",
          "data": {
            "application/vnd.google.colaboratory.intrinsic+json": {
              "type": "string"
            },
            "text/plain": [
              "'str'"
            ]
          },
          "metadata": {
            "tags": []
          },
          "execution_count": 255
        }
      ]
    },
    {
      "cell_type": "code",
      "metadata": {
        "colab": {
          "base_uri": "https://localhost:8080/",
          "height": 35
        },
        "id": "UtPQSU2StS_u",
        "outputId": "6cb0ec1f-dd1c-4919-8634-527cca447ec6"
      },
      "source": [
        "a.__add__('cd')"
      ],
      "execution_count": null,
      "outputs": [
        {
          "output_type": "execute_result",
          "data": {
            "application/vnd.google.colaboratory.intrinsic+json": {
              "type": "string"
            },
            "text/plain": [
              "'abcd'"
            ]
          },
          "metadata": {
            "tags": []
          },
          "execution_count": 211
        }
      ]
    },
    {
      "cell_type": "markdown",
      "metadata": {
        "id": "bze1OFEpM-Rs"
      },
      "source": [
        "Одним из столпов ООП (объектно-ориентированное программирование) является наследование. \n",
        "\n",
        "Дочерний (подкласс) может наследовать те или иные методы (и аргументы) от родительского (суперкласс) класса"
      ]
    },
    {
      "cell_type": "code",
      "metadata": {
        "id": "2NLvdA-BttMW"
      },
      "source": [
        "class Person:\n",
        "  def __init__(self, name, surname, age):\n",
        "    self.name = name\n",
        "    self.surname = surname\n",
        "    self.age = age\n",
        "    print('A Person is added')\n",
        "\n",
        "  def __str__(self):\n",
        "    return 'Object for {} {}'.format(self.name, self.surname)\n",
        "\n",
        "  def print_person_age(self, city):\n",
        "    print('The person is {} years old and lives in {}'.format(self.age, city))\n"
      ],
      "execution_count": null,
      "outputs": []
    },
    {
      "cell_type": "markdown",
      "metadata": {
        "id": "wi8d1Lx9NOxn"
      },
      "source": [
        "Для уннаследования Вашим классом другого класса, требуется передать его в аргументы класса, как указано ниже. \n",
        "\n",
        "В дочернем классе, Вы также можете определить новые методы вдобавок к унаследованным."
      ]
    },
    {
      "cell_type": "code",
      "metadata": {
        "id": "EsuXs2n6NPyI"
      },
      "source": [
        "class Employee_Empty(Person):\n",
        "\n",
        "  def greet_employee(self):\n",
        "    print('Greeting to our new member {} {}'.format(self.name, self.surname))"
      ],
      "execution_count": null,
      "outputs": []
    },
    {
      "cell_type": "markdown",
      "metadata": {
        "id": "0f9LdV7lNemC"
      },
      "source": [
        "Не забывайте при инициализации передать все необходимые параметры (метод инициализации унаследован от класса `Person`) "
      ]
    },
    {
      "cell_type": "code",
      "metadata": {
        "colab": {
          "base_uri": "https://localhost:8080/"
        },
        "id": "82Pt2pJeNnK-",
        "outputId": "31884487-b739-4f54-b06b-2c86c9f59704"
      },
      "source": [
        "person_2 = Employee_Empty('Suzie', 'Smith', 27)"
      ],
      "execution_count": null,
      "outputs": [
        {
          "output_type": "stream",
          "text": [
            "A Person is added\n"
          ],
          "name": "stdout"
        }
      ]
    },
    {
      "cell_type": "markdown",
      "metadata": {
        "id": "JfXPEu4NNmjY"
      },
      "source": [
        "Применим новый метод"
      ]
    },
    {
      "cell_type": "code",
      "metadata": {
        "colab": {
          "base_uri": "https://localhost:8080/"
        },
        "id": "uFmcL_hLNq94",
        "outputId": "c515fc43-b2bc-422e-8543-0644f4535a8c"
      },
      "source": [
        "person_2.greet_employee()"
      ],
      "execution_count": null,
      "outputs": [
        {
          "output_type": "stream",
          "text": [
            "Greeting to our new member Suzie Smith\n"
          ],
          "name": "stdout"
        }
      ]
    },
    {
      "cell_type": "markdown",
      "metadata": {
        "id": "xA6HtIE1NovG"
      },
      "source": [
        "Старые методы тоже никуда не подевались"
      ]
    },
    {
      "cell_type": "code",
      "metadata": {
        "colab": {
          "base_uri": "https://localhost:8080/"
        },
        "id": "Dv4KKpBvt7za",
        "outputId": "2f237fe0-6374-41b3-a323-609a84d15d9b"
      },
      "source": [
        "print(person_2)"
      ],
      "execution_count": null,
      "outputs": [
        {
          "output_type": "stream",
          "text": [
            "Object for Suzie Smith\n"
          ],
          "name": "stdout"
        }
      ]
    },
    {
      "cell_type": "code",
      "metadata": {
        "id": "t9FG6lW0Nq9T"
      },
      "source": [
        "person_2.print_person_age('Kansas')"
      ],
      "execution_count": null,
      "outputs": []
    },
    {
      "cell_type": "code",
      "metadata": {
        "id": "OtAUk0bGOA1G"
      },
      "source": [
        "class Person:\n",
        "  def __init__(self, name, surname, age):\n",
        "    self.name = name\n",
        "    self.surname = surname\n",
        "    self.age = age\n",
        "    print('A Person is added')\n",
        "\n",
        "  def __str__(self):\n",
        "    return 'Object for {} {}'.format(self.name, self.surname)\n",
        "\n",
        "  def print_person_age(self):\n",
        "    print('The person is {} years old'.format(self.age))\n"
      ],
      "execution_count": null,
      "outputs": []
    },
    {
      "cell_type": "markdown",
      "metadata": {
        "id": "zMWvyM1MN0Ac"
      },
      "source": [
        "Также Вы можете добавлять различное количество методов в Ваш класс. Вы также можете изменить метод **`__init(..)__`**, т.к. у Вас могут появиться какие-то дополнительные параметры для инициализации.\n",
        "\n",
        "Например, вы можете инициализировать Ваш класс как в примере ниже. Сперва с помощью встроенного метода `super().__init__(..)` Вы можете передать для инициализации инициализирующие значения родительского класса, а потом добавить дополнительные параметры.\n",
        "\n",
        "Из некоторых источников (дабы не повторяться):\n",
        "\n",
        "* super возвращает объект-посредник (прокси), делегирующий вызовы методов родителю или собрату класса указанного типа."
      ]
    },
    {
      "cell_type": "code",
      "metadata": {
        "id": "bd9-oxhnNuRU"
      },
      "source": [
        "class Employee_Normal(Person):\n",
        "\n",
        "  def __init__(self, name, surname, age, wage, hours_worked):\n",
        "    super().__init__(name, surname, age)\n",
        "    self.wage = wage\n",
        "    self.hours_worked = hours_worked\n",
        "\n",
        "  def greet_employee(self):\n",
        "    print('Greeting to our new member {} {}'.format(self.name, self.surname))\n",
        "\n",
        "  def compute_salary(self, n_weeks = 4.5):\n",
        "    return self.hours_worked * self.wage * n_weeks\n",
        "  "
      ],
      "execution_count": null,
      "outputs": []
    },
    {
      "cell_type": "code",
      "metadata": {
        "colab": {
          "base_uri": "https://localhost:8080/"
        },
        "id": "LhtS9K0nOZO8",
        "outputId": "7476dec4-5735-493c-ab81-b59eef11a011"
      },
      "source": [
        "person_3 = Employee_Normal('Suzie', 'Smith', 27, 500, 40)"
      ],
      "execution_count": null,
      "outputs": [
        {
          "output_type": "stream",
          "text": [
            "A Person is added\n"
          ],
          "name": "stdout"
        }
      ]
    },
    {
      "cell_type": "code",
      "metadata": {
        "colab": {
          "base_uri": "https://localhost:8080/"
        },
        "id": "YvB4UnPEufqG",
        "outputId": "b004f22e-44c1-4845-d04c-1989a2b1d87e"
      },
      "source": [
        "print(person_3)"
      ],
      "execution_count": null,
      "outputs": [
        {
          "output_type": "stream",
          "text": [
            "Object for Suzie Smith\n"
          ],
          "name": "stdout"
        }
      ]
    },
    {
      "cell_type": "code",
      "metadata": {
        "colab": {
          "base_uri": "https://localhost:8080/"
        },
        "id": "RuH_dQeoOhgy",
        "outputId": "6aa40ff8-7dc1-4880-f111-1220d96d1be9"
      },
      "source": [
        "person_3.print_person_age()"
      ],
      "execution_count": null,
      "outputs": [
        {
          "output_type": "stream",
          "text": [
            "The person is 27 years old\n"
          ],
          "name": "stdout"
        }
      ]
    },
    {
      "cell_type": "code",
      "metadata": {
        "colab": {
          "base_uri": "https://localhost:8080/"
        },
        "id": "Cm3r5Ht0OkgC",
        "outputId": "9e3c5dcb-c62c-4340-f986-b6304b451390"
      },
      "source": [
        "person_3.compute_salary(2)"
      ],
      "execution_count": null,
      "outputs": [
        {
          "output_type": "execute_result",
          "data": {
            "text/plain": [
              "40000"
            ]
          },
          "metadata": {
            "tags": []
          },
          "execution_count": 261
        }
      ]
    },
    {
      "cell_type": "markdown",
      "metadata": {
        "id": "bVfY_avHPBwo"
      },
      "source": [
        "Также двумя столпами ООП является Полиморфизм и Инкапсуляция.\n",
        "\n",
        "* Полиморфизм - возможность одному методу (с одинаковым названием) для объектов разного класса исполнять разные операции. В данном контексте под полиморфизмом понимается множество форм одного и того же слова – имени метода.\n",
        "* Инкапсуляция - ограничение доступа к составляющим объект компонентам (методам и переменным). Инкапсуляция делает некоторые из компонент доступными только внутри класса.\n",
        "\n",
        "Одиночное подчеркивание в начале имени атрибута говорит о том, что переменная или метод не предназначен для использования вне методов класса, однако атрибут доступен по этому имени.\n",
        "\n",
        "Двойное подчеркивание в начале имени атрибута даёт большую защиту: атрибут становится недоступным по этому имени."
      ]
    },
    {
      "cell_type": "markdown",
      "metadata": {
        "id": "snSEI_w_P5f0"
      },
      "source": [
        "Примером полиморфизма является переопределения метода `print_person_age(..)` в классе `Employee_Normal_Ext`. Его поведение отлично от его поведения в классе `Person` (чуть-чуть переписали).\n",
        "\n",
        "Примером инкапсуляции является метод `__not_use()`, который нельзя вызвать от объекта. Метод `_not_use_not_safe()` не был бы также виден в аттрибутах объекта, но его можно было бы вызвать."
      ]
    },
    {
      "cell_type": "code",
      "metadata": {
        "id": "plwHJuH_On7S"
      },
      "source": [
        "class Employee_Normal_Ext(Person):\n",
        "\n",
        "  def __init__(self, name, surname, age, wage, hours_worked):\n",
        "    super().__init__(name, surname, age)\n",
        "    self.wage = wage\n",
        "    self.hours_worked = hours_worked\n",
        "\n",
        "  def greet_employee(self):\n",
        "    print('Greeting to our new member {} {}'.format(self.name, self.surname))\n",
        "\n",
        "  def print_person_age(self):\n",
        "    print('{} {} is of {} years old'.format(self.name, self.surname, self.age))\n",
        "\n",
        "  def compute_salary(self, n_weeks):\n",
        "    self.n_weeks = n_weeks # можно также сохранить \"в себя\" переменную\n",
        "    return self.hours_worked * self.wage * n_weeks\n",
        "\n",
        "  def __not_use(self):\n",
        "    print('not use')\n",
        "\n",
        "  def _not_use_safe(self):\n",
        "    print('not use, but I cannot restrict you')\n",
        "  "
      ],
      "execution_count": null,
      "outputs": []
    },
    {
      "cell_type": "code",
      "metadata": {
        "colab": {
          "base_uri": "https://localhost:8080/"
        },
        "id": "aQs7RsAjO83s",
        "outputId": "ca4cb950-9fbf-4ab2-bc7d-079669196d21"
      },
      "source": [
        "person_4 = Employee_Normal_Ext('Suzie', 'Smith', 27, 500, 40)"
      ],
      "execution_count": null,
      "outputs": [
        {
          "output_type": "stream",
          "text": [
            "A Person is added\n"
          ],
          "name": "stdout"
        }
      ]
    },
    {
      "cell_type": "code",
      "metadata": {
        "colab": {
          "base_uri": "https://localhost:8080/"
        },
        "id": "BJ5uvElcO_7J",
        "outputId": "6f761f7e-aad5-4ea8-eb0b-a0f925856eaa"
      },
      "source": [
        "person_4.print_person_age()"
      ],
      "execution_count": null,
      "outputs": [
        {
          "output_type": "stream",
          "text": [
            "Suzie Smith is of 27 years old\n"
          ],
          "name": "stdout"
        }
      ]
    },
    {
      "cell_type": "code",
      "metadata": {
        "colab": {
          "base_uri": "https://localhost:8080/",
          "height": 164
        },
        "id": "juTB4NN0U123",
        "outputId": "421c1ab9-b180-4582-ed49-7506d6943408"
      },
      "source": [
        "person_4.__not_use()"
      ],
      "execution_count": null,
      "outputs": [
        {
          "output_type": "error",
          "ename": "AttributeError",
          "evalue": "ignored",
          "traceback": [
            "\u001b[0;31m---------------------------------------------------------------------------\u001b[0m",
            "\u001b[0;31mAttributeError\u001b[0m                            Traceback (most recent call last)",
            "\u001b[0;32m<ipython-input-270-a73af6db51e9>\u001b[0m in \u001b[0;36m<module>\u001b[0;34m()\u001b[0m\n\u001b[0;32m----> 1\u001b[0;31m \u001b[0mperson_4\u001b[0m\u001b[0;34m.\u001b[0m\u001b[0m__not_use\u001b[0m\u001b[0;34m(\u001b[0m\u001b[0;34m)\u001b[0m\u001b[0;34m\u001b[0m\u001b[0;34m\u001b[0m\u001b[0m\n\u001b[0m",
            "\u001b[0;31mAttributeError\u001b[0m: 'Employee_Normal_Ext' object has no attribute '__not_use'"
          ]
        }
      ]
    },
    {
      "cell_type": "code",
      "metadata": {
        "colab": {
          "base_uri": "https://localhost:8080/"
        },
        "id": "p29OzYyTQrFP",
        "outputId": "9bb9ae28-08a7-4375-d33a-381e737eb2ca"
      },
      "source": [
        "person_4._not_use_safe()"
      ],
      "execution_count": null,
      "outputs": [
        {
          "output_type": "stream",
          "text": [
            "not use, but I cannot restrict you\n"
          ],
          "name": "stdout"
        }
      ]
    },
    {
      "cell_type": "code",
      "metadata": {
        "colab": {
          "base_uri": "https://localhost:8080/",
          "height": 164
        },
        "id": "87fy-Lo9Qz0S",
        "outputId": "2288ad3c-9fc9-4bba-c457-f574f79f5b31"
      },
      "source": [
        "person_4.n_weeks"
      ],
      "execution_count": null,
      "outputs": [
        {
          "output_type": "error",
          "ename": "AttributeError",
          "evalue": "ignored",
          "traceback": [
            "\u001b[0;31m---------------------------------------------------------------------------\u001b[0m",
            "\u001b[0;31mAttributeError\u001b[0m                            Traceback (most recent call last)",
            "\u001b[0;32m<ipython-input-272-65f96a5a98b4>\u001b[0m in \u001b[0;36m<module>\u001b[0;34m()\u001b[0m\n\u001b[0;32m----> 1\u001b[0;31m \u001b[0mperson_4\u001b[0m\u001b[0;34m.\u001b[0m\u001b[0mn_weeks\u001b[0m\u001b[0;34m\u001b[0m\u001b[0;34m\u001b[0m\u001b[0m\n\u001b[0m",
            "\u001b[0;31mAttributeError\u001b[0m: 'Employee_Normal_Ext' object has no attribute 'n_weeks'"
          ]
        }
      ]
    },
    {
      "cell_type": "code",
      "metadata": {
        "colab": {
          "base_uri": "https://localhost:8080/"
        },
        "id": "_k0-kMGpQ1Yz",
        "outputId": "85679720-80b2-4c58-98c8-1e30bb53b098"
      },
      "source": [
        "person_4.compute_salary(4.5)"
      ],
      "execution_count": null,
      "outputs": [
        {
          "output_type": "execute_result",
          "data": {
            "text/plain": [
              "90000.0"
            ]
          },
          "metadata": {
            "tags": []
          },
          "execution_count": 273
        }
      ]
    },
    {
      "cell_type": "code",
      "metadata": {
        "colab": {
          "base_uri": "https://localhost:8080/"
        },
        "id": "TKQNNiwAQ4hP",
        "outputId": "513f00d5-e58c-414d-f840-05730edec12b"
      },
      "source": [
        "person_4.n_weeks"
      ],
      "execution_count": null,
      "outputs": [
        {
          "output_type": "execute_result",
          "data": {
            "text/plain": [
              "4.5"
            ]
          },
          "metadata": {
            "tags": []
          },
          "execution_count": 274
        }
      ]
    },
    {
      "cell_type": "markdown",
      "metadata": {
        "id": "__IRI_U4Q8xK"
      },
      "source": [
        "План на следующее занятие (Пятница):\n",
        "\n",
        "* доп детали по ООП\n",
        "* NumPy\n",
        "* Pandas\n",
        "* Работа с датами и временем\n",
        "* (если время позволит) визуализация (если время не позволит, то в Субботу)"
      ]
    }
  ]
}