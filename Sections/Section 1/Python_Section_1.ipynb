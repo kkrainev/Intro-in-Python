{
  "nbformat": 4,
  "nbformat_minor": 0,
  "metadata": {
    "colab": {
      "name": "Python_Section_1.ipynb",
      "provenance": [],
      "collapsed_sections": []
    },
    "kernelspec": {
      "name": "python3",
      "display_name": "Python 3"
    }
  },
  "cells": [
    {
      "cell_type": "markdown",
      "metadata": {
        "id": "2ntkfGiy6-N0"
      },
      "source": [
        "# Введение в Python\r\n",
        "\r\n",
        "## Занятие 1\r\n",
        "\r\n",
        "### **План**\r\n",
        "\r\n",
        "* типы переменных\r\n",
        "* операции над переменными\r\n",
        "* контейнеры\r\n",
        "* условные операторы\r\n",
        "* циклы\r\n",
        "* кратко о функциях"
      ]
    },
    {
      "cell_type": "markdown",
      "metadata": {
        "id": "rIWGFp3A7pIg"
      },
      "source": [
        "### Типы переменных"
      ]
    },
    {
      "cell_type": "markdown",
      "metadata": {
        "id": "6O3RJtwpDEOD"
      },
      "source": [
        "Можно выделить следующие типы, которые потребуются в работе - целые числа (integer или ```int``` в Python), числа с плавающие точкой (```float```), строки (string или ```str```), а также булевы переменные. \r\n",
        "\r\n",
        "Присваивание в Python происходит через знак ```=```. Тип данных можно посмотреть через команду ```type(..)```"
      ]
    },
    {
      "cell_type": "code",
      "metadata": {
        "colab": {
          "base_uri": "https://localhost:8080/"
        },
        "id": "pTa4QBas66OT",
        "outputId": "281c4c11-93d4-4cd2-d9f7-6a67256fb1b3"
      },
      "source": [
        "a = 1\r\n",
        "print(a, type(a))"
      ],
      "execution_count": null,
      "outputs": [
        {
          "output_type": "stream",
          "text": [
            "1 <class 'int'>\n"
          ],
          "name": "stdout"
        }
      ]
    },
    {
      "cell_type": "code",
      "metadata": {
        "colab": {
          "base_uri": "https://localhost:8080/"
        },
        "id": "mmbrHAgzg39I",
        "outputId": "3534ce16-fb45-4738-afc0-16398957611c"
      },
      "source": [
        "(3j) * (3j)"
      ],
      "execution_count": null,
      "outputs": [
        {
          "output_type": "execute_result",
          "data": {
            "text/plain": [
              "(-9+0j)"
            ]
          },
          "metadata": {
            "tags": []
          },
          "execution_count": 107
        }
      ]
    },
    {
      "cell_type": "markdown",
      "metadata": {
        "id": "-dIbA7Tt73Hf"
      },
      "source": [
        "Python имеет динамическую типизацию. Таким образом, Вам не надо указывать тип переменной при присвоени как в C++, Java или других языках со статической типизацией. "
      ]
    },
    {
      "cell_type": "code",
      "metadata": {
        "colab": {
          "base_uri": "https://localhost:8080/"
        },
        "id": "YJNGG-707zZg",
        "outputId": "90f29a97-5d40-4520-edfe-d50806732556"
      },
      "source": [
        "# like this\r\n",
        "a: int = 1\r\n",
        "print(a, type(a))"
      ],
      "execution_count": null,
      "outputs": [
        {
          "output_type": "stream",
          "text": [
            "1 <class 'int'>\n"
          ],
          "name": "stdout"
        }
      ]
    },
    {
      "cell_type": "code",
      "metadata": {
        "colab": {
          "base_uri": "https://localhost:8080/"
        },
        "id": "syf_z6zC8o7a",
        "outputId": "82780011-7831-4ce0-ae40-b9dbedc049f1"
      },
      "source": [
        "a = 1.1\r\n",
        "b = 0.5\r\n",
        "c = .3\r\n",
        "\r\n",
        "print(a, b, c)\r\n",
        "print(type(a), type(b), type(c))"
      ],
      "execution_count": null,
      "outputs": [
        {
          "output_type": "stream",
          "text": [
            "1.1 0.5 0.3\n",
            "<class 'float'> <class 'float'> <class 'float'>\n"
          ],
          "name": "stdout"
        }
      ]
    },
    {
      "cell_type": "code",
      "metadata": {
        "colab": {
          "base_uri": "https://localhost:8080/"
        },
        "id": "v1n8RbFQ81vl",
        "outputId": "f8697bfe-f216-417f-aef9-5b7add028e25"
      },
      "source": [
        "a, b, c = 1.1, 0.5, .3 # присовение элементов в 1 строчку\r\n",
        "\r\n",
        "print(a, b, c)\r\n",
        "print(type(a), type(b), type(c))"
      ],
      "execution_count": null,
      "outputs": [
        {
          "output_type": "stream",
          "text": [
            "1.1 0.5 0.3\n",
            "<class 'float'> <class 'float'> <class 'float'>\n"
          ],
          "name": "stdout"
        }
      ]
    },
    {
      "cell_type": "code",
      "metadata": {
        "colab": {
          "base_uri": "https://localhost:8080/"
        },
        "id": "0QQv-TQd9BhD",
        "outputId": "d257d34e-0176-4683-b925-fe1f82639fcf"
      },
      "source": [
        "a, b = True, False\r\n",
        "\r\n",
        "print(a, type(a), b, type(b), '\\n')\r\n",
        "\r\n",
        "# a bit nicer output\r\n",
        "print(f'Type of variable a is {type(a)} and type of variable b is {type(b)}')\r\n",
        "print('Type of variable a is {} and type of variable b is {}'.format(type(a), type(b)))"
      ],
      "execution_count": null,
      "outputs": [
        {
          "output_type": "stream",
          "text": [
            "True <class 'bool'> False <class 'bool'> \n",
            "\n",
            "Type of variable a is <class 'bool'> and type of variable b is <class 'bool'>\n",
            "Type of variable a is <class 'bool'> and type of variable b is <class 'bool'>\n"
          ],
          "name": "stdout"
        }
      ]
    },
    {
      "cell_type": "code",
      "metadata": {
        "colab": {
          "base_uri": "https://localhost:8080/"
        },
        "id": "wxmbZTSrP8GO",
        "outputId": "45126a7c-fbce-440a-a919-9ad39c788b3d"
      },
      "source": [
        "a, b = 1, 2.376\r\n",
        "print('a = %d, b = %0.2f' % (a, b))\r\n",
        "print(f'a = {a}, b = {b:.2f}')"
      ],
      "execution_count": null,
      "outputs": [
        {
          "output_type": "stream",
          "text": [
            "a = 1, b = 2.38\n",
            "a = 1, b = 2.38\n"
          ],
          "name": "stdout"
        }
      ]
    },
    {
      "cell_type": "code",
      "metadata": {
        "colab": {
          "base_uri": "https://localhost:8080/"
        },
        "id": "t8s1Qc3n9rx6",
        "outputId": "99ae9b68-c475-4fdd-fe69-2bb0c1819be6"
      },
      "source": [
        "a = 'New Economic School'\r\n",
        "b = 'Studies'\r\n",
        "\r\n",
        "print(f'Type of variable a is {type(a)} and type of variable b is {type(b)}')\r\n",
        "print(f'Length of variable a is {len(a)} and length of variable b is {len(b)}')"
      ],
      "execution_count": null,
      "outputs": [
        {
          "output_type": "stream",
          "text": [
            "Type of variable a is <class 'str'> and type of variable b is <class 'str'>\n",
            "Length of variable a is 19 and length of variable b is 7\n"
          ],
          "name": "stdout"
        }
      ]
    },
    {
      "cell_type": "code",
      "metadata": {
        "colab": {
          "base_uri": "https://localhost:8080/",
          "height": 35
        },
        "id": "6YxFWma5m1W3",
        "outputId": "c6529b0b-007a-4846-dd4e-1a9408a2eef7"
      },
      "source": [
        "a = \"Paper: 'Market Growth in China'\"\n",
        "a"
      ],
      "execution_count": null,
      "outputs": [
        {
          "output_type": "execute_result",
          "data": {
            "application/vnd.google.colaboratory.intrinsic+json": {
              "type": "string"
            },
            "text/plain": [
              "\"Paper: 'Market Growth in China'\""
            ]
          },
          "metadata": {
            "tags": []
          },
          "execution_count": 112
        }
      ]
    },
    {
      "cell_type": "markdown",
      "metadata": {
        "id": "Mw_UOCrB9-ps"
      },
      "source": [
        "### Operations with variables"
      ]
    },
    {
      "cell_type": "markdown",
      "metadata": {
        "id": "Od68cczYDvjt"
      },
      "source": [
        "Как обычно, числа можно складывать, вычитать, умножать и делить. \r\n",
        "\r\n",
        "Помимо этих базовых операция доступно взятие остатка от деления (через символ ```%```), а также деление нацело (через ```//```). Данные можно выводить через команду ```print(..)```. Также в эту команду помимо нашего описания можно вставить значения переменных (пример ниже)"
      ]
    },
    {
      "cell_type": "code",
      "metadata": {
        "colab": {
          "base_uri": "https://localhost:8080/"
        },
        "id": "6zazrvwQ-AeH",
        "outputId": "b41d781b-13ee-4bb6-cdaf-a66d9ed3512f"
      },
      "source": [
        "a, b = 5, 2\r\n",
        "\r\n",
        "ab_sum = a + b\r\n",
        "ab_product = a * b\r\n",
        "ab_division = a / b\r\n",
        "ab_floor_division = a // b\r\n",
        "ab_remainder_division = a % b\r\n",
        "ab_comparison_equality = a == b\r\n",
        "ab_comparison_geq = a >= b\r\n",
        "ab_comparison_greater = a > b\r\n",
        "\r\n",
        "print(f'Sum of {a} and {b} is {ab_sum}')\r\n",
        "print(f'Product of {a} and {b} is {ab_product}')\r\n",
        "print(f'Division of {a} on {b} is {ab_division}')\r\n",
        "print(f'Integer (floor) division of {a} on {b} is {ab_floor_division}')\r\n",
        "print(f'Remainder of division of {a} on {b} is {ab_remainder_division}')\r\n",
        "print(f'{a} = {b} is {ab_comparison_equality}')\r\n",
        "print(f'{a} > {b} is {ab_comparison_greater}')\r\n",
        "print(f'{a} >= {b} is {ab_comparison_geq}')\r\n"
      ],
      "execution_count": null,
      "outputs": [
        {
          "output_type": "stream",
          "text": [
            "Sum of 5 and 2 is 7\n",
            "Product of 5 and 2 is 10\n",
            "Division of 5 on 2 is 2.5\n",
            "Integer (floor) division of 5 on 2 is 2\n",
            "Remainder of division of 5 on 2 is 1\n",
            "5 = 2 is False\n",
            "5 > 2 is True\n",
            "5 >= 2 is True\n"
          ],
          "name": "stdout"
        }
      ]
    },
    {
      "cell_type": "code",
      "metadata": {
        "colab": {
          "base_uri": "https://localhost:8080/"
        },
        "id": "hRoll35GnQw0",
        "outputId": "35ba8f17-d259-4f0d-ea09-414cc4c6bd25"
      },
      "source": [
        "a ** b # power"
      ],
      "execution_count": null,
      "outputs": [
        {
          "output_type": "execute_result",
          "data": {
            "text/plain": [
              "25"
            ]
          },
          "metadata": {
            "tags": []
          },
          "execution_count": 114
        }
      ]
    },
    {
      "cell_type": "code",
      "metadata": {
        "colab": {
          "base_uri": "https://localhost:8080/"
        },
        "id": "W1fn441PD2Sk",
        "outputId": "4094328d-7afd-41ca-d7fc-455cabe644c9"
      },
      "source": [
        "a, b = 4, 7\r\n",
        "\r\n",
        "ab_division = a / b\r\n",
        "ab_division_round = round(a / b, 2) # round up to 2 digits after decimal\r\n",
        "\r\n",
        "print(ab_division, ab_division_round)"
      ],
      "execution_count": null,
      "outputs": [
        {
          "output_type": "stream",
          "text": [
            "0.5714285714285714 0.57\n"
          ],
          "name": "stdout"
        }
      ]
    },
    {
      "cell_type": "code",
      "metadata": {
        "colab": {
          "base_uri": "https://localhost:8080/"
        },
        "id": "8SfHOVSpEFPa",
        "outputId": "853f0d51-1750-48fa-dc46-6b4c5f8c612a"
      },
      "source": [
        "a = 1.56e5\r\n",
        "print(a)"
      ],
      "execution_count": null,
      "outputs": [
        {
          "output_type": "stream",
          "text": [
            "156000.0\n"
          ],
          "name": "stdout"
        }
      ]
    },
    {
      "cell_type": "code",
      "metadata": {
        "colab": {
          "base_uri": "https://localhost:8080/"
        },
        "id": "yF4wyyhy_NZ6",
        "outputId": "175191e4-2b26-41cc-c154-72f07737ce55"
      },
      "source": [
        "a, b = True, False\r\n",
        "\r\n",
        "ab_sum = a + b\r\n",
        "ab_product = a * b\r\n",
        "ab_comparison = a is b\r\n",
        "ab_condition = a and b\r\n",
        "\r\n",
        "a_integer = int(a)\r\n",
        "\r\n",
        "print(f'Sum of {a} and {b} is {ab_sum}')\r\n",
        "print(f'Product of {a} and {b} is {ab_product}')\r\n",
        "print(f'The statement that {a} is {b} is {ab_comparison}')\r\n",
        "print(f'And condition on {a} and {b} is {ab_condition}')\r\n",
        "print(f'{a} in integer form is {a_integer}')"
      ],
      "execution_count": null,
      "outputs": [
        {
          "output_type": "stream",
          "text": [
            "Sum of True and False is 1\n",
            "Product of True and False is 0\n",
            "The statement that True is False is False\n",
            "And condition on True and False is False\n",
            "True in integer form is 1\n"
          ],
          "name": "stdout"
        }
      ]
    },
    {
      "cell_type": "code",
      "metadata": {
        "colab": {
          "base_uri": "https://localhost:8080/"
        },
        "id": "olzfBWL8_7Fe",
        "outputId": "0db32138-ce69-423a-d2d4-97e6a65152a5"
      },
      "source": [
        "a = 'New Economic School'\r\n",
        "b = 'Studies'\r\n",
        "\r\n",
        "sum_strings = a + b\r\n",
        "multiply_by_factor = a * 3\r\n",
        "together = a * 3 + ' ' + b * 2\r\n",
        "\r\n",
        "print('slicing the first 3 characters of variable a', a[:3]) \r\n",
        "print('all characters till 3 last characters of variable a ', a[:-3]) \r\n",
        "print('the second and the third characters of variable a', a[1:3]) \r\n",
        "print('all the charactes from the third one without 2 last characters', a[2:-2]) \r\n",
        "\r\n",
        "print('\\n')\r\n",
        "\r\n",
        "print(f'Sum of {a} and {b} is: {sum_strings}')\r\n",
        "print(f'Multiplication of {a} by factor of {3} is: {multiply_by_factor}')\r\n",
        "print(f'Takeing multiplication and sum of {a} and {b} is: {together}')"
      ],
      "execution_count": null,
      "outputs": [
        {
          "output_type": "stream",
          "text": [
            "slicing the first 3 characters of variable a New\n",
            "all characters till 3 last characters of variable a  New Economic Sch\n",
            "the second and the third characters of variable a ew\n",
            "all the charactes from the third one without 2 last characters w Economic Scho\n",
            "\n",
            "\n",
            "Sum of New Economic School and Studies is: New Economic SchoolStudies\n",
            "Multiplication of New Economic School by factor of 3 is: New Economic SchoolNew Economic SchoolNew Economic School\n",
            "Takeing multiplication and sum of New Economic School and Studies is: New Economic SchoolNew Economic SchoolNew Economic School StudiesStudies\n"
          ],
          "name": "stdout"
        }
      ]
    },
    {
      "cell_type": "code",
      "metadata": {
        "colab": {
          "base_uri": "https://localhost:8080/",
          "height": 35
        },
        "id": "PiOXWhjsov5R",
        "outputId": "e21a8d84-a88a-4b58-db8b-52a6c0e03596"
      },
      "source": [
        "b[-2]"
      ],
      "execution_count": null,
      "outputs": [
        {
          "output_type": "execute_result",
          "data": {
            "application/vnd.google.colaboratory.intrinsic+json": {
              "type": "string"
            },
            "text/plain": [
              "'e'"
            ]
          },
          "metadata": {
            "tags": []
          },
          "execution_count": 119
        }
      ]
    },
    {
      "cell_type": "code",
      "metadata": {
        "colab": {
          "base_uri": "https://localhost:8080/"
        },
        "id": "vNQmyManBYIb",
        "outputId": "f2659b5e-9a58-48b3-8085-b7770d16fc38"
      },
      "source": [
        "# a bit more about slicing\r\n",
        "print(f'Slicing every second element from {a} is {a[::2]}')\r\n",
        "print(f'Reversion of {a} is {a[::-1]}')\r\n",
        "\r\n",
        "# replacement of a characters\r\n",
        "a_new = a.replace('o', '3')\r\n",
        "print(a, a_new)\r\n",
        "a_new = a.replace('c', '3', 2)\r\n",
        "print(a, a_new)\r\n",
        "\r\n",
        "# capitalization\r\n",
        "a_new = a.capitalize()\r\n",
        "print(a, a_new)\r\n",
        "\r\n",
        "# all characters to upper register\r\n",
        "a_new = a.upper()\r\n",
        "print(a, a_new)\r\n",
        "\r\n",
        "# all characters to lower register\r\n",
        "a_new = a.lower()\r\n",
        "print(a, a_new)"
      ],
      "execution_count": null,
      "outputs": [
        {
          "output_type": "stream",
          "text": [
            "Slicing every second element from New Economic School is NwEooi col\n",
            "Reversion of New Economic School is loohcS cimonocE weN\n",
            "New Economic School New Ec3n3mic Sch33l\n",
            "New Economic School New E3onomi3 School\n",
            "New Economic School New economic school\n",
            "New Economic School NEW ECONOMIC SCHOOL\n",
            "New Economic School new economic school\n"
          ],
          "name": "stdout"
        }
      ]
    },
    {
      "cell_type": "code",
      "metadata": {
        "colab": {
          "base_uri": "https://localhost:8080/",
          "height": 86
        },
        "id": "_9pGmuvoEdJz",
        "outputId": "a38e44e3-4e4e-43e9-a168-1710030f57c7"
      },
      "source": [
        "a = 'This is a test sentence'\r\n",
        "print(a)\r\n",
        "\r\n",
        "# разбиение строки \r\n",
        "b = a.split(sep = ' ')\r\n",
        "print(b)\r\n",
        "\r\n",
        "# соединение строк через разделитель\r\n",
        "c = ' '.join(b)\r\n",
        "print(c)\r\n",
        "\r\n",
        "# отрезание отступов справа\r\n",
        "a = 'This is a test sentence      '\r\n",
        "a.rstrip()"
      ],
      "execution_count": null,
      "outputs": [
        {
          "output_type": "stream",
          "text": [
            "This is a test sentence\n",
            "['This', 'is', 'a', 'test', 'sentence']\n",
            "This is a test sentence\n"
          ],
          "name": "stdout"
        },
        {
          "output_type": "execute_result",
          "data": {
            "application/vnd.google.colaboratory.intrinsic+json": {
              "type": "string"
            },
            "text/plain": [
              "'This is a test sentence'"
            ]
          },
          "metadata": {
            "tags": []
          },
          "execution_count": 120
        }
      ]
    },
    {
      "cell_type": "code",
      "metadata": {
        "id": "EiD9vSaWqLAh"
      },
      "source": [
        "a.rstrip?"
      ],
      "execution_count": null,
      "outputs": []
    },
    {
      "cell_type": "markdown",
      "metadata": {
        "id": "PXWzqBIXESPw"
      },
      "source": [
        "Данные можно также вводить с клавиатуры посредством команды ```input()```"
      ]
    },
    {
      "cell_type": "code",
      "metadata": {
        "colab": {
          "base_uri": "https://localhost:8080/"
        },
        "id": "6NPI1IzEESyk",
        "outputId": "2496e7ca-22d5-4452-813e-678ef25019c5"
      },
      "source": [
        "a = str(input())\r\n",
        "print(f'Вы ввели следующее значение: {a}')\r\n",
        "print(type(a))"
      ],
      "execution_count": null,
      "outputs": [
        {
          "output_type": "stream",
          "text": [
            "Car\n",
            "Вы ввели следующее значение: Car\n",
            "<class 'str'>\n"
          ],
          "name": "stdout"
        }
      ]
    },
    {
      "cell_type": "code",
      "metadata": {
        "colab": {
          "base_uri": "https://localhost:8080/"
        },
        "id": "d2trX7_YGDhT",
        "outputId": "f36085e8-3502-43de-c895-fbdb9126ffc7"
      },
      "source": [
        "a = int(input())\r\n",
        "print(f'Вы ввели следующее значение: {a}')\r\n",
        "print(type(a))"
      ],
      "execution_count": null,
      "outputs": [
        {
          "output_type": "stream",
          "text": [
            "7\n",
            "Вы ввели следующее значение: 7\n",
            "<class 'int'>\n"
          ],
          "name": "stdout"
        }
      ]
    },
    {
      "cell_type": "markdown",
      "metadata": {
        "id": "4Liq9SFDE8Ye"
      },
      "source": [
        "Также на практике бывает необходимо использование регулярных выражений (regular expressions или же regex). Данные команды имеют свой синтаксис. В зависимости от распространенности конкретных случаев, могут использоваться как довольно простые конструкции, так и очень мудреные. Стоит понять логику, а запоминать возможно не стоит (ну если только вам нечего делать).\r\n",
        "\r\n",
        "Можно найти различные шпаргалки по регулярным выражениям (regex)\r\n",
        "Например [здесь](https://www.debuggex.com/cheatsheet/regex/python) \r\n",
        "(Заодно можно потренироваться вставлять гиперссылки)"
      ]
    },
    {
      "cell_type": "code",
      "metadata": {
        "id": "eGIv3Fh1BxOL"
      },
      "source": [
        "import regex as re"
      ],
      "execution_count": null,
      "outputs": []
    },
    {
      "cell_type": "code",
      "metadata": {
        "colab": {
          "base_uri": "https://localhost:8080/"
        },
        "id": "p-ij1rtSE-dN",
        "outputId": "006eae51-7fd5-4d96-f7e6-f3370b5c0a35"
      },
      "source": [
        "a = '12new_string_example8905979'\r\n",
        "# В данном примере мы убираем все числовые значения из строки, заменяя их ни на что (тобиш убираем)\r\n",
        "result = re.sub(r'[0-9]+', '', a)\r\n",
        "print(result)"
      ],
      "execution_count": null,
      "outputs": [
        {
          "output_type": "stream",
          "text": [
            "new_string_example\n"
          ],
          "name": "stdout"
        }
      ]
    },
    {
      "cell_type": "markdown",
      "metadata": {
        "id": "ixB9etkkFDu6"
      },
      "source": [
        "### Контейнеры и операции с ними\r\n",
        "\r\n",
        "Для нас пока имеют важность следующие массивы/контейнеры:\r\n",
        "\r\n",
        "* Кортежи\r\n",
        "* Списки\r\n",
        "* Множества\r\n",
        "* Словари\r\n",
        "\r\n",
        "Обращаться к элементу контейнера можно через квадратные скобки, вводя в них номер (индекс) элемента в массиве."
      ]
    },
    {
      "cell_type": "code",
      "metadata": {
        "colab": {
          "base_uri": "https://localhost:8080/"
        },
        "id": "7eTjEN4MFMB_",
        "outputId": "d9e0e78b-54a1-45bf-dc99-def6de5f78d8"
      },
      "source": [
        "# Кортеж (tuple) \r\n",
        "tuple_1 = tuple([1, 2, 2, 3, '3', 4])\r\n",
        "# Также можем создать следующим образом\r\n",
        "tuple_1 = (1, 2, 2, 3, '3', 4)\r\n",
        "\r\n",
        "print(tuple_1)\r\n",
        "print(type(tuple_1))\r\n"
      ],
      "execution_count": null,
      "outputs": [
        {
          "output_type": "stream",
          "text": [
            "(1, 2, 2, 3, '3', 4)\n",
            "<class 'tuple'>\n"
          ],
          "name": "stdout"
        }
      ]
    },
    {
      "cell_type": "code",
      "metadata": {
        "colab": {
          "base_uri": "https://localhost:8080/",
          "height": 215
        },
        "id": "MluwbJ1lFrF-",
        "outputId": "ee07aba6-7ded-42d8-e943-f4af1669ed26"
      },
      "source": [
        "# Попробуем изменить элемент кортежа (обращаемся по индексу)\r\n",
        "print(tuple_1[2])\r\n",
        "tuple_1[2] = 5"
      ],
      "execution_count": null,
      "outputs": [
        {
          "output_type": "stream",
          "text": [
            "2\n"
          ],
          "name": "stdout"
        },
        {
          "output_type": "error",
          "ename": "TypeError",
          "evalue": "ignored",
          "traceback": [
            "\u001b[0;31m---------------------------------------------------------------------------\u001b[0m",
            "\u001b[0;31mTypeError\u001b[0m                                 Traceback (most recent call last)",
            "\u001b[0;32m<ipython-input-130-e97355a95120>\u001b[0m in \u001b[0;36m<module>\u001b[0;34m()\u001b[0m\n\u001b[1;32m      1\u001b[0m \u001b[0;31m# Попробуем изменить элемент кортежа (обращаемся по индексу)\u001b[0m\u001b[0;34m\u001b[0m\u001b[0;34m\u001b[0m\u001b[0;34m\u001b[0m\u001b[0m\n\u001b[1;32m      2\u001b[0m \u001b[0mprint\u001b[0m\u001b[0;34m(\u001b[0m\u001b[0mtuple_1\u001b[0m\u001b[0;34m[\u001b[0m\u001b[0;36m2\u001b[0m\u001b[0;34m]\u001b[0m\u001b[0;34m)\u001b[0m\u001b[0;34m\u001b[0m\u001b[0;34m\u001b[0m\u001b[0m\n\u001b[0;32m----> 3\u001b[0;31m \u001b[0mtuple_1\u001b[0m\u001b[0;34m[\u001b[0m\u001b[0;36m2\u001b[0m\u001b[0;34m]\u001b[0m \u001b[0;34m=\u001b[0m \u001b[0;36m5\u001b[0m\u001b[0;34m\u001b[0m\u001b[0;34m\u001b[0m\u001b[0m\n\u001b[0m",
            "\u001b[0;31mTypeError\u001b[0m: 'tuple' object does not support item assignment"
          ]
        }
      ]
    },
    {
      "cell_type": "code",
      "metadata": {
        "colab": {
          "base_uri": "https://localhost:8080/"
        },
        "id": "ha7rVV2tFubp",
        "outputId": "71f1383e-e710-4257-d92f-f6ff5b8d92f5"
      },
      "source": [
        "# Лист \r\n",
        "list_1 = list([1, 2, 2, 3, 4, '7', False])\r\n",
        "list_1 = [1, 2, 2, 3, 4, '7', False]\r\n",
        "\r\n",
        "type(list_1)"
      ],
      "execution_count": null,
      "outputs": [
        {
          "output_type": "execute_result",
          "data": {
            "text/plain": [
              "list"
            ]
          },
          "metadata": {
            "tags": []
          },
          "execution_count": 131
        }
      ]
    },
    {
      "cell_type": "code",
      "metadata": {
        "colab": {
          "base_uri": "https://localhost:8080/"
        },
        "id": "LOuJtDeGHXYl",
        "outputId": "84a037ee-01a1-47be-d1fe-86bc7ff1700c"
      },
      "source": [
        "# запишем третьим элементом 84 вместо 2\r\n",
        "print(list_1[2])\r\n",
        "list_1[2] = 84\r\n",
        "print(list_1[2])"
      ],
      "execution_count": null,
      "outputs": [
        {
          "output_type": "stream",
          "text": [
            "2\n",
            "84\n"
          ],
          "name": "stdout"
        }
      ]
    },
    {
      "cell_type": "markdown",
      "metadata": {
        "id": "Wk5MwjlLHd60"
      },
      "source": [
        "Над списками можно проводить ряд операций - смотреть, есть ли элемент в списке (```in```), присоединять элементы к списку (```append```) (элементами могут служить и другие списки, кортежи и т.д.), а также расширять список значениями другого списка (```extend```). Более того, если лист содержит строковые значения, их можно соединить."
      ]
    },
    {
      "cell_type": "code",
      "metadata": {
        "colab": {
          "base_uri": "https://localhost:8080/"
        },
        "id": "L2sPRCJXHaht",
        "outputId": "0831cc04-5751-4a2c-fd02-51783d6ed61a"
      },
      "source": [
        "print(3 in list_1, 3 not in list_1)\r\n",
        "\r\n",
        "# в методе .append() не требуется делать присовение - применив данный метод, число добавляется в список\r\n",
        "list_1.append(10)\r\n",
        "print(list_1)\r\n",
        "\r\n",
        "list_2 = [11, 15, False, '7']\r\n",
        "list_1.extend(list_2)\r\n",
        "print(list_1)\r\n",
        "\r\n",
        "list_3 = ['abc', 12]\r\n",
        "tuple_2 = ('aaa', 81)\r\n",
        "list_1.append(list_3)\r\n",
        "list_1.append(tuple_2)\r\n",
        "print(list_1)"
      ],
      "execution_count": null,
      "outputs": [
        {
          "output_type": "stream",
          "text": [
            "True False\n",
            "[1, 2, 84, 3, 4, '7', False, 10]\n",
            "[1, 2, 84, 3, 4, '7', False, 10, 11, 15, False, '7']\n",
            "[1, 2, 84, 3, 4, '7', False, 10, 11, 15, False, '7', ['abc', 12], ('aaa', 81)]\n"
          ],
          "name": "stdout"
        }
      ]
    },
    {
      "cell_type": "code",
      "metadata": {
        "colab": {
          "base_uri": "https://localhost:8080/",
          "height": 35
        },
        "id": "i8TmodCcHgsF",
        "outputId": "3ac208b3-cb7b-4a1e-80f8-5c0583237c2b"
      },
      "source": [
        "# склеивание элементов списка\r\n",
        "list_4 = ['mmm', 'username', 'password', 'nickname']\r\n",
        "' '.join(list_4)"
      ],
      "execution_count": null,
      "outputs": [
        {
          "output_type": "execute_result",
          "data": {
            "application/vnd.google.colaboratory.intrinsic+json": {
              "type": "string"
            },
            "text/plain": [
              "'mmm username password nickname'"
            ]
          },
          "metadata": {
            "tags": []
          },
          "execution_count": 50
        }
      ]
    },
    {
      "cell_type": "markdown",
      "metadata": {
        "id": "B8u_8hsRHond"
      },
      "source": [
        "К спискам можно обращаться и брать от них значения по индексу. Также можно выделить через двоеточие с какого по какой элемент хотим выделить (можно не выделять начальный и выделить по какой элемент хотим - тогда вернется все с начала листа по заданный индекс, аналогичная логика при выделении начального индекса и не выделении конечного.\r\n",
        "\r\n",
        "Через два двоеточия можно указать шаг, с которым мы берем элементы. ```LIST_A[::2]``` - будет выдавать значения списка через два элемента (пример снизу). "
      ]
    },
    {
      "cell_type": "code",
      "metadata": {
        "colab": {
          "base_uri": "https://localhost:8080/"
        },
        "id": "0Uapz27cHndJ",
        "outputId": "ab39ca76-7ca7-4416-9ef2-031736d7530b"
      },
      "source": [
        "print(list_1)\r\n",
        "\r\n",
        "# от третьего элемента до четвертого (пятый не включается)\r\n",
        "print(list_1[2:4])\r\n",
        "\r\n",
        "# через 2 элемента\r\n",
        "print(list_1[0::2])\r\n",
        "\r\n",
        "# с конца\r\n",
        "print(list_1[::-1])\r\n",
        "\r\n",
        "# до 3 (не включительно) элемента с конца\r\n",
        "print(list_1[:-3])\r\n",
        "\r\n",
        "# с 3-го последнего\r\n",
        "print(list_1[-3:])"
      ],
      "execution_count": null,
      "outputs": [
        {
          "output_type": "stream",
          "text": [
            "[1, 2, 84, 3, 4, '7', False, 10, 11, 15, False, '7', ['abc', 12], ('aaa', 81)]\n",
            "[84, 3]\n",
            "[1, 84, 4, False, 11, False, ['abc', 12]]\n",
            "[('aaa', 81), ['abc', 12], '7', False, 15, 11, 10, False, '7', 4, 3, 84, 2, 1]\n",
            "[1, 2, 84, 3, 4, '7', False, 10, 11, 15, False]\n",
            "['7', ['abc', 12], ('aaa', 81)]\n"
          ],
          "name": "stdout"
        }
      ]
    },
    {
      "cell_type": "code",
      "metadata": {
        "id": "slI7BkFRIaoq"
      },
      "source": [
        "list_a = [1, 2, 3]\r\n",
        "list_b = ['a', 'b', 'c']\r\n"
      ],
      "execution_count": null,
      "outputs": []
    },
    {
      "cell_type": "markdown",
      "metadata": {
        "id": "Ppj4x6IcHwAI"
      },
      "source": [
        "A теперь, не прогоняя код, попробуйте угадать - будет ли выброшена ошибка следующего кода \r\n",
        "\r\n",
        "Хорошее пояснение и вообще чтиво - [клац](https://nedbatchelder.com/text/names.html)"
      ]
    },
    {
      "cell_type": "code",
      "metadata": {
        "id": "sciM7gAZIELw"
      },
      "source": [
        "tuple_1 = (1, [1, 2, 3], [2, 4])\r\n",
        "tuple_1[1][0] = 5"
      ],
      "execution_count": null,
      "outputs": []
    },
    {
      "cell_type": "markdown",
      "metadata": {
        "id": "SPnBZ2TvHzyU"
      },
      "source": [
        "Также можно использовать множества и проводить с ними довольно известные операции пересечения, исключения, объединения"
      ]
    },
    {
      "cell_type": "code",
      "metadata": {
        "colab": {
          "base_uri": "https://localhost:8080/"
        },
        "id": "G8fH4wX5H0ZJ",
        "outputId": "26acb769-6b4c-4120-d6c7-5fd6fd50b0c1"
      },
      "source": [
        "set_1 = set([1, 2, 3, 3, '3', '6', 6, 5])\r\n",
        "print(set_1)\r\n",
        "\r\n",
        "set_2 = set(['1', 2, 3, 6, '5'])\r\n",
        "\r\n",
        "print(set_1 - set_2)\r\n",
        "print(set_1.intersection(set_2), set_1 & set_2)\r\n",
        "print(set_1.union(set_2), set_1 | set_2)\r\n",
        "print(set_1 ^ set_2) \r\n",
        "print('5' in set_1)\r\n",
        "print(5 in set_1)"
      ],
      "execution_count": null,
      "outputs": [
        {
          "output_type": "stream",
          "text": [
            "{1, 2, 3, 5, 6, '3', '6'}\n",
            "{1, '3', 5, '6'}\n",
            "{2, 3, 6} {2, 3, 6}\n",
            "{1, 2, 3, '1', 5, 6, '5', '3', '6'} {1, 2, 3, '1', 5, 6, '5', '3', '6'}\n",
            "{1, '1', '3', 5, '5', '6'}\n",
            "False\n",
            "True\n"
          ],
          "name": "stdout"
        }
      ]
    },
    {
      "cell_type": "code",
      "metadata": {
        "colab": {
          "base_uri": "https://localhost:8080/"
        },
        "id": "ysUgY8ZBvE6O",
        "outputId": "e97348f1-757c-4598-c039-4bec6fdcdffc"
      },
      "source": [
        "[1, 2, 3] * 5"
      ],
      "execution_count": null,
      "outputs": [
        {
          "output_type": "execute_result",
          "data": {
            "text/plain": [
              "[1, 2, 3, 1, 2, 3, 1, 2, 3, 1, 2, 3, 1, 2, 3]"
            ]
          },
          "metadata": {
            "tags": []
          },
          "execution_count": 137
        }
      ]
    },
    {
      "cell_type": "code",
      "metadata": {
        "colab": {
          "base_uri": "https://localhost:8080/"
        },
        "id": "9pY4WICrvlsi",
        "outputId": "11e9863a-e741-4f2a-fccc-63830b27b475"
      },
      "source": [
        "[1, 2] + [3, 4]"
      ],
      "execution_count": null,
      "outputs": [
        {
          "output_type": "execute_result",
          "data": {
            "text/plain": [
              "[1, 2, 3, 4]"
            ]
          },
          "metadata": {
            "tags": []
          },
          "execution_count": 138
        }
      ]
    },
    {
      "cell_type": "markdown",
      "metadata": {
        "id": "edCaHt7rIpRu"
      },
      "source": [
        "Словари представляют из себя парную конструкцию - ключ-значение. Каждому ключу соответствует его значение. Значения в словаре могут быть разных типов - хоть еще один словарь.\r\n",
        "\r\n",
        "На практике работа со словарями очень удобна, т.к. освобождает от проблемы поиска нужных индексов и их отдельного хранения. Во вторых, в словарях удобно хранить параметры модели, которые вы хотите передать."
      ]
    },
    {
      "cell_type": "code",
      "metadata": {
        "id": "17eRcstVImuA",
        "colab": {
          "base_uri": "https://localhost:8080/"
        },
        "outputId": "726ae198-7cbc-4717-b4a6-db81f68ff0fb"
      },
      "source": [
        "dict_1 = dict({'a': 1, 'b': 2, 'c': True, 'd': 'abc', 'e': [1, 2, 3]})\r\n",
        "print(dict_1)\r\n",
        "# обращение к ключу 'a'\r\n",
        "print(dict_1['a'])\r\n",
        "\r\n",
        "# добавление нового элемента\r\n",
        "dict_1['dict_2'] = dict({'g': 'new', 3: 'other_key'})\r\n",
        "print(dict_1)\r\n",
        "print(dict_1['dict_2'][3])"
      ],
      "execution_count": null,
      "outputs": [
        {
          "output_type": "stream",
          "text": [
            "{'a': 1, 'b': 2, 'c': True, 'd': 'abc', 'e': [1, 2, 3]}\n",
            "1\n",
            "{'a': 1, 'b': 2, 'c': True, 'd': 'abc', 'e': [1, 2, 3], 'dict_2': {'g': 'new', 3: 'other_key'}}\n",
            "other_key\n"
          ],
          "name": "stdout"
        }
      ]
    },
    {
      "cell_type": "markdown",
      "metadata": {
        "id": "iTqIQKHEItqI"
      },
      "source": [
        "### Условные операторы (if, else, elif)\r\n",
        "\r\n",
        "В условных операторах можно выделить следующие ```if```, ```elif``` (else if) и ```else```. Данными операторами вы проверяете выполнение того или иного условия. После данных выражений (как и для циклов, функций и классов) ставится двоеточие и делается отступ на следующей строке "
      ]
    },
    {
      "cell_type": "code",
      "metadata": {
        "id": "4JU5Z_r9IxLQ"
      },
      "source": [
        "a = 3\r\n",
        "b = 2\r\n",
        "c = True"
      ],
      "execution_count": null,
      "outputs": []
    },
    {
      "cell_type": "code",
      "metadata": {
        "colab": {
          "base_uri": "https://localhost:8080/"
        },
        "id": "ZOvFzxrqI7kL",
        "outputId": "62fdce7c-cc34-4b60-ad45-febf01a39344"
      },
      "source": [
        "if a == 3:\r\n",
        "  print(a)"
      ],
      "execution_count": null,
      "outputs": [
        {
          "output_type": "stream",
          "text": [
            "3\n"
          ],
          "name": "stdout"
        }
      ]
    },
    {
      "cell_type": "code",
      "metadata": {
        "colab": {
          "base_uri": "https://localhost:8080/"
        },
        "id": "x7ZIK6znI9ge",
        "outputId": "a2682a89-1cac-4831-eacf-7ab424caa11b"
      },
      "source": [
        "# теперь можем специфицировать, что возвращать в обратном случае\r\n",
        "if a == 2:\r\n",
        "  print(b)\r\n",
        "else:\r\n",
        "  print(c)"
      ],
      "execution_count": null,
      "outputs": [
        {
          "output_type": "stream",
          "text": [
            "True\n"
          ],
          "name": "stdout"
        }
      ]
    },
    {
      "cell_type": "code",
      "metadata": {
        "colab": {
          "base_uri": "https://localhost:8080/"
        },
        "id": "0IujmzriI9_6",
        "outputId": "02ef8b63-5a3b-42d9-8896-1e8bd2dd1523"
      },
      "source": [
        "# также условие можно усложнить\r\n",
        "a = 5\r\n",
        "\r\n",
        "if a == 5:\r\n",
        "  print(b)\r\n",
        "elif a == 5:\r\n",
        "  print(c)\r\n",
        "else:\r\n",
        "  print(a)"
      ],
      "execution_count": null,
      "outputs": [
        {
          "output_type": "stream",
          "text": [
            "2\n"
          ],
          "name": "stdout"
        }
      ]
    },
    {
      "cell_type": "code",
      "metadata": {
        "colab": {
          "base_uri": "https://localhost:8080/"
        },
        "id": "09uhHqaZyG76",
        "outputId": "1b74bae9-ef80-4edf-8079-a8d677c277df"
      },
      "source": [
        "# для булевых величин можно не прописывать == True или == False\n",
        "if c:\n",
        "  print(a)"
      ],
      "execution_count": null,
      "outputs": [
        {
          "output_type": "stream",
          "text": [
            "5\n"
          ],
          "name": "stdout"
        }
      ]
    },
    {
      "cell_type": "code",
      "metadata": {
        "id": "S4TIN2jWJAI7"
      },
      "source": [
        "# для булевых величин можно не прописывать == True или == False\r\n",
        "if not c:\r\n",
        "  print(a)"
      ],
      "execution_count": null,
      "outputs": []
    },
    {
      "cell_type": "code",
      "metadata": {
        "colab": {
          "base_uri": "https://localhost:8080/"
        },
        "id": "rvIYaHg7x10-",
        "outputId": "d84a266d-08f6-42c5-c59a-7c52feaca9f3"
      },
      "source": [
        "if not c:\n",
        "  print(c)\n",
        "else:\n",
        "  print(a)"
      ],
      "execution_count": null,
      "outputs": [
        {
          "output_type": "stream",
          "text": [
            "5\n"
          ],
          "name": "stdout"
        }
      ]
    },
    {
      "cell_type": "code",
      "metadata": {
        "colab": {
          "base_uri": "https://localhost:8080/"
        },
        "id": "ZuVdtwCHJFY9",
        "outputId": "f9b8c533-45b7-4e9b-b387-a6da925390b5"
      },
      "source": [
        "a = [1, 2, 3, '5']\r\n",
        "print(a)\r\n",
        "\r\n",
        "if 5 not in a:\r\n",
        "  #print('5 not in the list')\r\n",
        "  a.append(5)\r\n",
        "\r\n",
        "print(a)"
      ],
      "execution_count": null,
      "outputs": [
        {
          "output_type": "stream",
          "text": [
            "[1, 2, 3, '5']\n",
            "[1, 2, 3, '5', 5]\n"
          ],
          "name": "stdout"
        }
      ]
    },
    {
      "cell_type": "markdown",
      "metadata": {
        "id": "-QJu0TooJwhU"
      },
      "source": [
        "### Циклы\r\n",
        "\r\n",
        "* While\r\n",
        "* For"
      ]
    },
    {
      "cell_type": "code",
      "metadata": {
        "colab": {
          "base_uri": "https://localhost:8080/"
        },
        "id": "AZHFcEqKJ4RW",
        "outputId": "9dfbda24-9f61-4f27-fbd5-9c5d0d9ea0dd"
      },
      "source": [
        "a = [2, 3, 4]\r\n",
        "\r\n",
        "for i in a:\r\n",
        "  print(i)"
      ],
      "execution_count": null,
      "outputs": [
        {
          "output_type": "stream",
          "text": [
            "2\n",
            "3\n",
            "4\n"
          ],
          "name": "stdout"
        }
      ]
    },
    {
      "cell_type": "code",
      "metadata": {
        "colab": {
          "base_uri": "https://localhost:8080/"
        },
        "id": "dl7OLe_aKMce",
        "outputId": "a71f3ed8-10c7-4a56-ff77-c63d9ac3c222"
      },
      "source": [
        "# в обратном порядке\r\n",
        "a = [2, 3,4]\r\n",
        "\r\n",
        "for i in reversed(a):\r\n",
        "  print(i)"
      ],
      "execution_count": null,
      "outputs": [
        {
          "output_type": "stream",
          "text": [
            "4\n",
            "3\n",
            "2\n"
          ],
          "name": "stdout"
        }
      ]
    },
    {
      "cell_type": "code",
      "metadata": {
        "colab": {
          "base_uri": "https://localhost:8080/"
        },
        "id": "anYqDRH8ywRk",
        "outputId": "1cb59da7-25ff-4638-ee59-2ae0902b0bd5"
      },
      "source": [
        "# в обратном порядке\n",
        "a = [2, 3,4]\n",
        "\n",
        "for i in a[::-1]:\n",
        "  print(i)"
      ],
      "execution_count": null,
      "outputs": [
        {
          "output_type": "stream",
          "text": [
            "4\n",
            "3\n",
            "2\n"
          ],
          "name": "stdout"
        }
      ]
    },
    {
      "cell_type": "markdown",
      "metadata": {
        "id": "jBC5m4sXJ7hn"
      },
      "source": [
        "А можно и добавить условие вовнутрь"
      ]
    },
    {
      "cell_type": "code",
      "metadata": {
        "colab": {
          "base_uri": "https://localhost:8080/"
        },
        "id": "pC5dyLAXJ9xj",
        "outputId": "77cefa36-fc6c-48f3-eeaf-a69a77be5d88"
      },
      "source": [
        "a = [2, 3, 4, 5, 6, 7, 8, 8]\r\n",
        "\r\n",
        "for i in a:\r\n",
        "  if i % 2 == 0:\r\n",
        "    print(i)"
      ],
      "execution_count": null,
      "outputs": [
        {
          "output_type": "stream",
          "text": [
            "2\n",
            "4\n",
            "6\n",
            "8\n",
            "8\n"
          ],
          "name": "stdout"
        }
      ]
    },
    {
      "cell_type": "code",
      "metadata": {
        "colab": {
          "base_uri": "https://localhost:8080/"
        },
        "id": "9YEXfQDTKQ0r",
        "outputId": "dddd7b9f-e528-4532-f916-4da271521418"
      },
      "source": [
        "# проходясь по циклу можно добавлять элементы в список\r\n",
        "a = []\r\n",
        "for i in range(5):\r\n",
        "  a.append(i)\r\n",
        "\r\n",
        "print(a)"
      ],
      "execution_count": null,
      "outputs": [
        {
          "output_type": "stream",
          "text": [
            "[0, 1, 2, 3, 4]\n"
          ],
          "name": "stdout"
        }
      ]
    },
    {
      "cell_type": "code",
      "metadata": {
        "colab": {
          "base_uri": "https://localhost:8080/"
        },
        "id": "r_u8dyKcKINX",
        "outputId": "e54ad4f8-0dec-48c4-9a6e-04e0d0f34880"
      },
      "source": [
        "a = [2, 3, 4, 5, 6, 7, 8, 8]\r\n",
        "\r\n",
        "for i, j in enumerate(a):\r\n",
        "  if j % 2 == 0:\r\n",
        "    print(i, j)"
      ],
      "execution_count": null,
      "outputs": [
        {
          "output_type": "stream",
          "text": [
            "0 2\n",
            "2 4\n",
            "4 6\n",
            "6 8\n",
            "7 8\n"
          ],
          "name": "stdout"
        }
      ]
    },
    {
      "cell_type": "code",
      "metadata": {
        "colab": {
          "base_uri": "https://localhost:8080/"
        },
        "id": "GmutEizKKXdj",
        "outputId": "3f24ff14-aad3-4bd3-b2b8-10e49edc87ae"
      },
      "source": [
        "a = [1, 2, 3]\r\n",
        "b = ['a', 'b', 'c']\r\n",
        "c = [4, 5, 7]\r\n",
        "\r\n",
        "for i, j, k in zip(a, b, c):\r\n",
        "  print(i, j, k)"
      ],
      "execution_count": null,
      "outputs": [
        {
          "output_type": "stream",
          "text": [
            "1 a 4\n",
            "2 b 5\n",
            "3 c 7\n"
          ],
          "name": "stdout"
        }
      ]
    },
    {
      "cell_type": "code",
      "metadata": {
        "colab": {
          "base_uri": "https://localhost:8080/"
        },
        "id": "1_R-Wbka0YR4",
        "outputId": "da3d767c-8c41-49da-c946-7e72b1a0f089"
      },
      "source": [
        "a = [1, 2, 3]\n",
        "b = ['a', 'b', 'c']\n",
        "c = [4, 5]\n",
        "\n",
        "for i, j, k in zip(a, b, c):\n",
        "  print(i, j, k)"
      ],
      "execution_count": null,
      "outputs": [
        {
          "output_type": "stream",
          "text": [
            "1 a 4\n",
            "2 b 5\n"
          ],
          "name": "stdout"
        }
      ]
    },
    {
      "cell_type": "code",
      "metadata": {
        "colab": {
          "base_uri": "https://localhost:8080/"
        },
        "id": "FWo04lYCKiUl",
        "outputId": "9ce47ac8-ff03-4907-ebd4-2800206aed6c"
      },
      "source": [
        "a = [1, 'c', '3', 4, True, [1, 2, 3], (1, [1, 2, '3'])]\r\n",
        "\r\n",
        "for i in a:\r\n",
        "  print(i)"
      ],
      "execution_count": null,
      "outputs": [
        {
          "output_type": "stream",
          "text": [
            "1\n",
            "c\n",
            "3\n",
            "4\n",
            "True\n",
            "[1, 2, 3]\n",
            "(1, [1, 2, '3'])\n"
          ],
          "name": "stdout"
        }
      ]
    },
    {
      "cell_type": "code",
      "metadata": {
        "colab": {
          "base_uri": "https://localhost:8080/"
        },
        "id": "OivGNux6Kq35",
        "outputId": "df0722bc-ce37-4aee-f1ea-d36a0ff85100"
      },
      "source": [
        "count = 0\r\n",
        "while count < 5:\r\n",
        "  print(count)\r\n",
        "  #count = count + 1\r\n",
        "  count += 1"
      ],
      "execution_count": null,
      "outputs": [
        {
          "output_type": "stream",
          "text": [
            "0\n",
            "1\n",
            "2\n",
            "3\n",
            "4\n"
          ],
          "name": "stdout"
        }
      ]
    },
    {
      "cell_type": "code",
      "metadata": {
        "colab": {
          "base_uri": "https://localhost:8080/"
        },
        "id": "5ifTct0SSsXj",
        "outputId": "5b813ff0-8b8f-4177-adc6-03863b1cc484"
      },
      "source": [
        "a = []\r\n",
        "\r\n",
        "for i in range(10):\r\n",
        "  if i <= 5:\r\n",
        "    a.append(i)\r\n",
        "  else:\r\n",
        "    break\r\n",
        "\r\n",
        "print(a)"
      ],
      "execution_count": null,
      "outputs": [
        {
          "output_type": "stream",
          "text": [
            "[0, 1, 2, 3, 4, 5]\n"
          ],
          "name": "stdout"
        }
      ]
    },
    {
      "cell_type": "code",
      "metadata": {
        "colab": {
          "base_uri": "https://localhost:8080/"
        },
        "id": "LDRTbdBOKzdp",
        "outputId": "ee70ae94-97d2-4eef-9c1d-ede381204974"
      },
      "source": [
        "dict_1 = dict({'a': 1, 'b': 2, 'c': True, 'd': 'abc', 'e': [1, 2, 3]})\r\n",
        "dict_1['dict_2'] = dict({'g': 'new', 3: 'other_key'})\r\n",
        "\r\n",
        "# можно итерироваться вокруг словаря с помощью цикла\r\n",
        "# берем предметы - индекс и значения\r\n",
        "for i, j in dict_1.items():\r\n",
        "  print(i, j)"
      ],
      "execution_count": null,
      "outputs": [
        {
          "output_type": "stream",
          "text": [
            "a 1\n",
            "b 2\n",
            "c True\n",
            "d abc\n",
            "e [1, 2, 3]\n",
            "dict_2 {'g': 'new', 3: 'other_key'}\n"
          ],
          "name": "stdout"
        }
      ]
    },
    {
      "cell_type": "code",
      "metadata": {
        "colab": {
          "base_uri": "https://localhost:8080/"
        },
        "id": "Ts0-Ua5YK-Sp",
        "outputId": "9acf88b3-8a64-422c-afc9-af6a86571773"
      },
      "source": [
        "# берем значения\r\n",
        "for i in dict_1.values():\r\n",
        "  print(i)"
      ],
      "execution_count": null,
      "outputs": [
        {
          "output_type": "stream",
          "text": [
            "1\n",
            "2\n",
            "True\n",
            "abc\n",
            "[1, 2, 3]\n",
            "{'g': 'new', 3: 'other_key'}\n"
          ],
          "name": "stdout"
        }
      ]
    },
    {
      "cell_type": "code",
      "metadata": {
        "colab": {
          "base_uri": "https://localhost:8080/"
        },
        "id": "1hgAy52UK--E",
        "outputId": "798e01dc-d329-42cb-f6f2-aa1227cc0bbe"
      },
      "source": [
        "'a' in dict_1, 'ffffff' in dict_1"
      ],
      "execution_count": null,
      "outputs": [
        {
          "output_type": "execute_result",
          "data": {
            "text/plain": [
              "(True, False)"
            ]
          },
          "metadata": {
            "tags": []
          },
          "execution_count": 174
        }
      ]
    },
    {
      "cell_type": "code",
      "metadata": {
        "colab": {
          "base_uri": "https://localhost:8080/"
        },
        "id": "lMg8jRKLLBcH",
        "outputId": "c369e9de-4491-4acd-b12e-b2ffd3f69442"
      },
      "source": [
        "# при итерации по ключам можно опустить прописывание .keys()\r\n",
        "for i in dict_1:\r\n",
        "  print(i)"
      ],
      "execution_count": null,
      "outputs": [
        {
          "output_type": "stream",
          "text": [
            "a\n",
            "b\n",
            "c\n",
            "d\n",
            "e\n",
            "dict_2\n"
          ],
          "name": "stdout"
        }
      ]
    },
    {
      "cell_type": "markdown",
      "metadata": {
        "id": "9OhYMi5tOHpQ"
      },
      "source": [
        "Также очень удобным вариантом является **list comprehension**"
      ]
    },
    {
      "cell_type": "code",
      "metadata": {
        "colab": {
          "base_uri": "https://localhost:8080/"
        },
        "id": "TnOFNYZ0OY8n",
        "outputId": "72edd1d8-101f-4ed0-9c3f-c52138dcbaa3"
      },
      "source": [
        "a = [i for i in range(11)]\r\n",
        "print(a)\r\n",
        "b = [i ** 2 for i in a]\r\n",
        "print(b)\r\n",
        "c = [i ** 2 for i in a if i % 3 == 0]\r\n",
        "print(c)\r\n",
        "d = [i ** 2 if i % 3 == 0 else None for i in a]\r\n",
        "print(d)"
      ],
      "execution_count": 186,
      "outputs": [
        {
          "output_type": "stream",
          "text": [
            "[0, 1, 2, 3, 4, 5, 6, 7, 8, 9, 10]\n",
            "[0, 1, 4, 9, 16, 25, 36, 49, 64, 81, 100]\n",
            "[0, 9, 36, 81]\n",
            "[0, None, None, 9, None, None, 36, None, None, 81, None]\n"
          ],
          "name": "stdout"
        }
      ]
    },
    {
      "cell_type": "code",
      "metadata": {
        "colab": {
          "base_uri": "https://localhost:8080/"
        },
        "id": "DN6vuXwMOwem",
        "outputId": "8802eecc-ae47-447e-8a39-b1c77f9c9efc"
      },
      "source": [
        "a = [[1, 2], [3, 4, 5], [7, 8]]\r\n",
        "\r\n",
        "[i for item in a for i in item]"
      ],
      "execution_count": null,
      "outputs": [
        {
          "output_type": "execute_result",
          "data": {
            "text/plain": [
              "[1, 2, 3, 4, 5, 7, 8]"
            ]
          },
          "metadata": {
            "tags": []
          },
          "execution_count": 179
        }
      ]
    },
    {
      "cell_type": "code",
      "metadata": {
        "colab": {
          "base_uri": "https://localhost:8080/"
        },
        "id": "hBrfuh-cPDop",
        "outputId": "4203cbea-3bcc-4fe9-dd1a-7b0da5b9dc89"
      },
      "source": [
        "dict_new = {'a': 1, 'b': 2, 'c': 3}\r\n",
        "\r\n",
        "{i: j ** 2 for i, j in dict_new.items()}"
      ],
      "execution_count": null,
      "outputs": [
        {
          "output_type": "execute_result",
          "data": {
            "text/plain": [
              "{'a': 1, 'b': 4, 'c': 9}"
            ]
          },
          "metadata": {
            "tags": []
          },
          "execution_count": 91
        }
      ]
    },
    {
      "cell_type": "markdown",
      "metadata": {
        "id": "m3BzMcgKLJ1M"
      },
      "source": [
        "### Функции (по верхам на этом занятии)\r\n",
        "\r\n",
        "Очень важным элементом является написание функций. Функция берет на вход некий набор аргументов и возвращает определенное значение. Функция определяется оператором ```def```, дальше прописывается название функций и в скобках указываются ее аргументы.\r\n",
        "\r\n",
        "При значительном объеме кода у функции правилом хорошего тона является написание комментариев, хотя бы документационной строки (за большими примерами в **pep 257**). В документационной строке обычно пишут, что делает функция, описывают ее аргументы (включая их типы), а также что функция возвращает (также тип возвращаемого).\r\n",
        "\r\n",
        "Если хочется оставить какой-то из аргументов равным какому-то значению по умолчанию, это можно сделать через знак \"равно\". Однако вы должны помещать аргумнеты, для которых указываете значения по умолчанию, после тех элементов, для которых этого не делаете."
      ]
    },
    {
      "cell_type": "code",
      "metadata": {
        "id": "P0rtj85XLark"
      },
      "source": [
        "def my_function_1(a, b, c = True):\r\n",
        "\r\n",
        "  '''Docstring for the function where you can provide people with the explanation of what your function does and what are its arguments'''\r\n",
        "\r\n",
        "  sum_ab = a + b\r\n",
        "\r\n",
        "  if c:\r\n",
        "    return sum_ab\r\n",
        "  else:\r\n",
        "    return - 1 * sum_ab"
      ],
      "execution_count": null,
      "outputs": []
    },
    {
      "cell_type": "code",
      "metadata": {
        "colab": {
          "base_uri": "https://localhost:8080/"
        },
        "id": "4neqcK4TLhjE",
        "outputId": "f9a201de-cf2f-45a9-d93d-ee904597223a"
      },
      "source": [
        "my_function_1(3, 2), my_function_1(3, 2, False)"
      ],
      "execution_count": null,
      "outputs": [
        {
          "output_type": "execute_result",
          "data": {
            "text/plain": [
              "(5, -5)"
            ]
          },
          "metadata": {
            "tags": []
          },
          "execution_count": 182
        }
      ]
    },
    {
      "cell_type": "code",
      "metadata": {
        "id": "Zr2VJybDLliE"
      },
      "source": [
        "def person(names, surnames, names_exceptions, surnames_exceptions):\r\n",
        "\r\n",
        "  people = []\r\n",
        "  for i, j in zip(names, surnames):\r\n",
        "    if (i not in names_exceptions) and (j not in surnames_exceptions):\r\n",
        "      tmp = j + ' ' + i\r\n",
        "      people.append(tmp)\r\n",
        "\r\n",
        "  return people"
      ],
      "execution_count": null,
      "outputs": []
    },
    {
      "cell_type": "code",
      "metadata": {
        "colab": {
          "base_uri": "https://localhost:8080/"
        },
        "id": "EBMY10dAMdE6",
        "outputId": "db507eb7-7e6a-420a-ce5b-91d5b6ef2c76"
      },
      "source": [
        "names = ['Amanda', 'Jack', 'John', 'Paulina', 'Betsy', 'Joseph', 'Patsy', 'Peter', 'Caroline']\r\n",
        "surnames = ['Rutt', 'Silver', 'Brown', 'Smith', 'Smith', 'Twitty', 'Oliver', 'Black', 'Anderson']\r\n",
        "\r\n",
        "name_exceptions = ['Patsy', 'Caroline']\r\n",
        "surname_exceptions = ['Smith']\r\n",
        "\r\n",
        "person(names = names, surnames = surnames, names_exceptions = name_exceptions, surnames_exceptions = surname_exceptions)"
      ],
      "execution_count": null,
      "outputs": [
        {
          "output_type": "execute_result",
          "data": {
            "text/plain": [
              "['Rutt Amanda', 'Silver Jack', 'Brown John', 'Twitty Joseph', 'Black Peter']"
            ]
          },
          "metadata": {
            "tags": []
          },
          "execution_count": 184
        }
      ]
    },
    {
      "cell_type": "markdown",
      "metadata": {
        "id": "OR9OIVqqPToO"
      },
      "source": [
        "### На следующем занятии\r\n",
        "\r\n",
        "* Функции углубленно \r\n",
        "* Обработка исключений\r\n",
        "* Декораторы\r\n",
        "* Лямбда-выражения\r\n",
        "* Написание классов\r\n",
        "\r\n"
      ]
    }
  ]
}