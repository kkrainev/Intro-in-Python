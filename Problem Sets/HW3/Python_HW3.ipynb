{
  "nbformat": 4,
  "nbformat_minor": 0,
  "metadata": {
    "colab": {
      "name": "Python_HW3.ipynb",
      "provenance": [],
      "collapsed_sections": [],
      "toc_visible": true
    },
    "kernelspec": {
      "name": "python3",
      "display_name": "Python 3"
    },
    "language_info": {
      "name": "python"
    }
  },
  "cells": [
    {
      "cell_type": "markdown",
      "metadata": {
        "id": "AlTY6gwexooa"
      },
      "source": [
        "# **<center> Введение в Python, New Economic School, MAE 2022 </center>**\n",
        "## **<center> Домашнее Задание 3 </center>**\n",
        "\n",
        "В этом домашнем задании Вам предстоит поработь с данными по магазинным продажам. Вам предстоит выполнить ряд аналитических задач, а также визуализировать некоторые результаты.\n",
        "\n",
        "Данные взяты [отсюда](https://www.kaggle.com/ndarshan2797/english-converted-datasets?select=item_categories.csv)\n",
        "\n",
        "Описание полей в данных следующее:\n",
        "\n",
        "* ID - an Id that represents a (Shop, Item) tuple within the test set\n",
        "* shop_id - unique identifier of a shop\n",
        "* item_id - unique identifier of a product\n",
        "* category_id - unique identifier of category\n",
        "* item_cnt_day - number of products sold. \n",
        "* item_price - current price of an item\n",
        "* date - date in format dd/mm/yyyy\n",
        "* date_block_num - a consecutive month number, used for convenience. January 2013 is 0, February 2013 is 1,…, October 2015 is 33\n",
        "* item_name - name of item\n",
        "* shop_name - name of shop\n",
        "* category_name - name of category"
      ]
    },
    {
      "cell_type": "markdown",
      "metadata": {
        "id": "Fd8R69W-XgJ-"
      },
      "source": [
        "### **Задание 1.**\n",
        "\n",
        "* Прочтите файл **sales.csv** с помощью **Pandas**\n",
        "* Покажите случайные 3 наблюдения\n",
        "* Покажите 4 последних наблюдения\n",
        "* Сколько наблюдений в данных?\n"
      ]
    },
    {
      "cell_type": "code",
      "metadata": {
        "id": "aPne5NjFf3Xc"
      },
      "source": [
        "import pandas as pd\n",
        "import numpy as np"
      ],
      "execution_count": null,
      "outputs": []
    },
    {
      "cell_type": "code",
      "metadata": {
        "id": "0q6WUOSRXgJ_"
      },
      "source": [
        "# your code"
      ],
      "execution_count": null,
      "outputs": []
    },
    {
      "cell_type": "markdown",
      "metadata": {
        "id": "s3ZJuo7MfX6z"
      },
      "source": [
        "### **Задание 2.**\n",
        "\n",
        "Уберите из данных по продажам те наблюдения, у которых число покупок и цена меньше 0"
      ]
    },
    {
      "cell_type": "code",
      "metadata": {
        "id": "LlMgPwqCfX64"
      },
      "source": [
        "# your code"
      ],
      "execution_count": null,
      "outputs": []
    },
    {
      "cell_type": "markdown",
      "metadata": {
        "id": "GIbBs3CnxqO7"
      },
      "source": [
        "### **Задание 3.**\n",
        "\n",
        "Для полей цены и числа, купленного товара покажите описательную статистику (summary statistics)"
      ]
    },
    {
      "cell_type": "code",
      "metadata": {
        "id": "KE-Drs4-xnty"
      },
      "source": [
        "# your code"
      ],
      "execution_count": null,
      "outputs": []
    },
    {
      "cell_type": "markdown",
      "metadata": {
        "id": "TZO8017-iQWB"
      },
      "source": [
        "### **Задание 4.**\n",
        "\n",
        "Выведите число уникальных магазинов и число уникальных предметов"
      ]
    },
    {
      "cell_type": "code",
      "metadata": {
        "id": "5e0HzO68iQWl"
      },
      "source": [
        "# your code"
      ],
      "execution_count": null,
      "outputs": []
    },
    {
      "cell_type": "markdown",
      "metadata": {
        "id": "-cArnUBDfi0G"
      },
      "source": [
        "### **Задание 5.**\n",
        "\n",
        "Переведите колонку с датой в формат **datetime.date** (Вам потребуется библиотека **datetime** и одноименной модуль из нее же; также Вам потребуется метод `.apply()` с лямбда выражением внутри)"
      ]
    },
    {
      "cell_type": "code",
      "metadata": {
        "id": "hRd9w3PsfvwJ"
      },
      "source": [
        "from datetime import datetime as dt\n",
        "import datetime"
      ],
      "execution_count": 3,
      "outputs": []
    },
    {
      "cell_type": "code",
      "metadata": {
        "id": "rJhGP2nzfi0M"
      },
      "source": [
        "# your code"
      ],
      "execution_count": null,
      "outputs": []
    },
    {
      "cell_type": "markdown",
      "metadata": {
        "id": "sH9W1Bq1hJJ1"
      },
      "source": [
        "### **Задание 6.**\n",
        "\n",
        "Создайте переменную **mdate**, путем замены дня даты на первое число (по сути, дата из месяца и года). Тип значений этого поля должен быть **datetime.date** (можете проверить применением метода `type()` к элементу этого поля)\n",
        "\n",
        "**hint**: Вам может пригодиться метод `.replace()`, который можно взять от значения с типом **datetime.date**"
      ]
    },
    {
      "cell_type": "code",
      "metadata": {
        "id": "TgSUwxPEhJKB"
      },
      "source": [
        "# your code"
      ],
      "execution_count": null,
      "outputs": []
    },
    {
      "cell_type": "markdown",
      "metadata": {
        "id": "7sLO3aYLf8AN"
      },
      "source": [
        "### **Задание 7.**\n",
        "\n",
        "Создайте переменную **item_gi** (item gross income) путем умножения цены товара и его купленного количества"
      ]
    },
    {
      "cell_type": "code",
      "metadata": {
        "id": "3FSn5Hbyf8AO"
      },
      "source": [
        "# your code"
      ],
      "execution_count": null,
      "outputs": []
    },
    {
      "cell_type": "markdown",
      "metadata": {
        "id": "96JJaYZ7mXnd"
      },
      "source": [
        "### **Задание 8.**\n",
        "\n",
        "Нарисуйте гистограмму распределения переменной **item_gi**"
      ]
    },
    {
      "cell_type": "code",
      "metadata": {
        "id": "YPcGYnh1mfiC"
      },
      "source": [
        "import matplotlib.pylab as plt\n",
        "import seaborn as sns"
      ],
      "execution_count": null,
      "outputs": []
    },
    {
      "cell_type": "code",
      "metadata": {
        "id": "F8fYbzRImXne"
      },
      "source": [
        "# your code"
      ],
      "execution_count": null,
      "outputs": []
    },
    {
      "cell_type": "markdown",
      "metadata": {
        "id": "EW_qTVD4gUVl"
      },
      "source": [
        "### **Задание 9.**\n",
        "\n",
        "* Посчитайте сумму по **item_gi** по дням (date) и магазинам (shop_id) (Вам понадобится выражение `.groupby()`) (т.е. суммарные продажи на дату по магазинам)\n",
        "* Посчитайте сумму по **item_gi** по дням (date) (т.е. суммарные продажи на дату среди всех магазинов)\n",
        "\n",
        "Для каждого результата расчетов, Вы должны записать их в переменные. Также примените `.reset_index(name = ..)` к полученным результатам, указав новое имя."
      ]
    },
    {
      "cell_type": "code",
      "metadata": {
        "id": "4YkCEDLGgUV1"
      },
      "source": [
        "# your code"
      ],
      "execution_count": null,
      "outputs": []
    },
    {
      "cell_type": "markdown",
      "metadata": {
        "id": "bYGx3qdTmSMi"
      },
      "source": [
        "### **Задание 10.**\n",
        "\n",
        "Постройте график динамики суммарных продаж по дням. По оси X - даты, по оси Y - суммарные продажи (суммарно по всех магазинам; Вам потребуется второй результат расчетов из задания 9)\n",
        "\n",
        "На график добавьте сетку, название, а также подписи осей. Тип линии сделайте штрихованным. Толщину линии задайте 2. Не забудьте задать размер шрифта у подписей осей, названий, а также у деления осей.\n",
        "\n",
        "График сохраните в формате **pdf**\n",
        "\n",
        "**hint** - для всей эстетики лучше освежить семинар"
      ]
    },
    {
      "cell_type": "code",
      "metadata": {
        "id": "BDQ3HUhFmSMj"
      },
      "source": [
        "# your code"
      ],
      "execution_count": null,
      "outputs": []
    },
    {
      "cell_type": "markdown",
      "metadata": {
        "id": "RXH1KqnzmOod"
      },
      "source": [
        "### **Задание 11.**\n",
        "\n",
        "Присоедините результаты расчетов из задания 9 к таблице по продажам.\n",
        "\n",
        "Тип соединения - **left**\n",
        "\n",
        "Поля, по которым соединять:\n",
        "* для первого результата: date, shop_id\n",
        "* для второго результата: date\n",
        "\n",
        "Создайте переменную отношения суммы продаж на дату в магазине к продажам на дату по всем магазинам.\n",
        "\n"
      ]
    },
    {
      "cell_type": "code",
      "metadata": {
        "id": "pF6NezROmOoj"
      },
      "source": [
        "# your code"
      ],
      "execution_count": null,
      "outputs": []
    },
    {
      "cell_type": "markdown",
      "metadata": {
        "id": "3vSPVipco3cQ"
      },
      "source": [
        "### **Задание 12.**\n",
        "\n",
        "Постройте график распределения переменной из задания 11. Используйте библиотеку **seaborn**. Не забывайте про название графика и подписи осей, а также про размер их шрифта, а также размер шрифта делений осей. Сетка **не** нужна.\n"
      ]
    },
    {
      "cell_type": "code",
      "metadata": {
        "id": "8Ft56hfIo3cb"
      },
      "source": [
        "# your code"
      ],
      "execution_count": null,
      "outputs": []
    },
    {
      "cell_type": "markdown",
      "metadata": {
        "id": "vXRxu80wpl3V"
      },
      "source": [
        "### **Задание 13.**\n",
        "\n",
        "К таблице с продажами присоедините таблицы **items** и **item_categories**. Поля, по которым нужно проводить соединение, Вы должны понять сами.\n"
      ]
    },
    {
      "cell_type": "code",
      "metadata": {
        "id": "J26qcnFIpl3a"
      },
      "source": [
        "# your code"
      ],
      "execution_count": null,
      "outputs": []
    },
    {
      "cell_type": "markdown",
      "metadata": {
        "id": "RPmEEjGdp4At"
      },
      "source": [
        "### **Задание 14.**\n",
        "\n",
        "В получившейся таблице создайте колонку/переменную **cat_name_trim**, взятием первого слова из колонки **category_name**. \n",
        "\n",
        "**hint** - вспомните про работы со строками. Вам нужно взять первым элемент после разбиения строки с помощью определенного разделителя. Про метод `.apply()` тоже лучше не забывать.\n"
      ]
    },
    {
      "cell_type": "code",
      "metadata": {
        "id": "c-xHTMJQp4BQ"
      },
      "source": [
        "# your code"
      ],
      "execution_count": null,
      "outputs": []
    },
    {
      "cell_type": "markdown",
      "metadata": {
        "id": "z2V_rn4LqZfc"
      },
      "source": [
        "### **Задание 15.**\n",
        "\n",
        "В получившейся таблице создайте колонку/переменную **cat_name_trim**, взятием первого слова из колонки **category_name**. \n",
        "\n",
        "**hint** - вспомните про работы со строками. Вам нужно взять первым элемент после разбиения строки с помощью определенного разделителя. Про метод `.apply()` тоже лучше не забывать.\n",
        "\n",
        "Посчитайте число уникальных значений в новой переменной.\n"
      ]
    },
    {
      "cell_type": "code",
      "metadata": {
        "id": "_wDOirQiqZgB"
      },
      "source": [
        "# your code"
      ],
      "execution_count": null,
      "outputs": []
    },
    {
      "cell_type": "markdown",
      "metadata": {
        "id": "ei1f1yJkqroK"
      },
      "source": [
        "### **Задание 16.**\n",
        "\n",
        "На каждый месяц (**mdate**) посчитайте сумму **item_gi** (по всем магазинам). Сохраните результат вычисления в переменную."
      ]
    },
    {
      "cell_type": "code",
      "metadata": {
        "id": "_CY9Nz9-qroL"
      },
      "source": [
        "# your code"
      ],
      "execution_count": null,
      "outputs": []
    },
    {
      "cell_type": "markdown",
      "metadata": {
        "id": "B-VlSreZrNf1"
      },
      "source": [
        "### **Задание 17.**\n",
        "\n",
        "Постройте рисунок, состоящий из 2-х графиков. Разместите эти графики горизонтально (**hint**: используйте `plt.subplots(nrows = 1, ncols = 2, ..)`)\n",
        "\n",
        "* 1-й график - динамика месячных продаж по всем магазинам (результат расчетов из задания 16)\n",
        "* 2-й график - **boxplot** график, где по X - **cat_name_trim**, а по Y - **item_gi**\n",
        "\n",
        "На каждом графике должно быть название, а также подписи осей. Также подберите размер шрифта названий и подписей осей, а также размер шрифта делений осей."
      ]
    },
    {
      "cell_type": "code",
      "metadata": {
        "id": "QEPFw-7trNgS"
      },
      "source": [
        "# your code"
      ],
      "execution_count": null,
      "outputs": []
    }
  ]
}