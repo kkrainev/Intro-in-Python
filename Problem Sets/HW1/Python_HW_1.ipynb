{
  "nbformat": 4,
  "nbformat_minor": 0,
  "metadata": {
    "colab": {
      "name": "Python_HW_1.ipynb",
      "provenance": [],
      "collapsed_sections": []
    },
    "kernelspec": {
      "name": "python3",
      "display_name": "Python 3"
    }
  },
  "cells": [
    {
      "cell_type": "markdown",
      "metadata": {
        "id": "bcR1qtXrTpMR"
      },
      "source": [
        "# **<center> Введение в Python, New Economic School, MAE 2022 </center>**\r\n",
        "## **<center> Домашнее Задание 1 </center>**"
      ]
    },
    {
      "cell_type": "markdown",
      "metadata": {
        "id": "nCyGaIewT_yl"
      },
      "source": [
        "### **Задание 1.**\r\n",
        "\r\n",
        "Ниже Вам дана строка. Проделайте с ней следующие операции:\r\n",
        "\r\n",
        "(1) Замените все `'a'` на `'@'` \r\n",
        "\r\n",
        "(2) Приведите строку к нижнему регистру\r\n",
        "\r\n",
        "(3) Удалите лишние пробелы в конце\r\n",
        "\r\n",
        "(4) Разбейте строку на слова в список (**hint**: подумайте, какой требуется разделитель; возможно, вам понадобится дополнительный шаг и ранее использованный функционал)\r\n",
        "\r\n",
        "После каждой операции выведите полученный результат (`print`)"
      ]
    },
    {
      "cell_type": "code",
      "metadata": {
        "id": "vPD31-WsTlbq"
      },
      "source": [
        "string = 'Please, make some manipulaTions with this String    '\n",
        "\n",
        "# your code"
      ],
      "execution_count": null,
      "outputs": []
    },
    {
      "cell_type": "markdown",
      "metadata": {
        "id": "sHaaUpjQUJJ4"
      },
      "source": [
        "### **Задание 2.**\r\n",
        "\r\n",
        "Ниже Вам дан список из различных элементов. Проделайте с ним следующее\r\n",
        "\r\n",
        "(1) Возьмите второй элемент с конца\r\n",
        "\r\n",
        "(2) Возьмите все элементы списка с 3-го с начла по 2-й с конца включительно (без последнего элемента)\r\n",
        "\r\n",
        "(3) Замените 4-й элемент на 42\r\n",
        "\r\n",
        "(4) Возьмите все элементы списка со 2-го с начала по 2-й с конца (не включительно) через 1 (с шагом в 2)\r\n",
        "\r\n",
        "(5) Соедините все элементы изначального списка в строку через пробел (Вам может потребоваться перевести элементы списка в строковый формат)\r\n",
        "\r\n",
        "После каждой операции выведите полученный результат\r\n",
        "\r\n",
        "\r\n"
      ]
    },
    {
      "cell_type": "code",
      "metadata": {
        "id": "W_3MWaaEUKud"
      },
      "source": [
        "problem2_list = [1, 3, 7, 11, 'a', '42', 3, 9, '123', 'bc']\n",
        "\n",
        "# your code"
      ],
      "execution_count": null,
      "outputs": []
    },
    {
      "cell_type": "markdown",
      "metadata": {
        "id": "LDGFY99keaE0"
      },
      "source": [
        "### **Задание 3.**\n",
        "\n",
        "Вам даны 2 списка. Сделайте из них один список, содержащий в себе все элементы этих 2-х списков."
      ]
    },
    {
      "cell_type": "code",
      "metadata": {
        "id": "1usUnveieaQ0"
      },
      "source": [
        "problem3_list1 = [1, 'a', 3, 5]\n",
        "problem3_list2 = [2, 4, 'a', 'b', 5]\n",
        "\n",
        "# your code"
      ],
      "execution_count": null,
      "outputs": []
    },
    {
      "cell_type": "markdown",
      "metadata": {
        "id": "WYmNkRY2fJQc"
      },
      "source": [
        "### **Задание 4.**\n",
        "\n",
        "Выводите все значения списка ниже пока индекс элемента меньше 6. Используйте цикл `while`."
      ]
    },
    {
      "cell_type": "code",
      "metadata": {
        "id": "d6K2xT3cfJZB"
      },
      "source": [
        "problem4_list = [1, '7', True, 3, [2, 1], 5, 9, 'H', '4', '4', 30]\n",
        "\n",
        "# your code"
      ],
      "execution_count": null,
      "outputs": []
    },
    {
      "cell_type": "markdown",
      "metadata": {
        "id": "AOIBhtyLUK4s"
      },
      "source": [
        "### **Задание 5.**\r\n",
        "\r\n",
        "(1) Выведите все элементы списка кроме списка внутри (Ваш алгоритм не должен опираться на индекс этого элемента, программа должна работать для любого списка)\r\n",
        "\r\n",
        "(2) Выведите все элементы списка пока не встретится список внутри (до него) \\\\\r\n",
        "(Ваш алгоритм не должен опираться на индекс этого элемента, программа должна работать для любого списка)"
      ]
    },
    {
      "cell_type": "code",
      "metadata": {
        "id": "ceOWUG-NUMlg"
      },
      "source": [
        "problem5_list = [1, 3, 7, 11, 'a', '42', 3, [1, (2, True)], '123', 'bc']\n",
        "\n",
        "# your code"
      ],
      "execution_count": null,
      "outputs": []
    },
    {
      "cell_type": "markdown",
      "metadata": {
        "id": "TfWDs-pgUM13"
      },
      "source": [
        "### **Задание 6.**\r\n",
        "\r\n",
        "Для данного списка сделайте следующее:\r\n",
        "\r\n",
        "(1) Составьте список из корней тех элементов, которые нацело делятся на 4. Также округлите каждый новый элемент до 4-го знака после запятой\r\n",
        "\r\n",
        "(2) Проделайте тоже самое только в **list comprehension** нотации"
      ]
    },
    {
      "cell_type": "code",
      "metadata": {
        "id": "9DR2dbxGUOBg"
      },
      "source": [
        "problem6_list = [1, 2, 5, 7, 4, 9, 11, 12, 16, 3, 6, 4]\n",
        "\n",
        "# your code"
      ],
      "execution_count": null,
      "outputs": []
    },
    {
      "cell_type": "markdown",
      "metadata": {
        "id": "nk-egtp2UOmf"
      },
      "source": [
        "### **Задание 7.**\r\n",
        "\r\n",
        "Вам даны 2 списка. Верните список, состоящий из элементов разных для каждого из этих двух списков. \r\n",
        "\r\n",
        "(1) Сделайте через цикл\r\n",
        "\r\n",
        "(2) Сделайте, используя множества\r\n"
      ]
    },
    {
      "cell_type": "code",
      "metadata": {
        "id": "j0Y3-MX6UPng"
      },
      "source": [
        "problem7_list1 = [1, 3, '6', '4', 4, 3, 11, 13, 7]\n",
        "problem7_list2 = [2, 3, '5', '6', 4, 7]\n",
        "\n",
        "# your code"
      ],
      "execution_count": null,
      "outputs": []
    },
    {
      "cell_type": "markdown",
      "metadata": {
        "id": "yhfMvOWrUQIB"
      },
      "source": [
        "### **Задание 8.**\r\n",
        "\r\n",
        "Вам дан список из чисел. Выведите индекс числа и True/False в зависимости от того, делится ли число нацело на 3\r\n",
        "\r\n",
        "**Например:**\r\n",
        "\r\n",
        "Input: `list_a = [1, 2, 3, 4, 5, 6]`\r\n",
        "\r\n",
        "Output: \r\n",
        "\r\n",
        "0 False \\\\\r\n",
        "1 False \\\\\r\n",
        "2 True \\\\\r\n",
        "3 False \\\\\r\n",
        "4 False \\\\\r\n",
        "5 True \\\\"
      ]
    },
    {
      "cell_type": "code",
      "metadata": {
        "id": "lmKAFPYHURNt"
      },
      "source": [
        "problem8_list = [1, 2, 3, 7, 9, 4, 6, 12, 11, 15, 16, 21]\n",
        "\n",
        "# your code"
      ],
      "execution_count": null,
      "outputs": []
    },
    {
      "cell_type": "markdown",
      "metadata": {
        "id": "ad6AjQeeURnN"
      },
      "source": [
        "### **Задание 9.**\r\n",
        "\r\n",
        "Напишите функцию, которая складывает все цифры целого числа. \\\\\r\n",
        "(Число подается через клавиатуру посредством `input`)\r\n",
        "\r\n",
        "**Например:**\r\n",
        "\r\n",
        "Input: 123\r\n",
        "\r\n",
        "Output: 6"
      ]
    },
    {
      "cell_type": "code",
      "metadata": {
        "id": "OKaHcoFGUS2z"
      },
      "source": [
        "# your code\n"
      ],
      "execution_count": null,
      "outputs": []
    },
    {
      "cell_type": "markdown",
      "metadata": {
        "id": "JC6cC8-dUTCN"
      },
      "source": [
        "### **Задание 10.**\r\n",
        "\r\n",
        "Вам дан список из списков. Требуется из него составить словарь, где ключ - первый элемент внутренних списков, а второй элемент - остальные значения внутренних списков. Если внутренний список состоит из 2 элементов, то значению ключа будет соответствовать число. Если внутренний список состоит из 3-х и более элементов, то значению ключа будет соответствовать список из этих чисел. Если внутренний список состоит только из 1-го элемента, то значению ключа будет соответсовать `None`. \r\n",
        "\r\n",
        "**Например:**\r\n",
        "\r\n",
        "Input: `list_a = [[1, 2], [5,2,3,4], [7, 4, 3], [4, 6,7, True], [9]]`\r\n",
        "\r\n",
        "Output: `{1: 2, 5: [2,3,4], 7: [4,3], 4: [6,7, True], 9: None}`\r\n",
        "\r\n",
        "Считайте, что первые элементы подсписков не повторяются. Сам список из списков дан ниже."
      ]
    },
    {
      "cell_type": "code",
      "metadata": {
        "id": "q6qXGq0oUVaA"
      },
      "source": [
        "problem10_list = [[4, 'a', 7], ['2', 3, 5], [2, 8, 8], [1, 2], ['5', 4, 1], [3]]\n",
        "\n",
        "# your code"
      ],
      "execution_count": null,
      "outputs": []
    },
    {
      "cell_type": "markdown",
      "metadata": {
        "id": "sf0G6XHzUXFQ"
      },
      "source": [
        "### **Задание 11.**\r\n",
        "\r\n",
        "Напишите функцию, которая берет на вход список из элементов, а на выходе выдает словарь, в котором ключ - элемент списка, а значение - сколько раз этот элемент встречается в списке\r\n",
        "\r\n",
        "**Например:**\r\n",
        "\r\n",
        "Input: `list_a = [1, 1, 2, 3, 1, 3, 7, 9, 4, 3, 1]`\r\n",
        "\r\n",
        "Output: `{1: 4, 2: 1, 3: 3, 4: 1, 7: 1, 9: 1}` "
      ]
    },
    {
      "cell_type": "code",
      "metadata": {
        "id": "k06oXA2dUYGF"
      },
      "source": [
        "# your code"
      ],
      "execution_count": null,
      "outputs": []
    },
    {
      "cell_type": "markdown",
      "metadata": {
        "id": "9XZV3hdiUYeU"
      },
      "source": [
        "### **Задание 12.**\r\n",
        "\r\n",
        "Напишите функцию, которая на вход получает название файла (строковый формат), а на выходе выдает расширение этого файла (**hint**: расширение идет после точки, однако Вам нужно исключить случаи, когда точка может не относиться к расширению)\r\n",
        "\r\n",
        "В случае если у названия файла отсутствует расширение, выведите через `print` сообщение об этом (текст сообщения на Ваше усмотрение)\r\n",
        "\r\n",
        "**Например:**\r\n",
        "\r\n",
        "Input: 'file.name', 'file.name.py', 'file.name.', 'filename'\r\n",
        "\r\n",
        "Output: 'Нет расширения', 'py', 'Нет расширения', 'Нет расширения'\r\n",
        "\r\n",
        "Подумайте над различными возможными случаями при написании Вашей функции."
      ]
    },
    {
      "cell_type": "code",
      "metadata": {
        "id": "hXBmszS7UZdB"
      },
      "source": [
        "# your code"
      ],
      "execution_count": null,
      "outputs": []
    },
    {
      "cell_type": "markdown",
      "metadata": {
        "id": "OBqHnBVbhwr-"
      },
      "source": [
        "### **Задание 13.**\n",
        "\n",
        "Напишите функцию, которая берет на вход число и возвращает True/False в зависимости от того является ли число простым."
      ]
    },
    {
      "cell_type": "code",
      "metadata": {
        "id": "BLj-3LKchwyV"
      },
      "source": [
        "# your code"
      ],
      "execution_count": null,
      "outputs": []
    },
    {
      "cell_type": "markdown",
      "metadata": {
        "id": "LIwkVxqxh8z5"
      },
      "source": [
        "### **Задание 14.**\n",
        "\n",
        "Напишите функцию, вычисляющую наибольший общий делитель по алгоритму Евклида."
      ]
    },
    {
      "cell_type": "code",
      "metadata": {
        "id": "0D_Rg0pCh87R"
      },
      "source": [
        "# your code"
      ],
      "execution_count": null,
      "outputs": []
    },
    {
      "cell_type": "markdown",
      "metadata": {
        "id": "zjG6KfA_iH5H"
      },
      "source": [
        "### **Задание 15.**\n",
        "\n",
        "Напишите функцию, которая на вход принимает 2 массива и возвращает массив из списков, где 1-й элемент в таком списке - попарное произведение, а второй - сумма. Если массивы разной длины - то идете пока есть пара (как ниже в примере)\n",
        "\n",
        "**Например:**\n",
        "\n",
        "Input: \n",
        "\n",
        "`list_1 = [1, 2, 3, 4, 7]`\n",
        "\n",
        "`list_2 = [2, 3, 4, 5]`\n",
        "\n",
        "Output: `[[2, 3], [6, 5], [12, 7], [20, 9]]`"
      ]
    },
    {
      "cell_type": "code",
      "metadata": {
        "id": "Tbe0GrzUiIBg"
      },
      "source": [
        "# your code"
      ],
      "execution_count": null,
      "outputs": []
    }
  ]
}