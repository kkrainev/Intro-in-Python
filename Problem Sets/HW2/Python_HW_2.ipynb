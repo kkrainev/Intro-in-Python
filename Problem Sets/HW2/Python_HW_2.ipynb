{
  "nbformat": 4,
  "nbformat_minor": 0,
  "metadata": {
    "colab": {
      "name": "Python_HW_2.ipynb",
      "provenance": [],
      "collapsed_sections": []
    },
    "kernelspec": {
      "name": "python3",
      "display_name": "Python 3"
    }
  },
  "cells": [
    {
      "cell_type": "markdown",
      "metadata": {
        "id": "AlTY6gwexooa"
      },
      "source": [
        "# **<center> Введение в Python, New Economic School, MAE 2022 </center>**\n",
        "## **<center> Домашнее Задание 2 </center>**"
      ]
    },
    {
      "cell_type": "code",
      "metadata": {
        "id": "rWw65Nflm8ZL"
      },
      "source": [
        "import numpy as np"
      ],
      "execution_count": null,
      "outputs": []
    },
    {
      "cell_type": "markdown",
      "metadata": {
        "id": "GIbBs3CnxqO7"
      },
      "source": [
        "### **Задание 1.**\n",
        "\n",
        "* Создайте матрицу размерности 4x5 из стандартного нормального распределения\n",
        "* Посчитайте определитель матрицы\n",
        "* Оберните матрицу"
      ]
    },
    {
      "cell_type": "code",
      "metadata": {
        "id": "KE-Drs4-xnty"
      },
      "source": [
        "# your code"
      ],
      "execution_count": null,
      "outputs": []
    },
    {
      "cell_type": "markdown",
      "metadata": {
        "id": "0kUalHnBxt4s"
      },
      "source": [
        "### **Задание 2.**\n",
        "\n",
        "* Создайте 2 матрицы $A$ и $B$ размерности 4x4 из нормального распределения со средними 1 и 2 и стандартными отклонениями 1 и 4.\n",
        "* Вычислите результат для следующего выражения:\n",
        "\\begin{equation} (A + B)*B \\end{equation}\n",
        "* Выведите диагональ матрицы выше"
      ]
    },
    {
      "cell_type": "code",
      "metadata": {
        "id": "FdJxLfIUxusO"
      },
      "source": [
        "# your code"
      ],
      "execution_count": null,
      "outputs": []
    },
    {
      "cell_type": "markdown",
      "metadata": {
        "id": "mYOLZ5kSxu27"
      },
      "source": [
        "### **Задание 3.**\n",
        "\n",
        "* Создайте вектор со 100 элементами из равномерного распределения с $a = -5$ и $b=5$ (`uniform` в нужном Вам модуле библиотеки `numpy`)\n",
        "\n",
        "* Создайте функцию, которая на вход берет вектор и создает $k$ векторов длиной $m$. Каждый из $k$ векторов создается как подвыборка/подвектор с возвращением из исходного вектора (**hint**: Вам может потребоваться функция `choice` в модуле `random` у `numpy`). Для каждого $k$-го вектора ситается среднее, которое записывается в результирующий вектор. Выведите этот результирующий вектор (состоящий из средних по $k$ векторам)"
      ]
    },
    {
      "cell_type": "code",
      "metadata": {
        "id": "e7oLSaN-xvsv"
      },
      "source": [
        "# your code"
      ],
      "execution_count": null,
      "outputs": []
    },
    {
      "cell_type": "markdown",
      "metadata": {
        "id": "9gtrAb0TxxtN"
      },
      "source": [
        "### **Задание 4.**\n",
        "\n",
        "Напишите функцию, которая первым аргументом на вход берет имя и фамилию человека, а остальными аргументами берет варьирующееся число предметов с их оценками. Функция должна выводить строку **\"Grades for person *Name Surname* are the following:\"**\n",
        "\n",
        "**Пример:**\n",
        "\n",
        "```\n",
        "func('Betty Bets', math = 5, geography = 4, ...)\n",
        "```\n",
        "\n",
        "**Output**\n",
        "\n",
        "```\n",
        "Grades for person Betty Bets are the following:\n",
        "math = 5;\n",
        "geography = 4;\n",
        "```\n",
        "\n",
        "Число предметов (с их оценками) вариативно - ваша функция должна позволять работать с переменным числом аргументов.\n",
        "\n"
      ]
    },
    {
      "cell_type": "code",
      "metadata": {
        "id": "F6f-G5e8xxST"
      },
      "source": [
        "# your code"
      ],
      "execution_count": null,
      "outputs": []
    },
    {
      "cell_type": "markdown",
      "metadata": {
        "id": "N3d3u_0Vxx2_"
      },
      "source": [
        "### **Задание 5.**\n",
        "\n",
        "Напишите декоратор для функции ниже. Функция-декоратор должна добавлять к функции ниже (которую Вы декорируете) вывод (приветствие) следующей строки: **\"Greetings to *Name Surname*\"** помимо уже реализованного вывода в функции `add_person`"
      ]
    },
    {
      "cell_type": "code",
      "metadata": {
        "id": "5VHwzMmExxtN"
      },
      "source": [
        "def add_person(name, surname):\n",
        "  print('{} {} is added to database'.format(name, surname))\n",
        "\n",
        "# your code"
      ],
      "execution_count": null,
      "outputs": []
    },
    {
      "cell_type": "markdown",
      "metadata": {
        "id": "DE7uO-UkxxSK"
      },
      "source": [
        "### **Задание 6.**\n",
        "\n",
        "**input**: Массив элементов\n",
        "\n",
        "**output**: Массив логарифмов \n",
        "\n",
        "Напишите функцию, которая на вход берет массив элементов (могут быть разных типов) и возвращает массив логарифмов этих значений. Ваш код должен быть способен (реализуйте обработку исключений с помощью `try` и `except`) обрабатывать те или иные ошибки в исключения. В случае исключения вместо логарифма элемента возвращайте $-9999$"
      ]
    },
    {
      "cell_type": "code",
      "metadata": {
        "id": "zv-aP9Zexx3A"
      },
      "source": [
        "# your code"
      ],
      "execution_count": null,
      "outputs": []
    },
    {
      "cell_type": "markdown",
      "metadata": {
        "id": "gn-IDw-Exx_D"
      },
      "source": [
        "### **Задание 7.**\n",
        "\n",
        "Вам дан массив из строк. С помощью `filter` и `lambda` выражения создайте массив из строк, которые не содержат букву \"a\", \"A\"."
      ]
    },
    {
      "cell_type": "code",
      "metadata": {
        "id": "fNBXy3COxx_D"
      },
      "source": [
        "list_7 = ['apple', 'cheese', 'doctor', 'fruit', 'median', 'sum', 'Smith', 'Anderson', 'printer']\n",
        "# your code"
      ],
      "execution_count": null,
      "outputs": []
    },
    {
      "cell_type": "markdown",
      "metadata": {
        "id": "klJ-dEJgx2o6"
      },
      "source": [
        "### **Задание 8.**\n",
        "\n",
        "Создайте класс \"Customer_Base\", который инициализируется параметрами: name, surname, age, education (which is by default is `None`)"
      ]
    },
    {
      "cell_type": "code",
      "metadata": {
        "id": "m83sTBNkx3b1"
      },
      "source": [
        "# your code"
      ],
      "execution_count": null,
      "outputs": []
    },
    {
      "cell_type": "markdown",
      "metadata": {
        "id": "ocss2QcEx3kP"
      },
      "source": [
        "### **Задание 9.**\n",
        "\n",
        "Создайте класс \"Customer_1\", наследуясь от класса \"Customer_Base\". Дополнительно в новом классе должны инициализироваться: budget (бюджет потребителя), а также n_snacks, n_beer (число снэков и бутылок пива, которые хочет купить потребитель).\n",
        "\n",
        "В данном классе реализуйте следующие методы:\n",
        "\n",
        "* `__str__` - чтобы выводил информацию (вывод зависит целиком от Вашей фантазии) по клиенту при вызове `print` к объекту класса\n",
        "* `compute_expences` - который дополнительно на вход принимает цену за упаковку снэков и бутылку пива и возвращает стоимость покупки\n",
        "* `compute_utility` - которая возвращает полезность от покупки для потребителя\n",
        "\n",
        "Функция полезности следующая:\n",
        "\n",
        "\\begin{equation} U(beer, snacks) = 1.5 \\times snacks + 2 \\times beer \\end{equation}\n",
        "\n"
      ]
    },
    {
      "cell_type": "code",
      "metadata": {
        "id": "_NO-efJwx4pp"
      },
      "source": [
        "# your code"
      ],
      "execution_count": null,
      "outputs": []
    },
    {
      "cell_type": "markdown",
      "metadata": {
        "id": "1fhaErawx4v9"
      },
      "source": [
        "### **Задание 10.**\n",
        "\n",
        "* Создайте класс \"Customer_2\", в котором функция полезности отличается следующим образом от класса \"Customer_1\" (подумайте, нужно ли Вам для этого переписывать все остальные функции):\n",
        "\n",
        "\\begin{equation} U(beer, snacks) = 2 \\times snacks - 3.25 \\times snacks \\times beer + 1.5 \\times beer - 0.5 \\times snacks^2 - 1.25 \\times beer^2  \\end{equation}\n",
        "\n",
        "* Также создайте метод `in_budget`, который рапортует о том, укладывается ли потребитель в бюджет. Метод берет дополнительно на вход цену за упаковку снэков и бутылку пива. Сделайте так, чтобы этот метод нельзя было вызвать вне этого класса."
      ]
    },
    {
      "cell_type": "code",
      "metadata": {
        "id": "m3PaL6Z0x5us"
      },
      "source": [
        "# your code"
      ],
      "execution_count": null,
      "outputs": []
    }
  ]
}